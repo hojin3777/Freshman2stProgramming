{
  "nbformat": 4,
  "nbformat_minor": 0,
  "metadata": {
    "colab": {
      "name": "hw1_20201582_김호진.ipynb",
      "provenance": [],
      "collapsed_sections": [],
      "authorship_tag": "ABX9TyOv0KVjn9WP4MECpkSotjff",
      "include_colab_link": true
    },
    "kernelspec": {
      "name": "python3",
      "display_name": "Python 3"
    }
  },
  "cells": [
    {
      "cell_type": "markdown",
      "metadata": {
        "id": "view-in-github",
        "colab_type": "text"
      },
      "source": [
        "<a href=\"https://colab.research.google.com/github/hojin3777/Freshman2stProgramming/blob/master/week1/hw1_20201582_%EA%B9%80%ED%98%B8%EC%A7%84.ipynb\" target=\"_parent\"><img src=\"https://colab.research.google.com/assets/colab-badge.svg\" alt=\"Open In Colab\"/></a>"
      ]
    },
    {
      "cell_type": "code",
      "metadata": {
        "id": "ll4gTJFew-F2",
        "colab_type": "code",
        "colab": {
          "base_uri": "https://localhost:8080/",
          "height": 233
        },
        "outputId": "3d6483ad-e7de-44be-cd8c-02e4d94e545f"
      },
      "source": [
        "#1.3\n",
        "print(100)\n",
        "print(100+200)\n",
        "print('100 + 200')\n",
        "print(100,200)\n",
        "print('100','200')\n",
        "print('100''200')\n",
        "print(\"Hello Python!\")\n",
        "print(\"Hello\",\"Python\",\"!\")\n",
        "print(\"Hello\"+\"Python\"+\"!\")\n",
        "print(\"Hello\"\"Python\"\"!\")\n",
        "print(\"**********\")\n",
        "print('*'*10)"
      ],
      "execution_count": 4,
      "outputs": [
        {
          "output_type": "stream",
          "text": [
            "100\n",
            "300\n",
            "100 + 200\n",
            "100 200\n",
            "100 200\n",
            "100200\n",
            "Hello Python!\n",
            "Hello Python !\n",
            "HelloPython!\n",
            "HelloPython!\n",
            "**********\n",
            "**********\n"
          ],
          "name": "stdout"
        }
      ]
    },
    {
      "cell_type": "code",
      "metadata": {
        "id": "n07ILezixkoW",
        "colab_type": "code",
        "colab": {
          "base_uri": "https://localhost:8080/",
          "height": 89
        },
        "outputId": "b07834a9-1107-49be-8f12-c2cd0bcfba18"
      },
      "source": [
        "#1.4\n",
        "print('Hello Python!') #NameError_\"Print\"를 함수로 인식하지 못함\n",
        "print(\"Hello Python!\") #SyntaxError_같은 따옴표를 사용해야함\n",
        "print('Hello Python!') #SyntaxError_따옴표로 묶어줘야함\n",
        "print(100 + 200) #TypeError_문자형과 정수형을 더할 수 없음"
      ],
      "execution_count": 12,
      "outputs": [
        {
          "output_type": "stream",
          "text": [
            "Hello Python!\n",
            "Hello Python!\n",
            "Hello Python!\n",
            "300\n"
          ],
          "name": "stdout"
        }
      ]
    },
    {
      "cell_type": "code",
      "metadata": {
        "id": "3n2bkJhOzZ4F",
        "colab_type": "code",
        "colab": {
          "base_uri": "https://localhost:8080/",
          "height": 107
        },
        "outputId": "391a08da-5f20-45d8-e56a-d9f13e320020"
      },
      "source": [
        "#1.6\n",
        "print('*'*40)\n",
        "print(\"안녕하세요~\")\n",
        "print(\"저는 김호진입니다.\")\n",
        "print(\"숭실대학교 전자정보공학부 1학년 입니다.\")\n",
        "print('*'*40)"
      ],
      "execution_count": 15,
      "outputs": [
        {
          "output_type": "stream",
          "text": [
            "****************************************\n",
            "안녕하세요~\n",
            "저는 김호진입니다.\n",
            "숭실대학교 전자정보공학부 1학년 입니다.\n",
            "****************************************\n"
          ],
          "name": "stdout"
        }
      ]
    },
    {
      "cell_type": "code",
      "metadata": {
        "id": "Eq5RTVcAztgt",
        "colab_type": "code",
        "colab": {
          "base_uri": "https://localhost:8080/",
          "height": 89
        },
        "outputId": "e05a5547-5194-4e15-a3a2-1a5715ef43db"
      },
      "source": [
        "#1.7 triangle\n",
        "print(\"\\t    *\")\n",
        "print(\"\\t   ***\")\n",
        "print(\"\\t  *****\")\n",
        "print(\"\\t *******\")"
      ],
      "execution_count": 19,
      "outputs": [
        {
          "output_type": "stream",
          "text": [
            "\t    *\n",
            "\t   ***\n",
            "\t  *****\n",
            "\t *******\n"
          ],
          "name": "stdout"
        }
      ]
    },
    {
      "cell_type": "code",
      "metadata": {
        "id": "dj6eTlPSz9EQ",
        "colab_type": "code",
        "colab": {
          "base_uri": "https://localhost:8080/",
          "height": 89
        },
        "outputId": "f7291f47-fbee-4271-d226-300f9cfe93c0"
      },
      "source": [
        "#1.8 rev_triangle\n",
        "print(\"\\t *******\")\n",
        "print(\"\\t  *****\")\n",
        "print(\"\\t   ***\")\n",
        "print(\"\\t    *\")"
      ],
      "execution_count": 21,
      "outputs": [
        {
          "output_type": "stream",
          "text": [
            "\t *******\n",
            "\t  *****\n",
            "\t   ***\n",
            "\t    *\n"
          ],
          "name": "stdout"
        }
      ]
    },
    {
      "cell_type": "code",
      "metadata": {
        "id": "W0VI_IcN031D",
        "colab_type": "code",
        "colab": {
          "base_uri": "https://localhost:8080/",
          "height": 35
        },
        "outputId": "1851b31b-db4a-4ddb-a4bf-0e112392f32b"
      },
      "source": [
        "#1.9(1)\n",
        "400-200"
      ],
      "execution_count": 23,
      "outputs": [
        {
          "output_type": "execute_result",
          "data": {
            "text/plain": [
              "200"
            ]
          },
          "metadata": {
            "tags": []
          },
          "execution_count": 23
        }
      ]
    },
    {
      "cell_type": "code",
      "metadata": {
        "id": "1uv2AWi206Bx",
        "colab_type": "code",
        "colab": {
          "base_uri": "https://localhost:8080/",
          "height": 35
        },
        "outputId": "d7905e1f-81ee-4e74-e619-828cfba2422e"
      },
      "source": [
        "#1.9(2)\n",
        "45*89"
      ],
      "execution_count": 24,
      "outputs": [
        {
          "output_type": "execute_result",
          "data": {
            "text/plain": [
              "4005"
            ]
          },
          "metadata": {
            "tags": []
          },
          "execution_count": 24
        }
      ]
    },
    {
      "cell_type": "code",
      "metadata": {
        "id": "nkJfIuW608Uk",
        "colab_type": "code",
        "colab": {
          "base_uri": "https://localhost:8080/",
          "height": 35
        },
        "outputId": "41a93cc6-5324-4de5-90aa-78e1784f2166"
      },
      "source": [
        "#1.9(3)\n",
        "32/8"
      ],
      "execution_count": 25,
      "outputs": [
        {
          "output_type": "execute_result",
          "data": {
            "text/plain": [
              "4.0"
            ]
          },
          "metadata": {
            "tags": []
          },
          "execution_count": 25
        }
      ]
    },
    {
      "cell_type": "code",
      "metadata": {
        "id": "v9EaDqUH09qH",
        "colab_type": "code",
        "colab": {
          "base_uri": "https://localhost:8080/",
          "height": 35
        },
        "outputId": "3bd2449d-0f86-445e-87df-8b56817f9dc0"
      },
      "source": [
        "#1.9(4)\n",
        "9*3"
      ],
      "execution_count": 26,
      "outputs": [
        {
          "output_type": "execute_result",
          "data": {
            "text/plain": [
              "27"
            ]
          },
          "metadata": {
            "tags": []
          },
          "execution_count": 26
        }
      ]
    },
    {
      "cell_type": "code",
      "metadata": {
        "id": "44PtHuk51AP6",
        "colab_type": "code",
        "colab": {
          "base_uri": "https://localhost:8080/",
          "height": 35
        },
        "outputId": "a7e3b7b6-2369-458a-c623-ab89a9181dd9"
      },
      "source": [
        "#1.9(5)\n",
        "9**3"
      ],
      "execution_count": 28,
      "outputs": [
        {
          "output_type": "execute_result",
          "data": {
            "text/plain": [
              "729"
            ]
          },
          "metadata": {
            "tags": []
          },
          "execution_count": 28
        }
      ]
    },
    {
      "cell_type": "code",
      "metadata": {
        "id": "-dmL0eT11CLK",
        "colab_type": "code",
        "colab": {
          "base_uri": "https://localhost:8080/",
          "height": 35
        },
        "outputId": "914801f6-fe62-4ae5-8854-196ea3189dbb"
      },
      "source": [
        "#1.9(6)\n",
        "9/3"
      ],
      "execution_count": 29,
      "outputs": [
        {
          "output_type": "execute_result",
          "data": {
            "text/plain": [
              "3.0"
            ]
          },
          "metadata": {
            "tags": []
          },
          "execution_count": 29
        }
      ]
    },
    {
      "cell_type": "code",
      "metadata": {
        "id": "PDgCSXoV1DmX",
        "colab_type": "code",
        "colab": {
          "base_uri": "https://localhost:8080/",
          "height": 35
        },
        "outputId": "bbecaaf2-a61f-4314-df23-ed016b7424c8"
      },
      "source": [
        "#1.9(7)\n",
        "9//3"
      ],
      "execution_count": 30,
      "outputs": [
        {
          "output_type": "execute_result",
          "data": {
            "text/plain": [
              "3"
            ]
          },
          "metadata": {
            "tags": []
          },
          "execution_count": 30
        }
      ]
    },
    {
      "cell_type": "code",
      "metadata": {
        "id": "Xo4GqqhX1E7a",
        "colab_type": "code",
        "colab": {
          "base_uri": "https://localhost:8080/",
          "height": 35
        },
        "outputId": "62fd3c91-9bec-4d42-d899-6c89f36de9f6"
      },
      "source": [
        "#1.9(8)\n",
        "9%3"
      ],
      "execution_count": 31,
      "outputs": [
        {
          "output_type": "execute_result",
          "data": {
            "text/plain": [
              "0"
            ]
          },
          "metadata": {
            "tags": []
          },
          "execution_count": 31
        }
      ]
    },
    {
      "cell_type": "code",
      "metadata": {
        "id": "96XPQ2Tj1Gs0",
        "colab_type": "code",
        "colab": {
          "base_uri": "https://localhost:8080/",
          "height": 125
        },
        "outputId": "7481b720-3508-4a1f-8880-28574eff1a75"
      },
      "source": [
        "#1.10\n",
        "#(1)\n",
        "print(1+2+3+4+5+6+7+8+9+10)\n",
        "#(2)\n",
        "print(5*5*3.14)\n",
        "#(3)\n",
        "print(25*4)\n",
        "#(4)\n",
        "print(25**2)\n",
        "#(5)\n",
        "print(30*8+10*4)\n",
        "#(6)\n",
        "print(30*30*2+10*30*4)"
      ],
      "execution_count": 33,
      "outputs": [
        {
          "output_type": "stream",
          "text": [
            "55\n",
            "78.5\n",
            "100\n",
            "625\n",
            "280\n",
            "3000\n"
          ],
          "name": "stdout"
        }
      ]
    },
    {
      "cell_type": "code",
      "metadata": {
        "id": "1YLxwGCE2BX6",
        "colab_type": "code",
        "colab": {
          "base_uri": "https://localhost:8080/",
          "height": 35
        },
        "outputId": "60aa5be7-af4a-4f8e-a23e-45dec8ff2c70"
      },
      "source": [
        "#1.11\n",
        "print(\"주행거리:\",str(80*1.5),\"km\")"
      ],
      "execution_count": 36,
      "outputs": [
        {
          "output_type": "stream",
          "text": [
            "주행거리: 120.0 km\n"
          ],
          "name": "stdout"
        }
      ]
    },
    {
      "cell_type": "code",
      "metadata": {
        "id": "B6aTjliI2WGh",
        "colab_type": "code",
        "colab": {
          "base_uri": "https://localhost:8080/",
          "height": 35
        },
        "outputId": "2f818f82-e3dc-4a3e-c2f3-8c24bcb659f7"
      },
      "source": [
        "#1.12\n",
        "print(\"평균 속력:\",str(190/2),\"km/h\")"
      ],
      "execution_count": 37,
      "outputs": [
        {
          "output_type": "stream",
          "text": [
            "평균 속력: 95.0 km/h\n"
          ],
          "name": "stdout"
        }
      ]
    },
    {
      "cell_type": "code",
      "metadata": {
        "id": "5VpgXpSx2lAA",
        "colab_type": "code",
        "colab": {
          "base_uri": "https://localhost:8080/",
          "height": 35
        },
        "outputId": "703d0dc5-930f-4d5b-8924-15456a61697d"
      },
      "source": [
        "#1.13\n",
        "sec=149597870/299792\n",
        "min=sec/60\n",
        "print(\"태양부터 지구까지 %.3f초 또는 %.3f분이 소요된다\" %(sec,min))"
      ],
      "execution_count": 42,
      "outputs": [
        {
          "output_type": "stream",
          "text": [
            "태양부터 지구까지 499.006초 또는 8.317분이 소요된다\n"
          ],
          "name": "stdout"
        }
      ]
    },
    {
      "cell_type": "code",
      "metadata": {
        "id": "qbJWMTNr5cfe",
        "colab_type": "code",
        "colab": {
          "base_uri": "https://localhost:8080/",
          "height": 89
        },
        "outputId": "22a0ebc2-a189-46a7-89e9-7cd7012fc627"
      },
      "source": [
        "#1.14\n",
        "print(3*2*1)\n",
        "print(5*4*3*2*1)\n",
        "num1,num2=1,1\n",
        "for i in range(1,13):\n",
        "  num1 *= i\n",
        "for i in range(1,21):\n",
        "  num2 *= i\n",
        "print(num1)\n",
        "print(num2)"
      ],
      "execution_count": 47,
      "outputs": [
        {
          "output_type": "stream",
          "text": [
            "6\n",
            "120\n",
            "479001600\n",
            "2432902008176640000\n"
          ],
          "name": "stdout"
        }
      ]
    },
    {
      "cell_type": "code",
      "metadata": {
        "id": "Ig2dn2L_68pw",
        "colab_type": "code",
        "colab": {
          "base_uri": "https://localhost:8080/",
          "height": 35
        },
        "outputId": "a642ce19-75b7-4319-fdac-614dcd552df9"
      },
      "source": [
        "#1.15\n",
        "print(\"100과 200의 평균값 :\",(100+200)/2)"
      ],
      "execution_count": 50,
      "outputs": [
        {
          "output_type": "stream",
          "text": [
            "100과 200의 평균값 : 150.0\n"
          ],
          "name": "stdout"
        }
      ]
    },
    {
      "cell_type": "code",
      "metadata": {
        "id": "zyY_0CLh7NQB",
        "colab_type": "code",
        "colab": {
          "base_uri": "https://localhost:8080/",
          "height": 89
        },
        "outputId": "d928a1a1-f8c2-4e04-95c1-a35057e61972"
      },
      "source": [
        "#1.16\n",
        "num1, num2=50,30\n",
        "print(\"%d + %d = \"%(num1,num2), num1+num2)\n",
        "print(\"%d - %d = \"%(num1,num2), num1-num2)\n",
        "print(\"%d * %d = \"%(num1,num2), num1*num2)\n",
        "print(\"%d / %d = \"%(num1,num2), num1/num2)"
      ],
      "execution_count": 54,
      "outputs": [
        {
          "output_type": "stream",
          "text": [
            "50 + 30 =  80\n",
            "50 - 30 =  20\n",
            "50 * 30 =  1500\n",
            "50 / 30 =  1.6666666666666667\n"
          ],
          "name": "stdout"
        }
      ]
    },
    {
      "cell_type": "code",
      "metadata": {
        "id": "xqntPJRS7_S3",
        "colab_type": "code",
        "colab": {
          "base_uri": "https://localhost:8080/",
          "height": 431
        },
        "outputId": "7f7024ab-ee61-4374-9e3e-4aef9a359ef7"
      },
      "source": [
        "#1.17\n",
        "num1, num2=4,5\n",
        "print(\"(1) 4와 5\")\n",
        "print(\"%d + %d = \"%(num1,num2), num1+num2)\n",
        "print(\"%d - %d = \"%(num1,num2), num1-num2)\n",
        "print(\"%d * %d = \"%(num1,num2), num1*num2)\n",
        "print(\"%d / %d = \"%(num1,num2), num1/num2)\n",
        "\n",
        "num1, num2=10,20\n",
        "print(\"\\n(2) 10과 20\")\n",
        "print(\"%d + %d = \"%(num1,num2), num1+num2)\n",
        "print(\"%d - %d = \"%(num1,num2), num1-num2)\n",
        "print(\"%d * %d = \"%(num1,num2), num1*num2)\n",
        "print(\"%d / %d = \"%(num1,num2), num1/num2)\n",
        "\n",
        "num1, num2=6000,3000\n",
        "print(\"\\n(3) 6000과 3000\")\n",
        "print(\"%d + %d = \"%(num1,num2), num1+num2)\n",
        "print(\"%d - %d = \"%(num1,num2), num1-num2)\n",
        "print(\"%d * %d = \"%(num1,num2), num1*num2)\n",
        "print(\"%d / %d = \"%(num1,num2), num1/num2)\n",
        "\n",
        "num1, num2=60000000,50000000\n",
        "print(\"\\n(4) 60000000과 50000000\")\n",
        "print(\"%d + %d = \"%(num1,num2), num1+num2)\n",
        "print(\"%d - %d = \"%(num1,num2), num1-num2)\n",
        "print(\"%d * %d = \"%(num1,num2), num1*num2)\n",
        "print(\"%d / %d = \"%(num1,num2), num1/num2)"
      ],
      "execution_count": 63,
      "outputs": [
        {
          "output_type": "stream",
          "text": [
            "(1) 4와 5\n",
            "4 + 5 =  9\n",
            "4 - 5 =  -1\n",
            "4 * 5 =  20\n",
            "4 / 5 =  0.8\n",
            "\n",
            "(2) 10과 20\n",
            "10 + 20 =  30\n",
            "10 - 20 =  -10\n",
            "10 * 20 =  200\n",
            "10 / 20 =  0.5\n",
            "\n",
            "(3) 6000과 3000\n",
            "6000 + 3000 =  9000\n",
            "6000 - 3000 =  3000\n",
            "6000 * 3000 =  18000000\n",
            "6000 / 3000 =  2.0\n",
            "\n",
            "(4) 60000000과 50000000\n",
            "60000000 + 50000000 =  110000000\n",
            "60000000 - 50000000 =  10000000\n",
            "60000000 * 50000000 =  3000000000000000\n",
            "60000000 / 50000000 =  1.2\n"
          ],
          "name": "stdout"
        }
      ]
    }
  ]
}
