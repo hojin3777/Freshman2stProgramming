{
  "nbformat": 4,
  "nbformat_minor": 0,
  "metadata": {
    "colab": {
      "name": "HW6_20201582_HojinKim.ipynb",
      "provenance": [],
      "collapsed_sections": [],
      "include_colab_link": true
    },
    "kernelspec": {
      "name": "python3",
      "display_name": "Python 3"
    }
  },
  "cells": [
    {
      "cell_type": "markdown",
      "metadata": {
        "id": "view-in-github",
        "colab_type": "text"
      },
      "source": [
        "<a href=\"https://colab.research.google.com/github/hojin3777/Freshman2stProgramming/blob/master/week12/HW6_20201582_HojinKim.ipynb\" target=\"_parent\"><img src=\"https://colab.research.google.com/assets/colab-badge.svg\" alt=\"Open In Colab\"/></a>"
      ]
    },
    {
      "cell_type": "code",
      "metadata": {
        "id": "WioZJFSkfqQH"
      },
      "source": [
        "#6.7-6.17, 6.20-6.26"
      ],
      "execution_count": null,
      "outputs": []
    },
    {
      "cell_type": "code",
      "metadata": {
        "colab": {
          "base_uri": "https://localhost:8080/"
        },
        "id": "rsORoZXPgIap",
        "outputId": "2f835b93-6600-45b4-959c-b8d3e271bc47"
      },
      "source": [
        "#6.7\n",
        "income = (100, 121, 120, 130, 140, 120, 122, 123, 190, 125)\n",
        "count = 0\n",
        "for i in range(0,len(income)-1):\n",
        "    if income[i] > income[i+1]:\n",
        "        count += 1\n",
        "print(\"일일 매출 기록:\", income)\n",
        "print(\"지난 10일 동안 전일대비 매출이 감소한 날은 %d일입니다.\"%count)"
      ],
      "execution_count": null,
      "outputs": [
        {
          "output_type": "stream",
          "text": [
            "일일 매출 기록: (100, 121, 120, 130, 140, 120, 122, 123, 190, 125)\n",
            "지난 10일 동안 전일대비 매출이 감소한 날은 3일입니다.\n"
          ],
          "name": "stdout"
        }
      ]
    },
    {
      "cell_type": "code",
      "metadata": {
        "colab": {
          "base_uri": "https://localhost:8080/"
        },
        "id": "l2OJqWq8l2a9",
        "outputId": "447b3fd9-8c1d-4e2d-ecbe-f442eef0bfcc"
      },
      "source": [
        "#6.8\n",
        "tup = (1, 2, 5, 4, 3, 2, 9, 1, 4, 7, 8, 9, 9)\n",
        "dup = set()\n",
        "for i in tup:\n",
        "    if tup.count(i) > 1:\n",
        "        dup.add(i)\n",
        "print(\"주어진 튜플은:\", tup)\n",
        "print(\"중복 원소는:\", dup)"
      ],
      "execution_count": null,
      "outputs": [
        {
          "output_type": "stream",
          "text": [
            "주어진 튜플은: (1, 2, 5, 4, 3, 2, 9, 1, 4, 7, 8, 9, 9)\n",
            "중복 원소는: {1, 2, 4, 9}\n"
          ],
          "name": "stdout"
        }
      ]
    },
    {
      "cell_type": "code",
      "metadata": {
        "id": "sclvqaiXqgFk",
        "colab": {
          "base_uri": "https://localhost:8080/"
        },
        "outputId": "e05d2725-7df3-40f0-f781-110eb5b6aa0d"
      },
      "source": [
        "#6.9\n",
        "tup = (1,2,5,4,3,2,1,4,7,8,9,9,3,7,3)\n",
        "print(\"주어진 튜플:\",tup)\n",
        "tup = tuple(set(tup))\n",
        "print(\"중복 제거 튜플:\",tup)"
      ],
      "execution_count": null,
      "outputs": [
        {
          "output_type": "stream",
          "text": [
            "주어진 튜플: (1, 2, 5, 4, 3, 2, 1, 4, 7, 8, 9, 9, 3, 7, 3)\n",
            "중복 제거 튜플: (1, 2, 3, 4, 5, 7, 8, 9)\n"
          ],
          "name": "stdout"
        }
      ]
    },
    {
      "cell_type": "code",
      "metadata": {
        "colab": {
          "base_uri": "https://localhost:8080/"
        },
        "id": "ISblCjPynVGb",
        "outputId": "fd8647b7-3812-46e1-a3f4-134b2b00b5cb"
      },
      "source": [
        "#6.10 - 1\n",
        "tup = (1,2,5,4,3,2,1,4,7,8,9,9,3,7,3)\n",
        "print(\"주어진 튜플은:\",tup)\n",
        "M = tup[0]\n",
        "for i in tup:\n",
        "    if tup.count(i) >= tup.count(M):\n",
        "        M = i if tup.count(i)>tup.count(M) else (i if i>M else M)\n",
        "print(\"가장 많이 나타나는 요소는:\", M)"
      ],
      "execution_count": null,
      "outputs": [
        {
          "output_type": "stream",
          "text": [
            "주어진 튜플은: (1, 2, 5, 4, 3, 2, 1, 4, 7, 8, 9, 9, 3, 7, 3)\n",
            "가장 많이 나타나는 요소는: 3\n"
          ],
          "name": "stdout"
        }
      ]
    },
    {
      "cell_type": "code",
      "metadata": {
        "colab": {
          "base_uri": "https://localhost:8080/"
        },
        "id": "jV3XtpaurTS7",
        "outputId": "a0d20f76-e071-4721-ad6d-1a9c80a8e5a3"
      },
      "source": [
        "#6.10 - 2\n",
        "tup = (1,2,5,4,3,2,9,4,7,8,9,9,3,7,3)\n",
        "print(\"주어진 튜플은:\",tup)\n",
        "M = tup[0]\n",
        "for i in tup:\n",
        "    if tup.count(i) >= tup.count(M):\n",
        "        M = i if tup.count(i)>tup.count(M) else (i if i>M else M)\n",
        "print(\"가장 많이 나타나는 요소는:\", M)"
      ],
      "execution_count": null,
      "outputs": [
        {
          "output_type": "stream",
          "text": [
            "주어진 튜플은: (1, 2, 5, 4, 3, 2, 9, 4, 7, 8, 9, 9, 3, 7, 3)\n",
            "가장 많이 나타나는 요소는: 9\n"
          ],
          "name": "stdout"
        }
      ]
    },
    {
      "cell_type": "code",
      "metadata": {
        "colab": {
          "base_uri": "https://localhost:8080/"
        },
        "id": "uHe_Idi8tB9y",
        "outputId": "a731db66-9b82-4927-c3cb-5c90a2d2f6fc"
      },
      "source": [
        "#6.11\n",
        "lst = [(), 1, (), (), (1,), ('a',), ('a','b'), ((),), ('a', 'b'), '']\n",
        "print(\"주어진 리스트 :\", lst)\n",
        "newlist = []\n",
        "for i in lst:\n",
        "    if i not in [(), '', []]:\n",
        "        newlist.append(i)\n",
        "print(\"빈 튜플 요소를 제거한 결과 :\", newlist)"
      ],
      "execution_count": null,
      "outputs": [
        {
          "output_type": "stream",
          "text": [
            "주어진 리스트 : [(), 1, (), (), (1,), ('a',), ('a', 'b'), ((),), ('a', 'b'), '']\n",
            "빈 튜플 요소를 제거한 결과 : [1, (1,), ('a',), ('a', 'b'), ((),), ('a', 'b')]\n"
          ],
          "name": "stdout"
        }
      ]
    },
    {
      "cell_type": "code",
      "metadata": {
        "colab": {
          "base_uri": "https://localhost:8080/"
        },
        "id": "q0GLz0_aRfHM",
        "outputId": "4843c93b-18aa-47bc-9106-525e7afe5b4f"
      },
      "source": [
        "#6.12\n",
        "lst = [5,6,3,9,2,12,3,8,7]\n",
        "print(\"주어진 리스트는 =\",lst)\n",
        "for i in range(len(lst)-1):\n",
        "    if lst[i]>lst[i+1]:\n",
        "        lst[i], lst[i+1] = lst[i+1], lst[i]\n",
        "print(\"가장 큰 수를 마지막으로 옮긴 결과:\",lst)"
      ],
      "execution_count": 1,
      "outputs": [
        {
          "output_type": "stream",
          "text": [
            "주어진 리스트는 = [5, 6, 3, 9, 2, 12, 3, 8, 7]\n",
            "가장 큰 수를 마지막으로 옮긴 결과: [5, 3, 6, 2, 9, 3, 8, 7, 12]\n"
          ],
          "name": "stdout"
        }
      ]
    },
    {
      "cell_type": "code",
      "metadata": {
        "colab": {
          "base_uri": "https://localhost:8080/"
        },
        "id": "K8TJ3u5QxPWq",
        "outputId": "21ffe89e-eb89-4d17-f32f-4f76123711cf"
      },
      "source": [
        "#6.13\n",
        "lst = [5,6,3,9,2,12,3,8,7]\n",
        "print(\"주어진 리스트는 =\", lst)\n",
        "for i in range(len(lst)-1, 0, -1):\n",
        "    for j in range(0, i):\n",
        "        if lst[j] > lst[j+1]:\n",
        "            lst[j], lst[j+1] = lst[j+1], lst[j]\n",
        "    # print(lst)\n",
        "print(\"정렬된 결과는 =\",lst)"
      ],
      "execution_count": 4,
      "outputs": [
        {
          "output_type": "stream",
          "text": [
            "주어진 리스트는 = [5, 6, 3, 9, 2, 12, 3, 8, 7]\n",
            "정렬된 결과는 = [2, 3, 3, 5, 6, 7, 8, 9, 12]\n"
          ],
          "name": "stdout"
        }
      ]
    },
    {
      "cell_type": "code",
      "metadata": {
        "colab": {
          "base_uri": "https://localhost:8080/"
        },
        "id": "XlnyDlNo3FWj",
        "outputId": "25f1a451-14d0-49c4-985d-414e231d31f3"
      },
      "source": [
        "#6.14\n",
        "lst = [5,6,31,9,2,12,13,8,7]\n",
        "print(\"정렬전 리스트:\", lst)\n",
        "for i in range(len(lst)-1, 0, -1):\n",
        "    for j in range(0, i):\n",
        "        if lst[j] > lst[j+1]:\n",
        "            lst[j], lst[j+1] = lst[j+1], lst[j]\n",
        "    print(\"{} 단계 : {}, {}\".format(len(lst)-i, lst[0:i], lst[i:len(lst)]))\n",
        "print(\"정렬된 결과는 =\", lst)"
      ],
      "execution_count": 3,
      "outputs": [
        {
          "output_type": "stream",
          "text": [
            "정렬전 리스트: [5, 6, 31, 9, 2, 12, 13, 8, 7]\n",
            "1 단계 : [5, 6, 9, 2, 12, 13, 8, 7], [31]\n",
            "2 단계 : [5, 6, 2, 9, 12, 8, 7], [13, 31]\n",
            "3 단계 : [5, 2, 6, 9, 8, 7], [12, 13, 31]\n",
            "4 단계 : [2, 5, 6, 8, 7], [9, 12, 13, 31]\n",
            "5 단계 : [2, 5, 6, 7], [8, 9, 12, 13, 31]\n",
            "6 단계 : [2, 5, 6], [7, 8, 9, 12, 13, 31]\n",
            "7 단계 : [2, 5], [6, 7, 8, 9, 12, 13, 31]\n",
            "8 단계 : [2], [5, 6, 7, 8, 9, 12, 13, 31]\n",
            "정렬된 결과는 = [2, 5, 6, 7, 8, 9, 12, 13, 31]\n"
          ],
          "name": "stdout"
        }
      ]
    },
    {
      "cell_type": "code",
      "metadata": {
        "colab": {
          "base_uri": "https://localhost:8080/"
        },
        "id": "rerSU87E56og",
        "outputId": "6b418b78-6b8d-40f2-e52a-1165f4120da4"
      },
      "source": [
        "#6.15\n",
        "tup = (4,5,2,3,8,1,9,0)\n",
        "for i in range(len(tup), 0, -1):\n",
        "    print(tup[0:i])"
      ],
      "execution_count": null,
      "outputs": [
        {
          "output_type": "stream",
          "text": [
            "(4, 5, 2, 3, 8, 1, 9, 0)\n",
            "(4, 5, 2, 3, 8, 1, 9)\n",
            "(4, 5, 2, 3, 8, 1)\n",
            "(4, 5, 2, 3, 8)\n",
            "(4, 5, 2, 3)\n",
            "(4, 5, 2)\n",
            "(4, 5)\n",
            "(4,)\n"
          ],
          "name": "stdout"
        }
      ]
    },
    {
      "cell_type": "code",
      "metadata": {
        "colab": {
          "base_uri": "https://localhost:8080/"
        },
        "id": "7TAdFNNn7QEo",
        "outputId": "550eb4fe-05ed-483e-fff2-94cc84b398bf"
      },
      "source": [
        "#6.16\n",
        "student_tuple = (('191101','홍길동','010-123-45xx'),('191102','임꺽정','010-223-45xx'),('191103','장길산','010-323-45xx'))\n",
        "info = dict((student_tuple[0][0:2],student_tuple[1][0:2],student_tuple[2][0:2]))\n",
        "print(\"학생 정보:\", info)\n",
        "while True:\n",
        "    a = input(\"학번을 입력하세요 : \")\n",
        "    if int(a) < 0:\n",
        "        print(\"프로그램을 종료합니다.\")\n",
        "        break;\n",
        "    if info.get(a) != None:\n",
        "        print(\"{}번 학생은 {}입니다.\".format(a, info.get(a)))\n",
        "    else:\n",
        "        print(\"해당 학번의 학생이 없습니다.\")"
      ],
      "execution_count": null,
      "outputs": [
        {
          "output_type": "stream",
          "text": [
            "학생 정보: {'191101': '홍길동', '191102': '임꺽정', '191103': '장길산'}\n",
            "학번을 입력하세요 : 191102\n",
            "191102번 학생은 임꺽정입니다.\n",
            "학번을 입력하세요 : 191106\n",
            "해당 학번의 학생이 없습니다.\n",
            "학번을 입력하세요 : -1\n",
            "프로그램을 종료합니다.\n"
          ],
          "name": "stdout"
        }
      ]
    },
    {
      "cell_type": "code",
      "metadata": {
        "colab": {
          "base_uri": "https://localhost:8080/"
        },
        "id": "ppHk-3SX8SrZ",
        "outputId": "58797abe-f3ea-4ba6-a31b-c1a619843a03"
      },
      "source": [
        "#6.17\n",
        "population_A= (100,150,230,120,180,100,140,95,81,21,4)\n",
        "population_B = (300,420,530,420,400,300,40,5,1,1,1)\n",
        "print(\"(1)마을 A와 B에 보낼 투표용지의 개수는 각각 {} 장과 {} 장입니다.\".format(sum(population_A[2:]), sum(population_B[2:]) ))\n",
        "print(\"(2)마을 A와 B의 고령화 정도는 각각 {:.3f}와 {:.3f}입니다.\".format( sum(population_A[7:])/sum(population_A), sum(population_B[7:])/sum(population_B) ))"
      ],
      "execution_count": null,
      "outputs": [
        {
          "output_type": "stream",
          "text": [
            "(1)마을 A와 B에 보낼 투표용지의 개수는 각각 971 장과 1698 장입니다.\n",
            "(2)마을 A와 B의 고령화 정도는 각각 0.165와 0.003입니다.\n"
          ],
          "name": "stdout"
        }
      ]
    },
    {
      "cell_type": "code",
      "metadata": {
        "colab": {
          "base_uri": "https://localhost:8080/"
        },
        "id": "72XivcOP-eJZ",
        "outputId": "4653834f-de93-4007-b8c5-b0d9a18ec694"
      },
      "source": [
        "#6.20\n",
        "scores = (\n",
        "    ('박동규', 88, 95, 90),\n",
        "    ('강영민', 85, 90, 95),\n",
        "    ('박동민', 70, 90, 80),\n",
        "    ('홍승주', 90, 90, 95),\n",
        ")\n",
        "name, kor, math, sci = zip(*scores)\n",
        "print(\"(1)학생들의 수학 성적의 평균은 {:.2f}입니다.\".format( sum(math)/len(math) ))\n",
        "print(\"(2)학생들의 수학과 과학 성적의 평균은 {:.3f}입니다.\".format( (sum(math)+sum(sci))/len(math)/2 ))\n",
        "student_dic = dict((\n",
        "    (scores[0][0], sum(scores[0][1:])/3),\n",
        "    (scores[1][0], sum(scores[1][1:])/3),\n",
        "    (scores[2][0], sum(scores[2][1:])/3),\n",
        "    (scores[3][0], sum(scores[3][1:])/3),\n",
        "))\n",
        "print(\"이름\\t\\t평균성적\")\n",
        "print(\"-\"*30)\n",
        "print(\"{}\\t\\t{:.2f}\".format('박동규', student_dic.get('박동규')))\n",
        "print(\"{}\\t\\t{:.2f}\".format('강영민', student_dic.get('강영민')))\n",
        "print(\"{}\\t\\t{:.2f}\".format('박동민', student_dic.get('박동민')))\n",
        "print(\"{}\\t\\t{:.2f}\".format('홍승주', student_dic.get('홍승주')))"
      ],
      "execution_count": null,
      "outputs": [
        {
          "output_type": "stream",
          "text": [
            "(1)학생들의 수학 성적의 평균은 91.25입니다.\n",
            "(2)학생들의 수학과 과학 성적의 평균은 90.625입니다.\n",
            "이름\t\t평균성적\n",
            "------------------------------\n",
            "박동규\t\t91.00\n",
            "강영민\t\t90.00\n",
            "박동민\t\t80.00\n",
            "홍승주\t\t91.67\n"
          ],
          "name": "stdout"
        }
      ]
    },
    {
      "cell_type": "code",
      "metadata": {
        "id": "8J_D-VFNA5ZT",
        "colab": {
          "base_uri": "https://localhost:8080/"
        },
        "outputId": "79bad78a-6f88-40f9-d60e-4646aaf9aa13"
      },
      "source": [
        "#6.21\n",
        "s = input(\"문자열을 입력하시오 : \")\n",
        "filt = ''\n",
        "for i in range(len(s)):\n",
        "    if s[i] not in [' ', '.']:\n",
        "        filt += s[i]\n",
        "filt = filt.lower()\n",
        "# print(filt)\n",
        "if filt == filt[::-1]:\n",
        "    print(\"회문입니다.\")\n",
        "else:\n",
        "    print(\"회문이 아닙니다.\")"
      ],
      "execution_count": null,
      "outputs": [
        {
          "output_type": "stream",
          "text": [
            "문자열을 입력하시오 : A nut for a jar of tuna\n",
            "anutforajaroftuna\n",
            "회문입니다.\n"
          ],
          "name": "stdout"
        }
      ]
    },
    {
      "cell_type": "code",
      "metadata": {
        "colab": {
          "base_uri": "https://localhost:8080/"
        },
        "id": "HsjsHtLD0vPF",
        "outputId": "0cbe22c4-6347-453b-da10-274730a47124"
      },
      "source": [
        "#6.22 Sinisa Mihajlovic / Tom Cruise\n",
        "name = input(\"이름을 입력하세요 : \")\n",
        "print(name[-3:])\n",
        "if name[-3:] == 'vic':\n",
        "    print('안녕하세요? {} 님. 발칸 반도에서 오셨나요?'.format(name))\n",
        "else:\n",
        "    print('안녕하세요? {} 님.'.format(name))"
      ],
      "execution_count": null,
      "outputs": [
        {
          "output_type": "stream",
          "text": [
            "이름을 입력하세요 : Tom Cruise\n",
            "ise\n",
            "안녕하세요? Tom Cruise 님.\n"
          ],
          "name": "stdout"
        }
      ]
    },
    {
      "cell_type": "code",
      "metadata": {
        "colab": {
          "base_uri": "https://localhost:8080/"
        },
        "id": "Q5KI3RN46Y5H",
        "outputId": "566f7c70-caae-4d5d-bf70-b1505a1f6084"
      },
      "source": [
        "#6.23\n",
        "import string\n",
        "for i in range(10):\n",
        "    print(string.ascii_uppercase[i:] + string.ascii_uppercase[0:i])\n"
      ],
      "execution_count": null,
      "outputs": [
        {
          "output_type": "stream",
          "text": [
            "ABCDEFGHIJKLMNOPQRSTUVWXYZ\n",
            "BCDEFGHIJKLMNOPQRSTUVWXYZA\n",
            "CDEFGHIJKLMNOPQRSTUVWXYZAB\n",
            "DEFGHIJKLMNOPQRSTUVWXYZABC\n",
            "EFGHIJKLMNOPQRSTUVWXYZABCD\n",
            "FGHIJKLMNOPQRSTUVWXYZABCDE\n",
            "GHIJKLMNOPQRSTUVWXYZABCDEF\n",
            "HIJKLMNOPQRSTUVWXYZABCDEFG\n",
            "IJKLMNOPQRSTUVWXYZABCDEFGH\n",
            "JKLMNOPQRSTUVWXYZABCDEFGHI\n"
          ],
          "name": "stdout"
        }
      ]
    },
    {
      "cell_type": "code",
      "metadata": {
        "colab": {
          "base_uri": "https://localhost:8080/"
        },
        "id": "7fuE2pKZ-MIR",
        "outputId": "2b3ce425-f098-43c9-e235-cbb0f1549062"
      },
      "source": [
        "#6.24 (1)\n",
        "import string\n",
        "src_str = string.ascii_uppercase\n",
        "dst_str = string.ascii_uppercase[3:] + string.ascii_uppercase[0:3]\n",
        "print(\"src_str =\", src_str)\n",
        "print(\"dst_str =\", dst_str)"
      ],
      "execution_count": null,
      "outputs": [
        {
          "output_type": "stream",
          "text": [
            "src_str = ABCDEFGHIJKLMNOPQRSTUVWXYZ\n",
            "dst_str = DEFGHIJKLMNOPQRSTUVWXYZABC\n"
          ],
          "name": "stdout"
        }
      ]
    },
    {
      "cell_type": "code",
      "metadata": {
        "colab": {
          "base_uri": "https://localhost:8080/"
        },
        "id": "jn8j0ufLAIAB",
        "outputId": "9b622286-62af-4c59-c0b1-72ae2165aa4a"
      },
      "source": [
        "#6.24 (2)\n",
        "def ciper(a):\n",
        "    return dst_str[src_str.index(a)]\n",
        "print(\"src_str의 A 인덱스 :\", src_str.index('A'))\n",
        "print(\"dst_str의 0번째 알파벳 :\", ciper('A'))\n",
        "print(\"src_str의 B 인덱스 :\", src_str.index('B'))\n",
        "print(\"dst_str의 1번째 알파벳 :\", ciper('B'))"
      ],
      "execution_count": null,
      "outputs": [
        {
          "output_type": "stream",
          "text": [
            "src_str의 A 인덱스 : 0\n",
            "dst_str의 0번째 알파벳 : D\n",
            "src_str의 B 인덱스 : 1\n",
            "dst_str의 1번째 알파벳 : E\n"
          ],
          "name": "stdout"
        }
      ]
    },
    {
      "cell_type": "code",
      "metadata": {
        "colab": {
          "base_uri": "https://localhost:8080/"
        },
        "id": "op79pemFB7bJ",
        "outputId": "6674e136-ed80-49e4-e5ba-5439545d86b9"
      },
      "source": [
        "#6.24 (3) ATTACK TONIGHT! / (4) DWWDFN WRQLJKW!\n",
        "def deciper(a):\n",
        "    return src_str[dst_str.index(a)]\n",
        "def encrypt(s):\n",
        "    text = ''\n",
        "    for i in range(len(s)):\n",
        "        if s[i] in src_str:\n",
        "            text += ciper(s[i])\n",
        "        else:\n",
        "            text += s[i]\n",
        "    return text\n",
        "def decrypt(s):\n",
        "    text = ''\n",
        "    for i in range(len(s)):\n",
        "        if s[i] in src_str:\n",
        "            text += deciper(s[i])\n",
        "        else:\n",
        "            text += s[i]\n",
        "    return text\n",
        "a = input(\"문장을 입력하시오: \")\n",
        "print(\"암호화된 문장:\", encrypt(a))\n",
        "a = input(\"암호화된 문장을 입력하시오: \")\n",
        "print(\"해독된 문장:\", decrypt(a))"
      ],
      "execution_count": null,
      "outputs": [
        {
          "output_type": "stream",
          "text": [
            "문장을 입력하시오: ATTACK TONIGHT!\n",
            "암호화된 문장: DWWDFN WRQLJKW!\n",
            "암호화된 문장을 입력하시오: DWWDFN WRQLJKW!\n",
            "해독된 문장: ATTACK TONIGHT!\n"
          ],
          "name": "stdout"
        }
      ]
    },
    {
      "cell_type": "code",
      "metadata": {
        "colab": {
          "base_uri": "https://localhost:8080/"
        },
        "id": "KfUb1rG_Dqtv",
        "outputId": "ccc82c9b-b748-402f-f66e-801a5bc5d734"
      },
      "source": [
        "#6.24 (5) Attack tonight! / Veni, vidi, vici.\n",
        "src_str = string.ascii_uppercase + string.ascii_lowercase\n",
        "dst_str = string.ascii_uppercase[3:] + string.ascii_uppercase[0:3] + string.ascii_lowercase[3:] + string.ascii_lowercase[0:3]\n",
        "def ciper(a):\n",
        "    return dst_str[src_str.index(a)]\n",
        "def encrypt(s):\n",
        "    text = ''\n",
        "    for i in range(len(s)):\n",
        "        if s[i] in src_str:\n",
        "            text += ciper(s[i])\n",
        "        else:\n",
        "            text += s[i]\n",
        "    return text\n",
        "for _ in range(2):\n",
        "    a = input(\"문장을 입력하시오: \")\n",
        "    print(\"암호화된 문장:\", encrypt(a))"
      ],
      "execution_count": null,
      "outputs": [
        {
          "output_type": "stream",
          "text": [
            "문장을 입력하시오: Attack tonight!\n",
            "암호화된 문장: Dwwdfn wrqljkw!\n",
            "문장을 입력하시오: Veni, vidi, vici.\n",
            "암호화된 문장: Yhql, ylgl, ylfl.\n"
          ],
          "name": "stdout"
        }
      ]
    },
    {
      "cell_type": "code",
      "metadata": {
        "colab": {
          "base_uri": "https://localhost:8080/"
        },
        "id": "PCgTKrnYEQZG",
        "outputId": "e8104d23-62b9-4b75-ea85-fa31fffa533d"
      },
      "source": [
        "#6.25 < boy:소년\n",
        "#     012345 6 7\n",
        "print(\"사전 프로그램 시작... 종료는 q를 입력\")\n",
        "dic = {}\n",
        "eng = ''\n",
        "kor = ''\n",
        "while True:\n",
        "    a = input(\"$ \")\n",
        "    if a == 'q':\n",
        "        print(\"사전 프로그램을 종료합니다.\")\n",
        "        break\n",
        "    if a[0] == '<':\n",
        "        for i in range(2, len(a)):\n",
        "            if a[i] == ':':\n",
        "                eng = a[2:i]\n",
        "                kor = a[i+1:]\n",
        "                break\n",
        "            dic[eng]=kor\n",
        "    elif a[0] == '>':\n",
        "        if a[2:] in dic:\n",
        "            print(dic.get(a[2:]))\n",
        "        else:\n",
        "            print(\"%s가 사전에 없습니다.\"%a[2:])\n",
        "    else:\n",
        "        print(\"입력오류가 발생했습니다.\")\n",
        "\n",
        "        "
      ],
      "execution_count": null,
      "outputs": [
        {
          "output_type": "stream",
          "text": [
            "사전 프로그램 시작... 종료는 q를 입력\n",
            "$ < boy:소년\n",
            "$ < girl:소녀\n",
            "$ < man:남자, 사람\n",
            "$ < woman:여자\n",
            "$ < house:집\n",
            "$ < Korea:한국\n",
            "$ > boy\n",
            "소년\n",
            "$ > body\n",
            "body가 사전에 없습니다.\n",
            "$ man\n",
            "입력오류가 발생했습니다.\n",
            "$ > man\n",
            "남자, 사람\n",
            "$ q\n",
            "사전 프로그램을 종료합니다.\n"
          ],
          "name": "stdout"
        }
      ]
    },
    {
      "cell_type": "code",
      "metadata": {
        "colab": {
          "base_uri": "https://localhost:8080/"
        },
        "id": "IeDl5_gsMV2G",
        "outputId": "cb9d7d20-c645-497c-f499-3b04a3e74a5e"
      },
      "source": [
        "#6.26\n",
        "mylist = [(1,2), (4,5), (4,2), (3,1), (9,4)]\n",
        "m, n = map(int, input(\"두 정수를 입력하시오: \").split())\n",
        "if (m,n) in mylist:\n",
        "    print(\"{}번째에 ({}, {}) 요소가 있습니다.\".format(mylist.index((m,n))+1, m, n ))\n",
        "elif (n,m) in mylist:\n",
        "    print(\"({}, {}) 요소는 없으나 {}번째에 ({}, {}) 요소가 있습니다.\".format(m,n, mylist.index((n,m))+1, n,m ))\n",
        "else:\n",
        "    print(\"이 요소는 없습니다.\")"
      ],
      "execution_count": null,
      "outputs": [
        {
          "output_type": "stream",
          "text": [
            "두 정수를 입력하시오: 4 9\n",
            "(4, 9) 요소는 없으나 5번째에 (9, 4) 요소가 있습니다.\n"
          ],
          "name": "stdout"
        }
      ]
    }
  ]
}