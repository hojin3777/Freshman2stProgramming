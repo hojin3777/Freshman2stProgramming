{
  "nbformat": 4,
  "nbformat_minor": 0,
  "metadata": {
    "colab": {
      "name": "Lab5_20201582_HojinKim.ipynb",
      "provenance": [],
      "authorship_tag": "ABX9TyOLQN9ArDt8CC3qCqw5Mkfs",
      "include_colab_link": true
    },
    "kernelspec": {
      "name": "python3",
      "display_name": "Python 3"
    }
  },
  "cells": [
    {
      "cell_type": "markdown",
      "metadata": {
        "id": "view-in-github",
        "colab_type": "text"
      },
      "source": [
        "<a href=\"https://colab.research.google.com/github/hojin3777/Freshman2stProgramming/blob/master/week10/Lab5_20201582_HojinKim.ipynb\" target=\"_parent\"><img src=\"https://colab.research.google.com/assets/colab-badge.svg\" alt=\"Open In Colab\"/></a>"
      ]
    },
    {
      "cell_type": "code",
      "metadata": {
        "id": "EH05uO8va31E"
      },
      "source": [
        "#5장 리스트"
      ],
      "execution_count": null,
      "outputs": []
    },
    {
      "cell_type": "code",
      "metadata": {
        "id": "DR_es5p_b_hT",
        "outputId": "763ff443-8e9b-43e7-9621-17d0a5ff2d78",
        "colab": {
          "base_uri": "https://localhost:8080/"
        }
      },
      "source": [
        "score_list = [87, 84, 95, 67, 88, 94, 63]\n",
        "score_list"
      ],
      "execution_count": null,
      "outputs": [
        {
          "output_type": "execute_result",
          "data": {
            "text/plain": [
              "[87, 84, 95, 67, 88, 94, 63]"
            ]
          },
          "metadata": {
            "tags": []
          },
          "execution_count": 2
        }
      ]
    },
    {
      "cell_type": "code",
      "metadata": {
        "id": "mW1tJWtSdFU2",
        "outputId": "db279f68-5c32-4caa-d00b-f623faf12851",
        "colab": {
          "base_uri": "https://localhost:8080/"
        }
      },
      "source": [
        "score_list[4]"
      ],
      "execution_count": null,
      "outputs": [
        {
          "output_type": "execute_result",
          "data": {
            "text/plain": [
              "88"
            ]
          },
          "metadata": {
            "tags": []
          },
          "execution_count": 3
        }
      ]
    },
    {
      "cell_type": "code",
      "metadata": {
        "id": "KF-cfYckaCTJ",
        "outputId": "0fbe3759-f6a7-41f6-f071-52ee4d81fd5e",
        "colab": {
          "base_uri": "https://localhost:8080/"
        }
      },
      "source": [
        "print(score_list[0],score_list[3])"
      ],
      "execution_count": null,
      "outputs": [
        {
          "output_type": "stream",
          "text": [
            "87 67\n"
          ],
          "name": "stdout"
        }
      ]
    },
    {
      "cell_type": "code",
      "metadata": {
        "id": "1RUKem9QdGon",
        "outputId": "36e4cef4-94d4-4f82-be8a-f7d617839e80",
        "colab": {
          "base_uri": "https://localhost:8080/"
        }
      },
      "source": [
        "score_list[1:3]"
      ],
      "execution_count": null,
      "outputs": [
        {
          "output_type": "execute_result",
          "data": {
            "text/plain": [
              "[84, 95]"
            ]
          },
          "metadata": {
            "tags": []
          },
          "execution_count": 5
        }
      ]
    },
    {
      "cell_type": "code",
      "metadata": {
        "id": "ugL5LtHaaNi4",
        "outputId": "0b3a1dd7-9538-4971-9ae3-bb6df7e636c0",
        "colab": {
          "base_uri": "https://localhost:8080/"
        }
      },
      "source": [
        "fruits = ['banana','apple','orange','kiwi']\n",
        "fruits"
      ],
      "execution_count": null,
      "outputs": [
        {
          "output_type": "execute_result",
          "data": {
            "text/plain": [
              "['banana', 'apple', 'orange', 'kiwi']"
            ]
          },
          "metadata": {
            "tags": []
          },
          "execution_count": 7
        }
      ]
    },
    {
      "cell_type": "code",
      "metadata": {
        "id": "9CC1PtkkdcWE"
      },
      "source": [
        "mixed_list = [100, 200, 'apple', 400]"
      ],
      "execution_count": null,
      "outputs": []
    },
    {
      "cell_type": "code",
      "metadata": {
        "id": "aVn4UP0keFsi",
        "outputId": "8f686e39-76e7-49a8-e2e1-c4e988e175c8",
        "colab": {
          "base_uri": "https://localhost:8080/"
        }
      },
      "source": [
        "mixed_list"
      ],
      "execution_count": null,
      "outputs": [
        {
          "output_type": "execute_result",
          "data": {
            "text/plain": [
              "[100, 200, 'apple', 400]"
            ]
          },
          "metadata": {
            "tags": []
          },
          "execution_count": 8
        }
      ]
    },
    {
      "cell_type": "code",
      "metadata": {
        "id": "HDHYq9w5eG_s",
        "outputId": "1b0c4339-174c-4a53-ff46-00bf6e450fd4",
        "colab": {
          "base_uri": "https://localhost:8080/",
          "height": 34
        }
      },
      "source": [
        "mixed_list[2]"
      ],
      "execution_count": null,
      "outputs": [
        {
          "output_type": "execute_result",
          "data": {
            "application/vnd.google.colaboratory.intrinsic+json": {
              "type": "string"
            },
            "text/plain": [
              "'apple'"
            ]
          },
          "metadata": {
            "tags": []
          },
          "execution_count": 9
        }
      ]
    },
    {
      "cell_type": "code",
      "metadata": {
        "id": "uxfPjlnNeJuQ",
        "outputId": "ca060d5c-7a0f-4e95-cf85-390b5657197d",
        "colab": {
          "base_uri": "https://localhost:8080/"
        }
      },
      "source": [
        "list4 = list(range(1,100))\n",
        "list4"
      ],
      "execution_count": null,
      "outputs": [
        {
          "output_type": "execute_result",
          "data": {
            "text/plain": [
              "[1,\n",
              " 2,\n",
              " 3,\n",
              " 4,\n",
              " 5,\n",
              " 6,\n",
              " 7,\n",
              " 8,\n",
              " 9,\n",
              " 10,\n",
              " 11,\n",
              " 12,\n",
              " 13,\n",
              " 14,\n",
              " 15,\n",
              " 16,\n",
              " 17,\n",
              " 18,\n",
              " 19,\n",
              " 20,\n",
              " 21,\n",
              " 22,\n",
              " 23,\n",
              " 24,\n",
              " 25,\n",
              " 26,\n",
              " 27,\n",
              " 28,\n",
              " 29,\n",
              " 30,\n",
              " 31,\n",
              " 32,\n",
              " 33,\n",
              " 34,\n",
              " 35,\n",
              " 36,\n",
              " 37,\n",
              " 38,\n",
              " 39,\n",
              " 40,\n",
              " 41,\n",
              " 42,\n",
              " 43,\n",
              " 44,\n",
              " 45,\n",
              " 46,\n",
              " 47,\n",
              " 48,\n",
              " 49,\n",
              " 50,\n",
              " 51,\n",
              " 52,\n",
              " 53,\n",
              " 54,\n",
              " 55,\n",
              " 56,\n",
              " 57,\n",
              " 58,\n",
              " 59,\n",
              " 60,\n",
              " 61,\n",
              " 62,\n",
              " 63,\n",
              " 64,\n",
              " 65,\n",
              " 66,\n",
              " 67,\n",
              " 68,\n",
              " 69,\n",
              " 70,\n",
              " 71,\n",
              " 72,\n",
              " 73,\n",
              " 74,\n",
              " 75,\n",
              " 76,\n",
              " 77,\n",
              " 78,\n",
              " 79,\n",
              " 80,\n",
              " 81,\n",
              " 82,\n",
              " 83,\n",
              " 84,\n",
              " 85,\n",
              " 86,\n",
              " 87,\n",
              " 88,\n",
              " 89,\n",
              " 90,\n",
              " 91,\n",
              " 92,\n",
              " 93,\n",
              " 94,\n",
              " 95,\n",
              " 96,\n",
              " 97,\n",
              " 98,\n",
              " 99]"
            ]
          },
          "metadata": {
            "tags": []
          },
          "execution_count": 11
        }
      ]
    },
    {
      "cell_type": "code",
      "metadata": {
        "id": "8Bwjmug-eZF4",
        "outputId": "d57ef3db-22d5-452b-a02e-72ba8167e1c8",
        "colab": {
          "base_uri": "https://localhost:8080/"
        }
      },
      "source": [
        "list5 = list('ABCDEF')\n",
        "list5"
      ],
      "execution_count": null,
      "outputs": [
        {
          "output_type": "execute_result",
          "data": {
            "text/plain": [
              "['A', 'B', 'C', 'D', 'E', 'F']"
            ]
          },
          "metadata": {
            "tags": []
          },
          "execution_count": 12
        }
      ]
    },
    {
      "cell_type": "code",
      "metadata": {
        "id": "7rCl73EXesQg",
        "outputId": "99f15cd8-5f6e-40c1-baba-fffbd5882b70",
        "colab": {
          "base_uri": "https://localhost:8080/",
          "height": 34
        }
      },
      "source": [
        "list5[3]"
      ],
      "execution_count": null,
      "outputs": [
        {
          "output_type": "execute_result",
          "data": {
            "application/vnd.google.colaboratory.intrinsic+json": {
              "type": "string"
            },
            "text/plain": [
              "'D'"
            ]
          },
          "metadata": {
            "tags": []
          },
          "execution_count": 13
        }
      ]
    },
    {
      "cell_type": "code",
      "metadata": {
        "id": "lSjhielxe243",
        "outputId": "c878df21-9f55-490c-c6c0-079dd17b7ea6",
        "colab": {
          "base_uri": "https://localhost:8080/"
        }
      },
      "source": [
        "#Lab 5-1\n",
        "even_list = [2,4,6,8,10]\n",
        "print(even_list)"
      ],
      "execution_count": null,
      "outputs": [
        {
          "output_type": "stream",
          "text": [
            "[2, 4, 6, 8, 10]\n"
          ],
          "name": "stdout"
        }
      ]
    },
    {
      "cell_type": "code",
      "metadata": {
        "id": "AVNv9dpIe-iz",
        "outputId": "e77d2923-6322-4f5f-801d-37e36f27fc84",
        "colab": {
          "base_uri": "https://localhost:8080/"
        }
      },
      "source": [
        "even_list = list(range(2,11,2))\n",
        "print(even_list)"
      ],
      "execution_count": null,
      "outputs": [
        {
          "output_type": "stream",
          "text": [
            "[2, 4, 6, 8, 10]\n"
          ],
          "name": "stdout"
        }
      ]
    },
    {
      "cell_type": "code",
      "metadata": {
        "id": "zK25SXkefFPf",
        "outputId": "7355c23e-e0a0-41f4-e9ad-91fe3ff6a5ce",
        "colab": {
          "base_uri": "https://localhost:8080/"
        }
      },
      "source": [
        "nations = ['Korea','China','India','Nepal']\n",
        "print(nations)"
      ],
      "execution_count": null,
      "outputs": [
        {
          "output_type": "stream",
          "text": [
            "['Korea', 'China', 'India', 'Nepal']\n"
          ],
          "name": "stdout"
        }
      ]
    },
    {
      "cell_type": "code",
      "metadata": {
        "id": "2jUddNAVfPnV",
        "outputId": "45f0df08-3ef9-47a5-a010-872c99b93ffd",
        "colab": {
          "base_uri": "https://localhost:8080/"
        }
      },
      "source": [
        "friends = ['동환','규빈','수진','효비','기환']\n",
        "print(friends)"
      ],
      "execution_count": null,
      "outputs": [
        {
          "output_type": "stream",
          "text": [
            "['동환', '규빈', '수진', '효비', '기환']\n"
          ],
          "name": "stdout"
        }
      ]
    },
    {
      "cell_type": "code",
      "metadata": {
        "id": "a5ma4zMDfbmF",
        "outputId": "e880ccc3-f5b4-45a5-e648-71b4e433df78",
        "colab": {
          "base_uri": "https://localhost:8080/"
        }
      },
      "source": [
        "string = list('XYZ')\n",
        "print(\"string = \", string)"
      ],
      "execution_count": null,
      "outputs": [
        {
          "output_type": "stream",
          "text": [
            "string =  ['X', 'Y', 'Z']\n"
          ],
          "name": "stdout"
        }
      ]
    },
    {
      "cell_type": "code",
      "metadata": {
        "id": "CCebtoK6fnHu",
        "outputId": "2976d72e-0e29-4b6a-a4ba-217cf1c193ef",
        "colab": {
          "base_uri": "https://localhost:8080/"
        }
      },
      "source": [
        "even_list[-1]"
      ],
      "execution_count": null,
      "outputs": [
        {
          "output_type": "execute_result",
          "data": {
            "text/plain": [
              "10"
            ]
          },
          "metadata": {
            "tags": []
          },
          "execution_count": 23
        }
      ]
    },
    {
      "cell_type": "code",
      "metadata": {
        "id": "XBbGTJQMaeJY",
        "outputId": "92319a46-c660-4f92-ac61-355ed63ed613",
        "colab": {
          "base_uri": "https://localhost:8080/"
        }
      },
      "source": [
        "n_list = [11,22,33,44,55,66]\n",
        "n_list"
      ],
      "execution_count": null,
      "outputs": [
        {
          "output_type": "execute_result",
          "data": {
            "text/plain": [
              "[11, 22, 33, 44, 55, 66]"
            ]
          },
          "metadata": {
            "tags": []
          },
          "execution_count": 8
        }
      ]
    },
    {
      "cell_type": "code",
      "metadata": {
        "id": "s4k0NZvcajqC",
        "outputId": "e496bfa1-bf89-4ef7-ba8d-eb3556585cca",
        "colab": {
          "base_uri": "https://localhost:8080/"
        }
      },
      "source": [
        "len(n_list)\n",
        "print(n_list[0], n_list[1])\n",
        "print(n_list[-1], n_list[-2], n_list[-3])"
      ],
      "execution_count": null,
      "outputs": [
        {
          "output_type": "stream",
          "text": [
            "11 22\n",
            "66 55 44\n"
          ],
          "name": "stdout"
        }
      ]
    },
    {
      "cell_type": "code",
      "metadata": {
        "id": "FZqiemaMg4fI",
        "outputId": "b478a7c4-e9c0-4c3d-c9ab-e40feb25d94d",
        "colab": {
          "base_uri": "https://localhost:8080/"
        }
      },
      "source": [
        "#Lab 5-2 : 리스트의 생성과 인덱싱\n",
        "prime_list = [2,3,5,7]\n",
        "print(\"prime_list의 첫 원소 :\", prime_list[0])          #5-2-1\n",
        "print(\"prime_list의 마지막 원소 :\", prime_list[3])      #5-2-2\n",
        "print(\"prime_list의 마지막 원소 :\", prime_list[-1])     #5-2-3"
      ],
      "execution_count": null,
      "outputs": [
        {
          "output_type": "stream",
          "text": [
            "prime_list의 첫 원소 : 2\n",
            "prime_list의 마지막 원소 : 7\n",
            "prime_list의 마지막 원소 : 7\n"
          ],
          "name": "stdout"
        }
      ]
    },
    {
      "cell_type": "code",
      "metadata": {
        "id": "7Z15CKFkhlmb",
        "outputId": "a2913c07-ca02-4b62-9849-50c5a64d3b11",
        "colab": {
          "base_uri": "https://localhost:8080/"
        }
      },
      "source": [
        "nations = ['Korea','China','Russia','Malaysia']\n",
        "print(\"nations의 첫 원소 :\", nations[0])                #5-2-4\n",
        "print(\"nations의 첫 원소 :\", nations[-1])               #5-2-5\n",
        "print(\"nations의 첫 원소 :\", nations[len(nations)-1])   #5-2-6"
      ],
      "execution_count": null,
      "outputs": [
        {
          "output_type": "stream",
          "text": [
            "nations의 첫 원소 : Korea\n",
            "nations의 첫 원소 : Malaysia\n",
            "nations의 첫 원소 : Malaysia\n"
          ],
          "name": "stdout"
        }
      ]
    },
    {
      "cell_type": "code",
      "metadata": {
        "id": "GPtx0gnVh5Mu",
        "outputId": "39011230-2383-4b0a-fff5-e8ceda3259d5",
        "colab": {
          "base_uri": "https://localhost:8080/"
        }
      },
      "source": [
        "a_list = ['a','b','c','d','e']\n",
        "a_list"
      ],
      "execution_count": null,
      "outputs": [
        {
          "output_type": "execute_result",
          "data": {
            "text/plain": [
              "['a', 'b', 'c', 'd', 'e']"
            ]
          },
          "metadata": {
            "tags": []
          },
          "execution_count": 26
        }
      ]
    },
    {
      "cell_type": "code",
      "metadata": {
        "id": "X2G3yzLbibwa",
        "outputId": "642ad911-0bea-4609-b7b3-9b3dffdf7f5f",
        "colab": {
          "base_uri": "https://localhost:8080/"
        }
      },
      "source": [
        "a_list.append('f')\n",
        "a_list"
      ],
      "execution_count": null,
      "outputs": [
        {
          "output_type": "execute_result",
          "data": {
            "text/plain": [
              "['a', 'b', 'c', 'd', 'e', 'f']"
            ]
          },
          "metadata": {
            "tags": []
          },
          "execution_count": 27
        }
      ]
    },
    {
      "cell_type": "code",
      "metadata": {
        "id": "S64iG8-VieR-",
        "outputId": "51bb7f5d-b600-43ff-cb6b-0e90b645e5f1",
        "colab": {
          "base_uri": "https://localhost:8080/"
        }
      },
      "source": [
        "a_list.append('g')\n",
        "a_list"
      ],
      "execution_count": null,
      "outputs": [
        {
          "output_type": "execute_result",
          "data": {
            "text/plain": [
              "['a', 'b', 'c', 'd', 'e', 'f', 'g']"
            ]
          },
          "metadata": {
            "tags": []
          },
          "execution_count": 28
        }
      ]
    },
    {
      "cell_type": "code",
      "metadata": {
        "id": "JbxiggA6a5U-",
        "outputId": "51c2b74d-206d-4c92-b0ff-ec2db564c1d6",
        "colab": {
          "base_uri": "https://localhost:8080/"
        }
      },
      "source": [
        "n_list=[10,20,30,40]\n",
        "n_list.append(50)\n",
        "n_list"
      ],
      "execution_count": null,
      "outputs": [
        {
          "output_type": "execute_result",
          "data": {
            "text/plain": [
              "[10, 20, 30, 40, 50]"
            ]
          },
          "metadata": {
            "tags": []
          },
          "execution_count": 11
        }
      ]
    },
    {
      "cell_type": "code",
      "metadata": {
        "id": "G94V-4Qmigmc",
        "outputId": "7b98c3f1-a204-4276-b65c-74dbc4bbf703",
        "colab": {
          "base_uri": "https://localhost:8080/"
        }
      },
      "source": [
        "del a_list[3]\n",
        "a_list"
      ],
      "execution_count": null,
      "outputs": [
        {
          "output_type": "execute_result",
          "data": {
            "text/plain": [
              "['a', 'b', 'c', 'e', 'f', 'g']"
            ]
          },
          "metadata": {
            "tags": []
          },
          "execution_count": 29
        }
      ]
    },
    {
      "cell_type": "code",
      "metadata": {
        "id": "1q87AbEviziO",
        "outputId": "858a89c7-19fe-408b-d533-ecfca3efc955",
        "colab": {
          "base_uri": "https://localhost:8080/"
        }
      },
      "source": [
        "a_list.remove('c')\n",
        "a_list"
      ],
      "execution_count": null,
      "outputs": [
        {
          "output_type": "execute_result",
          "data": {
            "text/plain": [
              "['a', 'b', 'e', 'f', 'g']"
            ]
          },
          "metadata": {
            "tags": []
          },
          "execution_count": 30
        }
      ]
    },
    {
      "cell_type": "code",
      "metadata": {
        "id": "bvuLBB_bi7JG",
        "outputId": "bd5cc83b-94e2-409b-f695-7b97e8af9560",
        "colab": {
          "base_uri": "https://localhost:8080/",
          "height": 172
        }
      },
      "source": [
        "a_list.remove('c')"
      ],
      "execution_count": null,
      "outputs": [
        {
          "output_type": "error",
          "ename": "ValueError",
          "evalue": "ignored",
          "traceback": [
            "\u001b[0;31m---------------------------------------------------------------------------\u001b[0m",
            "\u001b[0;31mValueError\u001b[0m                                Traceback (most recent call last)",
            "\u001b[0;32m<ipython-input-31-76d7971a08f6>\u001b[0m in \u001b[0;36m<module>\u001b[0;34m()\u001b[0m\n\u001b[0;32m----> 1\u001b[0;31m \u001b[0ma_list\u001b[0m\u001b[0;34m.\u001b[0m\u001b[0mremove\u001b[0m\u001b[0;34m(\u001b[0m\u001b[0;34m'c'\u001b[0m\u001b[0;34m)\u001b[0m\u001b[0;34m\u001b[0m\u001b[0;34m\u001b[0m\u001b[0m\n\u001b[0m",
            "\u001b[0;31mValueError\u001b[0m: list.remove(x): x not in list"
          ]
        }
      ]
    },
    {
      "cell_type": "code",
      "metadata": {
        "id": "YlhQDqqgjNxD",
        "outputId": "524334b2-ade0-4d3d-9c70-bbb07e3b826c",
        "colab": {
          "base_uri": "https://localhost:8080/"
        }
      },
      "source": [
        "'c' in a_list"
      ],
      "execution_count": null,
      "outputs": [
        {
          "output_type": "execute_result",
          "data": {
            "text/plain": [
              "False"
            ]
          },
          "metadata": {
            "tags": []
          },
          "execution_count": 32
        }
      ]
    },
    {
      "cell_type": "code",
      "metadata": {
        "id": "cUoZ2TtsjUUT",
        "outputId": "05e9d7ad-b950-4885-b7c5-615e713f8daf",
        "colab": {
          "base_uri": "https://localhost:8080/"
        }
      },
      "source": [
        "'f' in a_list"
      ],
      "execution_count": null,
      "outputs": [
        {
          "output_type": "execute_result",
          "data": {
            "text/plain": [
              "True"
            ]
          },
          "metadata": {
            "tags": []
          },
          "execution_count": 33
        }
      ]
    },
    {
      "cell_type": "code",
      "metadata": {
        "id": "4L6V0Y4RjXgX",
        "outputId": "8ddd6749-9b59-4479-e20b-24df457816ac",
        "colab": {
          "base_uri": "https://localhost:8080/"
        }
      },
      "source": [
        "'c' not in a_list"
      ],
      "execution_count": null,
      "outputs": [
        {
          "output_type": "execute_result",
          "data": {
            "text/plain": [
              "True"
            ]
          },
          "metadata": {
            "tags": []
          },
          "execution_count": 34
        }
      ]
    },
    {
      "cell_type": "code",
      "metadata": {
        "id": "hD7hAx0HbG-b",
        "outputId": "8d3610ba-6fb3-4ffa-d547-6ec9b329c052",
        "colab": {
          "base_uri": "https://localhost:8080/"
        }
      },
      "source": [
        "n_list = [11,22,33,44,55,66]\n",
        "if (55 in n_list):\n",
        "    n_list.remove(55)\n",
        "if (88 in n_list):\n",
        "    n_list.remove(88)\n",
        "print(n_list)"
      ],
      "execution_count": null,
      "outputs": [
        {
          "output_type": "stream",
          "text": [
            "[11, 22, 33, 44, 66]\n"
          ],
          "name": "stdout"
        }
      ]
    },
    {
      "cell_type": "code",
      "metadata": {
        "id": "kShchEQtkQeU",
        "outputId": "2f959c4e-11c0-4316-b582-870ec4f8af7f",
        "colab": {
          "base_uri": "https://localhost:8080/"
        }
      },
      "source": [
        "#LAB 5-3 : 리스트의 삽입과 삭제, in 연산자\n",
        "prime_list = [2,3,5,7]\n",
        "print(\"소수 목록 :\", prime_list)\n",
        "prime_list.append(11)\n",
        "print(\"추가 후 소수 목록 :\", prime_list)"
      ],
      "execution_count": null,
      "outputs": [
        {
          "output_type": "stream",
          "text": [
            "소수 목록 : [2, 3, 5, 7]\n",
            "추가 후 소수 목록 : [2, 3, 5, 7, 11]\n"
          ],
          "name": "stdout"
        }
      ]
    },
    {
      "cell_type": "code",
      "metadata": {
        "id": "9m01cOgrpcDX",
        "outputId": "fab30628-49f4-4d49-9c67-46b7277b0e54",
        "colab": {
          "base_uri": "https://localhost:8080/"
        }
      },
      "source": [
        "print(\"삭제 전 소수 목록 :\", prime_list)\n",
        "prime_list.remove(3)\n",
        "print(\"삭제 후 소수 목록 :\", prime_list)"
      ],
      "execution_count": null,
      "outputs": [
        {
          "output_type": "stream",
          "text": [
            "삭제 전 소수 목록 : [2, 3, 5, 7, 11]\n",
            "삭제 후 소수 목록 : [2, 5, 7, 11]\n"
          ],
          "name": "stdout"
        }
      ]
    },
    {
      "cell_type": "code",
      "metadata": {
        "id": "Kkv9hzaGplc6",
        "outputId": "52aee493-19c4-4778-f5b9-201328e3fc9d",
        "colab": {
          "base_uri": "https://localhost:8080/"
        }
      },
      "source": [
        "nations = ['Korea','China','Russia','Malaysia']\n",
        "print(\"국가 목록 :\", nations)\n",
        "nations.append('Nepal')\n",
        "print(\"추가 후 국가 목록 :\", nations)"
      ],
      "execution_count": null,
      "outputs": [
        {
          "output_type": "stream",
          "text": [
            "국가 목록 : ['Korea', 'China', 'Russia', 'Malaysia']\n",
            "추가 후 국가 목록 : ['Korea', 'China', 'Russia', 'Malaysia', 'Nepal']\n"
          ],
          "name": "stdout"
        }
      ]
    },
    {
      "cell_type": "code",
      "metadata": {
        "id": "g3Nnrfa1p07k",
        "outputId": "39c70354-da28-4e87-f5fa-2d3a3eac94df",
        "colab": {
          "base_uri": "https://localhost:8080/"
        }
      },
      "source": [
        "if 'Japan' in nations:\n",
        "    print(\"Japan 는(은) 국가 목록에 있습니다.\")\n",
        "else:\n",
        "    print(\"Japan 는(은) 국가 목록에 없습니다.\")\n",
        "if 'Russia' in nations:\n",
        "    print(\"Russia 는(은) 국가 목록에 있습니다.\")\n",
        "else:\n",
        "    print(\"Russia 는(은) 국가 목록에 없습니다.\")"
      ],
      "execution_count": null,
      "outputs": [
        {
          "output_type": "stream",
          "text": [
            "Japan 는(은) 국가 목록에 없습니다.\n",
            "Russia 는(은) 국가 목록에 있습니다.\n"
          ],
          "name": "stdout"
        }
      ]
    },
    {
      "cell_type": "code",
      "metadata": {
        "id": "3vyCecxtjdQE",
        "outputId": "66871252-61ca-49a7-d17d-1ee9bf41bff1",
        "colab": {
          "base_uri": "https://localhost:8080/"
        }
      },
      "source": [
        "list1 = [20,50,99,100,89,98]\n",
        "max(list1)"
      ],
      "execution_count": null,
      "outputs": [
        {
          "output_type": "execute_result",
          "data": {
            "text/plain": [
              "100"
            ]
          },
          "metadata": {
            "tags": []
          },
          "execution_count": 15
        }
      ]
    },
    {
      "cell_type": "code",
      "metadata": {
        "id": "PpLQq3f-kLbP",
        "outputId": "e914f69c-3c72-4358-cfd3-c32f9778f5b9",
        "colab": {
          "base_uri": "https://localhost:8080/"
        }
      },
      "source": [
        "min(list1)"
      ],
      "execution_count": null,
      "outputs": [
        {
          "output_type": "execute_result",
          "data": {
            "text/plain": [
              "20"
            ]
          },
          "metadata": {
            "tags": []
          },
          "execution_count": 16
        }
      ]
    },
    {
      "cell_type": "code",
      "metadata": {
        "id": "MGDLlC4JqODX",
        "outputId": "253292e3-698b-4f8e-e6bc-df3cd0d1139c",
        "colab": {
          "base_uri": "https://localhost:8080/"
        }
      },
      "source": [
        "len(list1)"
      ],
      "execution_count": null,
      "outputs": [
        {
          "output_type": "execute_result",
          "data": {
            "text/plain": [
              "6"
            ]
          },
          "metadata": {
            "tags": []
          },
          "execution_count": 17
        }
      ]
    },
    {
      "cell_type": "code",
      "metadata": {
        "id": "QkSJIosgqOua",
        "outputId": "c210a05c-a159-4681-dde2-e04130109eab",
        "colab": {
          "base_uri": "https://localhost:8080/"
        }
      },
      "source": [
        "sum(list1)"
      ],
      "execution_count": null,
      "outputs": [
        {
          "output_type": "execute_result",
          "data": {
            "text/plain": [
              "456"
            ]
          },
          "metadata": {
            "tags": []
          },
          "execution_count": 18
        }
      ]
    },
    {
      "cell_type": "code",
      "metadata": {
        "id": "ygjMv-CmqRSV",
        "outputId": "bfc7fd6f-8283-49d6-93b1-1a70da6bb1bf",
        "colab": {
          "base_uri": "https://localhost:8080/"
        }
      },
      "source": [
        "sum(list1)/len(list1)"
      ],
      "execution_count": null,
      "outputs": [
        {
          "output_type": "execute_result",
          "data": {
            "text/plain": [
              "76.0"
            ]
          },
          "metadata": {
            "tags": []
          },
          "execution_count": 19
        }
      ]
    },
    {
      "cell_type": "code",
      "metadata": {
        "id": "PqDl3S_obTva",
        "outputId": "02069e4a-6653-47c6-e374-9b8e7ec7512f",
        "colab": {
          "base_uri": "https://localhost:8080/"
        }
      },
      "source": [
        "fruits=['banana','orange','apple','kiwi']\n",
        "print(min(fruits),max(fruits))"
      ],
      "execution_count": null,
      "outputs": [
        {
          "output_type": "stream",
          "text": [
            "apple orange\n"
          ],
          "name": "stdout"
        }
      ]
    },
    {
      "cell_type": "code",
      "metadata": {
        "id": "RF_gYWl_bd5K",
        "outputId": "1b31b1bb-936a-4d1a-ec7f-021c4247e6ec",
        "colab": {
          "base_uri": "https://localhost:8080/"
        }
      },
      "source": [
        "fruits=['사과','오렌지','포도','바나나']\n",
        "print(min(fruits),max(fruits))"
      ],
      "execution_count": null,
      "outputs": [
        {
          "output_type": "stream",
          "text": [
            "바나나 포도\n"
          ],
          "name": "stdout"
        }
      ]
    },
    {
      "cell_type": "code",
      "metadata": {
        "id": "FGU3OZYHqXzT",
        "outputId": "8833b6c3-acd1-41a7-efad-07e43a2c4a6e",
        "colab": {
          "base_uri": "https://localhost:8080/"
        }
      },
      "source": [
        "#Lab 5-4 : 리스트의 min()과 max(), sum(), len() 함수\n",
        "prime_list = [2,3,5,7]\n",
        "print('1에서 10까지의 소수 :', prime_list)\n",
        "print(\"최솟값 : %d\"%max(prime_list))\n",
        "print(\"최솟값 : %d\"%min(prime_list))\n",
        "print(\"합계 : %d\"%sum(prime_list))\n",
        "print(\"평균 : %f\"%( sum(prime_list)/len(prime_list) ))"
      ],
      "execution_count": null,
      "outputs": [
        {
          "output_type": "stream",
          "text": [
            "1에서 10까지의 소수 : [2, 3, 5, 7]\n",
            "최솟값 : 7\n",
            "최솟값 : 2\n",
            "합계 : 17\n",
            "평균 : 4.250000\n"
          ],
          "name": "stdout"
        }
      ]
    },
    {
      "cell_type": "code",
      "metadata": {
        "id": "Ceav5jBDrLN4",
        "outputId": "b5d58f49-c8d8-4712-e81d-80a61edfc2e7",
        "colab": {
          "base_uri": "https://localhost:8080/"
        }
      },
      "source": [
        "nations = ['Korea','China','Russia','Malaysia']\n",
        "print(\"국가 목록 :\", nations)\n",
        "print(\"사전에 가장 먼저 나오는 나라 : %s\"%min(nations))\n",
        "print(\"사전에 가장 뒤에 나오는 나라 : %s\"%max(nations))"
      ],
      "execution_count": null,
      "outputs": [
        {
          "output_type": "stream",
          "text": [
            "국가 목록 : ['Korea', 'China', 'Russia', 'Malaysia']\n",
            "사전에 가장 먼저 나오는 나라 : China\n",
            "사전에 가장 뒤에 나오는 나라 : Russia\n"
          ],
          "name": "stdout"
        }
      ]
    },
    {
      "cell_type": "code",
      "metadata": {
        "id": "QaX5a3l_rh2J",
        "outputId": "c9d6f02b-24a2-44df-96d2-bea745a0b344",
        "colab": {
          "base_uri": "https://localhost:8080/"
        }
      },
      "source": [
        "list1"
      ],
      "execution_count": null,
      "outputs": [
        {
          "output_type": "execute_result",
          "data": {
            "text/plain": [
              "[20, 50, 99, 100, 89, 98]"
            ]
          },
          "metadata": {
            "tags": []
          },
          "execution_count": 24
        }
      ]
    },
    {
      "cell_type": "code",
      "metadata": {
        "id": "nnPdzY7Sr_5O",
        "outputId": "d07e83e8-c8dc-475c-bd0a-dbb9243329f1",
        "colab": {
          "base_uri": "https://localhost:8080/"
        }
      },
      "source": [
        "list1.sort(reverse = True)\n",
        "list1"
      ],
      "execution_count": null,
      "outputs": [
        {
          "output_type": "execute_result",
          "data": {
            "text/plain": [
              "[100, 99, 98, 89, 50, 20]"
            ]
          },
          "metadata": {
            "tags": []
          },
          "execution_count": 25
        }
      ]
    },
    {
      "cell_type": "code",
      "metadata": {
        "id": "Bf8nGBKbsCn3",
        "outputId": "fdc7987f-7d2e-4d6f-b7ae-4a180b61be8d",
        "colab": {
          "base_uri": "https://localhost:8080/"
        }
      },
      "source": [
        "list1.reverse()\n",
        "list1"
      ],
      "execution_count": null,
      "outputs": [
        {
          "output_type": "execute_result",
          "data": {
            "text/plain": [
              "[20, 50, 89, 98, 99, 100]"
            ]
          },
          "metadata": {
            "tags": []
          },
          "execution_count": 26
        }
      ]
    },
    {
      "cell_type": "code",
      "metadata": {
        "id": "EpG6H3VfsK22",
        "outputId": "70d93504-7f18-4498-e5e0-e600855ea3b2",
        "colab": {
          "base_uri": "https://localhost:8080/"
        }
      },
      "source": [
        "list1.index(89)"
      ],
      "execution_count": null,
      "outputs": [
        {
          "output_type": "execute_result",
          "data": {
            "text/plain": [
              "2"
            ]
          },
          "metadata": {
            "tags": []
          },
          "execution_count": 27
        }
      ]
    },
    {
      "cell_type": "code",
      "metadata": {
        "id": "7URt8wGVsZwS",
        "outputId": "c0aa0c57-6584-4959-cbbf-c9874d73b0c0",
        "colab": {
          "base_uri": "https://localhost:8080/"
        }
      },
      "source": [
        "list1.append(89)\n",
        "list1.sort(reverse =True)\n",
        "list1"
      ],
      "execution_count": null,
      "outputs": [
        {
          "output_type": "execute_result",
          "data": {
            "text/plain": [
              "[100, 99, 98, 89, 89, 50, 20]"
            ]
          },
          "metadata": {
            "tags": []
          },
          "execution_count": 28
        }
      ]
    },
    {
      "cell_type": "code",
      "metadata": {
        "id": "Yy37z3CdslHD",
        "outputId": "0da13b5b-27c5-475e-9deb-b61ef7932726",
        "colab": {
          "base_uri": "https://localhost:8080/"
        }
      },
      "source": [
        "list1.count(89)"
      ],
      "execution_count": null,
      "outputs": [
        {
          "output_type": "execute_result",
          "data": {
            "text/plain": [
              "2"
            ]
          },
          "metadata": {
            "tags": []
          },
          "execution_count": 29
        }
      ]
    },
    {
      "cell_type": "code",
      "metadata": {
        "id": "nndqR64Rs4BW",
        "outputId": "05a13fc8-dcf7-4f03-d2d4-5d0738472639",
        "colab": {
          "base_uri": "https://localhost:8080/"
        }
      },
      "source": [
        "list1.index(89)"
      ],
      "execution_count": null,
      "outputs": [
        {
          "output_type": "execute_result",
          "data": {
            "text/plain": [
              "3"
            ]
          },
          "metadata": {
            "tags": []
          },
          "execution_count": 30
        }
      ]
    },
    {
      "cell_type": "code",
      "metadata": {
        "id": "ULAj1a3Es5rD",
        "outputId": "4679445a-7be8-40b7-a4fd-a91b6892b0a3",
        "colab": {
          "base_uri": "https://localhost:8080/"
        }
      },
      "source": [
        "list2 = [88,98,100,50,99]\n",
        "list1.extend(list2)\n",
        "list1"
      ],
      "execution_count": null,
      "outputs": [
        {
          "output_type": "execute_result",
          "data": {
            "text/plain": [
              "[100, 99, 98, 89, 89, 50, 20, 88, 98, 100, 50, 99]"
            ]
          },
          "metadata": {
            "tags": []
          },
          "execution_count": 31
        }
      ]
    },
    {
      "cell_type": "code",
      "metadata": {
        "id": "XHHBwEAmtbTW",
        "outputId": "96883624-04d5-4faa-aadf-e14ef41c4f7d",
        "colab": {
          "base_uri": "https://localhost:8080/"
        }
      },
      "source": [
        "list5 = ['a','b','c']\n",
        "list5"
      ],
      "execution_count": null,
      "outputs": [
        {
          "output_type": "execute_result",
          "data": {
            "text/plain": [
              "['a', 'b', 'c']"
            ]
          },
          "metadata": {
            "tags": []
          },
          "execution_count": 32
        }
      ]
    },
    {
      "cell_type": "code",
      "metadata": {
        "id": "74SYwhW5uIXw",
        "outputId": "b0ecba22-37c3-464c-d0e1-ec40a43abeca",
        "colab": {
          "base_uri": "https://localhost:8080/"
        }
      },
      "source": [
        "list5.append('d')\n",
        "list5"
      ],
      "execution_count": null,
      "outputs": [
        {
          "output_type": "execute_result",
          "data": {
            "text/plain": [
              "['a', 'b', 'c', 'd']"
            ]
          },
          "metadata": {
            "tags": []
          },
          "execution_count": 33
        }
      ]
    },
    {
      "cell_type": "code",
      "metadata": {
        "id": "XcGeTybRuKeA",
        "outputId": "5e7cb357-a9d2-4538-e104-98780485ad76",
        "colab": {
          "base_uri": "https://localhost:8080/"
        }
      },
      "source": [
        "list5.insert(2,'d')\n",
        "list5"
      ],
      "execution_count": null,
      "outputs": [
        {
          "output_type": "execute_result",
          "data": {
            "text/plain": [
              "['a', 'b', 'd', 'c', 'd']"
            ]
          },
          "metadata": {
            "tags": []
          },
          "execution_count": 34
        }
      ]
    },
    {
      "cell_type": "code",
      "metadata": {
        "id": "GiQSWnc6uMw5"
      },
      "source": [
        "list5.remove('d')"
      ],
      "execution_count": null,
      "outputs": []
    },
    {
      "cell_type": "code",
      "metadata": {
        "id": "_uDcHwG7uSWk",
        "outputId": "875edfc0-47c4-4c13-cfcd-4a90c16244a6",
        "colab": {
          "base_uri": "https://localhost:8080/"
        }
      },
      "source": [
        "list5"
      ],
      "execution_count": null,
      "outputs": [
        {
          "output_type": "execute_result",
          "data": {
            "text/plain": [
              "['a', 'b', 'c', 'd']"
            ]
          },
          "metadata": {
            "tags": []
          },
          "execution_count": 36
        }
      ]
    },
    {
      "cell_type": "code",
      "metadata": {
        "id": "lupL5OQHuSvD",
        "outputId": "c0c901ad-4caa-46b4-c681-bdecabafef90",
        "colab": {
          "base_uri": "https://localhost:8080/",
          "height": 35
        }
      },
      "source": [
        "list5.pop()"
      ],
      "execution_count": null,
      "outputs": [
        {
          "output_type": "execute_result",
          "data": {
            "application/vnd.google.colaboratory.intrinsic+json": {
              "type": "string"
            },
            "text/plain": [
              "'d'"
            ]
          },
          "metadata": {
            "tags": []
          },
          "execution_count": 37
        }
      ]
    },
    {
      "cell_type": "code",
      "metadata": {
        "id": "7_uEiOFSufdC",
        "outputId": "e711a03f-bbfa-46ef-f12a-f5dab16663a8",
        "colab": {
          "base_uri": "https://localhost:8080/"
        }
      },
      "source": [
        "list5"
      ],
      "execution_count": null,
      "outputs": [
        {
          "output_type": "execute_result",
          "data": {
            "text/plain": [
              "['a', 'b', 'c']"
            ]
          },
          "metadata": {
            "tags": []
          },
          "execution_count": 38
        }
      ]
    },
    {
      "cell_type": "code",
      "metadata": {
        "id": "uH2IKIE1ugSU",
        "outputId": "e6cc81fb-938e-4b8f-ea7b-e1d4e38dcfda",
        "colab": {
          "base_uri": "https://localhost:8080/",
          "height": 35
        }
      },
      "source": [
        "list5.pop()"
      ],
      "execution_count": null,
      "outputs": [
        {
          "output_type": "execute_result",
          "data": {
            "application/vnd.google.colaboratory.intrinsic+json": {
              "type": "string"
            },
            "text/plain": [
              "'c'"
            ]
          },
          "metadata": {
            "tags": []
          },
          "execution_count": 39
        }
      ]
    },
    {
      "cell_type": "code",
      "metadata": {
        "id": "g7sUwakbuk77",
        "outputId": "96f3ff1b-aafb-4b2a-bc8a-f98743d67105",
        "colab": {
          "base_uri": "https://localhost:8080/"
        }
      },
      "source": [
        "list5"
      ],
      "execution_count": null,
      "outputs": [
        {
          "output_type": "execute_result",
          "data": {
            "text/plain": [
              "['a', 'b']"
            ]
          },
          "metadata": {
            "tags": []
          },
          "execution_count": 40
        }
      ]
    },
    {
      "cell_type": "code",
      "metadata": {
        "id": "XR_004Lgulf8",
        "outputId": "a55b145f-1804-4820-d53d-0425c021bc0a",
        "colab": {
          "base_uri": "https://localhost:8080/"
        }
      },
      "source": [
        "#LAB 5-5 : 리스트 메소드의 응용\n",
        "a = [1,2,3]\n",
        "b = [10,20,30]\n",
        "a.append(b)\n",
        "a"
      ],
      "execution_count": null,
      "outputs": [
        {
          "output_type": "execute_result",
          "data": {
            "text/plain": [
              "[1, 2, 3, [10, 20, 30]]"
            ]
          },
          "metadata": {
            "tags": []
          },
          "execution_count": 41
        }
      ]
    },
    {
      "cell_type": "code",
      "metadata": {
        "id": "dIcAEXrvvLWs",
        "outputId": "8766ec36-3128-4476-8bf8-24c86a4914b7",
        "colab": {
          "base_uri": "https://localhost:8080/"
        }
      },
      "source": [
        "a = [1,2,3]\n",
        "b = [10,20,30]\n",
        "a.extend(b)\n",
        "a"
      ],
      "execution_count": null,
      "outputs": [
        {
          "output_type": "execute_result",
          "data": {
            "text/plain": [
              "[1, 2, 3, 10, 20, 30]"
            ]
          },
          "metadata": {
            "tags": []
          },
          "execution_count": 42
        }
      ]
    },
    {
      "cell_type": "code",
      "metadata": {
        "id": "AXeLfpV1vOE4",
        "outputId": "987bf886-27d6-4b4e-e03d-b90037aa7fd0",
        "colab": {
          "base_uri": "https://localhost:8080/"
        }
      },
      "source": [
        "nlist = list(range(1,11))\n",
        "print(\"nlist =\", nlist)"
      ],
      "execution_count": null,
      "outputs": [
        {
          "output_type": "stream",
          "text": [
            "nlist = [1, 2, 3, 4, 5, 6, 7, 8, 9, 10]\n"
          ],
          "name": "stdout"
        }
      ]
    },
    {
      "cell_type": "code",
      "metadata": {
        "id": "LOv3qR6TvWE8",
        "outputId": "295a195e-8e9b-45e7-cc13-e77efe7b5646",
        "colab": {
          "base_uri": "https://localhost:8080/"
        }
      },
      "source": [
        "nlist.insert(0,0)\n",
        "print(\"nlist =\", nlist)"
      ],
      "execution_count": null,
      "outputs": [
        {
          "output_type": "stream",
          "text": [
            "nlist = [0, 1, 2, 3, 4, 5, 6, 7, 8, 9, 10]\n"
          ],
          "name": "stdout"
        }
      ]
    },
    {
      "cell_type": "code",
      "metadata": {
        "id": "LcAmcHcBvaSC",
        "outputId": "3bd235bc-fd6a-4e24-c0e0-c4fca722f1d1",
        "colab": {
          "base_uri": "https://localhost:8080/"
        }
      },
      "source": [
        "nlist.reverse()\n",
        "print(\"nlist =\", nlist)"
      ],
      "execution_count": null,
      "outputs": [
        {
          "output_type": "stream",
          "text": [
            "nlist = [10, 9, 8, 7, 6, 5, 4, 3, 2, 1, 0]\n"
          ],
          "name": "stdout"
        }
      ]
    },
    {
      "cell_type": "code",
      "metadata": {
        "id": "IJt7AfX2vdW1",
        "outputId": "14c985fd-34fd-46cb-f91c-39fcf34827f7",
        "colab": {
          "base_uri": "https://localhost:8080/"
        }
      },
      "source": [
        "print(\"마지막 원소 =\", nlist.pop())\n",
        "print(\"nlist =\", nlist)"
      ],
      "execution_count": null,
      "outputs": [
        {
          "output_type": "stream",
          "text": [
            "마지막 원소 = 0\n",
            "nlist = [10, 9, 8, 7, 6, 5, 4, 3, 2, 1]\n"
          ],
          "name": "stdout"
        }
      ]
    },
    {
      "cell_type": "code",
      "metadata": {
        "id": "C7mI9VN6vkRn",
        "outputId": "7c3d6927-599c-4f8e-eb8e-0400ac0ac062",
        "colab": {
          "base_uri": "https://localhost:8080/"
        }
      },
      "source": [
        "list1"
      ],
      "execution_count": null,
      "outputs": [
        {
          "output_type": "execute_result",
          "data": {
            "text/plain": [
              "[100, 99, 98, 89, 89, 50, 20, 88, 98, 100, 50, 99]"
            ]
          },
          "metadata": {
            "tags": []
          },
          "execution_count": 47
        }
      ]
    },
    {
      "cell_type": "code",
      "metadata": {
        "id": "lpZnk0wHv6ct",
        "outputId": "1ed8c6b0-0b01-46e5-d513-685e862b3ed5",
        "colab": {
          "base_uri": "https://localhost:8080/"
        }
      },
      "source": [
        "list2"
      ],
      "execution_count": null,
      "outputs": [
        {
          "output_type": "execute_result",
          "data": {
            "text/plain": [
              "[88, 98, 100, 50, 99]"
            ]
          },
          "metadata": {
            "tags": []
          },
          "execution_count": 48
        }
      ]
    },
    {
      "cell_type": "code",
      "metadata": {
        "id": "nQgL6pOjv7cV",
        "outputId": "ed58527b-8f66-4059-a096-7554f9c53550",
        "colab": {
          "base_uri": "https://localhost:8080/"
        }
      },
      "source": [
        "list3 = list1+list2\n",
        "list3"
      ],
      "execution_count": null,
      "outputs": [
        {
          "output_type": "execute_result",
          "data": {
            "text/plain": [
              "[100, 99, 98, 89, 89, 50, 20, 88, 98, 100, 50, 99, 88, 98, 100, 50, 99]"
            ]
          },
          "metadata": {
            "tags": []
          },
          "execution_count": 49
        }
      ]
    },
    {
      "cell_type": "code",
      "metadata": {
        "id": "YxidIfTCcDBC",
        "outputId": "d72762da-0a3a-4d60-e9e2-520c24614585",
        "colab": {
          "base_uri": "https://localhost:8080/"
        }
      },
      "source": [
        "list1*2"
      ],
      "execution_count": null,
      "outputs": [
        {
          "output_type": "execute_result",
          "data": {
            "text/plain": [
              "[100,\n",
              " 99,\n",
              " 98,\n",
              " 89,\n",
              " 89,\n",
              " 50,\n",
              " 20,\n",
              " 88,\n",
              " 98,\n",
              " 100,\n",
              " 50,\n",
              " 99,\n",
              " 100,\n",
              " 99,\n",
              " 98,\n",
              " 89,\n",
              " 89,\n",
              " 50,\n",
              " 20,\n",
              " 88,\n",
              " 98,\n",
              " 100,\n",
              " 50,\n",
              " 99]"
            ]
          },
          "metadata": {
            "tags": []
          },
          "execution_count": 50
        }
      ]
    },
    {
      "cell_type": "code",
      "metadata": {
        "id": "Ku26PmuYcSCF",
        "outputId": "bc3d70d3-2ce3-4c56-9fb0-cb27adfa79e5",
        "colab": {
          "base_uri": "https://localhost:8080/"
        }
      },
      "source": [
        "list1 = [1,2,3,4]\n",
        "list2 = [1,2,3,4]\n",
        "print(list1 == list2)\n",
        "list3 = [4,1,2,3]\n",
        "print(list1 == list3)"
      ],
      "execution_count": null,
      "outputs": [
        {
          "output_type": "stream",
          "text": [
            "True\n",
            "False\n"
          ],
          "name": "stdout"
        }
      ]
    },
    {
      "cell_type": "code",
      "metadata": {
        "id": "jWRYEOzachJ5",
        "outputId": "13921996-edbc-4c61-faa9-d309aec9774b",
        "colab": {
          "base_uri": "https://localhost:8080/"
        }
      },
      "source": [
        "list1 = [1,2,3,4]\n",
        "list2 = [2,3,3,4]\n",
        "print(list1 > list2)\n",
        "print(list1 < list2)"
      ],
      "execution_count": null,
      "outputs": [
        {
          "output_type": "stream",
          "text": [
            "False\n",
            "True\n"
          ],
          "name": "stdout"
        }
      ]
    },
    {
      "cell_type": "code",
      "metadata": {
        "id": "TdEFWWx5v-qq",
        "outputId": "a1ee61c7-35cd-4799-d486-4929afaf2a5c",
        "colab": {
          "base_uri": "https://localhost:8080/"
        }
      },
      "source": [
        "#LAB 5-6 : 리스트 연산\n",
        "n = int(input(\"반복할 정수를 입력하시오 : \"))\n",
        "nlist = [1,2,3]\n",
        "nlist * n"
      ],
      "execution_count": null,
      "outputs": [
        {
          "output_type": "stream",
          "text": [
            "반복할 정수를 입력하시오 : 4\n"
          ],
          "name": "stdout"
        },
        {
          "output_type": "execute_result",
          "data": {
            "text/plain": [
              "[1, 2, 3, 1, 2, 3, 1, 2, 3, 1, 2, 3]"
            ]
          },
          "metadata": {
            "tags": []
          },
          "execution_count": 76
        }
      ]
    },
    {
      "cell_type": "code",
      "metadata": {
        "id": "GknDMh8Fw1s2",
        "outputId": "e04a03f7-9daa-4549-df60-91795713857e",
        "colab": {
          "base_uri": "https://localhost:8080/"
        }
      },
      "source": [
        "list1 = [10,20,30,40,50]\n",
        "list1 = [n * 10 for n in list1]\n",
        "list1"
      ],
      "execution_count": null,
      "outputs": [
        {
          "output_type": "execute_result",
          "data": {
            "text/plain": [
              "[100, 200, 300, 400, 500]"
            ]
          },
          "metadata": {
            "tags": []
          },
          "execution_count": 77
        }
      ]
    },
    {
      "cell_type": "code",
      "metadata": {
        "id": "bOcPnPdQxM5r",
        "outputId": "004817f4-e342-4d4a-dfa9-2149b071ba2c",
        "colab": {
          "base_uri": "https://localhost:8080/"
        }
      },
      "source": [
        "list1 = [10,20,30,40,50]\n",
        "for i in range(len(list1)):\n",
        "    list1[i] = list1[i]*10\n",
        "list1"
      ],
      "execution_count": null,
      "outputs": [
        {
          "output_type": "execute_result",
          "data": {
            "text/plain": [
              "[100, 200, 300, 400, 500]"
            ]
          },
          "metadata": {
            "tags": []
          },
          "execution_count": 80
        }
      ]
    },
    {
      "cell_type": "code",
      "metadata": {
        "id": "8AVO-n7hxVn3",
        "outputId": "07b7ba29-9bca-4b0f-d9f0-73963891147d",
        "colab": {
          "base_uri": "https://localhost:8080/"
        }
      },
      "source": [
        "list1 = [10,20,30,40,50]\n",
        "list1 = [n-3 for n in list1]\n",
        "list1"
      ],
      "execution_count": null,
      "outputs": [
        {
          "output_type": "execute_result",
          "data": {
            "text/plain": [
              "[7, 17, 27, 37, 47]"
            ]
          },
          "metadata": {
            "tags": []
          },
          "execution_count": 81
        }
      ]
    },
    {
      "cell_type": "code",
      "metadata": {
        "id": "DjuHu9S8xmyK",
        "outputId": "2ae94782-c68b-4af1-8cff-a987aaa2b70d",
        "colab": {
          "base_uri": "https://localhost:8080/"
        }
      },
      "source": [
        "list1 = [10,20,30,40,50]\n",
        "list1 = list(map(lambda x: x*10, list1))\n",
        "list1"
      ],
      "execution_count": null,
      "outputs": [
        {
          "output_type": "execute_result",
          "data": {
            "text/plain": [
              "[100, 200, 300, 400, 500]"
            ]
          },
          "metadata": {
            "tags": []
          },
          "execution_count": 82
        }
      ]
    },
    {
      "cell_type": "code",
      "metadata": {
        "id": "2EvL-3Tfxu5R",
        "outputId": "b429e012-400d-41d6-bba3-b2f304253040",
        "colab": {
          "base_uri": "https://localhost:8080/"
        }
      },
      "source": [
        "a_list = list(range(10,81,10))\n",
        "a_list[1:5]"
      ],
      "execution_count": null,
      "outputs": [
        {
          "output_type": "execute_result",
          "data": {
            "text/plain": [
              "[20, 30, 40, 50]"
            ]
          },
          "metadata": {
            "tags": []
          },
          "execution_count": 83
        }
      ]
    },
    {
      "cell_type": "code",
      "metadata": {
        "id": "WjP5XQVCyVa7",
        "outputId": "d51cfaaa-6725-4f84-dc67-714471440e7e",
        "colab": {
          "base_uri": "https://localhost:8080/"
        }
      },
      "source": [
        "a_list[5:]"
      ],
      "execution_count": null,
      "outputs": [
        {
          "output_type": "execute_result",
          "data": {
            "text/plain": [
              "[60, 70, 80]"
            ]
          },
          "metadata": {
            "tags": []
          },
          "execution_count": 84
        }
      ]
    },
    {
      "cell_type": "code",
      "metadata": {
        "id": "TddaBUPuybYo",
        "outputId": "c2723ae0-8fef-40dc-88df-9694cce5ccf8",
        "colab": {
          "base_uri": "https://localhost:8080/"
        }
      },
      "source": [
        "a_list[:5]"
      ],
      "execution_count": null,
      "outputs": [
        {
          "output_type": "execute_result",
          "data": {
            "text/plain": [
              "[10, 20, 30, 40, 50]"
            ]
          },
          "metadata": {
            "tags": []
          },
          "execution_count": 85
        }
      ]
    },
    {
      "cell_type": "code",
      "metadata": {
        "id": "SuP_fqLTyjck"
      },
      "source": [
        "a_list = list(range(1,10))"
      ],
      "execution_count": null,
      "outputs": []
    },
    {
      "cell_type": "code",
      "metadata": {
        "id": "q4Z7ivYrytnJ",
        "outputId": "7382ccea-b6ec-4b15-8c1c-f7daacf9c246",
        "colab": {
          "base_uri": "https://localhost:8080/"
        }
      },
      "source": [
        "a_list[1:8:2]"
      ],
      "execution_count": null,
      "outputs": [
        {
          "output_type": "execute_result",
          "data": {
            "text/plain": [
              "[2, 4, 6, 8]"
            ]
          },
          "metadata": {
            "tags": []
          },
          "execution_count": 55
        }
      ]
    },
    {
      "cell_type": "code",
      "metadata": {
        "id": "C7FRp8mxy0nw",
        "outputId": "254d7bf7-ada7-4fd5-9d86-16de5dc318a8",
        "colab": {
          "base_uri": "https://localhost:8080/"
        }
      },
      "source": [
        "a_list[0:9:2]"
      ],
      "execution_count": null,
      "outputs": [
        {
          "output_type": "execute_result",
          "data": {
            "text/plain": [
              "[1, 3, 5, 7, 9]"
            ]
          },
          "metadata": {
            "tags": []
          },
          "execution_count": 56
        }
      ]
    },
    {
      "cell_type": "code",
      "metadata": {
        "id": "J81tJGNxzFf1",
        "outputId": "8264299e-5342-4dc8-d96b-00e455927d66",
        "colab": {
          "base_uri": "https://localhost:8080/"
        }
      },
      "source": [
        "a_list[:]"
      ],
      "execution_count": null,
      "outputs": [
        {
          "output_type": "execute_result",
          "data": {
            "text/plain": [
              "[1, 2, 3, 4, 5, 6, 7, 8, 9]"
            ]
          },
          "metadata": {
            "tags": []
          },
          "execution_count": 57
        }
      ]
    },
    {
      "cell_type": "code",
      "metadata": {
        "id": "Cpot9cNOzS9B",
        "outputId": "b2103145-8512-4c61-b2bb-2eb5ad71e90f",
        "colab": {
          "base_uri": "https://localhost:8080/"
        }
      },
      "source": [
        "list1.sort()\n",
        "list1"
      ],
      "execution_count": null,
      "outputs": [
        {
          "output_type": "execute_result",
          "data": {
            "text/plain": [
              "[1, 2, 3, 4]"
            ]
          },
          "metadata": {
            "tags": []
          },
          "execution_count": 58
        }
      ]
    },
    {
      "cell_type": "code",
      "metadata": {
        "id": "QmhP_T72zWyP",
        "outputId": "1562f629-b1f7-4e41-f04a-e52ec9aa8ec5",
        "colab": {
          "base_uri": "https://localhost:8080/"
        }
      },
      "source": [
        "list1[::-1]"
      ],
      "execution_count": null,
      "outputs": [
        {
          "output_type": "execute_result",
          "data": {
            "text/plain": [
              "[4, 3, 2, 1]"
            ]
          },
          "metadata": {
            "tags": []
          },
          "execution_count": 59
        }
      ]
    },
    {
      "cell_type": "code",
      "metadata": {
        "id": "sXKKbM74zYMn",
        "outputId": "96f78dd1-3a6f-4bc7-cc26-3576dfe5f24e",
        "colab": {
          "base_uri": "https://localhost:8080/"
        }
      },
      "source": [
        "a_list"
      ],
      "execution_count": null,
      "outputs": [
        {
          "output_type": "execute_result",
          "data": {
            "text/plain": [
              "[1, 2, 3, 4, 5, 6, 7, 8, 9]"
            ]
          },
          "metadata": {
            "tags": []
          },
          "execution_count": 60
        }
      ]
    },
    {
      "cell_type": "code",
      "metadata": {
        "id": "je8fct8WfrPv",
        "outputId": "27dbc84b-32ea-429d-c01d-e6320af3ed84",
        "colab": {
          "base_uri": "https://localhost:8080/"
        }
      },
      "source": [
        "a_list[-7:-2]"
      ],
      "execution_count": null,
      "outputs": [
        {
          "output_type": "execute_result",
          "data": {
            "text/plain": [
              "[3, 4, 5, 6, 7]"
            ]
          },
          "metadata": {
            "tags": []
          },
          "execution_count": 61
        }
      ]
    },
    {
      "cell_type": "code",
      "metadata": {
        "id": "UxI01WyRf1eb",
        "outputId": "102a64c9-4380-4c44-9a65-7f185d995ff6",
        "colab": {
          "base_uri": "https://localhost:8080/"
        }
      },
      "source": [
        "a_list[:-2]"
      ],
      "execution_count": null,
      "outputs": [
        {
          "output_type": "execute_result",
          "data": {
            "text/plain": [
              "[1, 2, 3, 4, 5, 6, 7]"
            ]
          },
          "metadata": {
            "tags": []
          },
          "execution_count": 63
        }
      ]
    },
    {
      "cell_type": "code",
      "metadata": {
        "id": "fptPpy8VgsaG",
        "outputId": "92bee7c0-a5e1-441b-a8ba-9f0ff72c39b3",
        "colab": {
          "base_uri": "https://localhost:8080/"
        }
      },
      "source": [
        "a_list[-2:]"
      ],
      "execution_count": null,
      "outputs": [
        {
          "output_type": "execute_result",
          "data": {
            "text/plain": [
              "[8, 9]"
            ]
          },
          "metadata": {
            "tags": []
          },
          "execution_count": 64
        }
      ]
    },
    {
      "cell_type": "code",
      "metadata": {
        "id": "1XFbOIufgv6k",
        "outputId": "0ee9613f-ee54-4781-ed20-e954d3a6c267",
        "colab": {
          "base_uri": "https://localhost:8080/"
        }
      },
      "source": [
        "print(a_list[:-2] + a_list[-2:])\n",
        "print(a_list[-2:] + a_list[:-2])"
      ],
      "execution_count": null,
      "outputs": [
        {
          "output_type": "stream",
          "text": [
            "[1, 2, 3, 4, 5, 6, 7, 8, 9]\n",
            "[8, 9, 1, 2, 3, 4, 5, 6, 7]\n"
          ],
          "name": "stdout"
        }
      ]
    },
    {
      "cell_type": "code",
      "metadata": {
        "id": "M6LSwdR7ztqz",
        "outputId": "6b202a82-39a7-49c3-8685-21880c91660d",
        "colab": {
          "base_uri": "https://localhost:8080/"
        }
      },
      "source": [
        "a_list[5:2:-1]"
      ],
      "execution_count": null,
      "outputs": [
        {
          "output_type": "execute_result",
          "data": {
            "text/plain": [
              "[6, 5, 4]"
            ]
          },
          "metadata": {
            "tags": []
          },
          "execution_count": 62
        }
      ]
    },
    {
      "cell_type": "code",
      "metadata": {
        "id": "nOD3T_Q-z7SG",
        "outputId": "aeaa002d-dfde-41ed-eaa2-daf73ffec7b5",
        "colab": {
          "base_uri": "https://localhost:8080/"
        }
      },
      "source": [
        "#LAB 5-7 : 리스트의 슬라이싱\n",
        "n_list = list(range(15))\n",
        "n_list"
      ],
      "execution_count": null,
      "outputs": [
        {
          "output_type": "execute_result",
          "data": {
            "text/plain": [
              "[0, 1, 2, 3, 4, 5, 6, 7, 8, 9, 10, 11, 12, 13, 14]"
            ]
          },
          "metadata": {
            "tags": []
          },
          "execution_count": 96
        }
      ]
    },
    {
      "cell_type": "code",
      "metadata": {
        "id": "p0oc7cob0_B4",
        "outputId": "540058a7-6635-4016-b767-d676cf9d4f9d",
        "colab": {
          "base_uri": "https://localhost:8080/"
        }
      },
      "source": [
        "print(\"s_list1 =\", n_list[:5])\n",
        "print(\"s_list2 =\", n_list[5:11])\n",
        "print(\"s_list3 =\", n_list[11:])\n",
        "print(\"s_list4 =\", n_list[2:11:2])\n",
        "print(\"s_list5 =\", n_list[10:5:-1])\n",
        "print(\"s_list6 =\", n_list[10:1:-2])"
      ],
      "execution_count": null,
      "outputs": [
        {
          "output_type": "stream",
          "text": [
            "s_list1 = [0, 1, 2, 3, 4]\n",
            "s_list2 = [5, 6, 7, 8, 9, 10]\n",
            "s_list3 = [11, 12, 13, 14]\n",
            "s_list4 = [2, 4, 6, 8, 10]\n",
            "s_list5 = [10, 9, 8, 7, 6]\n",
            "s_list6 = [10, 8, 6, 4, 2]\n"
          ],
          "name": "stdout"
        }
      ]
    },
    {
      "cell_type": "code",
      "metadata": {
        "id": "gKF3_0mi1hCp"
      },
      "source": [
        ""
      ],
      "execution_count": null,
      "outputs": []
    }
  ]
}