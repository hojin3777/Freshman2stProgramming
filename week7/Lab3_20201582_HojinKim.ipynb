{
  "nbformat": 4,
  "nbformat_minor": 0,
  "metadata": {
    "colab": {
      "name": "Lab3_20201582_HojinKim.ipynb",
      "provenance": [],
      "include_colab_link": true
    },
    "kernelspec": {
      "name": "python3",
      "display_name": "Python 3"
    }
  },
  "cells": [
    {
      "cell_type": "markdown",
      "metadata": {
        "id": "view-in-github",
        "colab_type": "text"
      },
      "source": [
        "<a href=\"https://colab.research.google.com/github/hojin3777/Freshman2stProgramming/blob/master/week7/Lab3_20201582_HojinKim.ipynb\" target=\"_parent\"><img src=\"https://colab.research.google.com/assets/colab-badge.svg\" alt=\"Open In Colab\"/></a>"
      ]
    },
    {
      "cell_type": "code",
      "metadata": {
        "id": "YemLLKteq138",
        "outputId": "4ac8a3eb-1cfa-4e4e-b7ff-adf119e2e535",
        "colab": {
          "base_uri": "https://localhost:8080/",
          "height": 53
        }
      },
      "source": [
        "#상황1\n",
        "age = int(input(\"나이를 입력하세요: \"))\n",
        "if age < 20:\n",
        "  print(\"청소년 할인\")\n",
        "else:\n",
        "  print(\"성인요금\")"
      ],
      "execution_count": 2,
      "outputs": [
        {
          "output_type": "stream",
          "text": [
            "나이를 입력하세요: 20\n",
            "성인요금\n"
          ],
          "name": "stdout"
        }
      ]
    },
    {
      "cell_type": "code",
      "metadata": {
        "id": "hzzCapFXtSh_",
        "outputId": "9b2155ba-43aa-46da-8c62-8732b4b219ba",
        "colab": {
          "base_uri": "https://localhost:8080/",
          "height": 35
        }
      },
      "source": [
        "#상황2\n",
        "walk_count = 800\n",
        "if walk_count >= 1000:\n",
        "  print(\"목표 달성!!! 축하합니다~\")\n",
        "print(\"종료\")"
      ],
      "execution_count": 5,
      "outputs": [
        {
          "output_type": "stream",
          "text": [
            "종료\n"
          ],
          "name": "stdout"
        }
      ]
    },
    {
      "cell_type": "code",
      "metadata": {
        "id": "YOaj4_LpupDA",
        "outputId": "5d8ee421-61a6-46b7-d69c-ae387cfc91c3",
        "colab": {
          "base_uri": "https://localhost:8080/",
          "height": 53
        }
      },
      "source": [
        "#Lab 3-1-1: if 문의 사용법\n",
        "game_score = 1200\n",
        "print(\"game_score:\", game_score)\n",
        "if game_score >= 1000:\n",
        "  print(\"당신은 고수입니다\")"
      ],
      "execution_count": 6,
      "outputs": [
        {
          "output_type": "stream",
          "text": [
            "game_score: 1200\n",
            "당신은 고수입니다\n"
          ],
          "name": "stdout"
        }
      ]
    },
    {
      "cell_type": "code",
      "metadata": {
        "id": "u_dpckQDvWfu",
        "outputId": "1391844a-2347-4d93-c780-e51556eea185",
        "colab": {
          "base_uri": "https://localhost:8080/",
          "height": 35
        }
      },
      "source": [
        "#Lab 3-1-2\n",
        "num_a, num_b = 100, 200\n",
        "if (num_a == num_b):\n",
        "  print(\"1번. 두 값이 일치합니다.\")\n",
        "\n",
        "num_a, num_b = 300, 300\n",
        "if (num_a == num_b):\n",
        "  print(\"2번. 두 값이 일치합니다.\")"
      ],
      "execution_count": 7,
      "outputs": [
        {
          "output_type": "stream",
          "text": [
            "2번. 두 값이 일치합니다.\n"
          ],
          "name": "stdout"
        }
      ]
    },
    {
      "cell_type": "code",
      "metadata": {
        "id": "ZnWF8mcMvpjf",
        "outputId": "a1f75325-9278-4c8a-9d86-5472f93e4d40",
        "colab": {
          "base_uri": "https://localhost:8080/",
          "height": 53
        }
      },
      "source": [
        "number = int(input(\"정수를 입력하세요: \"))\n",
        "if(number % 3) == 0:\n",
        "    print(number, \"은(는) 3의 배수입니다.\")"
      ],
      "execution_count": 9,
      "outputs": [
        {
          "output_type": "stream",
          "text": [
            "정수를 입력하세요: 6\n",
            "6 은(는) 3의 배수입니다.\n"
          ],
          "name": "stdout"
        }
      ]
    },
    {
      "cell_type": "code",
      "metadata": {
        "id": "KPbLXpflyPXg",
        "outputId": "9fe13edb-9532-45c4-a457-05ba8a6a1bf3",
        "colab": {
          "base_uri": "https://localhost:8080/",
          "height": 53
        }
      },
      "source": [
        "num = int(input(\"정수를 입력하세요: \"))\n",
        "if (num%3 == 0) and (num%5 == 0):\n",
        "  print(num, \"은(는) 3과 5의 배수입니다.\")"
      ],
      "execution_count": 10,
      "outputs": [
        {
          "output_type": "stream",
          "text": [
            "정수를 입력하세요: 15\n",
            "15 은(는) 3과 5의 배수입니다.\n"
          ],
          "name": "stdout"
        }
      ]
    },
    {
      "cell_type": "code",
      "metadata": {
        "id": "2sssMwvxyhuU",
        "outputId": "f494b417-3c7a-4089-fe0a-8e2de095b0ec",
        "colab": {
          "base_uri": "https://localhost:8080/",
          "height": 35
        }
      },
      "source": [
        "hour = 10\n",
        "if hour < 12:\n",
        "    print(\"오전입니다.\")\n",
        "if hour >= 12:\n",
        "    print(\"오후입니다.\")"
      ],
      "execution_count": 11,
      "outputs": [
        {
          "output_type": "stream",
          "text": [
            "오전입니다.\n"
          ],
          "name": "stdout"
        }
      ]
    },
    {
      "cell_type": "code",
      "metadata": {
        "id": "oR1Rp5WgzbG_",
        "outputId": "cd0b1103-6ad4-4cad-9517-5b814fa65e7c",
        "colab": {
          "base_uri": "https://localhost:8080/",
          "height": 35
        }
      },
      "source": [
        "hour = 15\n",
        "if hour < 12:\n",
        "    print(\"오전입니다.\")\n",
        "else:\n",
        "    print(\"오후입니다.\")"
      ],
      "execution_count": 12,
      "outputs": [
        {
          "output_type": "stream",
          "text": [
            "오후입니다.\n"
          ],
          "name": "stdout"
        }
      ]
    },
    {
      "cell_type": "code",
      "metadata": {
        "id": "mYaFWwpczfam",
        "outputId": "9922c1a6-3184-444c-c61c-36b545264bb0",
        "colab": {
          "base_uri": "https://localhost:8080/",
          "height": 53
        }
      },
      "source": [
        "#현재시각 기준으로 판단하기\n",
        "from datetime import datetime, timedelta\n",
        "time = datetime.now()\n",
        "KST = timedelta(hours=9)\n",
        "time += KST\n",
        "print(\"현재시각: \", time)\n",
        "time_hour = time.hour\n",
        "\n",
        "if (time_hour < 12):\n",
        "    print(\"오전입니다.\")\n",
        "else:\n",
        "    print(\"오후입니다.\")"
      ],
      "execution_count": 13,
      "outputs": [
        {
          "output_type": "stream",
          "text": [
            "현재시각:  2020-10-14 15:38:37.114086\n",
            "오후입니다.\n"
          ],
          "name": "stdout"
        }
      ]
    },
    {
      "cell_type": "code",
      "metadata": {
        "id": "hO-5jDvlzutw",
        "outputId": "9b2fa7b4-f2a9-4814-90cc-df7c6d9754ef",
        "colab": {
          "base_uri": "https://localhost:8080/",
          "height": 35
        }
      },
      "source": [
        "num = -10\n",
        "if num <0:\n",
        "    print(num, \"은 음수입니다.\")\n",
        "else:\n",
        "    print(num, \"은 음수가 아닙니다.\")"
      ],
      "execution_count": 14,
      "outputs": [
        {
          "output_type": "stream",
          "text": [
            "-10 은 음수입니다.\n"
          ],
          "name": "stdout"
        }
      ]
    },
    {
      "cell_type": "code",
      "metadata": {
        "id": "PwiUwm_I0Z8g",
        "outputId": "54564bba-d43a-4809-d65c-d69cd666c841",
        "colab": {
          "base_uri": "https://localhost:8080/",
          "height": 35
        }
      },
      "source": [
        "num = 10\n",
        "if num % 2 == 0:\n",
        "    print(num, \"은 짝수입니다.\")\n",
        "else:\n",
        "    print(num, \"은 홀수입니다.\")"
      ],
      "execution_count": 15,
      "outputs": [
        {
          "output_type": "stream",
          "text": [
            "10 은 짝수입니다.\n"
          ],
          "name": "stdout"
        }
      ]
    },
    {
      "cell_type": "code",
      "metadata": {
        "id": "r_AcG6zN8DEs",
        "outputId": "1fd1ae14-001f-4118-abda-896354c4d371",
        "colab": {
          "base_uri": "https://localhost:8080/",
          "height": 53
        }
      },
      "source": [
        "#if_block.py\n",
        "num = 100\n",
        "if num<0:\n",
        "  print(num, \"은 음수입니다.\")\n",
        "else:\n",
        "  print(num, \"은 음수가 아닙니다\")\n",
        "  if num%2 ==0:\n",
        "    print(num, \"은 짝수입니다.\")\n",
        "  else:\n",
        "    print(num, \"은 홀수입니다.\")"
      ],
      "execution_count": 16,
      "outputs": [
        {
          "output_type": "stream",
          "text": [
            "100 은 음수가 아닙니다\n",
            "100 은 짝수입니다.\n"
          ],
          "name": "stdout"
        }
      ]
    },
    {
      "cell_type": "code",
      "metadata": {
        "id": "1o5k1tTI8ds7",
        "outputId": "31bc4f32-b73d-410b-dd5f-1d54936c34e7",
        "colab": {
          "base_uri": "https://localhost:8080/",
          "height": 53
        }
      },
      "source": [
        "#Lab 3-3-1 : if 조건문의 응용\n",
        "game_score = int(input(\"게임점수를 입력하시오: \"))\n",
        "if game_score >= 1000:\n",
        "  print(\"고수입니다.\")\n",
        "else:\n",
        "  print(\"입문자입니다.\")"
      ],
      "execution_count": 18,
      "outputs": [
        {
          "output_type": "stream",
          "text": [
            "게임점수를 입력하시오: 2000\n",
            "고수입니다.\n"
          ],
          "name": "stdout"
        }
      ]
    },
    {
      "cell_type": "code",
      "metadata": {
        "id": "V6wsjTt49cLj",
        "outputId": "237fdbbe-02aa-4cd8-ed60-1684cb65c741",
        "colab": {
          "base_uri": "https://localhost:8080/"
        }
      },
      "source": [
        "#Lab 3-3-2\n",
        "a = int(input(\"한 정수를 입려가시오 :\"))\n",
        "b = int(input(\"다른 정수를 입려가시오 :\"))\n",
        "if a == b:\n",
        "  print(\"두 값이 일치합니다.\")\n",
        "else:\n",
        "  print(\"두 값이 일치하지 않습니다\")"
      ],
      "execution_count": null,
      "outputs": [
        {
          "output_type": "stream",
          "text": [
            "한 정수를 입려가시오 :100\n",
            "다른 정수를 입려가시오 :150\n",
            "두 값이 일치하지 않습니다\n"
          ],
          "name": "stdout"
        }
      ]
    },
    {
      "cell_type": "code",
      "metadata": {
        "id": "VEr3r0vd9y_-",
        "outputId": "336836f8-fb4e-4a8c-8aa6-afb761b29ce5",
        "colab": {
          "base_uri": "https://localhost:8080/"
        }
      },
      "source": [
        "#Lab 3-3-3\n",
        "n = int(input(\"당신은 성인인가요(성인이면 1, 미성년이면 0): \"))\n",
        "if n == 1:\n",
        " print(\"\")\n",
        "elif n == 0:\n",
        "  print(\"당신은 미성년자입니다.\")\n",
        "else:\n",
        "  print(\"잘못된 입력입니다.\")"
      ],
      "execution_count": null,
      "outputs": [
        {
          "output_type": "stream",
          "text": [
            "당신은 성인인가요(성인이면 1, 미성년이면 0): 0\n",
            "당신은 미성년자입니다.\n"
          ],
          "name": "stdout"
        }
      ]
    },
    {
      "cell_type": "code",
      "metadata": {
        "id": "Bt7Bz-zA-cEO",
        "outputId": "0b217a83-2fbe-435f-8da5-a251b9310df6",
        "colab": {
          "base_uri": "https://localhost:8080/"
        }
      },
      "source": [
        "#Lab 3-3-4\n",
        "n = int(input(\"당신은 성인인가요(성인이면 1, 미성년이면 0): \"))\n",
        "if n == 1:\n",
        "   n2 = int(input(\"결혼을 하셨나요(기혼이면 1, 미혼이면 0): \"))\n",
        "   if n2 == 1:\n",
        "       print(\"당신은 결혼한 성인입니다.\")\n",
        "   elif n2 == 0:\n",
        "       print(\"당신은 결혼하지 않은 성인입니다.\")\n",
        "   else:\n",
        "       print(\"잘못된 입력입니다.\")\n",
        "elif n == 0:\n",
        "    print(\"당신은 미성년자입니다.\")\n",
        "else:\n",
        "    print(\"잘못된 입력입니다.\")"
      ],
      "execution_count": null,
      "outputs": [
        {
          "output_type": "stream",
          "text": [
            "당신은 성인인가요(성인이면 1, 미성년이면 0): 0\n",
            "당신은 미성년자입니다.\n"
          ],
          "name": "stdout"
        }
      ]
    },
    {
      "cell_type": "code",
      "metadata": {
        "id": "NW7fkQqX_XW5",
        "outputId": "11851a63-72ac-4998-a1eb-40e791357ee6",
        "colab": {
          "base_uri": "https://localhost:8080/",
          "height": 35
        }
      },
      "source": [
        "# 3-13 : and와 or 조건문의 사용법\n",
        "a = 10\n",
        "b = 13\n",
        "if (a%2 == 0) and (b%2 == 0):\n",
        "    print('두 수 모두 짝수입니다.')\n",
        "if (a%2 == 0) or (b%2 == 0):\n",
        "    print('두 수 중 하나 이상이 짝수입니다.')\n"
      ],
      "execution_count": 19,
      "outputs": [
        {
          "output_type": "stream",
          "text": [
            "두 수 중 하나 이상이 짝수입니다.\n"
          ],
          "name": "stdout"
        }
      ]
    },
    {
      "cell_type": "code",
      "metadata": {
        "id": "Elol4LUu0gzS",
        "outputId": "b0d4a298-70a3-4d89-a4a1-6c6569098b80",
        "colab": {
          "base_uri": "https://localhost:8080/",
          "height": 35
        }
      },
      "source": [
        "#Lab 3-4-1 : 복합 조건식의 이해\n",
        "num = 2\n",
        "print(num>=1 and num<=10)"
      ],
      "execution_count": 20,
      "outputs": [
        {
          "output_type": "stream",
          "text": [
            "True\n"
          ],
          "name": "stdout"
        }
      ]
    },
    {
      "cell_type": "code",
      "metadata": {
        "id": "kgh03JmA0gzV",
        "outputId": "34fa6b37-4c3d-44b6-ccea-5a85f0bcaa46",
        "colab": {
          "base_uri": "https://localhost:8080/",
          "height": 35
        }
      },
      "source": [
        "#Lab 3-4-2\n",
        "age = 12\n",
        "if (age > 10 and age < 19):\n",
        "    print('청소년입니다.')"
      ],
      "execution_count": 21,
      "outputs": [
        {
          "output_type": "stream",
          "text": [
            "청소년입니다.\n"
          ],
          "name": "stdout"
        }
      ]
    },
    {
      "cell_type": "code",
      "metadata": {
        "id": "pfP9wQaA0gzY",
        "outputId": "8235638c-a643-4a15-bab5-55f41cf6b632",
        "colab": {
          "base_uri": "https://localhost:8080/",
          "height": 53
        }
      },
      "source": [
        "# 윤년 판별하기\n",
        "year = int(input('연도를 입력하세요 : '))\n",
        "is_leap_year = ((year % 4 == 0) and (year % 100 != 0) or (year % 400 == 0))\n",
        "print(year, '년은 윤년입니까?', is_leap_year)"
      ],
      "execution_count": 22,
      "outputs": [
        {
          "output_type": "stream",
          "text": [
            "연도를 입력하세요 : 2020\n",
            "2020 년은 윤년입니까? True\n"
          ],
          "name": "stdout"
        }
      ]
    },
    {
      "cell_type": "code",
      "metadata": {
        "id": "LFWhk_8p0gza",
        "outputId": "dae32a4c-4955-4465-8803-e64bd479411e",
        "colab": {
          "base_uri": "https://localhost:8080/",
          "height": 53
        }
      },
      "source": [
        "# 코드 3-17 : if-elif-else 문으로 구성된 등급게산기\n",
        "score = int(input('점수를 입력하세요 : '))\n",
        "if score >= 90:\n",
        "    grade = 'A'\n",
        "elif score >=80:\n",
        "    grade = 'B'\n",
        "elif score >=70:\n",
        "    grade = 'C'\n",
        "elif score >=60:\n",
        "    grade = 'D'\n",
        "else:\n",
        "    grade = 'F'\n",
        "print(\"당신의 등급은 : \", grade)"
      ],
      "execution_count": 23,
      "outputs": [
        {
          "output_type": "stream",
          "text": [
            "점수를 입력하세요 : 89\n",
            "당신의 등급은 :  B\n"
          ],
          "name": "stdout"
        }
      ]
    },
    {
      "cell_type": "code",
      "metadata": {
        "id": "6RU7f6jY0gzc",
        "cellView": "code",
        "outputId": "de27b9d8-cfd3-4b3a-cdcb-0c17d38b28bb",
        "colab": {
          "base_uri": "https://localhost:8080/",
          "height": 53
        }
      },
      "source": [
        "# Lab 3-5 : if-elif-else 문을 사용한 다중 조건식\n",
        "v = int(input(\"자동차의 속도를 입력하세요(단위 : km/h) :\"))\n",
        "if v >= 100:\n",
        "    print(\"고속\")\n",
        "elif v >= 60:\n",
        "    print(\"중속\")\n",
        "else:\n",
        "    print(\"저속\")"
      ],
      "execution_count": 25,
      "outputs": [
        {
          "output_type": "stream",
          "text": [
            "자동차의 속도를 입력하세요(단위 : km/h) :120\n",
            "고속\n"
          ],
          "name": "stdout"
        }
      ]
    },
    {
      "cell_type": "code",
      "metadata": {
        "id": "k25xhy1r2oyR",
        "outputId": "98413d70-ecb1-40ba-d72d-4352f20211fa",
        "colab": {
          "base_uri": "https://localhost:8080/",
          "height": 197
        }
      },
      "source": [
        "for i in range(10):\n",
        "    print(i, \"Welcome to everyone!!\")"
      ],
      "execution_count": 26,
      "outputs": [
        {
          "output_type": "stream",
          "text": [
            "0 Welcome to everyone!!\n",
            "1 Welcome to everyone!!\n",
            "2 Welcome to everyone!!\n",
            "3 Welcome to everyone!!\n",
            "4 Welcome to everyone!!\n",
            "5 Welcome to everyone!!\n",
            "6 Welcome to everyone!!\n",
            "7 Welcome to everyone!!\n",
            "8 Welcome to everyone!!\n",
            "9 Welcome to everyone!!\n"
          ],
          "name": "stdout"
        }
      ]
    },
    {
      "cell_type": "code",
      "metadata": {
        "id": "kEAbEk5b2srS",
        "outputId": "45ff86e7-10bf-4ea4-af35-61d82d4bc674",
        "colab": {
          "base_uri": "https://localhost:8080/",
          "height": 107
        }
      },
      "source": [
        "#Lab 3-6-1 : 반복문을 이용해서 다음 코드를 작성해 보자\n",
        "for _ in range(5):\n",
        "    print(\"Hello, Python!\")"
      ],
      "execution_count": 27,
      "outputs": [
        {
          "output_type": "stream",
          "text": [
            "Hello, Python!\n",
            "Hello, Python!\n",
            "Hello, Python!\n",
            "Hello, Python!\n",
            "Hello, Python!\n"
          ],
          "name": "stdout"
        }
      ]
    },
    {
      "cell_type": "code",
      "metadata": {
        "id": "dSwm_YwQ3CkA",
        "outputId": "93c779f2-b9f0-458b-b7bc-fd3e6ccc81ef",
        "colab": {
          "base_uri": "https://localhost:8080/",
          "height": 107
        }
      },
      "source": [
        "#Lab 3-6-2\n",
        "for i in range(5):\n",
        "    print(i)"
      ],
      "execution_count": 28,
      "outputs": [
        {
          "output_type": "stream",
          "text": [
            "0\n",
            "1\n",
            "2\n",
            "3\n",
            "4\n"
          ],
          "name": "stdout"
        }
      ]
    },
    {
      "cell_type": "code",
      "metadata": {
        "id": "0MOT68jP3IOK",
        "outputId": "da3f10e4-a249-4e51-ef30-0e0dadc1fd2d",
        "colab": {
          "base_uri": "https://localhost:8080/",
          "height": 35
        }
      },
      "source": [
        "list(range(5))"
      ],
      "execution_count": 29,
      "outputs": [
        {
          "output_type": "execute_result",
          "data": {
            "text/plain": [
              "[0, 1, 2, 3, 4]"
            ]
          },
          "metadata": {
            "tags": []
          },
          "execution_count": 29
        }
      ]
    },
    {
      "cell_type": "code",
      "metadata": {
        "id": "KfCnQ47R32JK",
        "outputId": "f070d934-3ede-4de5-b879-d4bea0441410",
        "colab": {
          "base_uri": "https://localhost:8080/",
          "height": 35
        }
      },
      "source": [
        "list(range(0,5))"
      ],
      "execution_count": 30,
      "outputs": [
        {
          "output_type": "execute_result",
          "data": {
            "text/plain": [
              "[0, 1, 2, 3, 4]"
            ]
          },
          "metadata": {
            "tags": []
          },
          "execution_count": 30
        }
      ]
    },
    {
      "cell_type": "code",
      "metadata": {
        "id": "jhRiI6js3__r",
        "outputId": "25cb1e2f-edc4-4fcc-df02-cb38ec8cb008",
        "colab": {
          "base_uri": "https://localhost:8080/",
          "height": 35
        }
      },
      "source": [
        "list(range(0,5,2))"
      ],
      "execution_count": 33,
      "outputs": [
        {
          "output_type": "execute_result",
          "data": {
            "text/plain": [
              "[0, 3]"
            ]
          },
          "metadata": {
            "tags": []
          },
          "execution_count": 33
        }
      ]
    },
    {
      "cell_type": "code",
      "metadata": {
        "id": "nPf1nNgK4CQA",
        "outputId": "a8579d3f-369a-4fa4-a2e2-e3923dc5eb0b",
        "colab": {
          "base_uri": "https://localhost:8080/",
          "height": 35
        }
      },
      "source": [
        "list(range(-2,-10,-2))"
      ],
      "execution_count": 34,
      "outputs": [
        {
          "output_type": "execute_result",
          "data": {
            "text/plain": [
              "[-2, -4, -6, -8]"
            ]
          },
          "metadata": {
            "tags": []
          },
          "execution_count": 34
        }
      ]
    },
    {
      "cell_type": "code",
      "metadata": {
        "id": "pKQjlNdo4Sx9",
        "outputId": "41f37837-e308-43de-c1c8-f99a8b0080ee",
        "colab": {
          "base_uri": "https://localhost:8080/",
          "height": 35
        }
      },
      "source": [
        "list(range(0,-5, 1))"
      ],
      "execution_count": 36,
      "outputs": [
        {
          "output_type": "execute_result",
          "data": {
            "text/plain": [
              "[]"
            ]
          },
          "metadata": {
            "tags": []
          },
          "execution_count": 36
        }
      ]
    },
    {
      "cell_type": "code",
      "metadata": {
        "id": "XwdU9fNQ4W5z",
        "outputId": "f4856b4d-59be-4fce-ad4b-aae49a6cc6ab",
        "colab": {
          "base_uri": "https://localhost:8080/",
          "height": 1000
        }
      },
      "source": [
        "# LAB 3-7-1 : range() 함수의 응용\n",
        "list(range(1,101))"
      ],
      "execution_count": 39,
      "outputs": [
        {
          "output_type": "execute_result",
          "data": {
            "text/plain": [
              "[1,\n",
              " 2,\n",
              " 3,\n",
              " 4,\n",
              " 5,\n",
              " 6,\n",
              " 7,\n",
              " 8,\n",
              " 9,\n",
              " 10,\n",
              " 11,\n",
              " 12,\n",
              " 13,\n",
              " 14,\n",
              " 15,\n",
              " 16,\n",
              " 17,\n",
              " 18,\n",
              " 19,\n",
              " 20,\n",
              " 21,\n",
              " 22,\n",
              " 23,\n",
              " 24,\n",
              " 25,\n",
              " 26,\n",
              " 27,\n",
              " 28,\n",
              " 29,\n",
              " 30,\n",
              " 31,\n",
              " 32,\n",
              " 33,\n",
              " 34,\n",
              " 35,\n",
              " 36,\n",
              " 37,\n",
              " 38,\n",
              " 39,\n",
              " 40,\n",
              " 41,\n",
              " 42,\n",
              " 43,\n",
              " 44,\n",
              " 45,\n",
              " 46,\n",
              " 47,\n",
              " 48,\n",
              " 49,\n",
              " 50,\n",
              " 51,\n",
              " 52,\n",
              " 53,\n",
              " 54,\n",
              " 55,\n",
              " 56,\n",
              " 57,\n",
              " 58,\n",
              " 59,\n",
              " 60,\n",
              " 61,\n",
              " 62,\n",
              " 63,\n",
              " 64,\n",
              " 65,\n",
              " 66,\n",
              " 67,\n",
              " 68,\n",
              " 69,\n",
              " 70,\n",
              " 71,\n",
              " 72,\n",
              " 73,\n",
              " 74,\n",
              " 75,\n",
              " 76,\n",
              " 77,\n",
              " 78,\n",
              " 79,\n",
              " 80,\n",
              " 81,\n",
              " 82,\n",
              " 83,\n",
              " 84,\n",
              " 85,\n",
              " 86,\n",
              " 87,\n",
              " 88,\n",
              " 89,\n",
              " 90,\n",
              " 91,\n",
              " 92,\n",
              " 93,\n",
              " 94,\n",
              " 95,\n",
              " 96,\n",
              " 97,\n",
              " 98,\n",
              " 99,\n",
              " 100]"
            ]
          },
          "metadata": {
            "tags": []
          },
          "execution_count": 39
        }
      ]
    },
    {
      "cell_type": "code",
      "metadata": {
        "id": "lFZmUA1V42mh",
        "outputId": "a5cee7cc-a14d-4ac2-b706-e2888085b2cd",
        "colab": {
          "base_uri": "https://localhost:8080/",
          "height": 917
        }
      },
      "source": [
        "# LAB 3-7-2\n",
        "list(range(2,101,2))"
      ],
      "execution_count": 41,
      "outputs": [
        {
          "output_type": "execute_result",
          "data": {
            "text/plain": [
              "[2,\n",
              " 4,\n",
              " 6,\n",
              " 8,\n",
              " 10,\n",
              " 12,\n",
              " 14,\n",
              " 16,\n",
              " 18,\n",
              " 20,\n",
              " 22,\n",
              " 24,\n",
              " 26,\n",
              " 28,\n",
              " 30,\n",
              " 32,\n",
              " 34,\n",
              " 36,\n",
              " 38,\n",
              " 40,\n",
              " 42,\n",
              " 44,\n",
              " 46,\n",
              " 48,\n",
              " 50,\n",
              " 52,\n",
              " 54,\n",
              " 56,\n",
              " 58,\n",
              " 60,\n",
              " 62,\n",
              " 64,\n",
              " 66,\n",
              " 68,\n",
              " 70,\n",
              " 72,\n",
              " 74,\n",
              " 76,\n",
              " 78,\n",
              " 80,\n",
              " 82,\n",
              " 84,\n",
              " 86,\n",
              " 88,\n",
              " 90,\n",
              " 92,\n",
              " 94,\n",
              " 96,\n",
              " 98,\n",
              " 100]"
            ]
          },
          "metadata": {
            "tags": []
          },
          "execution_count": 41
        }
      ]
    },
    {
      "cell_type": "code",
      "metadata": {
        "id": "rzru_tnF5K1s",
        "outputId": "ed110205-a3fb-4eaa-f9f3-24f0d93c639d",
        "colab": {
          "base_uri": "https://localhost:8080/",
          "height": 917
        }
      },
      "source": [
        "# LAB 3-7-3\n",
        "list(range(1,101,2))"
      ],
      "execution_count": 42,
      "outputs": [
        {
          "output_type": "execute_result",
          "data": {
            "text/plain": [
              "[1,\n",
              " 3,\n",
              " 5,\n",
              " 7,\n",
              " 9,\n",
              " 11,\n",
              " 13,\n",
              " 15,\n",
              " 17,\n",
              " 19,\n",
              " 21,\n",
              " 23,\n",
              " 25,\n",
              " 27,\n",
              " 29,\n",
              " 31,\n",
              " 33,\n",
              " 35,\n",
              " 37,\n",
              " 39,\n",
              " 41,\n",
              " 43,\n",
              " 45,\n",
              " 47,\n",
              " 49,\n",
              " 51,\n",
              " 53,\n",
              " 55,\n",
              " 57,\n",
              " 59,\n",
              " 61,\n",
              " 63,\n",
              " 65,\n",
              " 67,\n",
              " 69,\n",
              " 71,\n",
              " 73,\n",
              " 75,\n",
              " 77,\n",
              " 79,\n",
              " 81,\n",
              " 83,\n",
              " 85,\n",
              " 87,\n",
              " 89,\n",
              " 91,\n",
              " 93,\n",
              " 95,\n",
              " 97,\n",
              " 99]"
            ]
          },
          "metadata": {
            "tags": []
          },
          "execution_count": 42
        }
      ]
    },
    {
      "cell_type": "code",
      "metadata": {
        "id": "dIb3jIOb5RKz",
        "outputId": "2cf2548c-e7a9-406a-bebd-9f89ff72e8c4",
        "colab": {
          "base_uri": "https://localhost:8080/",
          "height": 1000
        }
      },
      "source": [
        "# LAB 3-7-4\n",
        "list(range(-99, 0, 1))"
      ],
      "execution_count": 44,
      "outputs": [
        {
          "output_type": "execute_result",
          "data": {
            "text/plain": [
              "[-99,\n",
              " -98,\n",
              " -97,\n",
              " -96,\n",
              " -95,\n",
              " -94,\n",
              " -93,\n",
              " -92,\n",
              " -91,\n",
              " -90,\n",
              " -89,\n",
              " -88,\n",
              " -87,\n",
              " -86,\n",
              " -85,\n",
              " -84,\n",
              " -83,\n",
              " -82,\n",
              " -81,\n",
              " -80,\n",
              " -79,\n",
              " -78,\n",
              " -77,\n",
              " -76,\n",
              " -75,\n",
              " -74,\n",
              " -73,\n",
              " -72,\n",
              " -71,\n",
              " -70,\n",
              " -69,\n",
              " -68,\n",
              " -67,\n",
              " -66,\n",
              " -65,\n",
              " -64,\n",
              " -63,\n",
              " -62,\n",
              " -61,\n",
              " -60,\n",
              " -59,\n",
              " -58,\n",
              " -57,\n",
              " -56,\n",
              " -55,\n",
              " -54,\n",
              " -53,\n",
              " -52,\n",
              " -51,\n",
              " -50,\n",
              " -49,\n",
              " -48,\n",
              " -47,\n",
              " -46,\n",
              " -45,\n",
              " -44,\n",
              " -43,\n",
              " -42,\n",
              " -41,\n",
              " -40,\n",
              " -39,\n",
              " -38,\n",
              " -37,\n",
              " -36,\n",
              " -35,\n",
              " -34,\n",
              " -33,\n",
              " -32,\n",
              " -31,\n",
              " -30,\n",
              " -29,\n",
              " -28,\n",
              " -27,\n",
              " -26,\n",
              " -25,\n",
              " -24,\n",
              " -23,\n",
              " -22,\n",
              " -21,\n",
              " -20,\n",
              " -19,\n",
              " -18,\n",
              " -17,\n",
              " -16,\n",
              " -15,\n",
              " -14,\n",
              " -13,\n",
              " -12,\n",
              " -11,\n",
              " -10,\n",
              " -9,\n",
              " -8,\n",
              " -7,\n",
              " -6,\n",
              " -5,\n",
              " -4,\n",
              " -3,\n",
              " -2,\n",
              " -1]"
            ]
          },
          "metadata": {
            "tags": []
          },
          "execution_count": 44
        }
      ]
    },
    {
      "cell_type": "code",
      "metadata": {
        "id": "6yryPc0r5YAR",
        "outputId": "b9619f83-d57b-43d8-9de8-d045a4ac2adf",
        "colab": {
          "base_uri": "https://localhost:8080/",
          "height": 35
        }
      },
      "source": [
        "# 코드 3-21 : range() 함수를 이용한 for 문의 제어\n",
        "for i in range(5):\n",
        "    print(i, end=\"  \")"
      ],
      "execution_count": 46,
      "outputs": [
        {
          "output_type": "stream",
          "text": [
            "0  1  2  3  4  "
          ],
          "name": "stdout"
        }
      ]
    },
    {
      "cell_type": "code",
      "metadata": {
        "id": "APIAf3OE5nWr",
        "outputId": "886027a5-e15e-4538-d990-0f914239fed0",
        "colab": {
          "base_uri": "https://localhost:8080/",
          "height": 35
        }
      },
      "source": [
        "for i in range(5):\n",
        "    print(i, end=\"\")"
      ],
      "execution_count": 47,
      "outputs": [
        {
          "output_type": "stream",
          "text": [
            "01234"
          ],
          "name": "stdout"
        }
      ]
    },
    {
      "cell_type": "code",
      "metadata": {
        "id": "n2yS9rJW56HX",
        "outputId": "46bde5ff-2238-453d-f521-0db3620a86b4",
        "colab": {
          "base_uri": "https://localhost:8080/",
          "height": 35
        }
      },
      "source": [
        "for i in range(5):\n",
        "    print(i, end=\"  \")\n",
        "for i in range(5):\n",
        "    print(i, end=\"  \")"
      ],
      "execution_count": 48,
      "outputs": [
        {
          "output_type": "stream",
          "text": [
            "0  1  2  3  4  0  1  2  3  4  "
          ],
          "name": "stdout"
        }
      ]
    },
    {
      "cell_type": "code",
      "metadata": {
        "id": "BtAhirYA58Az",
        "outputId": "0618b7af-4186-457f-a25e-dc8519554b1a",
        "colab": {
          "base_uri": "https://localhost:8080/",
          "height": 71
        }
      },
      "source": [
        "# 표현식 1\n",
        "for i in range(2,5):\n",
        "    print(i, end=\" \")\n",
        "print()\n",
        "# 표현식 2\n",
        "for i in range(0, 10, 2):\n",
        "    print(i, end = ', ')\n",
        "print()\n",
        "# 표현식 3\n",
        "for i in range(-2, -10, -2):\n",
        "    print(i, end = ' ')"
      ],
      "execution_count": 52,
      "outputs": [
        {
          "output_type": "stream",
          "text": [
            "2 3 4 \n",
            "0, 2, 4, 6, 8, \n",
            "-2 -4 -6 -8 "
          ],
          "name": "stdout"
        }
      ]
    },
    {
      "cell_type": "code",
      "metadata": {
        "id": "wB9HQNgL6CJC",
        "outputId": "1a6587a0-5d42-4dcb-88ce-6c819dc697aa",
        "colab": {
          "base_uri": "https://localhost:8080/",
          "height": 215
        }
      },
      "source": [
        "# 코드 3-25 : 연속적인 값의 생성과 누적 덧셈\n",
        "s = 0\n",
        "for i in range(1,11):\n",
        "    s += i\n",
        "    print(\"i =\", i, end=\"\\t\")\n",
        "    print('sum =', s)\n",
        "print(\"1에서 10까지의 합: \", s)"
      ],
      "execution_count": 56,
      "outputs": [
        {
          "output_type": "stream",
          "text": [
            "i = 1\tsum = 1\n",
            "i = 2\tsum = 3\n",
            "i = 3\tsum = 6\n",
            "i = 4\tsum = 10\n",
            "i = 5\tsum = 15\n",
            "i = 6\tsum = 21\n",
            "i = 7\tsum = 28\n",
            "i = 8\tsum = 36\n",
            "i = 9\tsum = 45\n",
            "i = 10\tsum = 55\n",
            "1에서 10까지의 합:  55\n"
          ],
          "name": "stdout"
        }
      ]
    },
    {
      "cell_type": "code",
      "metadata": {
        "id": "9wLHuYEo6woO",
        "outputId": "557b1000-a82a-45ea-dbe6-633b87d8ccce",
        "colab": {
          "base_uri": "https://localhost:8080/",
          "height": 215
        }
      },
      "source": [
        "s = 0\n",
        "for i in range(1,11):\n",
        "    s += i\n",
        "    print(\"i = {}, s = {}\".format(i, s))\n",
        "print(\"1에서 10까지의 합: \", s)"
      ],
      "execution_count": 57,
      "outputs": [
        {
          "output_type": "stream",
          "text": [
            "i = 1, s = 1\n",
            "i = 2, s = 3\n",
            "i = 3, s = 6\n",
            "i = 4, s = 10\n",
            "i = 5, s = 15\n",
            "i = 6, s = 21\n",
            "i = 7, s = 28\n",
            "i = 8, s = 36\n",
            "i = 9, s = 45\n",
            "i = 10, s = 55\n",
            "1에서 10까지의 합:  55\n"
          ],
          "name": "stdout"
        }
      ]
    },
    {
      "cell_type": "code",
      "metadata": {
        "id": "YJaSEdBh8DW-",
        "outputId": "c429adb0-de38-4437-ae2d-3a904b64a431",
        "colab": {
          "base_uri": "https://localhost:8080/",
          "height": 35
        }
      },
      "source": [
        "# LAB 3-8-1 : 누적 덧셈의 응용\n",
        "s = 0\n",
        "for i in range(1, 101):\n",
        "    s+=i\n",
        "print(\"1에서 100까지 합: \", s)"
      ],
      "execution_count": 59,
      "outputs": [
        {
          "output_type": "stream",
          "text": [
            "1에서 100까지 합:  5050\n"
          ],
          "name": "stdout"
        }
      ]
    },
    {
      "cell_type": "code",
      "metadata": {
        "id": "bscKd_a18i4J",
        "outputId": "d7c85c93-cdc0-4a00-fa17-a169401e0c1d",
        "colab": {
          "base_uri": "https://localhost:8080/",
          "height": 35
        }
      },
      "source": [
        "# LAB 3-8-2\n",
        "s = 0\n",
        "for i in range(0, 101, 2):\n",
        "    s+=i\n",
        "    #print(\"i = {}\\ts = {}\".format(i, s))\n",
        "print(\"1에서 100까지 짝수의 합: \", s)"
      ],
      "execution_count": 67,
      "outputs": [
        {
          "output_type": "stream",
          "text": [
            "1에서 100까지 짝수의 합:  2550\n"
          ],
          "name": "stdout"
        }
      ]
    },
    {
      "cell_type": "code",
      "metadata": {
        "id": "GiTfJtus8qzX",
        "outputId": "fcbcad79-f885-4f8e-e316-5c6de2040835",
        "colab": {
          "base_uri": "https://localhost:8080/",
          "height": 35
        }
      },
      "source": [
        "# LAB 3-8-3\n",
        "s = 0\n",
        "for i in range(1, 101, 2):\n",
        "    s+=i\n",
        "    #print(\"i = {}, s = {}\".format(i, s))\n",
        "print(\"1에서 100까지 홀수의 합: \", s)"
      ],
      "execution_count": 68,
      "outputs": [
        {
          "output_type": "stream",
          "text": [
            "1에서 100까지 홀수의 합:  2500\n"
          ],
          "name": "stdout"
        }
      ]
    },
    {
      "cell_type": "code",
      "metadata": {
        "id": "OV7nLlc58uQ6",
        "outputId": "a2c15925-a63d-49cf-c86b-586da866e295",
        "colab": {
          "base_uri": "https://localhost:8080/",
          "height": 53
        }
      },
      "source": [
        "# 코드 3-27\n",
        "n = int(input('합계를 수할 수를 입력 하세요: '))\n",
        "s = 0\n",
        "for i in range(0,n):\n",
        "    s += i+1\n",
        "print(\"1부터 {}까지의 합은 {}\".format(n, s))"
      ],
      "execution_count": 70,
      "outputs": [
        {
          "output_type": "stream",
          "text": [
            "합계를 수할 수를 입력 하세요: 5\n",
            "1부터 5까지의 합은 15\n"
          ],
          "name": "stdout"
        }
      ]
    },
    {
      "cell_type": "code",
      "metadata": {
        "id": "Trr7Ob8_9l5F",
        "outputId": "62f88a0c-a53e-4395-8a6a-3b6965fb7703",
        "colab": {
          "base_uri": "https://localhost:8080/",
          "height": 53
        }
      },
      "source": [
        "n = int(input('합계를 수할 수를 입력 하세요: '))\n",
        "s = 0\n",
        "for i in range(1,n+1):\n",
        "    s += i\n",
        "print(\"1부터 {}까지의 합은 {}\".format(n, s))"
      ],
      "execution_count": 71,
      "outputs": [
        {
          "output_type": "stream",
          "text": [
            "합계를 수할 수를 입력 하세요: 30\n",
            "1부터 30까지의 합은 465\n"
          ],
          "name": "stdout"
        }
      ]
    },
    {
      "cell_type": "code",
      "metadata": {
        "id": "6Op6FDNR98s-",
        "outputId": "e3f02d40-dc9f-477f-9b3a-e3c43915c345",
        "colab": {
          "base_uri": "https://localhost:8080/",
          "height": 53
        }
      },
      "source": [
        "n = int(input(\"수를 입력하세요: \"))\n",
        "fact = 1\n",
        "for i in range(1,n+1):\n",
        "    fact *= i\n",
        "print(\"{}! = {}\".format(n, fact))"
      ],
      "execution_count": 76,
      "outputs": [
        {
          "output_type": "stream",
          "text": [
            "수를 입력하세요: 50\n",
            "50! = 30414093201713378043612608166064768844377641568960512000000000000\n"
          ],
          "name": "stdout"
        }
      ]
    },
    {
      "cell_type": "code",
      "metadata": {
        "id": "AHhwriB8-MTL",
        "outputId": "bcb9487b-0f9c-4d6f-97a7-4e75df505966",
        "colab": {
          "base_uri": "https://localhost:8080/",
          "height": 107
        }
      },
      "source": [
        "for i in range(1, 6):\n",
        "    print(i)"
      ],
      "execution_count": 77,
      "outputs": [
        {
          "output_type": "stream",
          "text": [
            "1\n",
            "2\n",
            "3\n",
            "4\n",
            "5\n"
          ],
          "name": "stdout"
        }
      ]
    },
    {
      "cell_type": "code",
      "metadata": {
        "id": "spuvpyZ4_il6",
        "outputId": "d4134614-3c71-47e1-b1c7-f4dfa751997d",
        "colab": {
          "base_uri": "https://localhost:8080/",
          "height": 89
        }
      },
      "source": [
        "for i in [1, 8, 10, 5]:\n",
        "    print(i)"
      ],
      "execution_count": 78,
      "outputs": [
        {
          "output_type": "stream",
          "text": [
            "1\n",
            "8\n",
            "10\n",
            "5\n"
          ],
          "name": "stdout"
        }
      ]
    },
    {
      "cell_type": "code",
      "metadata": {
        "id": "tA9cZdHo_mi4",
        "outputId": "896d519f-240a-472d-cddb-fd7dc76c350d",
        "colab": {
          "base_uri": "https://localhost:8080/",
          "height": 35
        }
      },
      "source": [
        "nums = [11, 22, 33, 44, 55 ,66]\n",
        "for i in nums:\n",
        "    print(i, end=' ')"
      ],
      "execution_count": 80,
      "outputs": [
        {
          "output_type": "stream",
          "text": [
            "11 22 33 44 55 66 "
          ],
          "name": "stdout"
        }
      ]
    },
    {
      "cell_type": "code",
      "metadata": {
        "id": "0XBzHRGO_vhc",
        "outputId": "e9a75eb5-b6f7-473e-8307-90ad30078eed",
        "colab": {
          "base_uri": "https://localhost:8080/",
          "height": 35
        }
      },
      "source": [
        "sum(nums)"
      ],
      "execution_count": 81,
      "outputs": [
        {
          "output_type": "execute_result",
          "data": {
            "text/plain": [
              "231"
            ]
          },
          "metadata": {
            "tags": []
          },
          "execution_count": 81
        }
      ]
    },
    {
      "cell_type": "code",
      "metadata": {
        "id": "UnuVqELjAIEv",
        "outputId": "3a9627be-484d-4eec-87f1-b43d82062fc1",
        "colab": {
          "base_uri": "https://localhost:8080/",
          "height": 35
        }
      },
      "source": [
        "print(\"1에서 100까지의 합 : \", sum(range(1,101)))"
      ],
      "execution_count": 82,
      "outputs": [
        {
          "output_type": "stream",
          "text": [
            "1에서 100까지의 합 :  5050\n"
          ],
          "name": "stdout"
        }
      ]
    },
    {
      "cell_type": "code",
      "metadata": {
        "id": "aLRppXC6Ageu",
        "outputId": "e65f0733-4451-4567-abe4-9138e5362ac9",
        "colab": {
          "base_uri": "https://localhost:8080/",
          "height": 35
        }
      },
      "source": [
        "st = 'Hello'\n",
        "list(st)"
      ],
      "execution_count": 83,
      "outputs": [
        {
          "output_type": "execute_result",
          "data": {
            "text/plain": [
              "['H', 'e', 'l', 'l', 'o']"
            ]
          },
          "metadata": {
            "tags": []
          },
          "execution_count": 83
        }
      ]
    },
    {
      "cell_type": "code",
      "metadata": {
        "id": "Y-WRfAmIAjAo",
        "outputId": "583d3140-49b8-4490-eddd-d73608a64839",
        "colab": {
          "base_uri": "https://localhost:8080/",
          "height": 35
        }
      },
      "source": [
        "for ch in 'Soongsil':\n",
        "    print(ch, end=' ')"
      ],
      "execution_count": 84,
      "outputs": [
        {
          "output_type": "stream",
          "text": [
            "S o o n g s i l "
          ],
          "name": "stdout"
        }
      ]
    },
    {
      "cell_type": "code",
      "metadata": {
        "id": "sxL9-ONgA7Rx",
        "outputId": "b3f50863-82c1-4437-99a0-f5509ae96d0c",
        "colab": {
          "base_uri": "https://localhost:8080/",
          "height": 161
        }
      },
      "source": [
        "for i in range(2,10):\n",
        "    print(i,\"단: \", end=' ')\n",
        "    for j in range(1, 10):\n",
        "        print(\"{}*{}={:2d}\".format(i, j, i*j), end = ' ')\n",
        "    print()"
      ],
      "execution_count": 92,
      "outputs": [
        {
          "output_type": "stream",
          "text": [
            "2 단:  2*1= 2 2*2= 4 2*3= 6 2*4= 8 2*5=10 2*6=12 2*7=14 2*8=16 2*9=18 \n",
            "3 단:  3*1= 3 3*2= 6 3*3= 9 3*4=12 3*5=15 3*6=18 3*7=21 3*8=24 3*9=27 \n",
            "4 단:  4*1= 4 4*2= 8 4*3=12 4*4=16 4*5=20 4*6=24 4*7=28 4*8=32 4*9=36 \n",
            "5 단:  5*1= 5 5*2=10 5*3=15 5*4=20 5*5=25 5*6=30 5*7=35 5*8=40 5*9=45 \n",
            "6 단:  6*1= 6 6*2=12 6*3=18 6*4=24 6*5=30 6*6=36 6*7=42 6*8=48 6*9=54 \n",
            "7 단:  7*1= 7 7*2=14 7*3=21 7*4=28 7*5=35 7*6=42 7*7=49 7*8=56 7*9=63 \n",
            "8 단:  8*1= 8 8*2=16 8*3=24 8*4=32 8*5=40 8*6=48 8*7=56 8*8=64 8*9=72 \n",
            "9 단:  9*1= 9 9*2=18 9*3=27 9*4=36 9*5=45 9*6=54 9*7=63 9*8=72 9*9=81 \n"
          ],
          "name": "stdout"
        }
      ]
    },
    {
      "cell_type": "code",
      "metadata": {
        "id": "2no0Gj_jBVGQ",
        "outputId": "883c2a31-f21b-4cdc-eb13-0e5a5fd94e6d",
        "colab": {
          "base_uri": "https://localhost:8080/",
          "height": 143
        }
      },
      "source": [
        "n=7\n",
        "for i in range(n):\n",
        "    st = \"\"\n",
        "    for j in range(i):\n",
        "        st += '  '\n",
        "    print(st + '#')"
      ],
      "execution_count": 93,
      "outputs": [
        {
          "output_type": "stream",
          "text": [
            "#\n",
            "  #\n",
            "    #\n",
            "      #\n",
            "        #\n",
            "          #\n",
            "            #\n"
          ],
          "name": "stdout"
        }
      ]
    },
    {
      "cell_type": "code",
      "metadata": {
        "id": "TO5owgwoCXN9",
        "outputId": "0773d467-64a2-4fb7-eb1a-4d82b11199c4",
        "colab": {
          "base_uri": "https://localhost:8080/",
          "height": 143
        }
      },
      "source": [
        "n=7\n",
        "for i in range(n):\n",
        "    print(\"  \"*i, \"#\")"
      ],
      "execution_count": 96,
      "outputs": [
        {
          "output_type": "stream",
          "text": [
            " #\n",
            "   #\n",
            "     #\n",
            "       #\n",
            "         #\n",
            "           #\n",
            "             #\n"
          ],
          "name": "stdout"
        }
      ]
    },
    {
      "cell_type": "code",
      "metadata": {
        "id": "GfgN37j_Cew0",
        "outputId": "4e32fbfb-3407-4a01-8dc9-f4f45db37cc0",
        "colab": {
          "base_uri": "https://localhost:8080/",
          "height": 143
        }
      },
      "source": [
        "#LAB 3-9 : 패턴 출력 응용\n",
        "n=7\n",
        "for i in range(n-1, -1, -1):\n",
        "    st = \"\"\n",
        "    for j in range(i):\n",
        "        st += '  '\n",
        "    print(st + '#')"
      ],
      "execution_count": 100,
      "outputs": [
        {
          "output_type": "stream",
          "text": [
            "            #\n",
            "          #\n",
            "        #\n",
            "      #\n",
            "    #\n",
            "  #\n",
            "#\n"
          ],
          "name": "stdout"
        }
      ]
    },
    {
      "cell_type": "code",
      "metadata": {
        "id": "uLJAHswtDcVa",
        "outputId": "2d1b6d24-1054-48e6-a730-bb7573a6c629",
        "colab": {
          "base_uri": "https://localhost:8080/",
          "height": 35
        }
      },
      "source": [
        "n = 5\n",
        "for i in range(n):\n",
        "    print(n-(i+1), end=' ')"
      ],
      "execution_count": 101,
      "outputs": [
        {
          "output_type": "stream",
          "text": [
            "4 3 2 1 0 "
          ],
          "name": "stdout"
        }
      ]
    },
    {
      "cell_type": "code",
      "metadata": {
        "id": "2E9_bS9IEQFA",
        "outputId": "6a7c9de0-b994-45c7-e167-58d200d7f6b5",
        "colab": {
          "base_uri": "https://localhost:8080/",
          "height": 35
        }
      },
      "source": [
        "n = 5\n",
        "for i in range(n):\n",
        "    print(2*i+1, end=' ')"
      ],
      "execution_count": 103,
      "outputs": [
        {
          "output_type": "stream",
          "text": [
            "1 3 5 7 9 "
          ],
          "name": "stdout"
        }
      ]
    },
    {
      "cell_type": "code",
      "metadata": {
        "id": "DRUkPWHoEkbY",
        "outputId": "ae79c465-f828-4b3b-de4a-8317317865f6",
        "colab": {
          "base_uri": "https://localhost:8080/",
          "height": 251
        }
      },
      "source": [
        "#삼각형 패턴\n",
        "n=5\n",
        "for i in range(n):\n",
        "    for j in range(n-i-1):\n",
        "        print(\" \", end='')\n",
        "    for j in range(2*i+1):\n",
        "        print(\"+\", end='')\n",
        "    print()\n",
        "\n",
        "print(\"\\n\\n\")\n",
        "\n",
        "#Sample Code\n",
        "n=5\n",
        "for i in range(n):\n",
        "    for j in range(n - (i+1)): #공백을 출력함\n",
        "        print(\" \", end='')\n",
        "    for j in range(2*i+1):\n",
        "        print(\"+\", end='')      #'+'를 출력함\n",
        "    print()"
      ],
      "execution_count": 112,
      "outputs": [
        {
          "output_type": "stream",
          "text": [
            "    +\n",
            "   +++\n",
            "  +++++\n",
            " +++++++\n",
            "+++++++++\n",
            "\n",
            "\n",
            "\n",
            "    +\n",
            "   +++\n",
            "  +++++\n",
            " +++++++\n",
            "+++++++++\n"
          ],
          "name": "stdout"
        }
      ]
    },
    {
      "cell_type": "code",
      "metadata": {
        "id": "Uan4m3J1F0Fu",
        "outputId": "c5cfe602-3fec-438a-da4c-9fdc13194b8d",
        "colab": {
          "base_uri": "https://localhost:8080/",
          "height": 107
        }
      },
      "source": [
        "n=5\n",
        "for i in range(n):\n",
        "    print(\" \"*(n-i-1), end=\"\")\n",
        "    print(\"+\"*(2*i+1))"
      ],
      "execution_count": 114,
      "outputs": [
        {
          "output_type": "stream",
          "text": [
            "    +\n",
            "   +++\n",
            "  +++++\n",
            " +++++++\n",
            "+++++++++\n"
          ],
          "name": "stdout"
        }
      ]
    },
    {
      "cell_type": "code",
      "metadata": {
        "id": "KB98w1KCG9g0",
        "outputId": "1e3a58e6-296b-4294-a52a-9c7b38e73032",
        "colab": {
          "base_uri": "https://localhost:8080/",
          "height": 53
        }
      },
      "source": [
        "n =  int(input(\"수를 입력하세요: \"))\n",
        "is_prime = True\n",
        "for num in range(2,n):\n",
        "    if n%num == 0:\n",
        "        is_prime = False\n",
        "print(n, \"is prime: \", is_prime)"
      ],
      "execution_count": 115,
      "outputs": [
        {
          "output_type": "stream",
          "text": [
            "수를 입력하세요: 11\n",
            "11 is prime:  True\n"
          ],
          "name": "stdout"
        }
      ]
    },
    {
      "cell_type": "code",
      "metadata": {
        "id": "9Myqi621IBmH",
        "outputId": "15f5175c-d628-43bf-d58d-9148e4dcc435",
        "colab": {
          "base_uri": "https://localhost:8080/",
          "height": 35
        }
      },
      "source": [
        "primes = []\n",
        "for n in range(2,101):\n",
        "    is_prime = True\n",
        "    for num in range(2,n):\n",
        "        if n%num == 0:\n",
        "            is_prime = False\n",
        "    if is_prime:\n",
        "        primes.append(n)\n",
        "\n",
        "print(*primes)"
      ],
      "execution_count": 117,
      "outputs": [
        {
          "output_type": "stream",
          "text": [
            "2 3 5 7 11 13 17 19 23 29 31 37 41 43 47 53 59 61 67 71 73 79 83 89 97\n"
          ],
          "name": "stdout"
        }
      ]
    },
    {
      "cell_type": "code",
      "metadata": {
        "id": "tcqy1U41ImZ5",
        "outputId": "0eb4b67a-1d15-4278-b2e2-2a09d93f056a",
        "colab": {
          "base_uri": "https://localhost:8080/",
          "height": 107
        }
      },
      "source": [
        "i = 0\n",
        "while i<5:\n",
        "    print(\"Hello World!\")\n",
        "    i += 1"
      ],
      "execution_count": 118,
      "outputs": [
        {
          "output_type": "stream",
          "text": [
            "Hello World!\n",
            "Hello World!\n",
            "Hello World!\n",
            "Hello World!\n",
            "Hello World!\n"
          ],
          "name": "stdout"
        }
      ]
    },
    {
      "cell_type": "code",
      "metadata": {
        "id": "96CglBfJJzbR",
        "outputId": "4592f093-065d-44df-ff06-d5159f7391b1",
        "colab": {
          "base_uri": "https://localhost:8080/",
          "height": 53
        }
      },
      "source": [
        "n = int(input(\"합계를 구할 수를 입력하세요 :\"))\n",
        "s = 0\n",
        "i = 1\n",
        "while i <= n:\n",
        "    s += i\n",
        "    i += 1\n",
        "print(\"1부터 {}까지의 합은 {}\".format(n, s))"
      ],
      "execution_count": 119,
      "outputs": [
        {
          "output_type": "stream",
          "text": [
            "합계를 구할 수를 입력하세요 :10\n",
            "1부터 10까지의 합은 55\n"
          ],
          "name": "stdout"
        }
      ]
    },
    {
      "cell_type": "code",
      "metadata": {
        "id": "NnBRfhR8KKEl",
        "outputId": "695c7bfb-3f61-4c10-dc71-6210c60af964",
        "colab": {
          "base_uri": "https://localhost:8080/",
          "height": 89
        }
      },
      "source": [
        "selected = None\n",
        "while selected not in ['가위','바위','보']:\n",
        "    selected = input('가위, 바위, 보 중에서 선택하세요> ')\n",
        "print(\"선택한 값은 : \", selected)"
      ],
      "execution_count": 121,
      "outputs": [
        {
          "output_type": "stream",
          "text": [
            "가위, 바위, 보 중에서 선택하세요> 2\n",
            "가위, 바위, 보 중에서 선택하세요> 묵\n",
            "가위, 바위, 보 중에서 선택하세요> 가위\n",
            "선택한 값은 :  가위\n"
          ],
          "name": "stdout"
        }
      ]
    },
    {
      "cell_type": "code",
      "metadata": {
        "id": "qt9JEvPcL_aB",
        "outputId": "800f2928-b54a-4d61-eb77-c19479738cc5",
        "colab": {
          "base_uri": "https://localhost:8080/",
          "height": 71
        }
      },
      "source": [
        "st = 'Programming'\n",
        "\n",
        "for ch in st:\n",
        "    if ch in ['a','e','i','o','u']:\n",
        "      break\n",
        "    print(ch)\n",
        "print(\"The end\")"
      ],
      "execution_count": 123,
      "outputs": [
        {
          "output_type": "stream",
          "text": [
            "P\n",
            "r\n",
            "The end\n"
          ],
          "name": "stdout"
        }
      ]
    },
    {
      "cell_type": "code",
      "metadata": {
        "id": "txa7UFLLOuLq",
        "outputId": "36d211d1-7763-4396-ba57-a6b8f89a3e62",
        "colab": {
          "base_uri": "https://localhost:8080/",
          "height": 179
        }
      },
      "source": [
        "st = 'Programming'\n",
        "\n",
        "for ch in st:\n",
        "    if ch in ['a','e','i','o','u']:\n",
        "        continue\n",
        "    print(ch)\n",
        "print(\"The end\")"
      ],
      "execution_count": 124,
      "outputs": [
        {
          "output_type": "stream",
          "text": [
            "P\n",
            "r\n",
            "g\n",
            "r\n",
            "m\n",
            "m\n",
            "n\n",
            "g\n",
            "The end\n"
          ],
          "name": "stdout"
        }
      ]
    },
    {
      "cell_type": "code",
      "metadata": {
        "id": "1HyW_a3xPa7V"
      },
      "source": [
        ""
      ],
      "execution_count": null,
      "outputs": []
    }
  ]
}