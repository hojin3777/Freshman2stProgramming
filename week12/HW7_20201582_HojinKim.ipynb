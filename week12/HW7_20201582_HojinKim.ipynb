{
  "nbformat": 4,
  "nbformat_minor": 0,
  "metadata": {
    "colab": {
      "name": "HW7_20201582_HojinKim.ipynb",
      "provenance": [],
      "collapsed_sections": [],
      "include_colab_link": true
    },
    "kernelspec": {
      "name": "python3",
      "display_name": "Python 3"
    }
  },
  "cells": [
    {
      "cell_type": "markdown",
      "metadata": {
        "id": "view-in-github",
        "colab_type": "text"
      },
      "source": [
        "<a href=\"https://colab.research.google.com/github/hojin3777/Freshman2stProgramming/blob/master/week12/HW7_20201582_HojinKim.ipynb\" target=\"_parent\"><img src=\"https://colab.research.google.com/assets/colab-badge.svg\" alt=\"Open In Colab\"/></a>"
      ]
    },
    {
      "cell_type": "code",
      "metadata": {
        "id": "W-_xXJF1QoqQ"
      },
      "source": [
        "#7.1-7.6, 7.8-7.10"
      ],
      "execution_count": null,
      "outputs": []
    },
    {
      "cell_type": "code",
      "metadata": {
        "colab": {
          "base_uri": "https://localhost:8080/"
        },
        "id": "SDA4h1EdR_vs",
        "outputId": "a6530657-c29e-449d-94fc-0c09efb363f7"
      },
      "source": [
        "#7.1 (1)\n",
        "import datetime as dt\n",
        "start = dt.date(2019, 2, 24)\n",
        "today = dt.date.today()\n",
        "print(\"춘향이와 몽룡이의 연애 시작일 : {}년 {}월 {}일\".format(start.year, start.month, start.day))\n",
        "print(\"연애 시작일로부터 경과한 날짜 : {}일\".format( (today-start).days ))\n",
        "print(type(start))"
      ],
      "execution_count": 7,
      "outputs": [
        {
          "output_type": "stream",
          "text": [
            "춘향이와 몽룡이의 연애 시작일 : 2019년 2월 24일\n",
            "연애 시작일로부터 경과한 날짜 : 637일\n",
            "<class 'datetime.date'>\n"
          ],
          "name": "stdout"
        }
      ]
    },
    {
      "cell_type": "code",
      "metadata": {
        "colab": {
          "base_uri": "https://localhost:8080/"
        },
        "id": "-ZCUHeGKSzaU",
        "outputId": "73206256-4fcf-4037-fbf2-e9b85fa9adae"
      },
      "source": [
        "#7.1 (2)\n",
        "print(\"춘향이와 몽룡이의 연애 시작일 : {}년 {}월 {}일\".format(start.year, start.month, start.day))\n",
        "d100 = start + dt.timedelta(days = 100)\n",
        "d200 = start + dt.timedelta(days = 200)\n",
        "d500 = start + dt.timedelta(days = 500)\n",
        "d1000 = start + dt.timedelta(days = 1000)\n",
        "print(\"100일 기념일 : {}년 {:2d}월 {:2d}일\".format(d100.year, d100.month, d100.day))\n",
        "print(\"200일 기념일 : {}년 {:2d}월 {:2d}일\".format(d200.year, d200.month, d200.day))\n",
        "print(\"500일 기념일 : {}년 {:2d}월 {:2d}일\".format(d500.year, d500.month, d500.day))\n",
        "print(\"1000일 기념일 : {}년 {:2d}월 {:2d}일\".format(d1000.year, d1000.month, d1000.day))"
      ],
      "execution_count": null,
      "outputs": [
        {
          "output_type": "stream",
          "text": [
            "춘향이와 몽룡이의 연애 시작일 : 2019년 2월 24일\n",
            "100일 기념일 : 2019년  6월  4일\n",
            "200일 기념일 : 2019년  9월 12일\n",
            "500일 기념일 : 2020년  7월  8일\n",
            "1000일 기념일 : 2021년 11월 20일\n"
          ],
          "name": "stdout"
        }
      ]
    },
    {
      "cell_type": "code",
      "metadata": {
        "colab": {
          "base_uri": "https://localhost:8080/"
        },
        "id": "3mMLka85UqCV",
        "outputId": "2cbc9d0f-c58c-4688-e2d2-11f95ceaacf2"
      },
      "source": [
        "#7.2 (1)\n",
        "import time as t\n",
        "def sum1toM():\n",
        "    total = 0\n",
        "    for i in range(1, 1000001):\n",
        "        total += i\n",
        "tic = t.time()\n",
        "sum1toM()\n",
        "toc = t.time()\n",
        "gap = toc-tic\n",
        "print(\"1에서 1,000,000까지의 합을 구하는 시간 : {:5.4f}초\".format(gap))"
      ],
      "execution_count": null,
      "outputs": [
        {
          "output_type": "stream",
          "text": [
            "1에서 1,000,000까지의 합을 구하는 시간 : 0.0814초\n"
          ],
          "name": "stdout"
        }
      ]
    },
    {
      "cell_type": "code",
      "metadata": {
        "colab": {
          "base_uri": "https://localhost:8080/"
        },
        "id": "f71BFhPYVhNS",
        "outputId": "c4459ced-493e-4a28-838a-bd8cd924a155"
      },
      "source": [
        "#7.2 (2)\n",
        "tic = t.time()\n",
        "for _ in range(100):\n",
        "    sum1toM()\n",
        "toc = t.time()\n",
        "gap = toc-tic\n",
        "print(\"1에서 1,000,000까지의 합을 100번 반복해서 구하는 시간 : {:5.4f}초\".format(gap))"
      ],
      "execution_count": null,
      "outputs": [
        {
          "output_type": "stream",
          "text": [
            "1에서 1,000,000까지의 합을 100번 반복해서 구하는 시간 : 5.7606초\n"
          ],
          "name": "stdout"
        }
      ]
    },
    {
      "cell_type": "code",
      "metadata": {
        "colab": {
          "base_uri": "https://localhost:8080/"
        },
        "id": "rz6WXjDTVnOk",
        "outputId": "60cec38e-c9a1-4c13-fb40-42077ab79ef6"
      },
      "source": [
        "#7.3 (1)\n",
        "def hello():\n",
        "    print('Hello Python!')\n",
        "tic = t.time()\n",
        "for _ in range(100):\n",
        "    hello()\n",
        "toc = t.time()\n",
        "gap = toc-tic\n",
        "print(\"Hello Python! 출력을 100번 반복하는 시간 : {:5.4f}초\".format(gap))"
      ],
      "execution_count": null,
      "outputs": [
        {
          "output_type": "stream",
          "text": [
            "Hello Python!\n",
            "Hello Python!\n",
            "Hello Python!\n",
            "Hello Python!\n",
            "Hello Python!\n",
            "Hello Python!\n",
            "Hello Python!\n",
            "Hello Python!\n",
            "Hello Python!\n",
            "Hello Python!\n",
            "Hello Python!\n",
            "Hello Python!\n",
            "Hello Python!\n",
            "Hello Python!\n",
            "Hello Python!\n",
            "Hello Python!\n",
            "Hello Python!\n",
            "Hello Python!\n",
            "Hello Python!\n",
            "Hello Python!\n",
            "Hello Python!\n",
            "Hello Python!\n",
            "Hello Python!\n",
            "Hello Python!\n",
            "Hello Python!\n",
            "Hello Python!\n",
            "Hello Python!\n",
            "Hello Python!\n",
            "Hello Python!\n",
            "Hello Python!\n",
            "Hello Python!\n",
            "Hello Python!\n",
            "Hello Python!\n",
            "Hello Python!\n",
            "Hello Python!\n",
            "Hello Python!\n",
            "Hello Python!\n",
            "Hello Python!\n",
            "Hello Python!\n",
            "Hello Python!\n",
            "Hello Python!\n",
            "Hello Python!\n",
            "Hello Python!\n",
            "Hello Python!\n",
            "Hello Python!\n",
            "Hello Python!\n",
            "Hello Python!\n",
            "Hello Python!\n",
            "Hello Python!\n",
            "Hello Python!\n",
            "Hello Python!\n",
            "Hello Python!\n",
            "Hello Python!\n",
            "Hello Python!\n",
            "Hello Python!\n",
            "Hello Python!\n",
            "Hello Python!\n",
            "Hello Python!\n",
            "Hello Python!\n",
            "Hello Python!\n",
            "Hello Python!\n",
            "Hello Python!\n",
            "Hello Python!\n",
            "Hello Python!\n",
            "Hello Python!\n",
            "Hello Python!\n",
            "Hello Python!\n",
            "Hello Python!\n",
            "Hello Python!\n",
            "Hello Python!\n",
            "Hello Python!\n",
            "Hello Python!\n",
            "Hello Python!\n",
            "Hello Python!\n",
            "Hello Python!\n",
            "Hello Python!\n",
            "Hello Python!\n",
            "Hello Python!\n",
            "Hello Python!\n",
            "Hello Python!\n",
            "Hello Python!\n",
            "Hello Python!\n",
            "Hello Python!\n",
            "Hello Python!\n",
            "Hello Python!\n",
            "Hello Python!\n",
            "Hello Python!\n",
            "Hello Python!\n",
            "Hello Python!\n",
            "Hello Python!\n",
            "Hello Python!\n",
            "Hello Python!\n",
            "Hello Python!\n",
            "Hello Python!\n",
            "Hello Python!\n",
            "Hello Python!\n",
            "Hello Python!\n",
            "Hello Python!\n",
            "Hello Python!\n",
            "Hello Python!\n",
            "Hello Python! 출력을 100번 반복하는 시간 : 0.0047초\n"
          ],
          "name": "stdout"
        }
      ]
    },
    {
      "cell_type": "code",
      "metadata": {
        "colab": {
          "base_uri": "https://localhost:8080/"
        },
        "id": "MjbR4HNTWcO4",
        "outputId": "4f3e764a-a1b0-4134-d7cf-aa92ff0bfbf3"
      },
      "source": [
        "#7.3 (2)\n",
        "def fac1000():\n",
        "    total = 1\n",
        "    for i in range(1, 1001):\n",
        "        total *= i\n",
        "tic = t.time()\n",
        "for _ in range(100):\n",
        "    fac1000()\n",
        "toc = t.time()\n",
        "gap = toc-tic\n",
        "print(\"1000!을 100번 반복해서 구하는 시간 : {:5.4f}초\".format(gap))"
      ],
      "execution_count": null,
      "outputs": [
        {
          "output_type": "stream",
          "text": [
            "1000!을 100번 반복해서 구하는 시간 : 0.0267초\n"
          ],
          "name": "stdout"
        }
      ]
    },
    {
      "cell_type": "code",
      "metadata": {
        "colab": {
          "base_uri": "https://localhost:8080/"
        },
        "id": "07LpC9mbXAFF",
        "outputId": "d2756f7a-8cfc-4802-eedd-65d4cc64f7ab"
      },
      "source": [
        "#7.3 (3)\n",
        "def sumTripleEven():\n",
        "    total = 0\n",
        "    for i in range(1, 1001, 2):\n",
        "        total += i\n",
        "    return total\n",
        "tic = t.time()\n",
        "for _ in range(100):\n",
        "    sumTripleEven()\n",
        "toc = t.time()\n",
        "gap = toc-tic\n",
        "print(\"1에서 1000까지 홀수의 세제곱 더하기를 100번 반복하는 시간 : {:5.4f}초\".format(gap))"
      ],
      "execution_count": null,
      "outputs": [
        {
          "output_type": "stream",
          "text": [
            "1에서 1000까지 홀수의 세제곱 더하기를 100번 반복하는 시간 : 0.0053초\n"
          ],
          "name": "stdout"
        }
      ]
    },
    {
      "cell_type": "code",
      "metadata": {
        "colab": {
          "base_uri": "https://localhost:8080/"
        },
        "id": "gQJujzoPXlXu",
        "outputId": "0aca5ed3-5b49-4f15-d712-dbfbd3706b9f"
      },
      "source": [
        "#7.3 (4)\n",
        "import math as m\n",
        "def sumAllSin():\n",
        "    total = 0\n",
        "    for i in range(1, 361, 1):\n",
        "        total += m.sin(m.radians(i))\n",
        "    return total\n",
        "tic = t.time()\n",
        "for _ in range(100):\n",
        "    sumAllSin()\n",
        "toc = t.time()\n",
        "gap = toc-tic\n",
        "print(\"1에서 360도까지 sin 값의 합을 100번 반복하는 시간 : {:5.4f}초\".format(gap))"
      ],
      "execution_count": null,
      "outputs": [
        {
          "output_type": "stream",
          "text": [
            "1에서 360도까지 sin 값의 합을 100번 반복하는 시간 : 0.0131초\n"
          ],
          "name": "stdout"
        }
      ]
    },
    {
      "cell_type": "code",
      "metadata": {
        "colab": {
          "base_uri": "https://localhost:8080/"
        },
        "id": "ndy0NE6HX2kR",
        "outputId": "c1888e87-621a-454f-8c04-569acfe04862"
      },
      "source": [
        "#7.4 (1)\n",
        "def my_rand(x):\n",
        "    return (314592 * x + 2718)%(2**18)\n",
        "for i in range(10, 21):\n",
        "    print(my_rand(i))"
      ],
      "execution_count": null,
      "outputs": [
        {
          "output_type": "stream",
          "text": [
            "2910\n",
            "55358\n",
            "107806\n",
            "160254\n",
            "212702\n",
            "3006\n",
            "55454\n",
            "107902\n",
            "160350\n",
            "212798\n",
            "3102\n"
          ],
          "name": "stdout"
        }
      ]
    },
    {
      "cell_type": "code",
      "metadata": {
        "colab": {
          "base_uri": "https://localhost:8080/"
        },
        "id": "SZPPm_HsaTuh",
        "outputId": "20e18a1e-4251-47bd-a1a5-f2732ad8b0bc"
      },
      "source": [
        "#7.4 (2)\n",
        "import time as t\n",
        "for _ in range(2):\n",
        "    for _ in range(5):\n",
        "        print(my_rand(int(t.time())))\n",
        "        t.sleep(1) #같은 seed가 입력되어 대기시간 추가\n",
        "    print(\"\")\n",
        "    "
      ],
      "execution_count": null,
      "outputs": [
        {
          "output_type": "stream",
          "text": [
            "156190\n",
            "208638\n",
            "261086\n",
            "51390\n",
            "103838\n",
            "\n",
            "156286\n",
            "208734\n",
            "261182\n",
            "51486\n",
            "103934\n",
            "\n"
          ],
          "name": "stdout"
        }
      ]
    },
    {
      "cell_type": "code",
      "metadata": {
        "colab": {
          "base_uri": "https://localhost:8080/"
        },
        "id": "416xFhNebi5E",
        "outputId": "5e4c9e09-a3f7-422c-d656-eaf02992f10b"
      },
      "source": [
        "#7.5\n",
        "import math as m\n",
        "for i in range(0,181,10):\n",
        "    print(\"sin({:3d}) = {:4.3f}, cos({:3d}) = {:4.3f}, tan({:3d}) = {:4.3f}\".format(i,m.sin(m.radians(i)), i,m.cos(m.radians(i)), i,m.tan(m.radians(i)) ))"
      ],
      "execution_count": null,
      "outputs": [
        {
          "output_type": "stream",
          "text": [
            "sin(  0) = 0.000, cos(  0) = 1.000, tan(  0) = 0.000\n",
            "sin( 10) = 0.174, cos( 10) = 0.985, tan( 10) = 0.176\n",
            "sin( 20) = 0.342, cos( 20) = 0.940, tan( 20) = 0.364\n",
            "sin( 30) = 0.500, cos( 30) = 0.866, tan( 30) = 0.577\n",
            "sin( 40) = 0.643, cos( 40) = 0.766, tan( 40) = 0.839\n",
            "sin( 50) = 0.766, cos( 50) = 0.643, tan( 50) = 1.192\n",
            "sin( 60) = 0.866, cos( 60) = 0.500, tan( 60) = 1.732\n",
            "sin( 70) = 0.940, cos( 70) = 0.342, tan( 70) = 2.747\n",
            "sin( 80) = 0.985, cos( 80) = 0.174, tan( 80) = 5.671\n",
            "sin( 90) = 1.000, cos( 90) = 0.000, tan( 90) = 16331239353195370.000\n",
            "sin(100) = 0.985, cos(100) = -0.174, tan(100) = -5.671\n",
            "sin(110) = 0.940, cos(110) = -0.342, tan(110) = -2.747\n",
            "sin(120) = 0.866, cos(120) = -0.500, tan(120) = -1.732\n",
            "sin(130) = 0.766, cos(130) = -0.643, tan(130) = -1.192\n",
            "sin(140) = 0.643, cos(140) = -0.766, tan(140) = -0.839\n",
            "sin(150) = 0.500, cos(150) = -0.866, tan(150) = -0.577\n",
            "sin(160) = 0.342, cos(160) = -0.940, tan(160) = -0.364\n",
            "sin(170) = 0.174, cos(170) = -0.985, tan(170) = -0.176\n",
            "sin(180) = 0.000, cos(180) = -1.000, tan(180) = -0.000\n"
          ],
          "name": "stdout"
        }
      ]
    },
    {
      "cell_type": "code",
      "metadata": {
        "colab": {
          "base_uri": "https://localhost:8080/"
        },
        "id": "GW6Emztjcyia",
        "outputId": "8c2ae2a0-082d-49e7-f46a-69726a09cb8e"
      },
      "source": [
        "#7.6\n",
        "import math as m\n",
        "for i in range(1,11):\n",
        "    print(\"sqrt({:2d}) = {:4.3f}\".format(i, m.sqrt(i)))"
      ],
      "execution_count": null,
      "outputs": [
        {
          "output_type": "stream",
          "text": [
            "sqrt( 1) = 1.000\n",
            "sqrt( 2) = 1.414\n",
            "sqrt( 3) = 1.732\n",
            "sqrt( 4) = 2.000\n",
            "sqrt( 5) = 2.236\n",
            "sqrt( 6) = 2.449\n",
            "sqrt( 7) = 2.646\n",
            "sqrt( 8) = 2.828\n",
            "sqrt( 9) = 3.000\n",
            "sqrt(10) = 3.162\n"
          ],
          "name": "stdout"
        }
      ]
    },
    {
      "cell_type": "code",
      "metadata": {
        "id": "vQRZl8wJdoNd",
        "colab": {
          "base_uri": "https://localhost:8080/"
        },
        "outputId": "da2680ca-55ca-49bd-f6a3-e0d08389ebb8"
      },
      "source": [
        "#7.8\n",
        "import random as rd\n",
        "rom = rd.randrange(1,7)\n",
        "jul = rd.randrange(1,7)\n",
        "print(\"로미오의 주사위 숫자는 %d 입니다.\"%rom)\n",
        "print(\"줄리엣의 주사위 숫자는 %d 입니다.\"%jul)\n",
        "if rom != jul:\n",
        "    print(\"{} 이겼습니다.\".format('로미오가' if rom>jul else '줄리엣이'))\n",
        "else:\n",
        "    print(\"비겼습니다.\")"
      ],
      "execution_count": null,
      "outputs": [
        {
          "output_type": "stream",
          "text": [
            "로미오의 주사위 숫자는 5 입니다.\n",
            "줄리엣의 주사위 숫자는 6 입니다.\n",
            "줄리엣이 이겼습니다.\n"
          ],
          "name": "stdout"
        }
      ]
    },
    {
      "cell_type": "code",
      "metadata": {
        "colab": {
          "base_uri": "https://localhost:8080/"
        },
        "id": "0geGUwx3jISl",
        "outputId": "55ba5cb6-9493-471b-e8a9-be18d235edb8"
      },
      "source": [
        "#7.9\n",
        "import random as rd\n",
        "rom  = rd.randrange(3)\n",
        "jul  = rd.randrange(3)\n",
        "print(\"로미오의 승부 :\", '가위' if rom==0 else '바위' if rom==1 else '보')\n",
        "print(\"줄리엣의 승부 :\", '가위' if jul==0 else '바위' if jul==1 else '보')\n",
        "if rom>jul and not (rom==2 and jul==0) or (rom==0 and jul==2):\n",
        "    print(\"로미오가 이겼습니다.\")\n",
        "elif rom==jul:\n",
        "    print(\"비겼습니다.\")\n",
        "else:\n",
        "    print(\"줄리엣이 이겼습니다.\")"
      ],
      "execution_count": null,
      "outputs": [
        {
          "output_type": "stream",
          "text": [
            "로미오의 승부 : 가위\n",
            "줄리엣의 승부 : 보\n",
            "로미오가 이겼습니다.\n"
          ],
          "name": "stdout"
        }
      ]
    },
    {
      "cell_type": "code",
      "metadata": {
        "colab": {
          "base_uri": "https://localhost:8080/"
        },
        "id": "dJwJjYeVl1BR",
        "outputId": "535b6b1b-7951-4694-b0d0-6f32f2bddfaf"
      },
      "source": [
        "#7.10\n",
        "import random as rd\n",
        "answer = rd.randrange(1,21)\n",
        "count = 0\n",
        "while True:\n",
        "    n = int(input(\"1~20까지의 숫자를 입력하세요: \"))\n",
        "    count += 1\n",
        "    if answer == n:\n",
        "        break;\n",
        "    elif answer > n:\n",
        "        print(\"%d 보다 큽니다!\"%n)\n",
        "    else:\n",
        "        print(\"%d 보다 작습니다!\"%n)\n",
        "if count < 4:\n",
        "    print(\"%d번 만에 맞춘 당신은 천재!\"%count)\n",
        "elif count < 7:\n",
        "    print(\"%d번 만에 맞추셨네요. 잘 했어요^^\"%count)\n",
        "else:\n",
        "    print(\"%d번 만에 맞추다니 쩝쩝...\"%count)"
      ],
      "execution_count": null,
      "outputs": [
        {
          "output_type": "stream",
          "text": [
            "1~20까지의 숫자를 입력하세요: 10\n",
            "10 보다 큽니다!\n",
            "1~20까지의 숫자를 입력하세요: 15\n",
            "15 보다 작습니다!\n",
            "1~20까지의 숫자를 입력하세요: 12\n",
            "12 보다 큽니다!\n",
            "1~20까지의 숫자를 입력하세요: 14\n",
            "4번 만에 맞추셨네요. 잘 했어요^^\n"
          ],
          "name": "stdout"
        }
      ]
    }
  ]
}