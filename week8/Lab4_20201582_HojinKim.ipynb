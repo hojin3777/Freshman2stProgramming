{
  "nbformat": 4,
  "nbformat_minor": 0,
  "metadata": {
    "colab": {
      "name": "Lab4_20201582_HojinKim.ipynb",
      "provenance": [],
      "authorship_tag": "ABX9TyMpkSg5CI+76eAeHm4rO7+J",
      "include_colab_link": true
    },
    "kernelspec": {
      "name": "python3",
      "display_name": "Python 3"
    }
  },
  "cells": [
    {
      "cell_type": "markdown",
      "metadata": {
        "id": "view-in-github",
        "colab_type": "text"
      },
      "source": [
        "<a href=\"https://colab.research.google.com/github/hojin3777/Freshman2stProgramming/blob/master/week8/Lab4_20201582_HojinKim.ipynb\" target=\"_parent\"><img src=\"https://colab.research.google.com/assets/colab-badge.svg\" alt=\"Open In Colab\"/></a>"
      ]
    },
    {
      "cell_type": "code",
      "metadata": {
        "id": "__itVcdrtCoH",
        "outputId": "1a1c65ee-6e0b-48cd-f691-1642593ca3bb",
        "colab": {
          "base_uri": "https://localhost:8080/",
          "height": 88
        }
      },
      "source": [
        "def print_star():\n",
        "    print('*************')\n",
        "print_star()\n",
        "\n",
        "def print_star3():\n",
        "    print('********!!!!******')\n",
        "    print('********!!!!******')\n",
        "    print('********!!!!******')\n",
        "print_star3()"
      ],
      "execution_count": null,
      "outputs": [
        {
          "output_type": "stream",
          "text": [
            "*************\n",
            "********!!!!******\n",
            "********!!!!******\n",
            "********!!!!******\n"
          ],
          "name": "stdout"
        }
      ]
    },
    {
      "cell_type": "code",
      "metadata": {
        "id": "U92MxUaXwYfF",
        "outputId": "38c6710a-66f7-41fa-f560-5522cb1e980f",
        "colab": {
          "base_uri": "https://localhost:8080/",
          "height": 106
        }
      },
      "source": [
        "print_star()\n",
        "print_star()\n",
        "print_star()\n",
        "print_star()\n",
        "print_star()"
      ],
      "execution_count": null,
      "outputs": [
        {
          "output_type": "stream",
          "text": [
            "********!!!!******\n",
            "********!!!!******\n",
            "********!!!!******\n",
            "********!!!!******\n",
            "********!!!!******\n"
          ],
          "name": "stdout"
        }
      ]
    },
    {
      "cell_type": "code",
      "metadata": {
        "id": "1jCzzO1FxLt-",
        "outputId": "7b099726-3fd5-4edc-cd2a-295411763210",
        "colab": {
          "base_uri": "https://localhost:8080/",
          "height": 195
        }
      },
      "source": [
        "#Lab 4-2 : 함수 정의와 호출\n",
        "def print_star5():\n",
        "    print('**************')\n",
        "    print('**************')\n",
        "    print('**************')\n",
        "    print('**************')\n",
        "    print('**************')\n",
        "print_star5()\n",
        "print_star5()"
      ],
      "execution_count": null,
      "outputs": [
        {
          "output_type": "stream",
          "text": [
            "**************\n",
            "**************\n",
            "**************\n",
            "**************\n",
            "**************\n",
            "**************\n",
            "**************\n",
            "**************\n",
            "**************\n",
            "**************\n"
          ],
          "name": "stdout"
        }
      ]
    },
    {
      "cell_type": "code",
      "metadata": {
        "id": "ohoxCK_rxVUh",
        "outputId": "b51efcd1-facd-4f25-fbff-7ee7eb759e07",
        "colab": {
          "base_uri": "https://localhost:8080/",
          "height": 52
        }
      },
      "source": [
        "def print_plus():\n",
        "    print('++++++++++++++')\n",
        "print_star()\n",
        "print_plus()"
      ],
      "execution_count": null,
      "outputs": [
        {
          "output_type": "stream",
          "text": [
            "********!!!!******\n",
            "++++++++++++++\n"
          ],
          "name": "stdout"
        }
      ]
    },
    {
      "cell_type": "code",
      "metadata": {
        "id": "DRnOJzwvy8Vt",
        "outputId": "4cc632a7-9bf6-452b-c8fd-a64c20b5a931",
        "colab": {
          "base_uri": "https://localhost:8080/",
          "height": 124
        }
      },
      "source": [
        "#Lab 4-3 : 함수 정의와 호출\n",
        "def print_star():\n",
        "    print('**************')\n",
        "def print_plus():\n",
        "    print('++++++++++++++')\n",
        "def print_hash():\n",
        "    print('##############')\n",
        "print_hash()\n",
        "print_star()\n",
        "print_plus()\n",
        "print_plus()\n",
        "print_star()\n",
        "print_hash()"
      ],
      "execution_count": null,
      "outputs": [
        {
          "output_type": "stream",
          "text": [
            "##############\n",
            "**************\n",
            "++++++++++++++\n",
            "++++++++++++++\n",
            "**************\n",
            "##############\n"
          ],
          "name": "stdout"
        }
      ]
    },
    {
      "cell_type": "code",
      "metadata": {
        "id": "W5cnHY1qzPNU",
        "outputId": "53b74b50-a95b-4eb4-82d0-cb07a27cd4d2",
        "colab": {
          "base_uri": "https://localhost:8080/",
          "height": 124
        }
      },
      "source": [
        "#별표 출력을 매개변수 n번만큼 반복하는 프로그램\n",
        "def print_star(n):\n",
        "    for i in range(n):\n",
        "        print(i, \"*\"*20)\n",
        "print_star(6)"
      ],
      "execution_count": null,
      "outputs": [
        {
          "output_type": "stream",
          "text": [
            "0 ********************\n",
            "1 ********************\n",
            "2 ********************\n",
            "3 ********************\n",
            "4 ********************\n",
            "5 ********************\n"
          ],
          "name": "stdout"
        }
      ]
    },
    {
      "cell_type": "code",
      "metadata": {
        "id": "1oPTSHoz1VHy",
        "outputId": "9bc3a50a-d350-4a2d-9e58-60d395c50c24",
        "colab": {
          "base_uri": "https://localhost:8080/",
          "height": 124
        }
      },
      "source": [
        "def print_star(n, m):\n",
        "    for i in range(n):\n",
        "        print(\"*\"*m)\n",
        "print_star(6, 40)"
      ],
      "execution_count": null,
      "outputs": [
        {
          "output_type": "stream",
          "text": [
            "****************************************\n",
            "****************************************\n",
            "****************************************\n",
            "****************************************\n",
            "****************************************\n",
            "****************************************\n"
          ],
          "name": "stdout"
        }
      ]
    },
    {
      "cell_type": "code",
      "metadata": {
        "id": "KiUtsWrZ1wQJ",
        "outputId": "da79cb96-1e9e-4759-e245-a8f326f1e636",
        "colab": {
          "base_uri": "https://localhost:8080/",
          "height": 88
        }
      },
      "source": [
        "def print_hello(n):\n",
        "    print('Hello  '*n)\n",
        "print(\"Hello 두번 출력\")\n",
        "print_hello(2)\n",
        "print(\"Hello 네번 출력\")\n",
        "print_hello(4)"
      ],
      "execution_count": null,
      "outputs": [
        {
          "output_type": "stream",
          "text": [
            "Hello 두번 출력\n",
            "Hello  Hello  \n",
            "Hello 네번 출력\n",
            "Hello  Hello  Hello  Hello  \n"
          ],
          "name": "stdout"
        }
      ]
    },
    {
      "cell_type": "code",
      "metadata": {
        "id": "Ky-SAwKo2Sxg",
        "outputId": "02f3f7b8-8173-458d-ed55-01252eb958e4",
        "colab": {
          "base_uri": "https://localhost:8080/",
          "height": 34
        }
      },
      "source": [
        "def print_sum(a,b):\n",
        "    result = a+b\n",
        "    print(a,\"와\", b, \"의 합은\", result, \"입니다\")\n",
        "print_sum(10, 5)"
      ],
      "execution_count": null,
      "outputs": [
        {
          "output_type": "stream",
          "text": [
            "10 와 5 의 합은 15 입니다\n"
          ],
          "name": "stdout"
        }
      ]
    },
    {
      "cell_type": "code",
      "metadata": {
        "id": "Eday6TSX2sSp",
        "outputId": "79d9cf25-9b4d-4747-c9c8-29773d5bac21",
        "colab": {
          "base_uri": "https://localhost:8080/",
          "height": 52
        }
      },
      "source": [
        "def print_root(a,b,c):\n",
        "    r1 = (-b + (b**2 - 4*a*c) ** 0.5) / (2*a)\n",
        "    r2 = (-b - (b**2 - 4*a*c) ** 0.5) / (2*a)\n",
        "    print(\"해는\", r1, \"또는\", r2)\n",
        "print_root(1, 2, -8)\n",
        "print_root(2, -6, -8)"
      ],
      "execution_count": null,
      "outputs": [
        {
          "output_type": "stream",
          "text": [
            "해는 2.0 또는 -4.0\n",
            "해는 4.0 또는 -1.0\n"
          ],
          "name": "stdout"
        }
      ]
    },
    {
      "cell_type": "code",
      "metadata": {
        "id": "86o_Jxfu4IFU",
        "outputId": "ed48750d-4492-4547-ec0f-ac404463b179",
        "colab": {
          "base_uri": "https://localhost:8080/",
          "height": 34
        }
      },
      "source": [
        "def print_sum2(a,b):\n",
        "    result = a+b\n",
        "    result_mul = a*b\n",
        "    return result, result_mul\n",
        "sum, mul = print_sum2(100, 50)\n",
        "print(\"더하기:\", sum, \"곱하기:\", mul)"
      ],
      "execution_count": null,
      "outputs": [
        {
          "output_type": "stream",
          "text": [
            "더하기: 150 곱하기: 5000\n"
          ],
          "name": "stdout"
        }
      ]
    },
    {
      "cell_type": "code",
      "metadata": {
        "id": "1WOq1Uj74wvR",
        "outputId": "56cbb5ae-87e9-4e22-db2c-28b6d2c8d0a6",
        "colab": {
          "base_uri": "https://localhost:8080/",
          "height": 34
        }
      },
      "source": [
        "def print_sum2(a,b):\n",
        "    #result = a+b\n",
        "    #result_mul = a*b\n",
        "    return a+b, a*b\n",
        "sum, mul = print_sum2(100, 50)\n",
        "print(\"더하기:\", sum, \"곱하기:\", mul)"
      ],
      "execution_count": null,
      "outputs": [
        {
          "output_type": "stream",
          "text": [
            "더하기: 150 곱하기: 5000\n"
          ],
          "name": "stdout"
        }
      ]
    },
    {
      "cell_type": "code",
      "metadata": {
        "id": "hFrjkTEC516Q",
        "outputId": "3f407510-d39d-4a2b-ed79-dbb0187815a8",
        "colab": {
          "base_uri": "https://localhost:8080/",
          "height": 34
        }
      },
      "source": [
        "def print_root(a,b,c):\n",
        "    r1 = (-b + (b**2 - 4*a*c) ** 0.5) / (2*a)\n",
        "    r2 = (-b - (b**2 - 4*a*c) ** 0.5) / (2*a)\n",
        "    return r1, r2\n",
        "result1, result2 = print_root(1,2,-8)\n",
        "print(\"두 해는 {}, {}\".format(result1, result2))"
      ],
      "execution_count": null,
      "outputs": [
        {
          "output_type": "stream",
          "text": [
            "두 해는 2.0, -4.0\n"
          ],
          "name": "stdout"
        }
      ]
    },
    {
      "cell_type": "code",
      "metadata": {
        "id": "j2Mv6QZw6dWr",
        "outputId": "8d60b904-f246-40b8-801b-cafa05dbf603",
        "colab": {
          "base_uri": "https://localhost:8080/",
          "height": 34
        }
      },
      "source": [
        "#Lab 4.7 : 원의 면적과 둘레를 반환하는 함수\n",
        "def circle_area_circum(radius):\n",
        "    area = 3.14*radius**2\n",
        "    circum = 2*3.14*r\n",
        "    return area, circum\n",
        "r = 10\n",
        "area, circum = circle_area_circum(r)\n",
        "print(\"반지름 {}인 원의 면적은 {}, 원의 둘레는 {}\".format(r, area, circum))"
      ],
      "execution_count": null,
      "outputs": [
        {
          "output_type": "stream",
          "text": [
            "반지름 10인 원의 면적은 314.0, 원의 둘레는 62.800000000000004\n"
          ],
          "name": "stdout"
        }
      ]
    },
    {
      "cell_type": "code",
      "metadata": {
        "id": "cAst9ku77HIW",
        "outputId": "cd5d0d0d-69d0-4db0-9d92-03a6a6eed28b",
        "colab": {
          "base_uri": "https://localhost:8080/",
          "height": 52
        }
      },
      "source": [
        "#Lab 4-8 : 다수의 결과를 반환하는 함수 만들기\n",
        "def multiplies(n, m):\n",
        "    mults = []\n",
        "    for i in range(1, m+1):\n",
        "        mults.append(n*i)\n",
        "    return mults\n",
        "r1, r2, r3, r4 = multiplies(3, 4)\n",
        "print(r1, r2, r3, r4)\n",
        "r1, r2, r3, r4, r5 = multiplies(2, 5)\n",
        "print(r1, r2, r3, r4, r5)"
      ],
      "execution_count": null,
      "outputs": [
        {
          "output_type": "stream",
          "text": [
            "3 6 9 12\n",
            "2 4 6 8 10\n"
          ],
          "name": "stdout"
        }
      ]
    },
    {
      "cell_type": "code",
      "metadata": {
        "id": "eY2L17u_8UrX",
        "outputId": "666d3b70-916f-4533-b9f2-d965816de39b",
        "colab": {
          "base_uri": "https://localhost:8080/",
          "height": 52
        }
      },
      "source": [
        "def print_sum():\n",
        "    a=100\n",
        "    b=200\n",
        "    result = a+b\n",
        "    print('print_sum() 내부 :', a, '와', b, '의 합은', result, '입니다')\n",
        "a=10\n",
        "b=10\n",
        "print_sum()\n",
        "result = a+b\n",
        "print('print_sum() 외부 :', a, '와', b, '의 합은', result, '입니다')"
      ],
      "execution_count": null,
      "outputs": [
        {
          "output_type": "stream",
          "text": [
            "print_sum() 내부 : 100 와 200 의 합은 300 입니다\n",
            "print_sum() 외부 : 10 와 10 의 합은 20 입니다\n"
          ],
          "name": "stdout"
        }
      ]
    },
    {
      "cell_type": "code",
      "metadata": {
        "id": "zKad1I5U9WUn",
        "outputId": "01a58392-35a9-4d75-9673-6dd8bcb08f69",
        "colab": {
          "base_uri": "https://localhost:8080/",
          "height": 52
        }
      },
      "source": [
        "def print_sum():\n",
        "    global a, b\n",
        "    a = 100\n",
        "    b = 200\n",
        "    result = a+b\n",
        "    print('print_sum() 내부 :', a, '와', b, '의 합은', result, '입니다')\n",
        "a=10\n",
        "b=10\n",
        "print_sum()\n",
        "result = a+b\n",
        "print('print_sum() 외부 :', a, '와', b, '의 합은', result, '입니다')"
      ],
      "execution_count": null,
      "outputs": [
        {
          "output_type": "stream",
          "text": [
            "print_sum() 내부 : 100 와 200 의 합은 300 입니다\n",
            "print_sum() 외부 : 100 와 200 의 합은 300 입니다\n"
          ],
          "name": "stdout"
        }
      ]
    },
    {
      "cell_type": "code",
      "metadata": {
        "id": "dUVrE072_TbF",
        "outputId": "759cbe2d-0fcb-4666-ca63-f737ca92221c",
        "colab": {
          "base_uri": "https://localhost:8080/",
          "height": 88
        }
      },
      "source": [
        "def print_star(n=1):\n",
        "    for _ in range(n):\n",
        "        print('*'*30)\n",
        "print_star(4)"
      ],
      "execution_count": null,
      "outputs": [
        {
          "output_type": "stream",
          "text": [
            "******************************\n",
            "******************************\n",
            "******************************\n",
            "******************************\n"
          ],
          "name": "stdout"
        }
      ]
    },
    {
      "cell_type": "code",
      "metadata": {
        "id": "qd1zwFkzBPMx",
        "outputId": "b9d70b31-f356-4a05-a407-de17d2e8d69f",
        "colab": {
          "base_uri": "https://localhost:8080/",
          "height": 52
        }
      },
      "source": [
        "def div(a, b=2):\n",
        "    return a/b\n",
        "print('div(4)=', div(4))\n",
        "print('div(6, 3)=', div(6,3))"
      ],
      "execution_count": null,
      "outputs": [
        {
          "output_type": "stream",
          "text": [
            "div(4)= 2.0\n",
            "div(6, 3)= 2.0\n"
          ],
          "name": "stdout"
        }
      ]
    },
    {
      "cell_type": "code",
      "metadata": {
        "id": "_7ookjcsCHhO",
        "outputId": "f80c704d-1421-483e-e046-cad5502da9eb",
        "colab": {
          "base_uri": "https://localhost:8080/",
          "height": 70
        }
      },
      "source": [
        "def div(a=1, b=2):\n",
        "    return a/b\n",
        "print('div()=', div())\n",
        "print('div(4)=', div(4))\n",
        "print('div(6, 3)=', div(6,3))"
      ],
      "execution_count": null,
      "outputs": [
        {
          "output_type": "stream",
          "text": [
            "div()= 0.5\n",
            "div(4)= 2.0\n",
            "div(6, 3)= 2.0\n"
          ],
          "name": "stdout"
        }
      ]
    },
    {
      "cell_type": "code",
      "metadata": {
        "id": "s419B-o5DBG3",
        "outputId": "f1111409-d2a8-4377-e3e2-07746900b200",
        "colab": {
          "base_uri": "https://localhost:8080/",
          "height": 52
        }
      },
      "source": [
        "def func(a,b,c):\n",
        "    print(a,b,c)\n",
        "func(1,2,3)\n",
        "func(1,c=2, b=-1)\n",
        "#func(1,b=2,4)"
      ],
      "execution_count": null,
      "outputs": [
        {
          "output_type": "stream",
          "text": [
            "1 2 3\n",
            "1 -1 2\n"
          ],
          "name": "stdout"
        }
      ]
    },
    {
      "cell_type": "code",
      "metadata": {
        "id": "yw2YCSJUEatk",
        "outputId": "89b4ea16-3f24-486e-b556-25f44f0f3cca",
        "colab": {
          "base_uri": "https://localhost:8080/",
          "height": 70
        }
      },
      "source": [
        "def func(shape, w = 1, h = 1, r = 1):\n",
        "    if shape == 0: #rect\n",
        "        return w*h\n",
        "    if shape == 1: #circle\n",
        "        return 3.14*r**2\n",
        "print(\"rect area =\", func(0, w = 10, h= 20))\n",
        "print(\"circle area =\", func(1, r=5))\n",
        "print(\"rect area2 =\", func(0, r=10))"
      ],
      "execution_count": null,
      "outputs": [
        {
          "output_type": "stream",
          "text": [
            "rect area = 200\n",
            "circle area = 78.5\n",
            "rect area2 = 1\n"
          ],
          "name": "stdout"
        }
      ]
    },
    {
      "cell_type": "code",
      "metadata": {
        "id": "svARyDKRFJ9P",
        "outputId": "d6e8437b-3437-4922-d0a5-45bf6a7472b4",
        "colab": {
          "base_uri": "https://localhost:8080/",
          "height": 52
        }
      },
      "source": [
        "def print_name(honorifics, first_name, last_name):\n",
        "    print(honorifics, first_name, last_name)\n",
        "print_name(first_name = 'Gildong', last_name = 'Hong', honorifics='Dr.')\n",
        "print_name('Gildong', 'Hong','Dr.')"
      ],
      "execution_count": null,
      "outputs": [
        {
          "output_type": "stream",
          "text": [
            "Dr. Gildong Hong\n",
            "Gildong Hong Dr.\n"
          ],
          "name": "stdout"
        }
      ]
    },
    {
      "cell_type": "code",
      "metadata": {
        "id": "ZeGCQ7FgHGRw",
        "outputId": "f858ae5f-3b97-47a8-e8fc-d20c0837456c",
        "colab": {
          "base_uri": "https://localhost:8080/",
          "height": 88
        }
      },
      "source": [
        "def greet(*names):\n",
        "    print('length:', len(names))\n",
        "    for name in names:\n",
        "        print('안녕하세요', name, '씨')\n",
        "greet('홍길동','양만춘','이순신')"
      ],
      "execution_count": null,
      "outputs": [
        {
          "output_type": "stream",
          "text": [
            "length: 3\n",
            "안녕하세요 홍길동 씨\n",
            "안녕하세요 양만춘 씨\n",
            "안녕하세요 이순신 씨\n"
          ],
          "name": "stdout"
        }
      ]
    },
    {
      "cell_type": "code",
      "metadata": {
        "id": "Y202fiRlHe8w",
        "outputId": "e5326b38-0cdd-49c9-e30f-9f29cc5cef71",
        "colab": {
          "base_uri": "https://localhost:8080/",
          "height": 52
        }
      },
      "source": [
        "def sum_nums(*numbers):\n",
        "    result = 0;\n",
        "    for n in numbers:\n",
        "        result += n\n",
        "    return result\n",
        "print(sum_nums(10,20,30))\n",
        "print(sum_nums(10,20,30,40,50))"
      ],
      "execution_count": null,
      "outputs": [
        {
          "output_type": "stream",
          "text": [
            "60\n",
            "150\n"
          ],
          "name": "stdout"
        }
      ]
    },
    {
      "cell_type": "code",
      "metadata": {
        "id": "jTWp5BJwIphH",
        "outputId": "6419631e-577d-440c-b4be-01538752685e",
        "colab": {
          "base_uri": "https://localhost:8080/",
          "height": 88
        }
      },
      "source": [
        "#Lab 4-10 : 가변 인자의 활용\n",
        "def sum_n_avg(*numbers):\n",
        "    result = 0;\n",
        "    for n in numbers:\n",
        "        result += n\n",
        "    return result, result/len(numbers)\n",
        "print(\"3개의 인자(10, 20, 30)\\n합계 :\", sum_n_avg(10,20,30)[0], \", 평균 :\", sum_n_avg(10,20,30)[1])\n",
        "print(\"3개의 인자(10, 20, 30, 40, 50)\\n합계 :\", sum_n_avg(10,20,30,40,50)[0], \", 평균 :\", sum_n_avg(10,20,30,40,50)[1])"
      ],
      "execution_count": null,
      "outputs": [
        {
          "output_type": "stream",
          "text": [
            "3개의 인자(10, 20, 30)\n",
            "합계 : 60 , 평균 : 20.0\n",
            "3개의 인자(10, 20, 30, 40, 50)\n",
            "합계 : 150 , 평균 : 30.0\n"
          ],
          "name": "stdout"
        }
      ]
    },
    {
      "cell_type": "code",
      "metadata": {
        "id": "O1TpmYhcI9b2",
        "outputId": "359067fa-9bf6-4b21-9c99-a188d598e41a",
        "colab": {
          "base_uri": "https://localhost:8080/",
          "height": 34
        }
      },
      "source": [
        "#Lab 4-10-2\n",
        "def min_nums(*nums):\n",
        "    return min(nums)\n",
        "print(\"최솟값은\", min_nums(20,40,50,10))"
      ],
      "execution_count": null,
      "outputs": [
        {
          "output_type": "stream",
          "text": [
            "최솟값은 10\n"
          ],
          "name": "stdout"
        }
      ]
    },
    {
      "cell_type": "code",
      "metadata": {
        "id": "MGtH8DnWNo10",
        "outputId": "a31197c4-e79b-4c33-d95e-9befd592a852",
        "colab": {
          "base_uri": "https://localhost:8080/",
          "height": 34
        }
      },
      "source": [
        "def factorial(n):\n",
        "    if n <= 1:\n",
        "        return 1\n",
        "    else:\n",
        "        return n*factorial(n-1)\n",
        "n=5\n",
        "print(\"{}! = {}\".format(n, factorial(n)))"
      ],
      "execution_count": null,
      "outputs": [
        {
          "output_type": "stream",
          "text": [
            "5! = 120\n"
          ],
          "name": "stdout"
        }
      ]
    },
    {
      "cell_type": "code",
      "metadata": {
        "id": "JD7MhrwtO45X",
        "outputId": "56afeb39-07b2-449a-f511-d9fe67140562",
        "colab": {
          "base_uri": "https://localhost:8080/",
          "height": 52
        }
      },
      "source": [
        "def fibonacci(n):\n",
        "    if n <= 1:\n",
        "        return n\n",
        "    else:\n",
        "        return (fibonacci(n-1) + fibonacci(n-2))\n",
        "\n",
        "nterms = int(input(\"몇 개의 피보나치수를 원하세요?\"))\n",
        "if nterms <= 0:\n",
        "    print(\"오류 : 양수를 입력하세요.\")\n",
        "else:\n",
        "    print(\"Fibonacci 수열 :\", end='')\n",
        "    for i in range(nterms):\n",
        "        print(fibonacci(i), end=' ')"
      ],
      "execution_count": null,
      "outputs": [
        {
          "output_type": "stream",
          "text": [
            "몇 개의 피보나치수를 원하세요?20\n",
            "Fibonacci 수열 :0 1 1 2 3 5 8 13 21 34 55 89 144 233 377 610 987 1597 2584 4181 "
          ],
          "name": "stdout"
        }
      ]
    },
    {
      "cell_type": "code",
      "metadata": {
        "id": "l3NUNc8tO5Cd",
        "outputId": "11b8eb2f-d1eb-450b-8f21-9ed599409ec8",
        "colab": {
          "base_uri": "https://localhost:8080/",
          "height": 34
        }
      },
      "source": [
        "s1, s2 = input(\"문자열 2개를 입력하세요: \").split()"
      ],
      "execution_count": null,
      "outputs": [
        {
          "output_type": "stream",
          "text": [
            "문자열 2개를 입력하세요: Hello Python\n"
          ],
          "name": "stdout"
        }
      ]
    },
    {
      "cell_type": "code",
      "metadata": {
        "id": "aGq8qKCHRbT7",
        "outputId": "29765643-a6ec-4207-fe51-abeec1955102",
        "colab": {
          "base_uri": "https://localhost:8080/",
          "height": 34
        }
      },
      "source": [
        "s1"
      ],
      "execution_count": null,
      "outputs": [
        {
          "output_type": "execute_result",
          "data": {
            "application/vnd.google.colaboratory.intrinsic+json": {
              "type": "string"
            },
            "text/plain": [
              "'Hello'"
            ]
          },
          "metadata": {
            "tags": []
          },
          "execution_count": 69
        }
      ]
    },
    {
      "cell_type": "code",
      "metadata": {
        "id": "LWYAb1hvRevt",
        "outputId": "f06fa2d8-0a25-4629-ac4c-09f8627e1c80",
        "colab": {
          "base_uri": "https://localhost:8080/",
          "height": 34
        }
      },
      "source": [
        "s2"
      ],
      "execution_count": null,
      "outputs": [
        {
          "output_type": "execute_result",
          "data": {
            "application/vnd.google.colaboratory.intrinsic+json": {
              "type": "string"
            },
            "text/plain": [
              "'Python'"
            ]
          },
          "metadata": {
            "tags": []
          },
          "execution_count": 70
        }
      ]
    },
    {
      "cell_type": "code",
      "metadata": {
        "id": "TuLU9yTCRfDA",
        "outputId": "2803d68e-2de4-4990-821d-66a17eefc596",
        "colab": {
          "base_uri": "https://localhost:8080/",
          "height": 34
        }
      },
      "source": [
        "'Howpythonsplitthistext'.split('t')"
      ],
      "execution_count": null,
      "outputs": [
        {
          "output_type": "execute_result",
          "data": {
            "text/plain": [
              "['Howpy', 'honspli', '', 'his', 'ex', '']"
            ]
          },
          "metadata": {
            "tags": []
          },
          "execution_count": 72
        }
      ]
    },
    {
      "cell_type": "code",
      "metadata": {
        "id": "4KRLTZsySckn",
        "outputId": "bb63e55f-939d-4a40-d116-c559e73217c6",
        "colab": {
          "base_uri": "https://localhost:8080/",
          "height": 34
        }
      },
      "source": [
        "','.join('ABCD')"
      ],
      "execution_count": null,
      "outputs": [
        {
          "output_type": "execute_result",
          "data": {
            "application/vnd.google.colaboratory.intrinsic+json": {
              "type": "string"
            },
            "text/plain": [
              "'A,B,C,D'"
            ]
          },
          "metadata": {
            "tags": []
          },
          "execution_count": 74
        }
      ]
    },
    {
      "cell_type": "code",
      "metadata": {
        "id": "JP_zsGYQYCfe",
        "outputId": "66f49d60-326a-4db0-e46d-7e27e7f91f44",
        "colab": {
          "base_uri": "https://localhost:8080/",
          "height": 34
        }
      },
      "source": [
        "id(n)"
      ],
      "execution_count": null,
      "outputs": [
        {
          "output_type": "execute_result",
          "data": {
            "text/plain": [
              "10914624"
            ]
          },
          "metadata": {
            "tags": []
          },
          "execution_count": 75
        }
      ]
    },
    {
      "cell_type": "code",
      "metadata": {
        "id": "Ytd3CPQhYmsu"
      },
      "source": [
        ""
      ],
      "execution_count": null,
      "outputs": []
    }
  ]
}