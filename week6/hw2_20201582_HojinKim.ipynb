{
  "nbformat": 4,
  "nbformat_minor": 0,
  "metadata": {
    "colab": {
      "name": "hw2_20201582_HojinKim.ipynb",
      "provenance": [],
      "collapsed_sections": [],
      "authorship_tag": "ABX9TyO0brG12WPhVjOymWe2HnpK",
      "include_colab_link": true
    },
    "kernelspec": {
      "name": "python3",
      "display_name": "Python 3"
    }
  },
  "cells": [
    {
      "cell_type": "markdown",
      "metadata": {
        "id": "view-in-github",
        "colab_type": "text"
      },
      "source": [
        "<a href=\"https://colab.research.google.com/github/hojin3777/Freshman2stProgramming/blob/master/week5/hw2_20201582_HojinKim.ipynb\" target=\"_parent\"><img src=\"https://colab.research.google.com/assets/colab-badge.svg\" alt=\"Open In Colab\"/></a>"
      ]
    },
    {
      "cell_type": "code",
      "metadata": {
        "id": "QJ-ocZNyyWOj"
      },
      "source": [
        "#2.2\n",
        "width = 30\n",
        "height = 60"
      ],
      "execution_count": null,
      "outputs": []
    },
    {
      "cell_type": "code",
      "metadata": {
        "id": "kKMfuGvEyeta",
        "outputId": "60dfe091-61ed-42da-ee52-acbc2e0ad74f",
        "colab": {
          "base_uri": "https://localhost:8080/",
          "height": 35
        }
      },
      "source": [
        "print(width)"
      ],
      "execution_count": null,
      "outputs": [
        {
          "output_type": "stream",
          "text": [
            "30\n"
          ],
          "name": "stdout"
        }
      ]
    },
    {
      "cell_type": "code",
      "metadata": {
        "id": "rB-EHguJygbf",
        "outputId": "d21f06eb-5fdf-4e06-c131-7899d69d2712",
        "colab": {
          "base_uri": "https://localhost:8080/",
          "height": 35
        }
      },
      "source": [
        "print(height)"
      ],
      "execution_count": null,
      "outputs": [
        {
          "output_type": "stream",
          "text": [
            "60\n"
          ],
          "name": "stdout"
        }
      ]
    },
    {
      "cell_type": "code",
      "metadata": {
        "id": "YH4RZSzZyhQz",
        "outputId": "670783f4-8e68-4c27-c31c-69c1cc11fb61",
        "colab": {
          "base_uri": "https://localhost:8080/",
          "height": 53
        }
      },
      "source": [
        "#2.5\n",
        "length = int(input('정사각형의 밑변을 입력하시오 :'))\n",
        "print(\"정사각형의 면적 :\", length**2)"
      ],
      "execution_count": null,
      "outputs": [
        {
          "output_type": "stream",
          "text": [
            "정사각형의 밑변을 입력하시오 :40\n",
            "정사각형의 면적 : 1600\n"
          ],
          "name": "stdout"
        }
      ]
    },
    {
      "cell_type": "code",
      "metadata": {
        "id": "pua_IUvky96T",
        "outputId": "c87f70f9-a8ae-4742-bda3-5713adfcc74d",
        "colab": {
          "base_uri": "https://localhost:8080/",
          "height": 35
        }
      },
      "source": [
        "#2.6\n",
        "print(\"1에서 10까지의 합 :\", 1+2+3+4+5+6+7+8+9+10)"
      ],
      "execution_count": null,
      "outputs": [
        {
          "output_type": "stream",
          "text": [
            "1에서 10까지의 합 : 55\n"
          ],
          "name": "stdout"
        }
      ]
    },
    {
      "cell_type": "code",
      "metadata": {
        "id": "rfYNqaA_zNwf",
        "outputId": "8f9a0f75-3ea3-4029-be1e-8b6b2e7771ee",
        "colab": {
          "base_uri": "https://localhost:8080/",
          "height": 35
        }
      },
      "source": [
        "#2.7\n",
        "print(\"10! =\", 10*9*8*7*6*5*4*3*2*1)"
      ],
      "execution_count": null,
      "outputs": [
        {
          "output_type": "stream",
          "text": [
            "10! = 3628800\n"
          ],
          "name": "stdout"
        }
      ]
    },
    {
      "cell_type": "code",
      "metadata": {
        "id": "J5sQm5RozaOf",
        "outputId": "7bdb8699-8d20-4bcf-9aad-27f37a05aed9",
        "colab": {
          "base_uri": "https://localhost:8080/"
        }
      },
      "source": [
        "#2.8 square_table.py\n",
        "n=2\n",
        "print(\"a\\tn\\ta ** n\")\n",
        "for a in range (2,7):\n",
        "  print(\"%d\\t%d\\t%d\"%(a,n,a ** n))\n"
      ],
      "execution_count": null,
      "outputs": [
        {
          "output_type": "stream",
          "text": [
            "a\tn\ta ** n\n",
            "2\t2\t4\n",
            "3\t2\t9\n",
            "4\t2\t16\n",
            "5\t2\t25\n",
            "6\t2\t36\n"
          ],
          "name": "stdout"
        }
      ]
    },
    {
      "cell_type": "code",
      "metadata": {
        "id": "MZGXhzws0ZAE",
        "outputId": "017a6f38-1f99-4f7b-c97a-3f3fceaf3383",
        "colab": {
          "base_uri": "https://localhost:8080/",
          "height": 143
        }
      },
      "source": [
        "#2.9 cel2fah.py\n",
        "print(\"섭씨\\t화씨\")\n",
        "for cel in range (0,51,10):\n",
        "  print(\"%d\\t%.1f\"%(cel, (9/5)*cel+32))\n"
      ],
      "execution_count": null,
      "outputs": [
        {
          "output_type": "stream",
          "text": [
            "섭씨\t화씨\n",
            "0\t32.0\n",
            "10\t50.0\n",
            "20\t68.0\n",
            "30\t86.0\n",
            "40\t104.0\n",
            "50\t122.0\n"
          ],
          "name": "stdout"
        }
      ]
    },
    {
      "cell_type": "code",
      "metadata": {
        "id": "DP2f-tpX00RY",
        "outputId": "aac47954-b6de-4bbe-e7a0-0c5af8492b8c",
        "colab": {
          "base_uri": "https://localhost:8080/",
          "height": 53
        }
      },
      "source": [
        "#2.10\n",
        "cel = int(input(\"섭씨온도를 입력하세요 : \"))\n",
        "print(\"섭씨 %d 도는 화씨 %.1f 도 입니다.\"%(cel, (9/5)*cel+32))"
      ],
      "execution_count": null,
      "outputs": [
        {
          "output_type": "stream",
          "text": [
            "섭씨온도를 입력하세요 : 30\n",
            "섭씨 30 도는 화씨 86.0 도 입니다.\n"
          ],
          "name": "stdout"
        }
      ]
    },
    {
      "cell_type": "code",
      "metadata": {
        "id": "5Mbeynhb1QOH",
        "outputId": "c5670fa3-8dc7-42eb-83d4-e09292fa4ba6",
        "colab": {
          "base_uri": "https://localhost:8080/",
          "height": 53
        }
      },
      "source": [
        "#2.11\n",
        "far = int(input(\"화씨온도를 입력하세요 : \"))\n",
        "print(\"화씨 %d 도는 섭씨 %.1f 도 입니다.\"%(far, (far-32)*(5/9)))"
      ],
      "execution_count": null,
      "outputs": [
        {
          "output_type": "stream",
          "text": [
            "화씨온도를 입력하세요 : 86\n",
            "화씨 86 도는 섭씨 30.0 도 입니다.\n"
          ],
          "name": "stdout"
        }
      ]
    },
    {
      "cell_type": "code",
      "metadata": {
        "id": "JLJ_oqU41lwB",
        "outputId": "60c4352b-6c66-4390-802b-84d6684a5c14",
        "colab": {
          "base_uri": "https://localhost:8080/",
          "height": 35
        }
      },
      "source": [
        "#2.12\n",
        "radius = 11\n",
        "PI = 3.141592\n",
        "print(\"원의 반지름 = %d, 원의 둘레 = %f, 원의 면적 = %f\"%(radius, radius*2*PI, radius**2*PI))"
      ],
      "execution_count": null,
      "outputs": [
        {
          "output_type": "stream",
          "text": [
            "원의 반지름 = 11, 원의 둘레 = 69.115024, 원의 면적 = 380.132632\n"
          ],
          "name": "stdout"
        }
      ]
    },
    {
      "cell_type": "code",
      "metadata": {
        "id": "2Watvv9L2Le5",
        "outputId": "14c0acb7-da1d-4c88-d6a0-200abf4f653b",
        "colab": {
          "base_uri": "https://localhost:8080/",
          "height": 53
        }
      },
      "source": [
        "#2.13\n",
        "radius = int(input(\"원의 반지름을 입력하세요 : \"))\n",
        "PI = 3.141592\n",
        "print(\"원의 반지름 = %d, 원의 둘레 = %f, 원의 면적 = %f\"%(radius, radius*2*PI, radius**2*PI))"
      ],
      "execution_count": null,
      "outputs": [
        {
          "output_type": "stream",
          "text": [
            "원의 반지름을 입력하세요 : 11\n",
            "원의 반지름 = 11, 원의 둘레 = 69.115024, 원의 면적 = 380.132632\n"
          ],
          "name": "stdout"
        }
      ]
    },
    {
      "cell_type": "code",
      "metadata": {
        "id": "l5HSBG8n2XXH",
        "outputId": "fbdd8d63-f3af-4402-a73a-557f68b2ae3c",
        "colab": {
          "base_uri": "https://localhost:8080/",
          "height": 179
        }
      },
      "source": [
        "#2.14\n",
        "for i in range(2,11):\n",
        "  print(\"%d의 제곱근 =\"%(i), i**0.5)"
      ],
      "execution_count": null,
      "outputs": [
        {
          "output_type": "stream",
          "text": [
            "2의 제곱근 = 1.4142135623730951\n",
            "3의 제곱근 = 1.7320508075688772\n",
            "4의 제곱근 = 2.0\n",
            "5의 제곱근 = 2.23606797749979\n",
            "6의 제곱근 = 2.449489742783178\n",
            "7의 제곱근 = 2.6457513110645907\n",
            "8의 제곱근 = 2.8284271247461903\n",
            "9의 제곱근 = 3.0\n",
            "10의 제곱근 = 3.1622776601683795\n"
          ],
          "name": "stdout"
        }
      ]
    },
    {
      "cell_type": "code",
      "metadata": {
        "id": "QwzK_nL92nzc",
        "outputId": "ce19ff65-8646-420d-e394-dd08ada5e25d",
        "colab": {
          "base_uri": "https://localhost:8080/",
          "height": 71
        }
      },
      "source": [
        "#2.15\n",
        "a = int(input(\"밑변을 입력하세요 : \"))\n",
        "b = int(input(\"높이를 입력하세요 : \"))\n",
        "print(\"빗변 :\", (a**2+b**2)**0.5)\n"
      ],
      "execution_count": null,
      "outputs": [
        {
          "output_type": "stream",
          "text": [
            "밑변을 입력하세요 : 5\n",
            "높이를 입력하세요 : 12\n",
            "빗변 : 13.0\n"
          ],
          "name": "stdout"
        }
      ]
    },
    {
      "cell_type": "code",
      "metadata": {
        "id": "pI4asMhK35jY",
        "outputId": "e68fec74-700e-413f-9b3e-aa8989a0f6be",
        "colab": {
          "base_uri": "https://localhost:8080/"
        }
      },
      "source": [
        "#2.16 1)\n",
        "import math\n",
        "\n",
        "num = 1+2j\n",
        "deg90 = math.pi/2\n",
        "print(\"회전하기 전 :\", num)\n",
        "n2 = complex(math.cos(deg90), math.sin(deg90))\n",
        "#print(deg90, n2)\n",
        "num = num*n2\n",
        "print(\"90도 회전한 후 :\", num)"
      ],
      "execution_count": null,
      "outputs": [
        {
          "output_type": "stream",
          "text": [
            "회전하기 전 : (1+2j)\n",
            "90도 회전한 후 : (-2+1.0000000000000002j)\n"
          ],
          "name": "stdout"
        }
      ]
    },
    {
      "cell_type": "code",
      "metadata": {
        "id": "zdTuVcrq5OLQ",
        "outputId": "6e380fda-a855-4594-ebd6-fc5696e42e15",
        "colab": {
          "base_uri": "https://localhost:8080/"
        }
      },
      "source": [
        "#2.16 2)\n",
        "import math\n",
        "\n",
        "num = 1+2j\n",
        "deg30 = math.pi/6\n",
        "print(\"회전하기 전 :\", num)\n",
        "n2 = complex(math.cos(deg30), math.sin(deg30))\n",
        "num = num*n2\n",
        "print(\"30도 회전한 후 :\", num)"
      ],
      "execution_count": null,
      "outputs": [
        {
          "output_type": "stream",
          "text": [
            "회전하기 전 : (1+2j)\n",
            "30도 회전한 후 : (-0.13397459621556118+2.232050807568877j)\n"
          ],
          "name": "stdout"
        }
      ]
    },
    {
      "cell_type": "code",
      "metadata": {
        "id": "Ew3r8d3i8d5b",
        "outputId": "55c87397-383f-4a1e-90f1-e420410e0be9",
        "colab": {
          "base_uri": "https://localhost:8080/",
          "height": 35
        }
      },
      "source": [
        "#2.17\n",
        "for i in range (0,10):\n",
        "  print(2<<i, end=\" \")"
      ],
      "execution_count": null,
      "outputs": [
        {
          "output_type": "stream",
          "text": [
            "2 4 8 16 32 64 128 256 512 1024 "
          ],
          "name": "stdout"
        }
      ]
    },
    {
      "cell_type": "code",
      "metadata": {
        "id": "VTMl67EY9AHp",
        "outputId": "f1dd526f-4d71-48b0-d136-f33206430563",
        "colab": {
          "base_uri": "https://localhost:8080/",
          "height": 53
        }
      },
      "source": [
        "#2.18\n",
        "n = int(input(\"정수를 입력하세요: \"))\n",
        "if n%2 == 0:\n",
        "  print(\"이 수가 짝수인가요?\", n%2==0)\n",
        "else:\n",
        "  print(\"이 수가 짝수인가요?\", n%2==0)"
      ],
      "execution_count": null,
      "outputs": [
        {
          "output_type": "stream",
          "text": [
            "정수를 입력하세요: 21\n",
            "이 수가 짝수인가요? False\n"
          ],
          "name": "stdout"
        }
      ]
    },
    {
      "cell_type": "code",
      "metadata": {
        "id": "SDwbQtLZ-QC1",
        "outputId": "344d6baf-a034-4116-e046-5666d15ce8df",
        "colab": {
          "base_uri": "https://localhost:8080/"
        }
      },
      "source": [
        "#2.19\n",
        "n = int(input(\"정수를 입력하세요: \"))\n",
        "print(\"입력된 정수는 0에서 100의 범위 안에 있는 짝수인가요?\", 0 <= n <= 100)\n",
        "\n",
        "n = int(input(\"정수를 입력하세요: \"))\n",
        "print(\"입력된 정수는 0에서 100의 범위 안에 있는 짝수인가요?\", 0 <= n <= 100)"
      ],
      "execution_count": null,
      "outputs": [
        {
          "output_type": "stream",
          "text": [
            "정수를 입력하세요: 120\n",
            "입력된 정수는 0에서 100의 범위 안에 있는 짝수인가요? False\n",
            "정수를 입력하세요: 88\n",
            "입력된 정수는 0에서 100의 범위 안에 있는 짝수인가요? True\n"
          ],
          "name": "stdout"
        }
      ]
    },
    {
      "cell_type": "code",
      "metadata": {
        "id": "xJx-jDID-0PU",
        "outputId": "008340d4-ea86-473a-dd5c-a9205172c9f4",
        "colab": {
          "base_uri": "https://localhost:8080/"
        }
      },
      "source": [
        "#2.20\n",
        "a = 5\n",
        "b = 6\n",
        "print(bin(a), \"&\", bin(b), \"=\", bin(a&b))\n",
        "print(bin(a), \"|\", bin(b), \"=\", bin(a|b))\n",
        "print(bin(a), \"^\", bin(b), \"=\", bin(a^b))"
      ],
      "execution_count": null,
      "outputs": [
        {
          "output_type": "stream",
          "text": [
            "0b101 & 0b110 = 0b100\n",
            "0b101 | 0b110 = 0b111\n",
            "0b101 ^ 0b110 = 0b11\n"
          ],
          "name": "stdout"
        }
      ]
    },
    {
      "cell_type": "code",
      "metadata": {
        "id": "cvrDZOmZ_pBi",
        "outputId": "2c5a257c-5d69-4e55-93f5-d1721261e789",
        "colab": {
          "base_uri": "https://localhost:8080/",
          "height": 71
        }
      },
      "source": [
        "#2.21\n",
        "n = int(input(\"정수를 입력하시오 : \"))\n",
        "print(n,\"의 2진수 값 :\", bin(n))\n",
        "print(n,\"의 2진수 값에 대한 비트단위 부정값 :\", bin(~n))"
      ],
      "execution_count": null,
      "outputs": [
        {
          "output_type": "stream",
          "text": [
            "정수를 입력하시오 : 9\n",
            "9 의 2진수 값 : 0b1001\n",
            "9 의 2진수 값에 대한 비트단위 부정값 : -0b1010\n"
          ],
          "name": "stdout"
        }
      ]
    },
    {
      "cell_type": "code",
      "metadata": {
        "id": "LsWMTXTcAnYB",
        "outputId": "9b3f30ac-f332-4ef9-eb0b-43a65769d1e3",
        "colab": {
          "base_uri": "https://localhost:8080/",
          "height": 89
        }
      },
      "source": [
        "#2.22\n",
        "a = int(input(\"정수 a를 입력하시오 : \"))\n",
        "b = int(input(\"정수 b를 입력하시오 : \"))\n",
        "print(\"a / b의 몫 :\", a//b)\n",
        "print(\"a / b의 나머지 :\", a%b)"
      ],
      "execution_count": null,
      "outputs": [
        {
          "output_type": "stream",
          "text": [
            "정수 a를 입력하시오 : 202\n",
            "정수 b를 입력하시오 : 50\n",
            "a / b의 몫 : 4\n",
            "a / b의 나머지 : 2\n"
          ],
          "name": "stdout"
        }
      ]
    },
    {
      "cell_type": "code",
      "metadata": {
        "id": "ZP6r2H6hBMU5",
        "outputId": "2f16c5ff-808c-49ec-d957-a02656e538be",
        "colab": {
          "base_uri": "https://localhost:8080/",
          "height": 89
        }
      },
      "source": [
        "#2.23\n",
        "n = int(input(\"세 자리 정수를 입력하세요 : \"))\n",
        "print(\"백의 자리 :\", n//100)\n",
        "print(\"십의 자리 :\", n%100//10)\n",
        "print(\"일의 자리 :\", n%100%10)"
      ],
      "execution_count": null,
      "outputs": [
        {
          "output_type": "stream",
          "text": [
            "세 자리 정수를 입력하세요 : 245\n",
            "백의 자리 : 2\n",
            "십의 자리 : 4\n",
            "일의 자리 : 5\n"
          ],
          "name": "stdout"
        }
      ]
    },
    {
      "cell_type": "code",
      "metadata": {
        "id": "PVG2q2C8B8X9",
        "outputId": "c5b72988-96d8-41a4-e48d-40ff5514d6ce",
        "colab": {
          "base_uri": "https://localhost:8080/",
          "height": 89
        }
      },
      "source": [
        "#2.24\n",
        "n = int(input(\"세 자리 정수를 입력하세요 : \"))\n",
        "print(n%100%10)\n",
        "print(n%100//10)\n",
        "print(n//100)"
      ],
      "execution_count": null,
      "outputs": [
        {
          "output_type": "stream",
          "text": [
            "세 자리 정수를 입력하세요 : 489\n",
            "9\n",
            "8\n",
            "4\n"
          ],
          "name": "stdout"
        }
      ]
    },
    {
      "cell_type": "code",
      "metadata": {
        "id": "a52D1xYgCITq"
      },
      "source": [
        ""
      ],
      "execution_count": null,
      "outputs": []
    }
  ]
}