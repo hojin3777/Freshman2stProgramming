{
  "nbformat": 4,
  "nbformat_minor": 0,
  "metadata": {
    "colab": {
      "name": "Lab8+9_20201582_HojinKim.ipynb",
      "provenance": [],
      "authorship_tag": "ABX9TyNEtWQ8tctix/P+P7KLV1Sn",
      "include_colab_link": true
    },
    "kernelspec": {
      "name": "python3",
      "display_name": "Python 3"
    }
  },
  "cells": [
    {
      "cell_type": "markdown",
      "metadata": {
        "id": "view-in-github",
        "colab_type": "text"
      },
      "source": [
        "<a href=\"https://colab.research.google.com/github/hojin3777/Freshman2stProgramming/blob/master/week13/Lab8%2B9_20201582_HojinKim.ipynb\" target=\"_parent\"><img src=\"https://colab.research.google.com/assets/colab-badge.svg\" alt=\"Open In Colab\"/></a>"
      ]
    },
    {
      "cell_type": "code",
      "metadata": {
        "colab": {
          "base_uri": "https://localhost:8080/",
          "height": 208
        },
        "id": "F-n0oXISII84",
        "outputId": "e962c62b-f3b3-450b-ddc8-2c5d9302664d"
      },
      "source": [
        "a,b = input('두 수를 입력하시오 : ').split()\n",
        "result = int(a)/int(b)"
      ],
      "execution_count": 1,
      "outputs": [
        {
          "output_type": "stream",
          "text": [
            "두 수를 입력하시오 : 10 0\n"
          ],
          "name": "stdout"
        },
        {
          "output_type": "error",
          "ename": "ZeroDivisionError",
          "evalue": "ignored",
          "traceback": [
            "\u001b[0;31m---------------------------------------------------------------------------\u001b[0m",
            "\u001b[0;31mZeroDivisionError\u001b[0m                         Traceback (most recent call last)",
            "\u001b[0;32m<ipython-input-1-ff0790bd6dff>\u001b[0m in \u001b[0;36m<module>\u001b[0;34m()\u001b[0m\n\u001b[1;32m      1\u001b[0m \u001b[0ma\u001b[0m\u001b[0;34m,\u001b[0m\u001b[0mb\u001b[0m \u001b[0;34m=\u001b[0m \u001b[0minput\u001b[0m\u001b[0;34m(\u001b[0m\u001b[0;34m'두 수를 입력하시오 : '\u001b[0m\u001b[0;34m)\u001b[0m\u001b[0;34m.\u001b[0m\u001b[0msplit\u001b[0m\u001b[0;34m(\u001b[0m\u001b[0;34m)\u001b[0m\u001b[0;34m\u001b[0m\u001b[0;34m\u001b[0m\u001b[0m\n\u001b[0;32m----> 2\u001b[0;31m \u001b[0mresult\u001b[0m \u001b[0;34m=\u001b[0m \u001b[0mint\u001b[0m\u001b[0;34m(\u001b[0m\u001b[0ma\u001b[0m\u001b[0;34m)\u001b[0m\u001b[0;34m/\u001b[0m\u001b[0mint\u001b[0m\u001b[0;34m(\u001b[0m\u001b[0mb\u001b[0m\u001b[0;34m)\u001b[0m\u001b[0;34m\u001b[0m\u001b[0;34m\u001b[0m\u001b[0m\n\u001b[0m",
            "\u001b[0;31mZeroDivisionError\u001b[0m: division by zero"
          ]
        }
      ]
    },
    {
      "cell_type": "code",
      "metadata": {
        "colab": {
          "base_uri": "https://localhost:8080/",
          "height": 208
        },
        "id": "sAVoNkGPKOVF",
        "outputId": "1e0d4b2e-ae30-4938-fe77-2c08e3ba4674"
      },
      "source": [
        "a,b = input('두 수를 입력하시오 : ').split()\n",
        "result = int(a)/int(b)"
      ],
      "execution_count": 2,
      "outputs": [
        {
          "output_type": "stream",
          "text": [
            "두 수를 입력하시오 : 사백 이백\n"
          ],
          "name": "stdout"
        },
        {
          "output_type": "error",
          "ename": "ValueError",
          "evalue": "ignored",
          "traceback": [
            "\u001b[0;31m---------------------------------------------------------------------------\u001b[0m",
            "\u001b[0;31mValueError\u001b[0m                                Traceback (most recent call last)",
            "\u001b[0;32m<ipython-input-2-ff0790bd6dff>\u001b[0m in \u001b[0;36m<module>\u001b[0;34m()\u001b[0m\n\u001b[1;32m      1\u001b[0m \u001b[0ma\u001b[0m\u001b[0;34m,\u001b[0m\u001b[0mb\u001b[0m \u001b[0;34m=\u001b[0m \u001b[0minput\u001b[0m\u001b[0;34m(\u001b[0m\u001b[0;34m'두 수를 입력하시오 : '\u001b[0m\u001b[0;34m)\u001b[0m\u001b[0;34m.\u001b[0m\u001b[0msplit\u001b[0m\u001b[0;34m(\u001b[0m\u001b[0;34m)\u001b[0m\u001b[0;34m\u001b[0m\u001b[0;34m\u001b[0m\u001b[0m\n\u001b[0;32m----> 2\u001b[0;31m \u001b[0mresult\u001b[0m \u001b[0;34m=\u001b[0m \u001b[0mint\u001b[0m\u001b[0;34m(\u001b[0m\u001b[0ma\u001b[0m\u001b[0;34m)\u001b[0m\u001b[0;34m/\u001b[0m\u001b[0mint\u001b[0m\u001b[0;34m(\u001b[0m\u001b[0mb\u001b[0m\u001b[0;34m)\u001b[0m\u001b[0;34m\u001b[0m\u001b[0;34m\u001b[0m\u001b[0m\n\u001b[0m",
            "\u001b[0;31mValueError\u001b[0m: invalid literal for int() with base 10: '사백'"
          ]
        }
      ]
    },
    {
      "cell_type": "code",
      "metadata": {
        "colab": {
          "base_uri": "https://localhost:8080/"
        },
        "id": "5a9_NVsyKQEM",
        "outputId": "53e80279-8213-4c3e-9321-c85ba54a3a3c"
      },
      "source": [
        "try:\n",
        "    a,b = input('두 수를 입력하시오 : ').split()\n",
        "    result = int(a)/int(b)\n",
        "    print(\"{}/{} = {}\".format(a, b, result))\n",
        "except:\n",
        "    print(\"수가 정확한지 확인하세요.\")"
      ],
      "execution_count": 3,
      "outputs": [
        {
          "output_type": "stream",
          "text": [
            "두 수를 입력하시오 : 10 0\n",
            "수가 정확한지 확인하세요.\n"
          ],
          "name": "stdout"
        }
      ]
    },
    {
      "cell_type": "code",
      "metadata": {
        "colab": {
          "base_uri": "https://localhost:8080/"
        },
        "id": "oa8w8PffKids",
        "outputId": "305eb911-a6b7-4379-b298-e9af9f759de5"
      },
      "source": [
        "try:\n",
        "    b = 2/0\n",
        "    a = 1+'hundred'\n",
        "except Exception as e:\n",
        "    print(\"error : \", e)"
      ],
      "execution_count": 4,
      "outputs": [
        {
          "output_type": "stream",
          "text": [
            "error :  division by zero\n"
          ],
          "name": "stdout"
        }
      ]
    },
    {
      "cell_type": "code",
      "metadata": {
        "colab": {
          "base_uri": "https://localhost:8080/"
        },
        "id": "SdA58gnOLkgf",
        "outputId": "3e1bc888-5bce-4f74-8a6a-c7b869a4a789"
      },
      "source": [
        "try:\n",
        "    # b = 2/0\n",
        "    a = 1+'hundred'\n",
        "except Exception as e:\n",
        "    print(\"error : \", e)"
      ],
      "execution_count": 5,
      "outputs": [
        {
          "output_type": "stream",
          "text": [
            "error :  unsupported operand type(s) for +: 'int' and 'str'\n"
          ],
          "name": "stdout"
        }
      ]
    },
    {
      "cell_type": "code",
      "metadata": {
        "colab": {
          "base_uri": "https://localhost:8080/",
          "height": 208
        },
        "id": "WAtHPf-nLnsz",
        "outputId": "ba237a68-f736-40ee-b5b6-64cb1b8f9642"
      },
      "source": [
        "#LAB 8-1 : 다음 코드는 어떤 예외를 발생시키는가?\n",
        "a = [10, 20, 30]\n",
        "a[3]"
      ],
      "execution_count": 6,
      "outputs": [
        {
          "output_type": "error",
          "ename": "IndexError",
          "evalue": "ignored",
          "traceback": [
            "\u001b[0;31m---------------------------------------------------------------------------\u001b[0m",
            "\u001b[0;31mIndexError\u001b[0m                                Traceback (most recent call last)",
            "\u001b[0;32m<ipython-input-6-b0b88cb4c4dc>\u001b[0m in \u001b[0;36m<module>\u001b[0;34m()\u001b[0m\n\u001b[1;32m      1\u001b[0m \u001b[0;31m#LAB 8-1 : 다음 코드는 어떤 예외를 발생시키는가?\u001b[0m\u001b[0;34m\u001b[0m\u001b[0;34m\u001b[0m\u001b[0;34m\u001b[0m\u001b[0m\n\u001b[1;32m      2\u001b[0m \u001b[0ma\u001b[0m \u001b[0;34m=\u001b[0m \u001b[0;34m[\u001b[0m\u001b[0;36m10\u001b[0m\u001b[0;34m,\u001b[0m \u001b[0;36m20\u001b[0m\u001b[0;34m,\u001b[0m \u001b[0;36m30\u001b[0m\u001b[0;34m]\u001b[0m\u001b[0;34m\u001b[0m\u001b[0;34m\u001b[0m\u001b[0m\n\u001b[0;32m----> 3\u001b[0;31m \u001b[0ma\u001b[0m\u001b[0;34m[\u001b[0m\u001b[0;36m3\u001b[0m\u001b[0;34m]\u001b[0m\u001b[0;34m\u001b[0m\u001b[0;34m\u001b[0m\u001b[0m\n\u001b[0m",
            "\u001b[0;31mIndexError\u001b[0m: list index out of range"
          ]
        }
      ]
    },
    {
      "cell_type": "code",
      "metadata": {
        "colab": {
          "base_uri": "https://localhost:8080/",
          "height": 172
        },
        "id": "3rp_JmRJL81r",
        "outputId": "178c1c9f-9c5b-4415-e0e7-da3e8d4fd6e5"
      },
      "source": [
        "n = int('20%')"
      ],
      "execution_count": 7,
      "outputs": [
        {
          "output_type": "error",
          "ename": "ValueError",
          "evalue": "ignored",
          "traceback": [
            "\u001b[0;31m---------------------------------------------------------------------------\u001b[0m",
            "\u001b[0;31mValueError\u001b[0m                                Traceback (most recent call last)",
            "\u001b[0;32m<ipython-input-7-9ff1c6791fc8>\u001b[0m in \u001b[0;36m<module>\u001b[0;34m()\u001b[0m\n\u001b[0;32m----> 1\u001b[0;31m \u001b[0mn\u001b[0m \u001b[0;34m=\u001b[0m \u001b[0mint\u001b[0m\u001b[0;34m(\u001b[0m\u001b[0;34m'20%'\u001b[0m\u001b[0;34m)\u001b[0m\u001b[0;34m\u001b[0m\u001b[0;34m\u001b[0m\u001b[0m\n\u001b[0m",
            "\u001b[0;31mValueError\u001b[0m: invalid literal for int() with base 10: '20%'"
          ]
        }
      ]
    },
    {
      "cell_type": "code",
      "metadata": {
        "colab": {
          "base_uri": "https://localhost:8080/",
          "height": 172
        },
        "id": "VrNzJ9qrL-Nc",
        "outputId": "df29e97f-b1b1-46a8-e287-e5d8d8a88b53"
      },
      "source": [
        "a = 100 + '200'"
      ],
      "execution_count": 8,
      "outputs": [
        {
          "output_type": "error",
          "ename": "TypeError",
          "evalue": "ignored",
          "traceback": [
            "\u001b[0;31m---------------------------------------------------------------------------\u001b[0m",
            "\u001b[0;31mTypeError\u001b[0m                                 Traceback (most recent call last)",
            "\u001b[0;32m<ipython-input-8-dbfd44d49627>\u001b[0m in \u001b[0;36m<module>\u001b[0;34m()\u001b[0m\n\u001b[0;32m----> 1\u001b[0;31m \u001b[0ma\u001b[0m \u001b[0;34m=\u001b[0m \u001b[0;36m100\u001b[0m \u001b[0;34m+\u001b[0m \u001b[0;34m'200'\u001b[0m\u001b[0;34m\u001b[0m\u001b[0;34m\u001b[0m\u001b[0m\n\u001b[0m",
            "\u001b[0;31mTypeError\u001b[0m: unsupported operand type(s) for +: 'int' and 'str'"
          ]
        }
      ]
    },
    {
      "cell_type": "code",
      "metadata": {
        "colab": {
          "base_uri": "https://localhost:8080/"
        },
        "id": "93tIfP_oMAbE",
        "outputId": "d5ffa03c-44f8-474a-ecc2-b5450d629ef4"
      },
      "source": [
        "#LAB 8-2\n",
        "try:\n",
        "    a = [10, 20, 30]\n",
        "    a[3]\n",
        "except Exception as e:\n",
        "    print(\"error : \", e)\n",
        "try:\n",
        "    n = int('20%')\n",
        "except Exception as e:\n",
        "    print(\"error : \", e)\n",
        "try:\n",
        "    a = 100 + '200'\n",
        "except Exception as e:\n",
        "    print(\"error : \", e)"
      ],
      "execution_count": 9,
      "outputs": [
        {
          "output_type": "stream",
          "text": [
            "error :  list index out of range\n",
            "error :  invalid literal for int() with base 10: '20%'\n",
            "error :  unsupported operand type(s) for +: 'int' and 'str'\n"
          ],
          "name": "stdout"
        }
      ]
    },
    {
      "cell_type": "code",
      "metadata": {
        "colab": {
          "base_uri": "https://localhost:8080/"
        },
        "id": "Axz8jXv5MKz6",
        "outputId": "927719ae-ebe1-476a-a563-967713f29dec"
      },
      "source": [
        "try:\n",
        "    # b = 2/0\n",
        "    a = 1+'hundred'\n",
        "except ZeroDivisionError:\n",
        "    print(\"0으로 나눈 오류\")\n",
        "except TypeError:\n",
        "    print(\"지원되지 않은 연산자를 사용하는 오류\")"
      ],
      "execution_count": 11,
      "outputs": [
        {
          "output_type": "stream",
          "text": [
            "지원되지 않은 연산자를 사용하는 오류\n"
          ],
          "name": "stdout"
        }
      ]
    },
    {
      "cell_type": "code",
      "metadata": {
        "colab": {
          "base_uri": "https://localhost:8080/"
        },
        "id": "ZI5vYJeCMdrf",
        "outputId": "d52ca8cc-9891-4864-86d4-523dbc558589"
      },
      "source": [
        "try:\n",
        "    # b = 2/0\n",
        "    a = 1+'hundred'\n",
        "except ZeroDivisionError:\n",
        "    print(\"0으로 나눈 오류\")\n",
        "except TypeError:\n",
        "    print(\"지원되지 않은 연산자를 사용하는 오류\")\n",
        "except Exception as e:\n",
        "    print(\"error :\", e)\n",
        "    print(\"나눗셈과 연산자를 다시 확인하세요\")"
      ],
      "execution_count": 12,
      "outputs": [
        {
          "output_type": "stream",
          "text": [
            "지원되지 않은 연산자를 사용하는 오류\n"
          ],
          "name": "stdout"
        }
      ]
    },
    {
      "cell_type": "code",
      "metadata": {
        "colab": {
          "base_uri": "https://localhost:8080/"
        },
        "id": "1vS-vgUCOHwW",
        "outputId": "5fd00b00-701f-465e-fb38-5a7f032fb97a"
      },
      "source": [
        "try:\n",
        "    a,b = input(\"두 수를 입력하시오 : \").split()\n",
        "    result = int(a)/int(b)\n",
        "except ZeroDivisionError:\n",
        "    print(\"오류: 0으로 나눔을 시도했습니다.\")\n",
        "except ValueError:\n",
        "    print(\"오류: 입력 값이 정수나 실수가 아닙니다.\")\n",
        "except:\n",
        "    print(\"오류 : 10 2와 같이 두 정수를 입력하세요.\")\n",
        "else:\n",
        "    print(\"{}/{} = {}\".format(a,b,result))"
      ],
      "execution_count": 14,
      "outputs": [
        {
          "output_type": "stream",
          "text": [
            "두 수를 입력하시오 : 10 2\n",
            "10/2 = 5.0\n"
          ],
          "name": "stdout"
        }
      ]
    },
    {
      "cell_type": "code",
      "metadata": {
        "colab": {
          "base_uri": "https://localhost:8080/"
        },
        "id": "_rciO-NfOklr",
        "outputId": "d540f311-b735-4560-9efe-add5cecf89b2"
      },
      "source": [
        "#LAB 8-2-1 : 다음 코드는 어떤 예외를 발생시키는가?\n",
        "try:\n",
        "    10*(30/0)\n",
        "except ZeroDivisionError:\n",
        "    print(\"0으로 나눌수 없습니다\")"
      ],
      "execution_count": 15,
      "outputs": [
        {
          "output_type": "stream",
          "text": [
            "0으로 나눌수 없습니다\n"
          ],
          "name": "stdout"
        }
      ]
    },
    {
      "cell_type": "code",
      "metadata": {
        "colab": {
          "base_uri": "https://localhost:8080/"
        },
        "id": "SHSG5WGgP_UB",
        "outputId": "d9d4f57b-6549-47a2-9dfb-76f6a876a25c"
      },
      "source": [
        "#LAB 8-2-2\n",
        "try:\n",
        "    x = int(input('정수 x를 입력하세요: '))\n",
        "except ValueError:\n",
        "    print(\"올바르지 않은 입력입니다.\")\n",
        "else:\n",
        "    print(\"입력된 수 : %d\"%x)"
      ],
      "execution_count": 17,
      "outputs": [
        {
          "output_type": "stream",
          "text": [
            "정수 x를 입력하세요: 오\n",
            "올바르지 않은 입력입니다.\n"
          ],
          "name": "stdout"
        }
      ]
    },
    {
      "cell_type": "code",
      "metadata": {
        "colab": {
          "base_uri": "https://localhost:8080/"
        },
        "id": "9jbcZQRCQRLA",
        "outputId": "be876ab0-fe7a-4c5d-aba9-9c2ec092a299"
      },
      "source": [
        "#LAB 8-2-3\n",
        "import sys\n",
        "try:\n",
        "    f = open('myfile.txt')\n",
        "    s = f.readline()\n",
        "except FileNotFoundError:\n",
        "    print(\"파일을 찾을 수 없습니다\")"
      ],
      "execution_count": 21,
      "outputs": [
        {
          "output_type": "stream",
          "text": [
            "파일을 찾을 수 없습니다\n"
          ],
          "name": "stdout"
        }
      ]
    },
    {
      "cell_type": "code",
      "metadata": {
        "colab": {
          "base_uri": "https://localhost:8080/"
        },
        "id": "3ysn5VD-QgoM",
        "outputId": "7b2d2f58-19f1-4266-ca11-304fce89a528"
      },
      "source": [
        "def divide(x,y):\n",
        "    try:\n",
        "        result = x/y\n",
        "    except ZeroDivisionError:\n",
        "        print(\"0으로 나누는 오류발생\")\n",
        "    else:\n",
        "        print(\"결과 :\",result)\n",
        "    finally:\n",
        "        print(\"수행완료\")\n",
        "print(\"divide(100,2) 함수호출 :\")\n",
        "divide(100,2)\n",
        "print(\"divide(100,0) 함수호출 :\")\n",
        "divide(100,0)"
      ],
      "execution_count": 24,
      "outputs": [
        {
          "output_type": "stream",
          "text": [
            "divide(100,2) 함수호출 :\n",
            "결과 : 50.0\n",
            "수행완료\n",
            "divide(100,0) 함수호출 :\n",
            "0으로 나누는 오류발생\n",
            "수행완료\n"
          ],
          "name": "stdout"
        }
      ]
    },
    {
      "cell_type": "code",
      "metadata": {
        "colab": {
          "base_uri": "https://localhost:8080/"
        },
        "id": "fYeV-2BdRRn_",
        "outputId": "5eafdb1e-c0cc-4f0f-dfb3-3d2ac76667c0"
      },
      "source": [
        "#LAB 8-3 : 예외의 생성과 처리\n",
        "try:\n",
        "    a = [1,2,3,4,5]\n",
        "    print(a)\n",
        "    n = int(input(\"a의 요소를 하나 선택하시오 : \"))\n",
        "    index = '다섯' if a[n-1]==5 else '네' if a[n-1]==4 else '세' if a[n-1]==3 else '두' if a[n-1]==2 else '첫'\n",
        "except ValueError:\n",
        "    print(\"오류 : 입력 값이 정수나 실수가 아님\")\n",
        "except IndexError:\n",
        "    print(\"오류 : 5 이하의 값을 입력하세요\")\n",
        "else:\n",
        "    print(\"{} 은(는) {} 번째 요소입니다.\".format(n, index)) "
      ],
      "execution_count": 40,
      "outputs": [
        {
          "output_type": "stream",
          "text": [
            "[1, 2, 3, 4, 5]\n",
            "a의 요소를 하나 선택하시오 : 삼\n",
            "오류 : 입력 값이 정수나 실수가 아님\n"
          ],
          "name": "stdout"
        }
      ]
    },
    {
      "cell_type": "code",
      "metadata": {
        "colab": {
          "base_uri": "https://localhost:8080/",
          "height": 172
        },
        "id": "rdgUK90hSXIs",
        "outputId": "d05c3147-61c4-4cc9-dc25-bc5102b96b4e"
      },
      "source": [
        "raise Exception('Exception raised')"
      ],
      "execution_count": 41,
      "outputs": [
        {
          "output_type": "error",
          "ename": "Exception",
          "evalue": "ignored",
          "traceback": [
            "\u001b[0;31m---------------------------------------------------------------------------\u001b[0m",
            "\u001b[0;31mException\u001b[0m                                 Traceback (most recent call last)",
            "\u001b[0;32m<ipython-input-41-5b9fb0675570>\u001b[0m in \u001b[0;36m<module>\u001b[0;34m()\u001b[0m\n\u001b[0;32m----> 1\u001b[0;31m \u001b[0;32mraise\u001b[0m \u001b[0mException\u001b[0m\u001b[0;34m(\u001b[0m\u001b[0;34m'Exception raised'\u001b[0m\u001b[0;34m)\u001b[0m\u001b[0;34m\u001b[0m\u001b[0;34m\u001b[0m\u001b[0m\n\u001b[0m",
            "\u001b[0;31mException\u001b[0m: Exception raised"
          ]
        }
      ]
    },
    {
      "cell_type": "code",
      "metadata": {
        "colab": {
          "base_uri": "https://localhost:8080/",
          "height": 172
        },
        "id": "VYfmMmOaTddM",
        "outputId": "79930e84-313d-4566-e207-cd4fb4172978"
      },
      "source": [
        "raise Exception('예외 발생!')"
      ],
      "execution_count": 42,
      "outputs": [
        {
          "output_type": "error",
          "ename": "Exception",
          "evalue": "ignored",
          "traceback": [
            "\u001b[0;31m---------------------------------------------------------------------------\u001b[0m",
            "\u001b[0;31mException\u001b[0m                                 Traceback (most recent call last)",
            "\u001b[0;32m<ipython-input-42-1791d9d0567a>\u001b[0m in \u001b[0;36m<module>\u001b[0;34m()\u001b[0m\n\u001b[0;32m----> 1\u001b[0;31m \u001b[0;32mraise\u001b[0m \u001b[0mException\u001b[0m\u001b[0;34m(\u001b[0m\u001b[0;34m'예외 발생!'\u001b[0m\u001b[0;34m)\u001b[0m\u001b[0;34m\u001b[0m\u001b[0;34m\u001b[0m\u001b[0m\n\u001b[0m",
            "\u001b[0;31mException\u001b[0m: 예외 발생!"
          ]
        }
      ]
    },
    {
      "cell_type": "code",
      "metadata": {
        "colab": {
          "base_uri": "https://localhost:8080/"
        },
        "id": "lcx3x1t1TgaB",
        "outputId": "a6e27a6a-fe4d-401c-fbb7-0ecf6e2a5716"
      },
      "source": [
        "def get_ans(ans):\n",
        "    if ans in ['예','아니오']:\n",
        "        print(\"정상적인 입력입니다.\")\n",
        "    else:\n",
        "        raise ValueError('입력을 확인하세요')\n",
        "while True:\n",
        "    try:\n",
        "        ans = input('예/아니오 중 하나를 입력하세요 : ')\n",
        "        get_ans(ans)\n",
        "        break;\n",
        "    except Exception as e:\n",
        "        print(\"error :\", e)"
      ],
      "execution_count": 44,
      "outputs": [
        {
          "output_type": "stream",
          "text": [
            "예/아니오 중 하나를 입력하세요 : 아뇨\n",
            "error : 입력을 확인하세요\n",
            "예/아니오 중 하나를 입력하세요 : 네\n",
            "error : 입력을 확인하세요\n",
            "예/아니오 중 하나를 입력하세요 : 예\n",
            "정상적인 입력입니다.\n"
          ],
          "name": "stdout"
        }
      ]
    },
    {
      "cell_type": "code",
      "metadata": {
        "colab": {
          "base_uri": "https://localhost:8080/"
        },
        "id": "2q2B7ITRT5aj",
        "outputId": "25f2a93d-817a-4080-c2ce-7e95048cb66f"
      },
      "source": [
        "animals = ['lion', 'tiger','cat','dog']\n",
        "animals.sort()\n",
        "print(animals)\n",
        "animals.append('rabbit')\n",
        "print(animals)\n",
        "animals.reverse()\n",
        "print(animals)"
      ],
      "execution_count": 46,
      "outputs": [
        {
          "output_type": "stream",
          "text": [
            "['cat', 'dog', 'lion', 'tiger']\n",
            "['cat', 'dog', 'lion', 'tiger', 'rabbit']\n",
            "['rabbit', 'tiger', 'lion', 'dog', 'cat']\n"
          ],
          "name": "stdout"
        }
      ]
    },
    {
      "cell_type": "code",
      "metadata": {
        "colab": {
          "base_uri": "https://localhost:8080/"
        },
        "id": "zw3Q7ekQXDBH",
        "outputId": "4e60ca5e-ff4d-44d7-a3b2-74655145a689"
      },
      "source": [
        "s = animals.pop()\n",
        "print(s)\n",
        "print(s.upper())\n",
        "print(s.find('a'))"
      ],
      "execution_count": 47,
      "outputs": [
        {
          "output_type": "stream",
          "text": [
            "cat\n",
            "CAT\n",
            "1\n"
          ],
          "name": "stdout"
        }
      ]
    },
    {
      "cell_type": "code",
      "metadata": {
        "colab": {
          "base_uri": "https://localhost:8080/"
        },
        "id": "cA60EiSWXS23",
        "outputId": "05d2824e-d34c-4244-c68c-999f6cfd14f4"
      },
      "source": [
        "animals = ['lion', 'tiger','cat','dog']\n",
        "print(type(animals))\n",
        "print(id(animals))\n",
        "s = 'tiger'\n",
        "print(type(s))\n",
        "print(id(s))"
      ],
      "execution_count": 48,
      "outputs": [
        {
          "output_type": "stream",
          "text": [
            "<class 'list'>\n",
            "139631344077576\n",
            "<class 'str'>\n",
            "139631344438216\n"
          ],
          "name": "stdout"
        }
      ]
    },
    {
      "cell_type": "code",
      "metadata": {
        "colab": {
          "base_uri": "https://localhost:8080/"
        },
        "id": "xWl1kEqdXihO",
        "outputId": "7a35311d-a8e9-4d9b-87ce-120c0745af25"
      },
      "source": [
        "n = 200\n",
        "print(type(n))\n",
        "print(id(n))\n",
        "print(n+100)\n",
        "print(n.__add__(100))\n",
        "print(200+100)\n",
        "print( (200).__add__(100) )"
      ],
      "execution_count": 49,
      "outputs": [
        {
          "output_type": "stream",
          "text": [
            "<class 'int'>\n",
            "10920864\n",
            "300\n",
            "300\n",
            "300\n",
            "300\n"
          ],
          "name": "stdout"
        }
      ]
    },
    {
      "cell_type": "code",
      "metadata": {
        "colab": {
          "base_uri": "https://localhost:8080/"
        },
        "id": "90eN4scVYPIH",
        "outputId": "1355e542-7f38-477b-baac-f58d5baabd23"
      },
      "source": [
        "#LAB 9-1-1 : 객체와 메소드 호출\n",
        "print( (200).__sub__(100) )\n",
        "print( (200).__mul__(100) )\n",
        "print( (200).__truediv__(100) )"
      ],
      "execution_count": 50,
      "outputs": [
        {
          "output_type": "stream",
          "text": [
            "100\n",
            "20000\n",
            "2.0\n"
          ],
          "name": "stdout"
        }
      ]
    },
    {
      "cell_type": "code",
      "metadata": {
        "colab": {
          "base_uri": "https://localhost:8080/"
        },
        "id": "Gb9M4MrUbAWL",
        "outputId": "7c19e7c4-85ca-4235-ec6f-c3ac98788527"
      },
      "source": [
        "#LAB 9-1-2\n",
        "print([10,20,30,40].pop())"
      ],
      "execution_count": 51,
      "outputs": [
        {
          "output_type": "stream",
          "text": [
            "40\n"
          ],
          "name": "stdout"
        }
      ]
    },
    {
      "cell_type": "code",
      "metadata": {
        "colab": {
          "base_uri": "https://localhost:8080/"
        },
        "id": "DO142jAYbVg_",
        "outputId": "afe3dbd7-d483-4e05-cffb-024a33875db6"
      },
      "source": [
        "#LAB 9-1-3\n",
        "print(dir(list))\n",
        "print(\"keys()와 get()을 호출할 수 없음\")"
      ],
      "execution_count": 54,
      "outputs": [
        {
          "output_type": "stream",
          "text": [
            "['__add__', '__class__', '__contains__', '__delattr__', '__delitem__', '__dir__', '__doc__', '__eq__', '__format__', '__ge__', '__getattribute__', '__getitem__', '__gt__', '__hash__', '__iadd__', '__imul__', '__init__', '__init_subclass__', '__iter__', '__le__', '__len__', '__lt__', '__mul__', '__ne__', '__new__', '__reduce__', '__reduce_ex__', '__repr__', '__reversed__', '__rmul__', '__setattr__', '__setitem__', '__sizeof__', '__str__', '__subclasshook__', 'append', 'clear', 'copy', 'count', 'extend', 'index', 'insert', 'pop', 'remove', 'reverse', 'sort']\n",
            "keys()와 get()을 호출할 수 없음\n"
          ],
          "name": "stdout"
        }
      ]
    },
    {
      "cell_type": "code",
      "metadata": {
        "colab": {
          "base_uri": "https://localhost:8080/"
        },
        "id": "tf30JswObpeW",
        "outputId": "85f41bb7-3681-4aa5-cabf-5a7acc1f60b0"
      },
      "source": [
        "#LAB 9-1-4\n",
        "dir(int)"
      ],
      "execution_count": 55,
      "outputs": [
        {
          "output_type": "execute_result",
          "data": {
            "text/plain": [
              "['__abs__',\n",
              " '__add__',\n",
              " '__and__',\n",
              " '__bool__',\n",
              " '__ceil__',\n",
              " '__class__',\n",
              " '__delattr__',\n",
              " '__dir__',\n",
              " '__divmod__',\n",
              " '__doc__',\n",
              " '__eq__',\n",
              " '__float__',\n",
              " '__floor__',\n",
              " '__floordiv__',\n",
              " '__format__',\n",
              " '__ge__',\n",
              " '__getattribute__',\n",
              " '__getnewargs__',\n",
              " '__gt__',\n",
              " '__hash__',\n",
              " '__index__',\n",
              " '__init__',\n",
              " '__init_subclass__',\n",
              " '__int__',\n",
              " '__invert__',\n",
              " '__le__',\n",
              " '__lshift__',\n",
              " '__lt__',\n",
              " '__mod__',\n",
              " '__mul__',\n",
              " '__ne__',\n",
              " '__neg__',\n",
              " '__new__',\n",
              " '__or__',\n",
              " '__pos__',\n",
              " '__pow__',\n",
              " '__radd__',\n",
              " '__rand__',\n",
              " '__rdivmod__',\n",
              " '__reduce__',\n",
              " '__reduce_ex__',\n",
              " '__repr__',\n",
              " '__rfloordiv__',\n",
              " '__rlshift__',\n",
              " '__rmod__',\n",
              " '__rmul__',\n",
              " '__ror__',\n",
              " '__round__',\n",
              " '__rpow__',\n",
              " '__rrshift__',\n",
              " '__rshift__',\n",
              " '__rsub__',\n",
              " '__rtruediv__',\n",
              " '__rxor__',\n",
              " '__setattr__',\n",
              " '__sizeof__',\n",
              " '__str__',\n",
              " '__sub__',\n",
              " '__subclasshook__',\n",
              " '__truediv__',\n",
              " '__trunc__',\n",
              " '__xor__',\n",
              " 'bit_length',\n",
              " 'conjugate',\n",
              " 'denominator',\n",
              " 'from_bytes',\n",
              " 'imag',\n",
              " 'numerator',\n",
              " 'real',\n",
              " 'to_bytes']"
            ]
          },
          "metadata": {
            "tags": []
          },
          "execution_count": 55
        }
      ]
    },
    {
      "cell_type": "code",
      "metadata": {
        "colab": {
          "base_uri": "https://localhost:8080/"
        },
        "id": "B96VQGlab4oW",
        "outputId": "4e4bad0a-aea2-4583-ffbc-765052500547"
      },
      "source": [
        "#LAB 9-1-5\n",
        "dir(list)"
      ],
      "execution_count": 57,
      "outputs": [
        {
          "output_type": "execute_result",
          "data": {
            "text/plain": [
              "['__add__',\n",
              " '__class__',\n",
              " '__contains__',\n",
              " '__delattr__',\n",
              " '__delitem__',\n",
              " '__dir__',\n",
              " '__doc__',\n",
              " '__eq__',\n",
              " '__format__',\n",
              " '__ge__',\n",
              " '__getattribute__',\n",
              " '__getitem__',\n",
              " '__gt__',\n",
              " '__hash__',\n",
              " '__iadd__',\n",
              " '__imul__',\n",
              " '__init__',\n",
              " '__init_subclass__',\n",
              " '__iter__',\n",
              " '__le__',\n",
              " '__len__',\n",
              " '__lt__',\n",
              " '__mul__',\n",
              " '__ne__',\n",
              " '__new__',\n",
              " '__reduce__',\n",
              " '__reduce_ex__',\n",
              " '__repr__',\n",
              " '__reversed__',\n",
              " '__rmul__',\n",
              " '__setattr__',\n",
              " '__setitem__',\n",
              " '__sizeof__',\n",
              " '__str__',\n",
              " '__subclasshook__',\n",
              " 'append',\n",
              " 'clear',\n",
              " 'copy',\n",
              " 'count',\n",
              " 'extend',\n",
              " 'index',\n",
              " 'insert',\n",
              " 'pop',\n",
              " 'remove',\n",
              " 'reverse',\n",
              " 'sort']"
            ]
          },
          "metadata": {
            "tags": []
          },
          "execution_count": 57
        }
      ]
    },
    {
      "cell_type": "code",
      "metadata": {
        "colab": {
          "base_uri": "https://localhost:8080/"
        },
        "id": "UGIeOrRIb8FB",
        "outputId": "b9215545-d727-45b5-c244-74ab9150480d"
      },
      "source": [
        "class Cat:\n",
        "    pass\n",
        "nabi = Cat()\n",
        "print(nabi)"
      ],
      "execution_count": 58,
      "outputs": [
        {
          "output_type": "stream",
          "text": [
            "<__main__.Cat object at 0x7efe74af41d0>\n"
          ],
          "name": "stdout"
        }
      ]
    },
    {
      "cell_type": "code",
      "metadata": {
        "colab": {
          "base_uri": "https://localhost:8080/"
        },
        "id": "5-XQGHKoe3d4",
        "outputId": "613c05e5-db08-4d82-a627-b4fe13151589"
      },
      "source": [
        "class Cat:\n",
        "    def meow(self):\n",
        "        print(\"야옹 야옹~~~\")\n",
        "nabi = Cat()\n",
        "nabi.meow()"
      ],
      "execution_count": 59,
      "outputs": [
        {
          "output_type": "stream",
          "text": [
            "야옹 야옹~~~\n"
          ],
          "name": "stdout"
        }
      ]
    },
    {
      "cell_type": "code",
      "metadata": {
        "colab": {
          "base_uri": "https://localhost:8080/"
        },
        "id": "hRWNvu0Ze_od",
        "outputId": "21d7c41c-4582-47e9-a254-59f4b25611b5"
      },
      "source": [
        "class Cat:\n",
        "    def meow(self):\n",
        "        print(\"야옹 야옹~~~\")\n",
        "nabi = Cat()\n",
        "nabi.meow()\n",
        "nero = Cat()\n",
        "nero.meow()\n",
        "mimi = Cat()\n",
        "mimi.meow()"
      ],
      "execution_count": 60,
      "outputs": [
        {
          "output_type": "stream",
          "text": [
            "야옹 야옹~~~\n",
            "야옹 야옹~~~\n",
            "야옹 야옹~~~\n"
          ],
          "name": "stdout"
        }
      ]
    },
    {
      "cell_type": "code",
      "metadata": {
        "colab": {
          "base_uri": "https://localhost:8080/"
        },
        "id": "qnJxojR1frEV",
        "outputId": "6cbbedfb-49fd-4cb1-f801-1135ba0f4fe8"
      },
      "source": [
        "#LAB 9-4 : Dog 클래스와 인스턴스 생성\n",
        "class Dog:\n",
        "    def bark(self):\n",
        "        print(\"멍멍~~\")\n",
        "my_dog = Dog()\n",
        "my_dog.bark()"
      ],
      "execution_count": 62,
      "outputs": [
        {
          "output_type": "stream",
          "text": [
            "멍멍~~\n"
          ],
          "name": "stdout"
        }
      ]
    },
    {
      "cell_type": "code",
      "metadata": {
        "colab": {
          "base_uri": "https://localhost:8080/"
        },
        "id": "Jzu377Saf240",
        "outputId": "19d0fa82-baec-4acb-8a91-2a0285227a8b"
      },
      "source": [
        "class Cat:\n",
        "    def __init__(self, name, color = '흰색'):\n",
        "        self.name = name\n",
        "        self.color = color\n",
        "    def meow(self):\n",
        "        print(\"내 이름은 {}, 색깔은 {}, 야옹 야옹~~\".format(self.name, self.color))\n",
        "nabi = Cat('나비', '검정색')\n",
        "nero = Cat('네로')\n",
        "mimi = Cat('미미','갈색')\n",
        "\n",
        "nabi.meow()\n",
        "nero.meow()\n",
        "mimi.meow()"
      ],
      "execution_count": 63,
      "outputs": [
        {
          "output_type": "stream",
          "text": [
            "내 이름은 나비, 색깔은 검정색, 야옹 야옹~~\n",
            "내 이름은 네로, 색깔은 흰색, 야옹 야옹~~\n",
            "내 이름은 미미, 색깔은 갈색, 야옹 야옹~~\n"
          ],
          "name": "stdout"
        }
      ]
    },
    {
      "cell_type": "code",
      "metadata": {
        "colab": {
          "base_uri": "https://localhost:8080/"
        },
        "id": "a_C4O1d7gYxj",
        "outputId": "603f40b4-983f-48b6-c9ca-4c89ec9f7f0c"
      },
      "source": [
        "#LAB 9-5 : Dog 클래스와 인스턴스 생성\n",
        "class Dog:\n",
        "    def __init__(self, name):\n",
        "        self.name = name\n",
        "    def bark(self):\n",
        "        print(\"멍멍~~\")\n",
        "my_dog = Dog('Jindo')\n",
        "my_dog.bark()"
      ],
      "execution_count": 64,
      "outputs": [
        {
          "output_type": "stream",
          "text": [
            "멍멍~~\n"
          ],
          "name": "stdout"
        }
      ]
    },
    {
      "cell_type": "code",
      "metadata": {
        "colab": {
          "base_uri": "https://localhost:8080/"
        },
        "id": "NOZi7p9ghjES",
        "outputId": "21fc6b39-c605-4c3a-9fcc-f4f63b1d7b36"
      },
      "source": [
        "class Cat:\n",
        "    def __init__(self, name, color = '흰색'):\n",
        "        self.name = name\n",
        "        self.color = color\n",
        "    def __str__(self):\n",
        "        return 'Cat(name = '+self.name+', color = '+self.color+')'\n",
        "nabi = Cat('나비', '검정색')\n",
        "nero = Cat('네로','흰색')\n",
        "print(nabi)\n",
        "print(nero)"
      ],
      "execution_count": 65,
      "outputs": [
        {
          "output_type": "stream",
          "text": [
            "Cat(name = 나비, color = 검정색)\n",
            "Cat(name = 네로, color = 흰색)\n"
          ],
          "name": "stdout"
        }
      ]
    },
    {
      "cell_type": "code",
      "metadata": {
        "colab": {
          "base_uri": "https://localhost:8080/"
        },
        "id": "bFtKjSdCiHMB",
        "outputId": "04e1c23d-47bc-4da7-ae3a-e2ece4db7eba"
      },
      "source": [
        "print('nabi의 정보 :', nabi)"
      ],
      "execution_count": 66,
      "outputs": [
        {
          "output_type": "stream",
          "text": [
            "nabi의 정보 : Cat(name = 나비, color = 검정색)\n"
          ],
          "name": "stdout"
        }
      ]
    },
    {
      "cell_type": "code",
      "metadata": {
        "colab": {
          "base_uri": "https://localhost:8080/"
        },
        "id": "vR6K3iSTiOFE",
        "outputId": "a892fb5d-5921-499a-c180-7e89f22987fe"
      },
      "source": [
        "class Dog:\n",
        "    def __init__(self, name):\n",
        "        self.name = name\n",
        "    def __str__(self):\n",
        "        return 'Dog(name = '+self.name+')'\n",
        "my_dog = Dog('Jindo')\n",
        "print(\"my_dog의 정보 :\", my_dog)"
      ],
      "execution_count": 68,
      "outputs": [
        {
          "output_type": "stream",
          "text": [
            "my_dog의 정보 : Dog(name = Jindo)\n"
          ],
          "name": "stdout"
        }
      ]
    },
    {
      "cell_type": "code",
      "metadata": {
        "colab": {
          "base_uri": "https://localhost:8080/"
        },
        "id": "9SJGGLIwir9z",
        "outputId": "c8364be0-511a-4767-b1f0-c20b0211e9e9"
      },
      "source": [
        "class Cat:\n",
        "    def __init__(self, name, age):\n",
        "        self.__name = name\n",
        "        self.__age = age\n",
        "    def __str__(self):\n",
        "        return 'Cat(name = '+self.__name+', age = '+str(self.__age)+')'\n",
        "    def set_age(self, age):\n",
        "        if age > 0:\n",
        "            self.__age = age\n",
        "    def get_age(self):\n",
        "        return self.__age\n",
        "nabi = Cat('나비', 3)\n",
        "print(nabi)\n",
        "nabi.set_age(4)\n",
        "nabi.set_age(-5)\n",
        "print(nabi)"
      ],
      "execution_count": 71,
      "outputs": [
        {
          "output_type": "stream",
          "text": [
            "Cat(name = 나비, age = 3)\n",
            "Cat(name = 나비, age = 4)\n"
          ],
          "name": "stdout"
        }
      ]
    },
    {
      "cell_type": "code",
      "metadata": {
        "colab": {
          "base_uri": "https://localhost:8080/"
        },
        "id": "A1p2PrTrkOT1",
        "outputId": "dbe39488-0d35-4f21-a8aa-5ba9f4737e01"
      },
      "source": [
        "list_a = [10,20,30]\n",
        "list_b = [10,20,30]\n",
        "if list_a is list_b:\n",
        "    print(\"list_a is list_b\")\n",
        "else:\n",
        "    print(\"list_a is not list_b\")\n",
        "    \n",
        "print('list_a == list_b' if list_a==list_b else 'list_a != list_b')"
      ],
      "execution_count": 75,
      "outputs": [
        {
          "output_type": "stream",
          "text": [
            "list_a is not list_b\n",
            "list_a == list_b\n"
          ],
          "name": "stdout"
        }
      ]
    },
    {
      "cell_type": "code",
      "metadata": {
        "colab": {
          "base_uri": "https://localhost:8080/"
        },
        "id": "SVzaZVMSk9P0",
        "outputId": "1cca2a97-6b72-4432-d523-8cd87bd3c599"
      },
      "source": [
        "a = 'ABC'\n",
        "b = 'ABC'\n",
        "print('a is b' if a is b else 'a is not b')"
      ],
      "execution_count": 76,
      "outputs": [
        {
          "output_type": "stream",
          "text": [
            "a is b\n"
          ],
          "name": "stdout"
        }
      ]
    },
    {
      "cell_type": "code",
      "metadata": {
        "colab": {
          "base_uri": "https://localhost:8080/"
        },
        "id": "vbz3Nq6MlbR7",
        "outputId": "535b6bee-c586-4bc5-bf30-38394579bc05"
      },
      "source": [
        "#LAB 9-7 : 정수 객체의 is 연산\n",
        "n = 100\n",
        "m = 100\n",
        "print('n is m' if n is m else 'n is not m')"
      ],
      "execution_count": 77,
      "outputs": [
        {
          "output_type": "stream",
          "text": [
            "n is m\n"
          ],
          "name": "stdout"
        }
      ]
    },
    {
      "cell_type": "code",
      "metadata": {
        "colab": {
          "base_uri": "https://localhost:8080/",
          "height": 228
        },
        "id": "ePCuynj7pTyp",
        "outputId": "d622343b-4b27-437a-de8e-8574e7132037"
      },
      "source": [
        "class Vector2D:\n",
        "    def __init__(self, x, y):\n",
        "        self.x = x\n",
        "        self.y = y\n",
        "v1 = Vector2D(30,40)\n",
        "v2 = Vector2D(10,20)\n",
        "v3 = v1+v2\n",
        "print('v1 + v2 =', v3)"
      ],
      "execution_count": 78,
      "outputs": [
        {
          "output_type": "error",
          "ename": "TypeError",
          "evalue": "ignored",
          "traceback": [
            "\u001b[0;31m---------------------------------------------------------------------------\u001b[0m",
            "\u001b[0;31mTypeError\u001b[0m                                 Traceback (most recent call last)",
            "\u001b[0;32m<ipython-input-78-f83c2c943b13>\u001b[0m in \u001b[0;36m<module>\u001b[0;34m()\u001b[0m\n\u001b[1;32m      5\u001b[0m \u001b[0mv1\u001b[0m \u001b[0;34m=\u001b[0m \u001b[0mVector2D\u001b[0m\u001b[0;34m(\u001b[0m\u001b[0;36m30\u001b[0m\u001b[0;34m,\u001b[0m\u001b[0;36m40\u001b[0m\u001b[0;34m)\u001b[0m\u001b[0;34m\u001b[0m\u001b[0;34m\u001b[0m\u001b[0m\n\u001b[1;32m      6\u001b[0m \u001b[0mv2\u001b[0m \u001b[0;34m=\u001b[0m \u001b[0mVector2D\u001b[0m\u001b[0;34m(\u001b[0m\u001b[0;36m10\u001b[0m\u001b[0;34m,\u001b[0m\u001b[0;36m20\u001b[0m\u001b[0;34m)\u001b[0m\u001b[0;34m\u001b[0m\u001b[0;34m\u001b[0m\u001b[0m\n\u001b[0;32m----> 7\u001b[0;31m \u001b[0mv3\u001b[0m \u001b[0;34m=\u001b[0m \u001b[0mv1\u001b[0m\u001b[0;34m+\u001b[0m\u001b[0mv2\u001b[0m\u001b[0;34m\u001b[0m\u001b[0;34m\u001b[0m\u001b[0m\n\u001b[0m\u001b[1;32m      8\u001b[0m \u001b[0mprint\u001b[0m\u001b[0;34m(\u001b[0m\u001b[0;34m'v1 + v2 ='\u001b[0m\u001b[0;34m,\u001b[0m \u001b[0mv3\u001b[0m\u001b[0;34m)\u001b[0m\u001b[0;34m\u001b[0m\u001b[0;34m\u001b[0m\u001b[0m\n",
            "\u001b[0;31mTypeError\u001b[0m: unsupported operand type(s) for +: 'Vector2D' and 'Vector2D'"
          ]
        }
      ]
    },
    {
      "cell_type": "code",
      "metadata": {
        "colab": {
          "base_uri": "https://localhost:8080/"
        },
        "id": "OIwjNl0nqBpJ",
        "outputId": "5c5290e9-931e-4be0-cd6e-66eb70efae64"
      },
      "source": [
        "class Vector2D:\n",
        "    def __init__(self, x, y):\n",
        "        self.x = x\n",
        "        self.y = y\n",
        "    def __str__(self):\n",
        "        return '({}, {})'.format(self.x, self.y)\n",
        "    def add(self, other):\n",
        "        return Vector2D(self.x + other.x, self.y + other.y)\n",
        "v1 = Vector2D(30,40)\n",
        "v2 = Vector2D(10,20)\n",
        "v3 = v1.add(v2)\n",
        "print('v1.add(v2) =', v3)"
      ],
      "execution_count": 79,
      "outputs": [
        {
          "output_type": "stream",
          "text": [
            "v1.add(v2) = (40, 60)\n"
          ],
          "name": "stdout"
        }
      ]
    },
    {
      "cell_type": "code",
      "metadata": {
        "colab": {
          "base_uri": "https://localhost:8080/"
        },
        "id": "RovCw9kgqX2S",
        "outputId": "66753cc1-2fdf-4cf3-8dce-486c54cd3aeb"
      },
      "source": [
        "class Vector2D:\n",
        "    def __init__(self, x, y):\n",
        "        self.x = x\n",
        "        self.y = y\n",
        "    def __str__(self):\n",
        "        return '({}, {})'.format(self.x, self.y)\n",
        "    def __add__(self, other):\n",
        "        return Vector2D(self.x + other.x, self.y + other.y)\n",
        "    def __sub__(self, other):\n",
        "        return Vector2D(self.x - other.x, self.y - other.y)\n",
        "v1 = Vector2D(30,40)\n",
        "v2 = Vector2D(10,20)\n",
        "v3 = v1+v2\n",
        "print('v1 + v2 =', v3)\n",
        "v4 = v1-v2\n",
        "print('v1 - v2 =', v4)"
      ],
      "execution_count": 80,
      "outputs": [
        {
          "output_type": "stream",
          "text": [
            "v1 + v2 = (40, 60)\n",
            "v1 - v2 = (20, 20)\n"
          ],
          "name": "stdout"
        }
      ]
    },
    {
      "cell_type": "code",
      "metadata": {
        "colab": {
          "base_uri": "https://localhost:8080/"
        },
        "id": "mZOZR9_arA-e",
        "outputId": "a99aaafd-a228-4550-8447-9c483d46d69c"
      },
      "source": [
        "#LAB 9-8 : 특수 메소드의 응용\n",
        "class Vector2D:\n",
        "    def __init__(self, x, y):\n",
        "        self.x = x\n",
        "        self.y = y\n",
        "    def __str__(self):\n",
        "        return '({}, {})'.format(self.x, self.y)\n",
        "    def __add__(self, other):\n",
        "        return Vector2D(self.x + other.x, self.y + other.y)\n",
        "    def __sub__(self, other):\n",
        "        return Vector2D(self.x - other.x, self.y - other.y)\n",
        "    def __mul__(self, other):\n",
        "        return Vector2D(self.x * other.x, self.y * other.y)\n",
        "    def __truediv__(self, other):\n",
        "        return Vector2D(self.x / other.x, self.y / other.y)\n",
        "    def __neg__(self):\n",
        "        return Vector2D(-self.x, -self.y)\n",
        "v1 = Vector2D(30,40)\n",
        "v2 = Vector2D(10,20)\n",
        "print('v1 * v2 =', v1*v2)\n",
        "print('v1 / v2 =', v1/v2)\n",
        "print('-v1 =', -v1)"
      ],
      "execution_count": 81,
      "outputs": [
        {
          "output_type": "stream",
          "text": [
            "v1 * v2 = (300, 800)\n",
            "v1 / v2 = (3.0, 2.0)\n",
            "-v1 = (-30, -40)\n"
          ],
          "name": "stdout"
        }
      ]
    },
    {
      "cell_type": "code",
      "metadata": {
        "colab": {
          "base_uri": "https://localhost:8080/"
        },
        "id": "Z9sp3CXDrhJQ",
        "outputId": "d2b389f7-4224-4321-b74a-29891c2af177"
      },
      "source": [
        "#LAB 9-9 : 벡터의 크기 비교하기\n",
        "class Vector2D:\n",
        "    def __init__(self, x, y):\n",
        "        self.x = x\n",
        "        self.y = y\n",
        "    def __abs__(self):\n",
        "        return (self.x**2 + self.y**2)**0.5\n",
        "    def __str__(self):\n",
        "        return '({}, {})'.format(self.x, self.y)\n",
        "    def __lt__(self, other):\n",
        "        return True if abs(self)<abs(other) else False\n",
        "    def __le__(self, other):\n",
        "        return True if abs(self)<=abs(other) else False\n",
        "    def __ge__(self, other):\n",
        "        return True if abs(self)>=abs(other) else False\n",
        "    def __gt__(self, other):\n",
        "        return True if abs(self)>abs(other) else False\n",
        "v1 = Vector2D(30,40)\n",
        "v2 = Vector2D(10,20)\n",
        "print('v1 > v2 =', v1>v2)\n",
        "print('v1 >= v2 =', v1>=v2)\n",
        "print('v1 < v2 =', v1<v2)\n",
        "print('v1 <= v2 =', v1<=v2)"
      ],
      "execution_count": 106,
      "outputs": [
        {
          "output_type": "stream",
          "text": [
            "v1 > v2 = True\n",
            "v1 >= v2 = True\n",
            "v1 < v2 = False\n",
            "v1 <= v2 = False\n"
          ],
          "name": "stdout"
        }
      ]
    },
    {
      "cell_type": "code",
      "metadata": {
        "colab": {
          "base_uri": "https://localhost:8080/"
        },
        "id": "U9ZbkcRjsixi",
        "outputId": "4f50ba40-d250-4fe7-f160-66003d278d11"
      },
      "source": [
        "class Circle:\n",
        "    def __init__(self, name, radius, PI):\n",
        "        self.__name = name\n",
        "        self.__radius = radius\n",
        "        self.__PI = PI\n",
        "    def area(self):\n",
        "        return self.__PI * self.__radius**2\n",
        "c1 = Circle('C1', 4, 3.14)\n",
        "c2 = Circle('C2', 6, 3.141)\n",
        "c3 = Circle('C3', 5, 3.1415)\n",
        "print('c1의 면적:', c1.area())\n",
        "print('c2의 면적:', c2.area())\n",
        "print('c3의 면적:', c3.area())"
      ],
      "execution_count": 107,
      "outputs": [
        {
          "output_type": "stream",
          "text": [
            "c1의 면적: 50.24\n",
            "c2의 면적: 113.076\n",
            "c3의 면적: 78.53750000000001\n"
          ],
          "name": "stdout"
        }
      ]
    },
    {
      "cell_type": "code",
      "metadata": {
        "colab": {
          "base_uri": "https://localhost:8080/"
        },
        "id": "JqEH0d6iwM5V",
        "outputId": "9d1d3b6e-f31f-41d7-cc35-758c24ff7caa"
      },
      "source": [
        "class Circle:\n",
        "    PI = 3.141592\n",
        "    def __init__(self, name, radius):\n",
        "        self.__name = name\n",
        "        self.__radius = radius\n",
        "    def area(self):\n",
        "        return Circle.PI * self.__radius**2\n",
        "c1 = Circle('C1', 4)\n",
        "c2 = Circle('C2', 6)\n",
        "c3 = Circle('C3', 5)\n",
        "print('c1의 면적:', c1.area())\n",
        "print('c2의 면적:', c2.area())\n",
        "print('c3의 면적:', c3.area())"
      ],
      "execution_count": 110,
      "outputs": [
        {
          "output_type": "stream",
          "text": [
            "c1의 면적: 50.265472\n",
            "c2의 면적: 113.097312\n",
            "c3의 면적: 78.5398\n"
          ],
          "name": "stdout"
        }
      ]
    },
    {
      "cell_type": "code",
      "metadata": {
        "colab": {
          "base_uri": "https://localhost:8080/"
        },
        "id": "QNORe8lAwTJX",
        "outputId": "7fed9638-58d5-41e1-d16d-eedcb55492b2"
      },
      "source": [
        "class Circle:\n",
        "    PI = 3.14\n",
        "    def __init__(self, name, radius):\n",
        "        self.name = name\n",
        "        self.radius = radius\n",
        "\n",
        "c1 = Circle('C1', 4)\n",
        "print('c1의 속성들 :', c1.__dict__)\n",
        "print('c1의 name 변수 값:', c1.__dict__['name'])\n",
        "print('c1의 radius 변수 값:', c1.__dict__['radius'])"
      ],
      "execution_count": 111,
      "outputs": [
        {
          "output_type": "stream",
          "text": [
            "c1의 속성들 : {'name': 'C1', 'radius': 4}\n",
            "c1의 name 변수 값: C1\n",
            "c1의 radius 변수 값: 4\n"
          ],
          "name": "stdout"
        }
      ]
    },
    {
      "cell_type": "code",
      "metadata": {
        "colab": {
          "base_uri": "https://localhost:8080/"
        },
        "id": "w2VLVwiBw990",
        "outputId": "f5271546-3ac2-47a7-84c4-6ad80b761324"
      },
      "source": [
        "class Circle:\n",
        "    PI = 3.14\n",
        "    def __init__(self, name, radius):\n",
        "        self.__name = name\n",
        "        self.__radius = radius\n",
        "\n",
        "c1 = Circle('C1', 4)\n",
        "print('c1의 속성들 :', c1.__dict__)\n",
        "print('c1의 __name 변수 값:', c1.__dict__['_Circle__name'])\n",
        "print('c1의 __radius 변수 값:', c1.__dict__['_Circle__radius'])"
      ],
      "execution_count": 112,
      "outputs": [
        {
          "output_type": "stream",
          "text": [
            "c1의 속성들 : {'_Circle__name': 'C1', '_Circle__radius': 4}\n",
            "c1의 __name 변수 값: C1\n",
            "c1의 __radius 변수 값: 4\n"
          ],
          "name": "stdout"
        }
      ]
    },
    {
      "cell_type": "code",
      "metadata": {
        "colab": {
          "base_uri": "https://localhost:8080/"
        },
        "id": "PZww4n3PxUYh",
        "outputId": "9048d506-e84f-454a-f9fc-b11c25f63525"
      },
      "source": [
        "class Circle:\n",
        "    PI = 3.14\n",
        "    def __init__(self, name, radius):\n",
        "        self._name = name\n",
        "        self._radius = radius\n",
        "\n",
        "c1 = Circle('C1', 4)\n",
        "print('c1의 속성들 :', c1.__dict__)\n",
        "print('c1의 __name 변수 값:', c1.__dict__['_name'])\n",
        "print('c1의 __radius 변수 값:', c1.__dict__['_radius'])"
      ],
      "execution_count": 115,
      "outputs": [
        {
          "output_type": "stream",
          "text": [
            "c1의 속성들 : {'_name': 'C1', '_radius': 4}\n",
            "c1의 __name 변수 값: C1\n",
            "c1의 __radius 변수 값: 4\n"
          ],
          "name": "stdout"
        }
      ]
    },
    {
      "cell_type": "code",
      "metadata": {
        "colab": {
          "base_uri": "https://localhost:8080/"
        },
        "id": "0Ohj4l0VxsXD",
        "outputId": "8139cfb3-00c0-475c-f620-2d7a2c455cd9"
      },
      "source": [
        "#LAB 9-10-1 : __dict__를 이용한 인스턴스변수의 조회\n",
        "class Rect:\n",
        "    def __init__(self, width, height):\n",
        "        self.width = width\n",
        "        self.height = height\n",
        "r1 = Rect(100,200)\n",
        "print(r1.__dict__)\n",
        "print(r1.__dict__['width'])"
      ],
      "execution_count": 116,
      "outputs": [
        {
          "output_type": "stream",
          "text": [
            "{'width': 100, 'height': 200}\n",
            "100\n"
          ],
          "name": "stdout"
        }
      ]
    },
    {
      "cell_type": "code",
      "metadata": {
        "colab": {
          "base_uri": "https://localhost:8080/"
        },
        "id": "0QX2UiKJx9d7",
        "outputId": "5e21da2f-cc7a-4040-e5bf-3e69f2760e05"
      },
      "source": [
        "#LAB 9-10-2\n",
        "class Rect:\n",
        "    def __init__(self, width, height):\n",
        "        self.__width = width\n",
        "        self.__height = height\n",
        "r1 = Rect(100,200)\n",
        "print(r1.__dict__)\n",
        "print(r1.__dict__['_Rect__width'])"
      ],
      "execution_count": 117,
      "outputs": [
        {
          "output_type": "stream",
          "text": [
            "{'_Rect__width': 100, '_Rect__height': 200}\n",
            "100\n"
          ],
          "name": "stdout"
        }
      ]
    },
    {
      "cell_type": "code",
      "metadata": {
        "colab": {
          "base_uri": "https://localhost:8080/"
        },
        "id": "onKwYnQByEKf",
        "outputId": "69c54145-3274-4906-8516-5ab22afe31f9"
      },
      "source": [
        "n=100\n",
        "m=n\n",
        "print(id(100))\n",
        "print(id(n))\n",
        "print(id(m))"
      ],
      "execution_count": 119,
      "outputs": [
        {
          "output_type": "stream",
          "text": [
            "10917664\n",
            "10917664\n",
            "10917664\n"
          ],
          "name": "stdout"
        }
      ]
    },
    {
      "cell_type": "code",
      "metadata": {
        "colab": {
          "base_uri": "https://localhost:8080/"
        },
        "id": "DffoOGvqyd2O",
        "outputId": "a78a6dd1-3bae-42d2-9c43-504f521bbc8d"
      },
      "source": [
        "n=100\n",
        "m=n\n",
        "n=200\n",
        "print(id(n))\n",
        "print(id(m))"
      ],
      "execution_count": 120,
      "outputs": [
        {
          "output_type": "stream",
          "text": [
            "10920864\n",
            "10917664\n"
          ],
          "name": "stdout"
        }
      ]
    },
    {
      "cell_type": "code",
      "metadata": {
        "colab": {
          "base_uri": "https://localhost:8080/"
        },
        "id": "kyutfENqyv8c",
        "outputId": "3d737eb0-c4a0-472c-93ae-6a3e53c584af"
      },
      "source": [
        "n=100\n",
        "print(id(n))\n",
        "n +=1\n",
        "print(id(n))"
      ],
      "execution_count": 121,
      "outputs": [
        {
          "output_type": "stream",
          "text": [
            "10917664\n",
            "10917696\n"
          ],
          "name": "stdout"
        }
      ]
    },
    {
      "cell_type": "code",
      "metadata": {
        "colab": {
          "base_uri": "https://localhost:8080/"
        },
        "id": "R2D0zNXxy06B",
        "outputId": "8c292f0e-3a6e-475e-c360-29c2d845bf72"
      },
      "source": [
        "#LAB 9-11 : 객체와 메소드 호출\n",
        "a = 100\n",
        "b = a\n",
        "print( id(a)==id(100) )\n",
        "print( id(b)==id(100) )\n",
        "print( id(a)==id(b) )\n",
        "a = 200\n",
        "print( id(a)==id(200) )\n",
        "print( id(b)==id(200) )\n",
        "print( id(a)==id(b) )"
      ],
      "execution_count": 122,
      "outputs": [
        {
          "output_type": "stream",
          "text": [
            "True\n",
            "True\n",
            "True\n",
            "True\n",
            "False\n",
            "False\n"
          ],
          "name": "stdout"
        }
      ]
    },
    {
      "cell_type": "code",
      "metadata": {
        "id": "OI0f1fECzYsq"
      },
      "source": [
        ""
      ],
      "execution_count": null,
      "outputs": []
    }
  ]
}