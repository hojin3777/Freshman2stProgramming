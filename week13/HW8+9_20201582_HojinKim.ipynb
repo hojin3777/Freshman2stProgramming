{
  "nbformat": 4,
  "nbformat_minor": 0,
  "metadata": {
    "colab": {
      "name": "HW8+9_20201582_HojinKim.ipynb",
      "provenance": [],
      "include_colab_link": true
    },
    "kernelspec": {
      "name": "python3",
      "display_name": "Python 3.8.5 32-bit",
      "metadata": {
        "interpreter": {
          "hash": "6d58817d7a36abfa3a827e4c983e24a2b2aeec7ad475bf8b9406aeab7b3302d2"
        }
      }
    }
  },
  "cells": [
    {
      "cell_type": "markdown",
      "metadata": {
        "id": "view-in-github",
        "colab_type": "text"
      },
      "source": [
        "<a href=\"https://colab.research.google.com/github/hojin3777/Freshman2stProgramming/blob/master/week13/HW8%2B9_20201582_HojinKim.ipynb\" target=\"_parent\"><img src=\"https://colab.research.google.com/assets/colab-badge.svg\" alt=\"Open In Colab\"/></a>"
      ]
    },
    {
      "cell_type": "code",
      "metadata": {
        "id": "p1cs9oQhmw3f"
      },
      "source": [
        "#8.1, 8.2"
      ],
      "execution_count": null,
      "outputs": []
    },
    {
      "cell_type": "code",
      "metadata": {
        "colab": {
          "base_uri": "https://localhost:8080/"
        },
        "id": "GqartkK2m_O2",
        "outputId": "d1dd73b2-489a-4777-8e63-5c6afa4941c9"
      },
      "source": [
        "#8.1 (1)\n",
        "try:\n",
        "    a,b = input('두 수를 입력하시오 : ').split()\n",
        "    result = int(a) * int(b)    #숫자 외에 다른 자료형이 입력될 경우 ValueError 발생\n",
        "except ValueError:\n",
        "    print('숫자를 입력해야 합니다.')\n",
        "else:\n",
        "    print('{} * {} = {}'.format(a,b,result))"
      ],
      "execution_count": null,
      "outputs": [
        {
          "output_type": "stream",
          "text": [
            "두 수를 입력하시오 : 삼 사\n",
            "숫자를 입력해야 합니다.\n"
          ],
          "name": "stdout"
        }
      ]
    },
    {
      "cell_type": "code",
      "metadata": {
        "colab": {
          "base_uri": "https://localhost:8080/"
        },
        "id": "a5kFGB_uo08y",
        "outputId": "65d6e4ff-8ac1-4de8-f46e-d9ee332af706"
      },
      "source": [
        "#8.1 (2)\n",
        "try:\n",
        "    a,b = input('두 수를 입력하시오 : ').split()\n",
        "    result = int(a) / int(b)\n",
        "    #숫자 외에 다른 자료형이 입력될 경우 ValueError 발생, 0으로 나눌 경우 ZeroDivisionError 발생\n",
        "except ValueError:\n",
        "    print('숫자를 입력해야 합니다.')\n",
        "except ZeroDivisionError:\n",
        "    print('0으로 나눌 수 없습니다.')\n",
        "else:\n",
        "    print('{} / {} = {}'.format(a,b,result))"
      ],
      "execution_count": null,
      "outputs": [
        {
          "output_type": "stream",
          "text": [
            "두 수를 입력하시오 : 5 0\n",
            "0으로 나눌 수 없습니다.\n"
          ],
          "name": "stdout"
        }
      ]
    },
    {
      "cell_type": "code",
      "metadata": {
        "colab": {
          "base_uri": "https://localhost:8080/"
        },
        "id": "Qa6knSkepF0r",
        "outputId": "2d6b6343-59ea-4f0b-be77-ecf6dc45ae25"
      },
      "source": [
        "#8.1 (3)\n",
        "try:\n",
        "    a_list = [200,300,400]\n",
        "    print('a_list :',a_list)\n",
        "    idx = int(input('구하고자 하는 값의 인덱스를 0,1,2 중에서 입력하시오 : '))\n",
        "    result = a_list[idx]    #인덱스의 범위를 넘을 시 IndexError발생, 숫자 외 입력시 ValueError 발생\n",
        "except ValueError:\n",
        "    print('숫자를 입력해야 합니다.')\n",
        "except IndexError:\n",
        "    print('0,1,2 중에서 입력하시오.')\n",
        "else:\n",
        "    print('결과 :',result)"
      ],
      "execution_count": null,
      "outputs": [
        {
          "output_type": "stream",
          "text": [
            "a_list : [200, 300, 400]\n",
            "구하고자 하는 값의 인덱스를 0,1,2 중에서 입력하시오 : 3\n",
            "0,1,2 중에서 입력하시오.\n"
          ],
          "name": "stdout"
        }
      ]
    },
    {
      "cell_type": "code",
      "metadata": {
        "colab": {
          "base_uri": "https://localhost:8080/"
        },
        "id": "5x__534ZpWa5",
        "outputId": "60325631-548d-44a6-f606-eed0623ee7f7"
      },
      "source": [
        "#8.1 (4)\n",
        "try:\n",
        "    f_name = input('읽어들일 파일 이름을 입력하세요 : ')\n",
        "    in_file = open(f_name, 'r')    #파일이 존재하지 않는 경우 FileNotFoundError발생\n",
        "    buf = in_file.readline()\n",
        "except FileNotFoundError:\n",
        "    print('파일을 찾을 수 없습니다.')\n",
        "else:\n",
        "    print(buf)"
      ],
      "execution_count": null,
      "outputs": [
        {
          "output_type": "stream",
          "text": [
            "읽어들일 파일 이름을 입력하세요 : test\n",
            "파일을 찾을 수 없습니다.\n"
          ],
          "name": "stdout"
        }
      ]
    },
    {
      "cell_type": "code",
      "metadata": {
        "colab": {
          "base_uri": "https://localhost:8080/",
          "height": 246
        },
        "id": "ykYdwCqkp6r3",
        "outputId": "c408530c-73d6-436a-a325-990c9062465e"
      },
      "source": [
        "#8.2 (local에서 실행, 동일 경로에 읽기 전용 my_hello.txt 존재)\n",
        "try:\n",
        "    f = open('my_hello.txt', 'r+t')    #쓰기가 금지되어 있어 PermissionError발생\n",
        "except PermissionError:\n",
        "    print('파일에 쓰기 권한이 없습니다.')\n",
        "else:\n",
        "    f.write(\"Hello Python\")"
      ],
      "execution_count": null,
      "outputs": [
        {
          "output_type": "stream",
          "text": [
            "파일에 쓰기 권한이 없습니다.\n"
          ],
          "name": "stdout"
        }
      ]
    },
    {
      "cell_type": "code",
      "metadata": {
        "id": "UOJlIlp1seTS"
      },
      "source": [
        "#9.1, 9.5-9.14"
      ],
      "execution_count": null,
      "outputs": []
    },
    {
      "cell_type": "code",
      "metadata": {
        "colab": {
          "base_uri": "https://localhost:8080/"
        },
        "id": "-9WFQQMAseqj",
        "outputId": "1f804cf6-b046-40a5-c608-fe7103f5c987"
      },
      "source": [
        "#9.1\n",
        "class my_int:\n",
        "    def __init__(self, value):\n",
        "        self.value = value\n",
        "    def __str__(self):\n",
        "        return str(self.value)\n",
        "    def __add__(self, other):\n",
        "        # print(self, other) #호출되는지 확인\n",
        "        return self.value+other.value\n",
        "    def __sub__(self, other):\n",
        "        return self.value-other.value\n",
        "    def __mul__(self, other):\n",
        "        return self.value*other.value\n",
        "    def __truediv__(self, other):\n",
        "        return self.value/other.value\n",
        "num1 = my_int(123)\n",
        "num2 = my_int(334)\n",
        "num3 = my_int(3)\n",
        "print(\"{} + {} = {}\".format(num1, num2, num1+num2))\n",
        "print(\"{} - {} = {}\".format(num1, num2, num1-num2))\n",
        "print(\"{} * {} = {}\".format(num1, num2, num1*num2))\n",
        "print(\"{} / {} = {}\".format(num1, num3, num1/num3))"
      ],
      "execution_count": null,
      "outputs": [
        {
          "output_type": "stream",
          "text": [
            "123 + 334 = 457\n",
            "123 - 334 = -211\n",
            "123 * 334 = 41082\n",
            "123 / 3 = 41.0\n"
          ],
          "name": "stdout"
        }
      ]
    },
    {
      "cell_type": "code",
      "metadata": {
        "colab": {
          "base_uri": "https://localhost:8080/"
        },
        "id": "mqL8oIrwtLl9",
        "outputId": "05effd7c-d218-48ff-b9c9-e3b8d9b6c53f"
      },
      "source": [
        "#9.5\n",
        "a,b,c,d,e = 1,1,2,3,3\n",
        "print(\"a와 b는 같은 객체인가?\", a is b )\n",
        "print(\"b와 c는 같은 객체인가?\", b is c )\n",
        "print(\"c와 d는 같은 객체인가?\", c is d )\n",
        "print(\"d와 e는 같은 객체인가?\", d is e )"
      ],
      "execution_count": null,
      "outputs": [
        {
          "output_type": "stream",
          "text": [
            "a와 b는 같은 객체인가? True\n",
            "b와 c는 같은 객체인가? False\n",
            "c와 d는 같은 객체인가? False\n",
            "d와 e는 같은 객체인가? True\n"
          ],
          "name": "stdout"
        }
      ]
    },
    {
      "cell_type": "code",
      "metadata": {
        "colab": {
          "base_uri": "https://localhost:8080/"
        },
        "id": "GHMa1ttEw5Xn",
        "outputId": "e134e6dc-5450-4c78-979c-86ed49c6c8ff"
      },
      "source": [
        "#9.6\n",
        "class Dog:\n",
        "    def __init__(self, name, age):\n",
        "        self.name = name\n",
        "        self.age = age\n",
        "my_dog = Dog('Mango', 3)\n",
        "print(\"my_dog의 이름은 Mango이고, 나이는 3살 입니다.\")"
      ],
      "execution_count": null,
      "outputs": [
        {
          "output_type": "stream",
          "text": [
            "my_dog의 이름은 Mango이고, 나이는 3살 입니다.\n"
          ],
          "name": "stdout"
        }
      ]
    },
    {
      "cell_type": "code",
      "metadata": {
        "colab": {
          "base_uri": "https://localhost:8080/"
        },
        "id": "boujMnNdx2-8",
        "outputId": "d205eea5-d2d3-46a2-92bd-8b1661495194"
      },
      "source": [
        "#9.7\n",
        "class Dog:\n",
        "    def __init__(self, name, age):\n",
        "        self.name = name\n",
        "        self.age = age\n",
        "    def __str__(self):\n",
        "        return \"이름은 \"+self.name+\"이고, 나이는 \"+str(self.age)+\"살 입니다.\"\n",
        "my_dog = Dog('Mango', 3)\n",
        "print(my_dog)"
      ],
      "execution_count": null,
      "outputs": [
        {
          "output_type": "stream",
          "text": [
            "이름은 Mango이고, 나이는 3살 입니다.\n"
          ],
          "name": "stdout"
        }
      ]
    },
    {
      "cell_type": "code",
      "metadata": {
        "colab": {
          "base_uri": "https://localhost:8080/"
        },
        "id": "1bJ2cA8ozsc2",
        "outputId": "f2127797-25fe-4fe5-97d5-db17f6c6e20d"
      },
      "source": [
        "#9.8\n",
        "class Counter:\n",
        "    def __init__(self, number = 0):\n",
        "        self.__number = number\n",
        "        self.range()\n",
        "    def range(self):\n",
        "        if self.__number >= 100 or self.__number <= -1:\n",
        "            self.__number = 0\n",
        "    def reset(self):\n",
        "        self.__number = 0\n",
        "    def inc(self):\n",
        "        self.__number += 1\n",
        "        self.range()\n",
        "    def dec(self):\n",
        "        self.__number -= 1\n",
        "        self.range()\n",
        "    def __str__(self):\n",
        "        return \"C(%d)\"%self.__number\n",
        "#예제 1\n",
        "c1 = Counter(10)\n",
        "c1.inc()\n",
        "print('c1 =', c1)\n",
        "#예제 2\n",
        "c2 = Counter()\n",
        "c2.inc()\n",
        "c2.inc()\n",
        "c2.dec()\n",
        "print('c2 =', c2)\n",
        "c2.reset()\n",
        "print('c2 =', c2)"
      ],
      "execution_count": null,
      "outputs": [
        {
          "output_type": "stream",
          "text": [
            "c1 = C(11)\n",
            "c2 = C(1)\n",
            "c2 = C(0)\n"
          ],
          "name": "stdout"
        }
      ]
    },
    {
      "cell_type": "code",
      "metadata": {
        "colab": {
          "base_uri": "https://localhost:8080/"
        },
        "id": "qovflucG1fX_",
        "outputId": "9178b105-3bbb-42ed-faab-1df18cc4718e"
      },
      "source": [
        "#9.9\n",
        "class Counter:\n",
        "    def __init__(self, number = 0):\n",
        "        self.__number = number\n",
        "        self.range()\n",
        "    def range(self):\n",
        "        if self.__number >= 100 or self.__number <= -1:\n",
        "            self.__number = 0\n",
        "    def reset(self):\n",
        "        self.__number = 0\n",
        "    def inc(self):\n",
        "        self.__number += 1\n",
        "        self.range()\n",
        "    def dec(self):\n",
        "        self.__number -= 1\n",
        "        self.range()\n",
        "    def __str__(self):\n",
        "        return \"C(%d)\"%self.__number\n",
        "    def __add__(self, other):\n",
        "        return Counter(self.__number + other.__number)\n",
        "    def __sub__(self, other):\n",
        "        return Counter(self.__number - other.__number)\n",
        "c1 = Counter(10)\n",
        "c2 = Counter(20)\n",
        "c3 = c1+c2\n",
        "c4 = c1-c2\n",
        "print('c3 =', c3)\n",
        "print('c4 =', c4)   #문제에 -1 이하일 때 0값을 가지게 지시했으나 실행결과가 다르게 제시되어 있음."
      ],
      "execution_count": null,
      "outputs": [
        {
          "output_type": "stream",
          "text": [
            "c3 = C(30)\n",
            "c4 = C(0)\n"
          ],
          "name": "stdout"
        }
      ]
    },
    {
      "cell_type": "code",
      "metadata": {
        "colab": {
          "base_uri": "https://localhost:8080/"
        },
        "id": "cdfxxT2Z4gUD",
        "outputId": "4d77961f-ab0e-448f-9b8c-63f1b93070ab"
      },
      "source": [
        "#9.10\n",
        "class BankAccount:\n",
        "    def __init__(self, name, account_num, balance = 0):\n",
        "        self.__name = name #str\n",
        "        self.__account_num = account_num #str\n",
        "        self.__balance = balance #int\n",
        "    def __str__(self):\n",
        "        return \"{}님의 계좌 {}의 잔고는 {:,}원입니다.\".format(self.__name, self.__account_num, self.__balance)\n",
        "    def get_name(self):\n",
        "        return self.__name\n",
        "    def get_account_num(self):\n",
        "        return self.__account_num\n",
        "    def get_balance(self):\n",
        "        return self.__balance\n",
        "    def deposit(self, money):\n",
        "        self.__balance += money\n",
        "        print(\"{:,}원이 입급되었습니다. 잔고는 {:,}원입니다.\".format(money, self.__balance))\n",
        "    def withdraw(self, money):\n",
        "        if self.__balance < money:\n",
        "            print(\"계좌 잔고는 {:,}원으로 인출 요구 금액 {:,}원보다 작습니다.\".format(self.__balance, money))\n",
        "        else:\n",
        "            self.__balance -= money\n",
        "            print(\"{:,}원이 출금되었습니다. 잔고는 {:,}원입니다.\".format(money, self.__balance))\n",
        "account1 = BankAccount('홍길동', '1234-0001')\n",
        "print(account1)\n",
        "account1.deposit(2000)\n",
        "print(account1)\n",
        "account1.withdraw(500)\n",
        "print(account1)\n",
        "account1.withdraw(5000)"
      ],
      "execution_count": 19,
      "outputs": [
        {
          "output_type": "stream",
          "text": [
            "홍길동님의 계좌 1234-0001의 잔고는 0원입니다.\n",
            "2,000원이 입급되었습니다. 잔고는 2,000원입니다.\n",
            "홍길동님의 계좌 1234-0001의 잔고는 2,000원입니다.\n",
            "500원이 출금되었습니다. 잔고는 1,500원입니다.\n",
            "홍길동님의 계좌 1234-0001의 잔고는 1,500원입니다.\n",
            "계좌 잔고는 1,500원으로 인출 요구 금액 5,000원보다 작습니다.\n"
          ],
          "name": "stdout"
        }
      ]
    },
    {
      "cell_type": "code",
      "metadata": {
        "colab": {
          "base_uri": "https://localhost:8080/"
        },
        "id": "UflYwthD4y0V",
        "outputId": "d44e0ee8-9d22-4ff3-adf3-18c8d4f108d4"
      },
      "source": [
        "#9.11\n",
        "class Student:\n",
        "    def __init__(self, name, student_id, korean_quiz=-1, math_quiz=-1, science_quiz=-1): #use -1 as NULL\n",
        "        self.__name = name\n",
        "        self.__student_id = student_id\n",
        "        self.__korean_quiz = korean_quiz\n",
        "        self.__math_quiz = math_quiz\n",
        "        self.__science_quiz = science_quiz\n",
        "        self.__total_score = korean_quiz+math_quiz+science_quiz if korean_quiz!=-1 and math_quiz!=-1 and science_quiz!=-1 else -1\n",
        "    def __str__(self):\n",
        "        return \"이름 : {}, 학번 : {}\".format(self.__name, self.__student_id)+\\\n",
        "            \"\\n국어성적 : {}, 수학성적 : {}, 과학성적 : {}\".format(self.__korean_quiz, self.__math_quiz, self.__science_quiz)+\\\n",
        "            \"\\n합계 : {}, 평균 : {}\".format(self.__total_score, self.__total_score/3)\n",
        "    def get_name(self):\n",
        "        return self.__name\n",
        "    def get_student_id(self):\n",
        "        return self.__student_id\n",
        "    def get_korean_quiz(self):\n",
        "        return self.__korean_quiz\n",
        "    def get_math_quiz(self):\n",
        "        return self.__korean_quiz\n",
        "    def get_science_quiz(self):\n",
        "        return self.__korean_quiz\n",
        "    def set_korean_quiz(self, score):\n",
        "        self.__korean_quiz = score\n",
        "        self.__total_score = self.__korean_quiz + self.__math_quiz + self.__science_quiz #setter 호출시마다 total도 갱신\n",
        "    def set_math_quiz(self, score):\n",
        "        self.__math_quiz = score\n",
        "        self.__total_score = self.__korean_quiz + self.__math_quiz + self.__science_quiz\n",
        "    def set_science_quiz(self, score):\n",
        "        self.__science_quiz = score\n",
        "        self.__total_score = self.__korean_quiz + self.__math_quiz + self.__science_quiz\n",
        "    def get_total_score(self):\n",
        "        return self.__total_score\n",
        "    def get_avg_score(self):\n",
        "        return self.__total_score/3\n",
        "name = input(\"학생의 이름을 입력하세요 : \")\n",
        "student_id = input(\"학생의 학번을 입력하세요 : \")\n",
        "student = Student(name, student_id)\n",
        "korean_quiz = int(input(\"학생의 국어 성적을 입력하세요 : \"))\n",
        "math_quiz = int(input(\"학생의 수학 성적을 입력하세요 : \"))\n",
        "science_quiz = int(input(\"학생의 과학 성적을 입력하세요 : \"))\n",
        "student.set_korean_quiz(korean_quiz)\n",
        "student.set_math_quiz(math_quiz)\n",
        "student.set_science_quiz(science_quiz)\n",
        "print(student)"
      ],
      "execution_count": null,
      "outputs": [
        {
          "output_type": "stream",
          "text": [
            "학생의 이름을 입력하세요 : 홍길동\n",
            "학생의 학번을 입력하세요 : 20200012\n",
            "학생의 국어 성적을 입력하세요 : 85\n",
            "학생의 수학 성적을 입력하세요 : 90\n",
            "학생의 과학 성적을 입력하세요 : 95\n",
            "이름 : 홍길동, 학번 : 20200012\n",
            "국어성적 : 85, 수학성적 : 90, 과학성적 : 95\n",
            "합계 : 270, 평균 : 90.0\n"
          ],
          "name": "stdout"
        }
      ]
    },
    {
      "cell_type": "code",
      "metadata": {
        "id": "PPZ7ZC4RF__a",
        "colab": {
          "base_uri": "https://localhost:8080/"
        },
        "outputId": "d290c379-49c5-4e99-eaf9-9168710b411a"
      },
      "source": [
        "#9.12\n",
        "class TV:\n",
        "    MIN_VOLUME = 0\n",
        "    MAX_VOLUME = 20\n",
        "    MIN_CHANNEL = 0\n",
        "    MAX_CHANNEL = 200\n",
        "    def __init__(self, volume = 5, channel = 0, is_on = False):\n",
        "        self.__volume = volume\n",
        "        self.__channel = channel\n",
        "        self.__is_on = is_on\n",
        "    def __str__(self):\n",
        "        if self.__is_on:\n",
        "            return \"볼륨 = {}, 채널 = {}\".format(self.__volume, self.__channel)\n",
        "        else:\n",
        "            return \"TV가 꺼짐 상태입니다.\"\n",
        "    def toggle_power(self):\n",
        "        if self.__is_on:\n",
        "            self.__is_on = False\n",
        "        else:\n",
        "            self.__is_on = True\n",
        "    def get_channel(self):\n",
        "        return self.__channel\n",
        "    def set_channel(self, channel):\n",
        "        if 0 <= channel <= 200:\n",
        "            self.__channel = channel\n",
        "        else:\n",
        "            print(\"채널 오류\")\n",
        "    def get_volume(self):\n",
        "        return self.__volume\n",
        "    def set_volume(self, volume):   #MAX_VOLUME = 20이므로 최대 볼륨 20으로 작성함\n",
        "        if 0 <= volume <= 20:\n",
        "            self.__volume = volume\n",
        "        else:\n",
        "            print(\"볼륨 오류\")\n",
        "    def volume_up(self):\n",
        "        if self.__volume < TV.MAX_VOLUME:\n",
        "            self.__volume += 1\n",
        "    def volume_down(self):\n",
        "        if self.__volume > TV.MIN_VOLUME:\n",
        "            self.__volume -= 1\n",
        "    def channel_up(self):\n",
        "        self.__channel += 1\n",
        "        if self.__channel > 200:\n",
        "            self.__channel = TV.MIN_CHANNEL\n",
        "    def channel_down(self):\n",
        "        self.__channel -= 1\n",
        "        if self.__channel < 0:\n",
        "            self.__channel = TV.MAX_CHANNEL    #MAX_CHANNEL = 200 이므로 채널 200으로 이동하게 작성함\n",
        "my_tv = TV()\n",
        "print(my_tv)\n",
        "my_tv.toggle_power()\n",
        "print(my_tv)\n",
        "my_tv.set_channel(45)\n",
        "print(my_tv)\n",
        "my_tv.volume_up()\n",
        "my_tv.channel_up()\n",
        "print(my_tv)"
      ],
      "execution_count": null,
      "outputs": [
        {
          "output_type": "stream",
          "text": [
            "TV가 꺼짐 상태입니다.\n",
            "볼륨 = 5, 채널 = 0\n",
            "볼륨 = 5, 채널 = 45\n",
            "볼륨 = 6, 채널 = 46\n"
          ],
          "name": "stdout"
        }
      ]
    },
    {
      "cell_type": "code",
      "metadata": {
        "colab": {
          "base_uri": "https://localhost:8080/"
        },
        "id": "K8MpeXZhOG4U",
        "outputId": "9fa67aec-8790-413b-fec2-b2a2e297d498"
      },
      "source": [
        "#9.13\n",
        "class Rectangle:\n",
        "    def __init__(self, x, y, width, height):\n",
        "        self.__x = x\n",
        "        self.__y = y\n",
        "        self.__width = width\n",
        "        self.__height = height\n",
        "    def __str__(self):\n",
        "        return \"Rectangle : (x = {}, y = {}, w = {}\".format(self.__x, self.__y, self.__width)+\\\n",
        "            \", h = {}), 면적 : {}\".format(self.__height, self.area())\n",
        "    def set_x(self, x):\n",
        "        self.__x = x\n",
        "    def get_x(self):\n",
        "        return self.__x\n",
        "    def set_y(self, y):\n",
        "        self.__y = y\n",
        "    def get_y(self):\n",
        "        return self.__y\n",
        "    def set_width(self, w):\n",
        "        self.__width = w\n",
        "    def get_width(self):\n",
        "        return self.__width\n",
        "    def set_height(self, h):\n",
        "        self.__height = h\n",
        "    def get_height(self):\n",
        "        return self.__height\n",
        "    def area(self):\n",
        "        return self.__height * self.__width\n",
        "    def overlaps(self, r):\n",
        "        return True if self.__x + self.__width > r.__x and self.__y + self.__height > r.__y else False\n",
        "    def contains(self, r):\n",
        "        return True if self.__x + self.__width > r.__x + r.__width and self.__y + self.__height > r.__y + r.__width else False\n",
        "r1 = Rectangle(0, 0, 100, 100)\n",
        "r2 = Rectangle(0, -10, 10, 10)\n",
        "r3 = Rectangle(-100, 0, 120, 100)\n",
        "\n",
        "print('r1 =', r1)\n",
        "print('r2 =', r2)\n",
        "print('r3 =', r3)\n",
        "\n",
        "print('r1 contains r2 :', r1.contains(r2))\n",
        "print('r1 contains r3 :', r1.contains(r3))\n",
        "print('r1 overlaps r2 :', r1.overlaps(r2))\n",
        "print('r1 overlaps r3 :', r1.overlaps(r3))"
      ],
      "execution_count": null,
      "outputs": [
        {
          "output_type": "stream",
          "text": [
            "r1 = Rectangle : (x = 0, y = 0, w = 100, h = 100), 면적 : 10000\n",
            "r2 = Rectangle : (x = 0, y = -10, w = 10, h = 10), 면적 : 100\n",
            "r3 = Rectangle : (x = -100, y = 0, w = 120, h = 100), 면적 : 12000\n",
            "r1 contains r2 : True\n",
            "r1 contains r3 : False\n",
            "r1 overlaps r2 : True\n",
            "r1 overlaps r3 : True\n"
          ],
          "name": "stdout"
        }
      ]
    },
    {
      "cell_type": "code",
      "metadata": {
        "colab": {
          "base_uri": "https://localhost:8080/"
        },
        "id": "dSe1EBjoX8_4",
        "outputId": "0679255d-28a3-4e28-885d-34a2df4d29db"
      },
      "source": [
        "#9.14\n",
        "class Circle:\n",
        "    PI = 3.14\n",
        "    def __init__(self, x, y, radius):\n",
        "        self.__x = x\n",
        "        self.__y = y\n",
        "        self.__radius = radius\n",
        "    def __str__(self):\n",
        "        return \"Circle : (x = {}, y = {}\".format(self.__x, self.__y)+\\\n",
        "            \", r = {}), 면적 : {}\".format(self.__radius, self.area())\n",
        "    def set_x(self, x):\n",
        "        self.__x = x\n",
        "    def get_x(self):\n",
        "        return self.__x\n",
        "    def set_y(self, y):\n",
        "        self.__y = y\n",
        "    def get_y(self):\n",
        "        return self.__y\n",
        "    def set_radius(self, r):\n",
        "        self.__radius = r\n",
        "    def get_radius(self):\n",
        "        return self.__radius\n",
        "    def area(self):\n",
        "        return self.__radius**2*Circle.PI\n",
        "    def distance(self, c):\n",
        "        # print(((self.__x-c.__x)**2 + (self.__y-c.__y)**2)**0.5)\n",
        "        return ((self.__x-c.__x)**2 + (self.__y-c.__y)**2)**0.5\n",
        "    def overlaps(self, c):\n",
        "        return True if self.distance(c) < self.__radius+c.__radius else False\n",
        "    def contains(self, c):\n",
        "        return True if self.distance(c)+c.__radius <= self.__radius else False\n",
        "c1 = Circle(0, 0, 100)\n",
        "c2 = Circle(0, -10, 10)\n",
        "c3 = Circle(-100, 0, 120)\n",
        "\n",
        "print('c1 =', c1)\n",
        "print('c2 =', c2)\n",
        "print('c3 =', c3)\n",
        "\n",
        "print('c1 contains c2 :', c1.contains(c2))\n",
        "print('c1 contains c3 :', c1.contains(c3))\n",
        "print('c1 overlaps c2 :', c1.overlaps(c2))\n",
        "print('c1 overlaps c3 :', c1.overlaps(c3))"
      ],
      "execution_count": null,
      "outputs": [
        {
          "output_type": "stream",
          "text": [
            "c1 = Circle : (x = 0, y = 0, r = 100), 면적 : 31400.0\n",
            "c2 = Circle : (x = 0, y = -10, r = 10), 면적 : 314.0\n",
            "c3 = Circle : (x = -100, y = 0, r = 120), 면적 : 45216.0\n",
            "c1 contains c2 : True\n",
            "c1 contains c3 : False\n",
            "c1 overlaps c2 : True\n",
            "c1 overlaps c3 : True\n"
          ],
          "name": "stdout"
        }
      ]
    }
  ]
}