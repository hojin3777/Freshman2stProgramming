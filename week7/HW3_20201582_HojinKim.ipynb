{
  "nbformat": 4,
  "nbformat_minor": 0,
  "metadata": {
    "orig_nbformat": 2,
    "kernelspec": {
      "name": "python3",
      "display_name": "Python 3"
    },
    "colab": {
      "name": "HW3_20201582_HojinKim.ipynb",
      "provenance": [],
      "include_colab_link": true
    }
  },
  "cells": [
    {
      "cell_type": "markdown",
      "metadata": {
        "id": "view-in-github",
        "colab_type": "text"
      },
      "source": [
        "<a href=\"https://colab.research.google.com/github/hojin3777/Freshman2stProgramming/blob/master/week7/HW3_20201582_HojinKim.ipynb\" target=\"_parent\"><img src=\"https://colab.research.google.com/assets/colab-badge.svg\" alt=\"Open In Colab\"/></a>"
      ]
    },
    {
      "cell_type": "code",
      "metadata": {
        "id": "aGHz6HidcGhq",
        "outputId": "9f48238c-7d31-41ce-e77c-95f5c88925fe",
        "colab": {
          "base_uri": "https://localhost:8080/",
          "height": 71
        }
      },
      "source": [
        "#20201582 김호진 HW3\n",
        "#3.1, 3.17 제외 전체\n",
        "#3.2\n",
        "name = input(\"이름을 입력하시오 : \")\n",
        "height = int(input(\"키를 입력하시오(단위 cm): \"))\n",
        "if height >= 140:\n",
        "    print(\"{}님은 놀이기구를 탈 수 있습니다\".format(name))\n",
        "else:\n",
        "    print(\"{}님은 놀이기구를 탈 수 없습니다\".format(name))"
      ],
      "execution_count": null,
      "outputs": [
        {
          "output_type": "stream",
          "text": [
            "이름을 입력하시오 : 승주\n",
            "키를 입력하시오(단위 cm): 132\n",
            "승주님은 놀이기구를 탈 수 없습니다\n"
          ],
          "name": "stdout"
        }
      ]
    },
    {
      "cell_type": "code",
      "metadata": {
        "id": "2PCX4QukcGhw",
        "outputId": "dc785db1-c9db-4358-b3e2-9cf71a2714c9",
        "colab": {
          "base_uri": "https://localhost:8080/",
          "height": 71
        }
      },
      "source": [
        "#3.3\n",
        "age = int(input(\"이름을 입력하시오 : \"))\n",
        "height = int(input(\"키를 입력하시오(단위 cm): \"))\n",
        "if age >= 19 and height >=150 :\n",
        "    print(\"입장할 수 있습니다.\")\n",
        "else:\n",
        "    print(\"입장할 수 없습니다.\")"
      ],
      "execution_count": null,
      "outputs": [
        {
          "output_type": "stream",
          "text": [
            "이름을 입력하시오 : 16\n",
            "키를 입력하시오(단위 cm): 162\n",
            "입장할 수 없습니다.\n"
          ],
          "name": "stdout"
        }
      ]
    },
    {
      "cell_type": "code",
      "metadata": {
        "id": "3SNP-nA8eu47",
        "outputId": "293f363a-5710-4389-f47c-138e968b5336",
        "colab": {
          "base_uri": "https://localhost:8080/",
          "height": 53
        }
      },
      "source": [
        "#3.4\n",
        "age = int(input(\"나이를 입력하시오 : \"))\n",
        "if age >= 20:\n",
        "    print(\"Adult\")\n",
        "elif age >= 10:\n",
        "    print(\"Youth\")\n",
        "else:\n",
        "    print(\"Kid\")"
      ],
      "execution_count": null,
      "outputs": [
        {
          "output_type": "stream",
          "text": [
            "나이를 입력하시오 : 9\n",
            "Kid\n"
          ],
          "name": "stdout"
        }
      ]
    },
    {
      "cell_type": "code",
      "metadata": {
        "id": "vlv06Wzwlibe",
        "outputId": "47c0637a-cbe6-43aa-aae5-30df0bec7c5c",
        "colab": {
          "base_uri": "https://localhost:8080/",
          "height": 53
        }
      },
      "source": [
        "#3.5\n",
        "a, b = map(int, input('두 정수를 입력시오 : ').split())\n",
        "if a>=b:\n",
        "    print(b, a)\n",
        "else:\n",
        "    print(a, b)"
      ],
      "execution_count": null,
      "outputs": [
        {
          "output_type": "stream",
          "text": [
            "두 정수를 입력시오 : 12 99\n",
            "12 99\n"
          ],
          "name": "stdout"
        }
      ]
    },
    {
      "cell_type": "code",
      "metadata": {
        "id": "W44tz78DmF6w",
        "outputId": "2ae094ef-19b2-4da0-ba48-ca930d143a91",
        "colab": {
          "base_uri": "https://localhost:8080/",
          "height": 53
        }
      },
      "source": [
        "#3.6\n",
        "a, b, c = map(int, input('두 정수를 입력시오 : ').split())\n",
        "if a <= b and a <= c:\n",
        "    if b <= c:\n",
        "        print(a,b,c)\n",
        "    else:\n",
        "        print(a,c,b)\n",
        "elif b <= a and b <= c:\n",
        "    if a <= c:\n",
        "        print(b,a,c)\n",
        "    else:\n",
        "        print(b,c,a)\n",
        "else:\n",
        "    if a <= b:\n",
        "        print(c,a,b)\n",
        "    else:\n",
        "        print(c,b,a)"
      ],
      "execution_count": null,
      "outputs": [
        {
          "output_type": "stream",
          "text": [
            "두 정수를 입력시오 : 99 12 4\n",
            "4 12 99\n"
          ],
          "name": "stdout"
        }
      ]
    },
    {
      "cell_type": "code",
      "metadata": {
        "id": "wJYetxQSnUqa",
        "outputId": "abaa32e0-3f1e-4918-bd0f-ff9c65427e27",
        "colab": {
          "base_uri": "https://localhost:8080/",
          "height": 52
        }
      },
      "source": [
        "#3.7\n",
        "score = int(input(\"게임점수를 입력하시오 : \"))\n",
        "if score >= 1000:\n",
        "    print(\"고수입니다.\")\n",
        "else:\n",
        "    print(\"입문자입니다.\")"
      ],
      "execution_count": null,
      "outputs": [
        {
          "output_type": "stream",
          "text": [
            "게임점수를 입력하시오 : 990\n",
            "입문자입니다.\n"
          ],
          "name": "stdout"
        }
      ]
    },
    {
      "cell_type": "code",
      "metadata": {
        "id": "a_bS8wYonzGe",
        "outputId": "0abdf59d-7777-4c44-e226-33651876c2f9",
        "colab": {
          "base_uri": "https://localhost:8080/",
          "height": 52
        }
      },
      "source": [
        "#3.8\n",
        "x, y = map(int, input(\"점의 좌표 x, y를 입력하시오 : \").split())\n",
        "pos = \"\"\n",
        "if x>0 and y>0:\n",
        "    pos = \"1사분면\"\n",
        "elif x>0 and y<0:\n",
        "    pos = \"4사분면\"\n",
        "elif x<0 and y>0:\n",
        "    pos = \"2사분면\"\n",
        "elif x<0 and y<0:\n",
        "    pos = \"3사분면\"\n",
        "elif x==0 and y==0:\n",
        "    pos = \"원점\"\n",
        "elif x==0:\n",
        "    pos = \"y축 위\"\n",
        "else:\n",
        "    pos = \"x축 위\"\n",
        "print(\"%s에 있음\"%pos)"
      ],
      "execution_count": null,
      "outputs": [
        {
          "output_type": "stream",
          "text": [
            "점의 좌표 x, y를 입력하시오 : 5 -4\n",
            "4사분면에 있음\n"
          ],
          "name": "stdout"
        }
      ]
    },
    {
      "cell_type": "code",
      "metadata": {
        "id": "VSvruZg9pgJd",
        "outputId": "278a3048-3239-4bd3-c8de-73586ffe179d",
        "colab": {
          "base_uri": "https://localhost:8080/",
          "height": 88
        }
      },
      "source": [
        "#3.9\n",
        "n = int(input(\"정수를 입력하시오 : \"))\n",
        "if n%2 == 0:\n",
        "    print(\"%d는(은) 2로 나누어집니다.\"%n)\n",
        "else:\n",
        "    print(\"%d는(은) 2로 나누어지지 않습니다.\"%n)\n",
        "\n",
        "if n%3 == 0:\n",
        "    print(\"%d는(은) 3으로 나누어집니다.\"%n)\n",
        "else:\n",
        "    print(\"%d는(은) 3으로 나누어지지 않습니다.\"%n)\n",
        "\n",
        "if n%2 == 0 and n%3 == 0:\n",
        "    print(\"%d는(은) 2와 3 모두로 나누어집니다.\"%n)\n",
        "else:\n",
        "    print(\"%d는(은) 2와 3 모두로 나누어지지 않습니다.\"%n)"
      ],
      "execution_count": null,
      "outputs": [
        {
          "output_type": "stream",
          "text": [
            "정수를 입력하시오 : 12\n",
            "12는(은) 2로 나누어집니다.\n",
            "12는(은) 3으로 나누어집니다.\n",
            "12는(은) 2와 3 모두로 나누어집니다.\n"
          ],
          "name": "stdout"
        }
      ]
    },
    {
      "cell_type": "code",
      "metadata": {
        "id": "06_Ae28dqXzM",
        "outputId": "8c9df122-5beb-4a44-af43-d3cff9da335b",
        "colab": {
          "base_uri": "https://localhost:8080/",
          "height": 52
        }
      },
      "source": [
        "#3.10\n",
        "a, b = map(int, input('두 정수를 입력시오 : ').split())\n",
        "if a%b == 0:\n",
        "    print(\"{}(은)는 {}의 배수입니다.\".format(a, b))\n",
        "else:\n",
        "    print(\"{}(은)는 {}의 배수가 아닙니다.\".format(a, b))"
      ],
      "execution_count": null,
      "outputs": [
        {
          "output_type": "stream",
          "text": [
            "두 정수를 입력시오 : 125 52\n",
            "125(은)는 52의 배수가 아닙니다.\n"
          ],
          "name": "stdout"
        }
      ]
    },
    {
      "cell_type": "code",
      "metadata": {
        "id": "tVfc31Esq0Ui",
        "outputId": "c6a04ba3-82f9-44ea-8ce5-5f1bb35d6fff",
        "colab": {
          "base_uri": "https://localhost:8080/",
          "height": 52
        }
      },
      "source": [
        "#3.11\n",
        "num = list(map(int, input('세 정수를 입력시오 : ').split()))\n",
        "answer = [2, 3, 9]\n",
        "clears = list(set(answer)-set(num))\n",
        "if len(clears) == 0:\n",
        "    print(\"상금 1억 원\")\n",
        "elif len(clears) == 1:\n",
        "    print(\"상금 1천만 원\")\n",
        "elif len(clears) == 2:\n",
        "    print(\"상금 1만 원\")\n",
        "else:\n",
        "    print(\"다음 기회에...\")"
      ],
      "execution_count": null,
      "outputs": [
        {
          "output_type": "stream",
          "text": [
            "세 정수를 입력시오 : 2 1 9\n",
            "상금 1천만 원\n"
          ],
          "name": "stdout"
        }
      ]
    },
    {
      "cell_type": "code",
      "metadata": {
        "id": "tIOE93erse5f",
        "outputId": "002967a6-f15d-4d66-ad16-fce2861b8e5d",
        "colab": {
          "base_uri": "https://localhost:8080/",
          "height": 52
        }
      },
      "source": [
        "#3.12 반지름이 5인 원\n",
        "x, y = map(int, input(\"점의 좌표 x, y를 입력하시오 : \").split())\n",
        "d = ((x**2)+(y**2))**0.5\n",
        "if d > 5:\n",
        "    print(\"원의 외부에 있음\")\n",
        "else:\n",
        "    print(\"원의 내부에 있음\")"
      ],
      "execution_count": null,
      "outputs": [
        {
          "output_type": "stream",
          "text": [
            "점의 좌표 x, y를 입력하시오 : 7 9\n",
            "원의 외부에 있음\n"
          ],
          "name": "stdout"
        }
      ]
    },
    {
      "cell_type": "code",
      "metadata": {
        "id": "iKWztfGetXDD",
        "outputId": "214243f8-9e77-43fb-fc3b-9e2dba818c44",
        "colab": {
          "base_uri": "https://localhost:8080/",
          "height": 52
        }
      },
      "source": [
        "#3.13 반지름이 10, (3,4)가 중심인 원\n",
        "x, y = map(int, input(\"점의 좌표 x, y를 입력하시오 : \").split())\n",
        "d = (((x-3)**2)+((y-4)**2))**0.5\n",
        "if d > 10:\n",
        "    print(\"원의 외부에 있음\")\n",
        "else:\n",
        "    print(\"원의 내부에 있음\")"
      ],
      "execution_count": 50,
      "outputs": [
        {
          "output_type": "stream",
          "text": [
            "점의 좌표 x, y를 입력하시오 : 7 9\n",
            "원의 내부에 있음\n"
          ],
          "name": "stdout"
        }
      ]
    },
    {
      "cell_type": "code",
      "metadata": {
        "id": "bl4Y2aTdA4r1",
        "outputId": "a5ee322f-b40f-42dc-990f-88676845eda6",
        "colab": {
          "base_uri": "https://localhost:8080/",
          "height": 52
        }
      },
      "source": [
        "#3.14\n",
        "c = input(\"알파벳을 입력하시오 : \")\n",
        "if c in ['a','e','i','o','u']:\n",
        "    print(c,\"(은)는 모음입니다.\")\n",
        "else:\n",
        "    print(c,\"(은)는 자음입니다.\")"
      ],
      "execution_count": 55,
      "outputs": [
        {
          "output_type": "stream",
          "text": [
            "알파벳을 입력하시오 : t\n",
            "t (은)는 자음입니다.\n"
          ],
          "name": "stdout"
        }
      ]
    },
    {
      "cell_type": "code",
      "metadata": {
        "id": "PL_NzWD9BOTU",
        "outputId": "515cddc1-f544-4ad7-88db-f30b0273440a",
        "colab": {
          "base_uri": "https://localhost:8080/",
          "height": 177
        }
      },
      "source": [
        "#3.15(1) for문\n",
        "for i in range(1,10):\n",
        "    print(\"2 * {} = {:2d}\".format(i, 2*i))"
      ],
      "execution_count": 56,
      "outputs": [
        {
          "output_type": "stream",
          "text": [
            "2 * 1 =  2\n",
            "2 * 2 =  4\n",
            "2 * 3 =  6\n",
            "2 * 4 =  8\n",
            "2 * 5 = 10\n",
            "2 * 6 = 12\n",
            "2 * 7 = 14\n",
            "2 * 8 = 16\n",
            "2 * 9 = 18\n"
          ],
          "name": "stdout"
        }
      ]
    },
    {
      "cell_type": "code",
      "metadata": {
        "id": "6T_rVbtKB1eC",
        "outputId": "650efd37-49ce-416c-dba3-d017aaf762a3",
        "colab": {
          "base_uri": "https://localhost:8080/",
          "height": 177
        }
      },
      "source": [
        "#3.15(2) while문\n",
        "i=1\n",
        "while i < 10:\n",
        "    print(\"2 * {} = {:2d}\".format(i, 2*i))\n",
        "    i += 1"
      ],
      "execution_count": 57,
      "outputs": [
        {
          "output_type": "stream",
          "text": [
            "2 * 1 =  2\n",
            "2 * 2 =  4\n",
            "2 * 3 =  6\n",
            "2 * 4 =  8\n",
            "2 * 5 = 10\n",
            "2 * 6 = 12\n",
            "2 * 7 = 14\n",
            "2 * 8 = 16\n",
            "2 * 9 = 18\n"
          ],
          "name": "stdout"
        }
      ]
    },
    {
      "cell_type": "code",
      "metadata": {
        "id": "RNHItgnAB7-I",
        "outputId": "a17ee6c0-9d5d-4b40-c5d9-97a460d4a8bf",
        "colab": {
          "base_uri": "https://localhost:8080/",
          "height": 195
        }
      },
      "source": [
        "#3.16(1) for문\n",
        "num = int(input(\"1에서 9까지의 수를 입력하세요: \"))\n",
        "while True:\n",
        "    if 1 <= num <=9:\n",
        "        break\n",
        "    num = int(input(\"1에서 9까지의 수를 다시 입력하세요: \"))\n",
        "\n",
        "for i in range(1,10):\n",
        "    print(\"{} * {} = {:2d}\".format(num, i, num*i))"
      ],
      "execution_count": 61,
      "outputs": [
        {
          "output_type": "stream",
          "text": [
            "1에서 9까지의 수를 입력하세요: 9\n",
            "9 * 1 =  9\n",
            "9 * 2 = 18\n",
            "9 * 3 = 27\n",
            "9 * 4 = 36\n",
            "9 * 5 = 45\n",
            "9 * 6 = 54\n",
            "9 * 7 = 63\n",
            "9 * 8 = 72\n",
            "9 * 9 = 81\n"
          ],
          "name": "stdout"
        }
      ]
    },
    {
      "cell_type": "code",
      "metadata": {
        "id": "rEoNk7xgCeJV",
        "outputId": "d5a3d79b-457a-4551-8291-51d77de45192",
        "colab": {
          "base_uri": "https://localhost:8080/",
          "height": 213
        }
      },
      "source": [
        "#3.16(1) while문\n",
        "num = int(input(\"1에서 9까지의 수를 입력하세요: \"))\n",
        "while True:\n",
        "    if 1 <= num <=9:\n",
        "        break\n",
        "    num = int(input(\"1에서 9까지의 수를 다시 입력하세요: \"))\n",
        "\n",
        "i=1\n",
        "while i < 10:\n",
        "    print(\"{} * {} = {:2d}\".format(num, i, num*i))\n",
        "    i += 1"
      ],
      "execution_count": 60,
      "outputs": [
        {
          "output_type": "stream",
          "text": [
            "1에서 9까지의 수를 입력하세요: 13\n",
            "1에서 9까지의 수를 다시 입력하세요: 5\n",
            "5 * 1 =  5\n",
            "5 * 2 = 10\n",
            "5 * 3 = 15\n",
            "5 * 4 = 20\n",
            "5 * 5 = 25\n",
            "5 * 6 = 30\n",
            "5 * 7 = 35\n",
            "5 * 8 = 40\n",
            "5 * 9 = 45\n"
          ],
          "name": "stdout"
        }
      ]
    },
    {
      "cell_type": "code",
      "metadata": {
        "id": "SUCWB0-iCwJ-",
        "outputId": "eec61f1c-ec69-43d2-bb2d-b559a03544db",
        "colab": {
          "base_uri": "https://localhost:8080/",
          "height": 177
        }
      },
      "source": [
        "#3.18\n",
        "print(\"맛나 식당에 오신 것을 환영합니다. 메뉴는 다음과 같습니다.\")\n",
        "print(\"1) 햄버거 \\n2) 치킨\\n3) 피자\")\n",
        "menu = ['햄버거','치킨','피자']\n",
        "user = int(input(\"1에서 3까지의 메뉴를 선택하세요 : \"))\n",
        "while True:\n",
        "    if 1 <= user <=3:\n",
        "        break\n",
        "    user = int(input(\"메뉴를 다시 입력하세요 : \"))\n",
        "print(\"{}을 선택하였습니다.\".format(menu[user-1]))"
      ],
      "execution_count": 66,
      "outputs": [
        {
          "output_type": "stream",
          "text": [
            "맛나 식당에 오신 것을 환영합니다. 메뉴는 다음과 같습니다.\n",
            "1) 햄버거 \n",
            "2) 치킨\n",
            "3) 피자\n",
            "1에서 3까지의 메뉴를 선택하세요 : 5\n",
            "메뉴를 다시 입력하세요 : 6\n",
            "메뉴를 다시 입력하세요 : 0\n",
            "메뉴를 다시 입력하세요 : 2\n",
            "치킨을 선택하였습니다.\n"
          ],
          "name": "stdout"
        }
      ]
    },
    {
      "cell_type": "code",
      "metadata": {
        "id": "dHF-Q1PmD5eu",
        "outputId": "4f4838c1-932c-4eba-8061-80d69436ddcd",
        "colab": {
          "base_uri": "https://localhost:8080/",
          "height": 142
        }
      },
      "source": [
        "#3.19\n",
        "print(\"맛나 식당에 오신 것을 환영합니다. 메뉴는 다음과 같습니다.\")\n",
        "print(\"- 햄버거(입력 b) \\n- 치킨(입력c) \\n- 피자(입력p)\")\n",
        "menu = {'b':'햄버거','c':'치킨','p':'피자'}\n",
        "user = input(\"메뉴를 선택하세요(알파벳 b, c, p 입력) : \")\n",
        "while True:\n",
        "    if user in ['b','c','p']:\n",
        "        break\n",
        "    user = input(\"메뉴를 다시 입력하세요(알파벳 b, c, p 입력) : \")\n",
        "print(\"{}을 선택하였습니다.\".format(menu[user]))"
      ],
      "execution_count": 73,
      "outputs": [
        {
          "output_type": "stream",
          "text": [
            "맛나 식당에 오신 것을 환영합니다. 메뉴는 다음과 같습니다.\n",
            "- 햄버거(입력 b) \n",
            "- 치킨(입력c) \n",
            "- 피자(입력p)\n",
            "메뉴를 선택하세요(알파벳 b, c, p 입력) : x\n",
            "메뉴를 다시 입력하세요(알파벳 b, c, p 입력) : c\n",
            "치킨을 선택하였습니다.\n"
          ],
          "name": "stdout"
        }
      ]
    },
    {
      "cell_type": "code",
      "metadata": {
        "id": "RjgPEeqUE8L9",
        "outputId": "f2af11f6-34cb-432f-b08c-79b57cc7ced4",
        "colab": {
          "base_uri": "https://localhost:8080/",
          "height": 249
        }
      },
      "source": [
        "#3.20\n",
        "n = int(input(\"숫자를 입력하세요 : \"))\n",
        "for i in range(n):\n",
        "    for j in range(n-(i+1)):\n",
        "        print(' ',end='')\n",
        "    for j in range(i+1):\n",
        "        print('*',end='')\n",
        "    print(\"\")"
      ],
      "execution_count": 81,
      "outputs": [
        {
          "output_type": "stream",
          "text": [
            "숫자를 입력하세요 : 12\n",
            "           *\n",
            "          **\n",
            "         ***\n",
            "        ****\n",
            "       *****\n",
            "      ******\n",
            "     *******\n",
            "    ********\n",
            "   *********\n",
            "  **********\n",
            " ***********\n",
            "************\n"
          ],
          "name": "stdout"
        }
      ]
    },
    {
      "cell_type": "code",
      "metadata": {
        "id": "A8lsLIM7F5HA",
        "outputId": "4d596ae7-0aba-4f00-f12d-aa155af17aeb",
        "colab": {
          "base_uri": "https://localhost:8080/",
          "height": 52
        }
      },
      "source": [
        "#3.21\n",
        "n = int(input(\"숫자를 입력하세요 : \"))\n",
        "isPrime = True\n",
        "for i in range(2,n):\n",
        "    if n%i == 0:\n",
        "        isPrime = False\n",
        "if isPrime:\n",
        "    print(\"%d는 소수입니다\"%n)\n",
        "else:\n",
        "    print(\"%d는 소수가 아닙니다\"%n)"
      ],
      "execution_count": 87,
      "outputs": [
        {
          "output_type": "stream",
          "text": [
            "숫자를 입력하세요 : 45\n",
            "45는 소수가 아닙니다\n"
          ],
          "name": "stdout"
        }
      ]
    },
    {
      "cell_type": "code",
      "metadata": {
        "id": "iSAOdpTNGt6k",
        "outputId": "1bf3f6d0-419a-4a88-b336-f77ac9491f69",
        "colab": {
          "base_uri": "https://localhost:8080/",
          "height": 213
        }
      },
      "source": [
        "#3.22\n",
        "for j in range(2,13):\n",
        "    isPrime = True\n",
        "    for i in range(2,j):\n",
        "        if j%i == 0:\n",
        "            isPrime = False\n",
        "    if isPrime:\n",
        "        print(\"%2d : 소수\"%j)\n",
        "    else:\n",
        "        print(\"%2d : 합성수\"%j)"
      ],
      "execution_count": 88,
      "outputs": [
        {
          "output_type": "stream",
          "text": [
            " 2 : 소수\n",
            " 3 : 소수\n",
            " 4 : 합성수\n",
            " 5 : 소수\n",
            " 6 : 합성수\n",
            " 7 : 소수\n",
            " 8 : 합성수\n",
            " 9 : 합성수\n",
            "10 : 합성수\n",
            "11 : 소수\n",
            "12 : 합성수\n"
          ],
          "name": "stdout"
        }
      ]
    },
    {
      "cell_type": "code",
      "metadata": {
        "id": "IXpyXPEIHGcM",
        "outputId": "8fa0e4a3-65eb-4e45-aaba-81b503667db0",
        "colab": {
          "base_uri": "https://localhost:8080/",
          "height": 52
        }
      },
      "source": [
        "#3.23\n",
        "n = int(input(\"숫자를 입력하세요 : \"))\n",
        "result = 0\n",
        "for i in range(1,n+1):\n",
        "    result += i**2\n",
        "print(\"1부터 %d까지의 합은 %d입니다.\"%(n, result))"
      ],
      "execution_count": 90,
      "outputs": [
        {
          "output_type": "stream",
          "text": [
            "숫자를 입력하세요 : 5\n",
            "1부터 5까지의 합은 55입니다.\n"
          ],
          "name": "stdout"
        }
      ]
    },
    {
      "cell_type": "code",
      "metadata": {
        "id": "8dKiNjsSHYKK",
        "outputId": "2f28eb75-2363-4b30-f8ae-252cb654dcc9",
        "colab": {
          "base_uri": "https://localhost:8080/",
          "height": 52
        }
      },
      "source": [
        "#3.24\n",
        "#import math\n",
        "n = int(input(\"숫자를 입력하세요 : \"))\n",
        "result = 0\n",
        "for i in range(1,n+1):\n",
        "    result += 1/i**2\n",
        "print(\"결과는 %.16f입니다.\"%result)\n",
        "#print(\"pi^2/6 = %.16f\"%(math.pi**2/6)) 1.6449340668482264"
      ],
      "execution_count": 104,
      "outputs": [
        {
          "output_type": "stream",
          "text": [
            "숫자를 입력하세요 : 1000000\n",
            "결과는 1.6449330668487701입니다.\n"
          ],
          "name": "stdout"
        }
      ]
    },
    {
      "cell_type": "code",
      "metadata": {
        "id": "qh7HcP7dHt2o",
        "outputId": "0d4dac08-7fc7-433e-94a0-649fb7a736a8",
        "colab": {
          "base_uri": "https://localhost:8080/",
          "height": 285
        }
      },
      "source": [
        "#3.25\n",
        "height = 0\n",
        "day = 1\n",
        "while True:\n",
        "    height += 7\n",
        "    print(\"day : {:2d}\\t달팽이의 위치 : {:2d}m\".format(day,height))\n",
        "    if height > 30:\n",
        "        break\n",
        "    height -= 5\n",
        "    day +=1\n",
        "print(\"\\n우물을 탈출하는 데 걸린 날은 %d일 입니다.\"%day)"
      ],
      "execution_count": 106,
      "outputs": [
        {
          "output_type": "stream",
          "text": [
            "day :  1\t달팽이의 위치 :  7m\n",
            "day :  2\t달팽이의 위치 :  9m\n",
            "day :  3\t달팽이의 위치 : 11m\n",
            "day :  4\t달팽이의 위치 : 13m\n",
            "day :  5\t달팽이의 위치 : 15m\n",
            "day :  6\t달팽이의 위치 : 17m\n",
            "day :  7\t달팽이의 위치 : 19m\n",
            "day :  8\t달팽이의 위치 : 21m\n",
            "day :  9\t달팽이의 위치 : 23m\n",
            "day : 10\t달팽이의 위치 : 25m\n",
            "day : 11\t달팽이의 위치 : 27m\n",
            "day : 12\t달팽이의 위치 : 29m\n",
            "day : 13\t달팽이의 위치 : 31m\n",
            "\n",
            "우물을 탈출하는 데 걸린 날은 13일 입니다.\n"
          ],
          "name": "stdout"
        }
      ]
    },
    {
      "cell_type": "code",
      "metadata": {
        "id": "tp-5DXuQJlRW",
        "outputId": "abc93e49-9ecb-40f7-c73c-9904907c7ba9",
        "colab": {
          "base_uri": "https://localhost:8080/",
          "height": 195
        }
      },
      "source": [
        "#3.26\n",
        "n = int(input(\"n을 입력하시오 : \"))\n",
        "for i in range(1, n+1):\n",
        "    for j in range(1, n+1):\n",
        "        if i%2 == 1:\n",
        "            print('%2d'%(n*(i-1)+j), end=' ')\n",
        "        else:\n",
        "            print('%2d'%(n*i-(j-1)), end=' ')\n",
        "    print(\"\")"
      ],
      "execution_count": 126,
      "outputs": [
        {
          "output_type": "stream",
          "text": [
            "n을 입력하시오 : 9\n",
            " 1  2  3  4  5  6  7  8  9 \n",
            "18 17 16 15 14 13 12 11 10 \n",
            "19 20 21 22 23 24 25 26 27 \n",
            "36 35 34 33 32 31 30 29 28 \n",
            "37 38 39 40 41 42 43 44 45 \n",
            "54 53 52 51 50 49 48 47 46 \n",
            "55 56 57 58 59 60 61 62 63 \n",
            "72 71 70 69 68 67 66 65 64 \n",
            "73 74 75 76 77 78 79 80 81 \n"
          ],
          "name": "stdout"
        }
      ]
    },
    {
      "cell_type": "code",
      "metadata": {
        "id": "-DAKUwXgLF9A",
        "outputId": "3116160b-e481-4089-91a1-e99185e0bce2",
        "colab": {
          "base_uri": "https://localhost:8080/",
          "height": 34
        }
      },
      "source": [
        "#3.27\n",
        "nums = []\n",
        "for i in range(100, 1000):\n",
        "    dig1 = i//100\n",
        "    dig2 = i%100//10\n",
        "    dig3 = i%100%10\n",
        "    if i == (dig1**3 + dig2**3 + dig3**3):\n",
        "        nums.append(i)\n",
        "print(\"세 자리의 암스트롱 수 : \", *nums)"
      ],
      "execution_count": 133,
      "outputs": [
        {
          "output_type": "stream",
          "text": [
            "세 자리의 암스트롱 수 :  153 370 371 407\n"
          ],
          "name": "stdout"
        }
      ]
    },
    {
      "cell_type": "code",
      "metadata": {
        "id": "7m24H7wWNtMc",
        "outputId": "17cd1716-470a-4ec9-b2fb-d5c31ab64f3e",
        "colab": {
          "base_uri": "https://localhost:8080/",
          "height": 52
        }
      },
      "source": [
        "#3.28\n",
        "n = int(input(\"정수를 입력하시오 : \"))\n",
        "numarray = list(str(n))\n",
        "numarray2 = list(str(n))\n",
        "numarray2.reverse()\n",
        "#print(numarray, numarray2)\n",
        "if numarray == numarray2:\n",
        "    print(\"%d은(는) 거꾸로 정수입니다.\"%n)\n",
        "else:\n",
        "    print(\"%d은(는) 거꾸로 정수가 아닙니다.\"%n)\n"
      ],
      "execution_count": 165,
      "outputs": [
        {
          "output_type": "stream",
          "text": [
            "정수를 입력하시오 : 12122121\n",
            "12122121은(는) 거꾸로 정수입니다.\n"
          ],
          "name": "stdout"
        }
      ]
    },
    {
      "cell_type": "code",
      "metadata": {
        "id": "KgPfS0YyOnJc",
        "outputId": "edb40389-9139-4002-e1d5-cb57591c5986",
        "colab": {
          "base_uri": "https://localhost:8080/",
          "height": 142
        }
      },
      "source": [
        "#3.29\n",
        "num = 500\n",
        "while num > 50:\n",
        "    change = int(input(\"충전 또는 사용한 연료를 +/- 기호와 함께 입력하시오 : \"))\n",
        "    num += change\n",
        "    print(\"현재 탱크양은 %d 입니다.\"%num)\n",
        "print(\"경고 : 연료가 10% 미만이니 충전하세요!\")"
      ],
      "execution_count": 168,
      "outputs": [
        {
          "output_type": "stream",
          "text": [
            "충전 또는 사용한 연료를 +/- 기호와 함께 입력하시오 : +60\n",
            "현재 탱크양은 560 입니다.\n",
            "충전 또는 사용한 연료를 +/- 기호와 함께 입력하시오 : -300\n",
            "현재 탱크양은 260 입니다.\n",
            "충전 또는 사용한 연료를 +/- 기호와 함께 입력하시오 : -220\n",
            "현재 탱크양은 40 입니다.\n",
            "경고 : 연료가 10% 미만이니 충전하세요!\n"
          ],
          "name": "stdout"
        }
      ]
    },
    {
      "cell_type": "code",
      "metadata": {
        "id": "INb62JG1UBmV",
        "outputId": "cc47ed97-1222-4a5f-9ca0-7414e8ce050d",
        "colab": {
          "base_uri": "https://localhost:8080/",
          "height": 88
        }
      },
      "source": [
        "#3.30\n",
        "print(\"1) 덧셈    2) 뺄셈    3) 곱셈    4) 나눗셈\")\n",
        "calc = int(input(\"어떤 연산을 원하는지 번호를 입력하세요: \"))\n",
        "if 1 <= calc <=4:\n",
        "    a, b = map(int, input('연산을 원하는 숫자 두개를 입력하세요 : ').split())\n",
        "    if calc == 1:\n",
        "        print(\"{} + {} = {}\".format(a, b, a+b))\n",
        "    elif calc == 2:\n",
        "        print(\"{} - {} = {}\".format(a, b, a-b))\n",
        "    elif calc == 3:\n",
        "        print(\"{} * {} = {}\".format(a, b, a*b))\n",
        "    else:\n",
        "        print(\"{} / {} = {}\".format(a, b, a/b))\n",
        "else:\n",
        "    print(\"잘못 입력하였습니다\")"
      ],
      "execution_count": 171,
      "outputs": [
        {
          "output_type": "stream",
          "text": [
            "1) 덧셈    2) 뺄셈    3) 곱셈    4) 나눗셈\n",
            "어떤 연산을 원하는지 번호를 입력하세요: 4\n",
            "연산을 원하는 숫자 두개를 입력하세요 : 3 4\n",
            "3 / 4 = 0.75\n"
          ],
          "name": "stdout"
        }
      ]
    },
    {
      "cell_type": "code",
      "metadata": {
        "id": "p1RG0HRSVibm",
        "outputId": "56c6c18b-1ee9-4d81-e82f-a9c553034ac5",
        "colab": {
          "base_uri": "https://localhost:8080/",
          "height": 303
        }
      },
      "source": [
        "#3.31\n",
        "slot = [1, 1, 1]\n",
        "for i in range(1, 20000):\n",
        "    slot[0] = i\n",
        "    for j in range(2):\n",
        "        div = []\n",
        "        div_sum = 0\n",
        "        for k in range(1, slot[j]):\n",
        "            if slot[j] % k == 0:\n",
        "                div.append(k)\n",
        "        for k in div:\n",
        "            div_sum += k\n",
        "        slot[j+1] = div_sum\n",
        "    if (slot[0] == slot[2]) and (slot[0] != slot[1]):\n",
        "        print(\"{:5d}의 친화수 {:5d}\".format(slot[0], slot[1]))\n"
      ],
      "execution_count": 192,
      "outputs": [
        {
          "output_type": "stream",
          "text": [
            "  220의 친화수   284\n",
            "  284의 친화수   220\n",
            " 1184의 친화수  1210\n",
            " 1210의 친화수  1184\n",
            " 2620의 친화수  2924\n",
            " 2924의 친화수  2620\n",
            " 5020의 친화수  5564\n",
            " 5564의 친화수  5020\n",
            " 6232의 친화수  6368\n",
            " 6368의 친화수  6232\n",
            "10744의 친화수 10856\n",
            "10856의 친화수 10744\n",
            "12285의 친화수 14595\n",
            "14595의 친화수 12285\n",
            "17296의 친화수 18416\n",
            "18416의 친화수 17296\n"
          ],
          "name": "stdout"
        }
      ]
    },
    {
      "cell_type": "code",
      "metadata": {
        "id": "rwXuPWrbW6wd"
      },
      "source": [
        ""
      ],
      "execution_count": null,
      "outputs": []
    }
  ]
}