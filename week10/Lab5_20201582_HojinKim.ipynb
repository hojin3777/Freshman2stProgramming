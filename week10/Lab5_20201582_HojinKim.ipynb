{
  "nbformat": 4,
  "nbformat_minor": 0,
  "metadata": {
    "colab": {
      "name": "Lab5_20201582_HojinKim.ipynb",
      "provenance": [],
      "authorship_tag": "ABX9TyOO3IkCvEANorCboagI3Sr2",
      "include_colab_link": true
    },
    "kernelspec": {
      "name": "python3",
      "display_name": "Python 3"
    }
  },
  "cells": [
    {
      "cell_type": "markdown",
      "metadata": {
        "id": "view-in-github",
        "colab_type": "text"
      },
      "source": [
        "<a href=\"https://colab.research.google.com/github/hojin3777/Freshman2stProgramming/blob/master/week10/Lab5_20201582_HojinKim.ipynb\" target=\"_parent\"><img src=\"https://colab.research.google.com/assets/colab-badge.svg\" alt=\"Open In Colab\"/></a>"
      ]
    },
    {
      "cell_type": "code",
      "metadata": {
        "id": "EH05uO8va31E"
      },
      "source": [
        "#5장 리스트"
      ],
      "execution_count": 1,
      "outputs": []
    },
    {
      "cell_type": "code",
      "metadata": {
        "id": "DR_es5p_b_hT",
        "outputId": "81cbb163-8d0c-42ce-8812-f0cbfa998ed4",
        "colab": {
          "base_uri": "https://localhost:8080/"
        }
      },
      "source": [
        "score_list = [87, 84, 95, 67, 88, 94, 63]\n",
        "score_list"
      ],
      "execution_count": 2,
      "outputs": [
        {
          "output_type": "execute_result",
          "data": {
            "text/plain": [
              "[87, 84, 95, 67, 88, 94, 63]"
            ]
          },
          "metadata": {
            "tags": []
          },
          "execution_count": 2
        }
      ]
    },
    {
      "cell_type": "code",
      "metadata": {
        "id": "mW1tJWtSdFU2",
        "outputId": "2c37ebb8-266c-4cb6-de33-5fa2ad171759",
        "colab": {
          "base_uri": "https://localhost:8080/"
        }
      },
      "source": [
        "score_list[4]"
      ],
      "execution_count": 6,
      "outputs": [
        {
          "output_type": "execute_result",
          "data": {
            "text/plain": [
              "88"
            ]
          },
          "metadata": {
            "tags": []
          },
          "execution_count": 6
        }
      ]
    },
    {
      "cell_type": "code",
      "metadata": {
        "id": "1RUKem9QdGon",
        "outputId": "ade11a25-1684-4853-d661-10637d823a84",
        "colab": {
          "base_uri": "https://localhost:8080/"
        }
      },
      "source": [
        "score_list[1:3]"
      ],
      "execution_count": 5,
      "outputs": [
        {
          "output_type": "execute_result",
          "data": {
            "text/plain": [
              "[84, 95]"
            ]
          },
          "metadata": {
            "tags": []
          },
          "execution_count": 5
        }
      ]
    },
    {
      "cell_type": "code",
      "metadata": {
        "id": "9CC1PtkkdcWE"
      },
      "source": [
        "mixed_list = [100, 200, 'apple', 400]"
      ],
      "execution_count": 7,
      "outputs": []
    },
    {
      "cell_type": "code",
      "metadata": {
        "id": "aVn4UP0keFsi",
        "outputId": "8f686e39-76e7-49a8-e2e1-c4e988e175c8",
        "colab": {
          "base_uri": "https://localhost:8080/"
        }
      },
      "source": [
        "mixed_list"
      ],
      "execution_count": 8,
      "outputs": [
        {
          "output_type": "execute_result",
          "data": {
            "text/plain": [
              "[100, 200, 'apple', 400]"
            ]
          },
          "metadata": {
            "tags": []
          },
          "execution_count": 8
        }
      ]
    },
    {
      "cell_type": "code",
      "metadata": {
        "id": "HDHYq9w5eG_s",
        "outputId": "1b0c4339-174c-4a53-ff46-00bf6e450fd4",
        "colab": {
          "base_uri": "https://localhost:8080/",
          "height": 34
        }
      },
      "source": [
        "mixed_list[2]"
      ],
      "execution_count": 9,
      "outputs": [
        {
          "output_type": "execute_result",
          "data": {
            "application/vnd.google.colaboratory.intrinsic+json": {
              "type": "string"
            },
            "text/plain": [
              "'apple'"
            ]
          },
          "metadata": {
            "tags": []
          },
          "execution_count": 9
        }
      ]
    },
    {
      "cell_type": "code",
      "metadata": {
        "id": "uxfPjlnNeJuQ",
        "outputId": "ca060d5c-7a0f-4e95-cf85-390b5657197d",
        "colab": {
          "base_uri": "https://localhost:8080/"
        }
      },
      "source": [
        "list4 = list(range(1,100))\n",
        "list4"
      ],
      "execution_count": 11,
      "outputs": [
        {
          "output_type": "execute_result",
          "data": {
            "text/plain": [
              "[1,\n",
              " 2,\n",
              " 3,\n",
              " 4,\n",
              " 5,\n",
              " 6,\n",
              " 7,\n",
              " 8,\n",
              " 9,\n",
              " 10,\n",
              " 11,\n",
              " 12,\n",
              " 13,\n",
              " 14,\n",
              " 15,\n",
              " 16,\n",
              " 17,\n",
              " 18,\n",
              " 19,\n",
              " 20,\n",
              " 21,\n",
              " 22,\n",
              " 23,\n",
              " 24,\n",
              " 25,\n",
              " 26,\n",
              " 27,\n",
              " 28,\n",
              " 29,\n",
              " 30,\n",
              " 31,\n",
              " 32,\n",
              " 33,\n",
              " 34,\n",
              " 35,\n",
              " 36,\n",
              " 37,\n",
              " 38,\n",
              " 39,\n",
              " 40,\n",
              " 41,\n",
              " 42,\n",
              " 43,\n",
              " 44,\n",
              " 45,\n",
              " 46,\n",
              " 47,\n",
              " 48,\n",
              " 49,\n",
              " 50,\n",
              " 51,\n",
              " 52,\n",
              " 53,\n",
              " 54,\n",
              " 55,\n",
              " 56,\n",
              " 57,\n",
              " 58,\n",
              " 59,\n",
              " 60,\n",
              " 61,\n",
              " 62,\n",
              " 63,\n",
              " 64,\n",
              " 65,\n",
              " 66,\n",
              " 67,\n",
              " 68,\n",
              " 69,\n",
              " 70,\n",
              " 71,\n",
              " 72,\n",
              " 73,\n",
              " 74,\n",
              " 75,\n",
              " 76,\n",
              " 77,\n",
              " 78,\n",
              " 79,\n",
              " 80,\n",
              " 81,\n",
              " 82,\n",
              " 83,\n",
              " 84,\n",
              " 85,\n",
              " 86,\n",
              " 87,\n",
              " 88,\n",
              " 89,\n",
              " 90,\n",
              " 91,\n",
              " 92,\n",
              " 93,\n",
              " 94,\n",
              " 95,\n",
              " 96,\n",
              " 97,\n",
              " 98,\n",
              " 99]"
            ]
          },
          "metadata": {
            "tags": []
          },
          "execution_count": 11
        }
      ]
    },
    {
      "cell_type": "code",
      "metadata": {
        "id": "8Bwjmug-eZF4",
        "outputId": "d57ef3db-22d5-452b-a02e-72ba8167e1c8",
        "colab": {
          "base_uri": "https://localhost:8080/"
        }
      },
      "source": [
        "list5 = list('ABCDEF')\n",
        "list5"
      ],
      "execution_count": 12,
      "outputs": [
        {
          "output_type": "execute_result",
          "data": {
            "text/plain": [
              "['A', 'B', 'C', 'D', 'E', 'F']"
            ]
          },
          "metadata": {
            "tags": []
          },
          "execution_count": 12
        }
      ]
    },
    {
      "cell_type": "code",
      "metadata": {
        "id": "7rCl73EXesQg",
        "outputId": "99f15cd8-5f6e-40c1-baba-fffbd5882b70",
        "colab": {
          "base_uri": "https://localhost:8080/",
          "height": 34
        }
      },
      "source": [
        "list5[3]"
      ],
      "execution_count": 13,
      "outputs": [
        {
          "output_type": "execute_result",
          "data": {
            "application/vnd.google.colaboratory.intrinsic+json": {
              "type": "string"
            },
            "text/plain": [
              "'D'"
            ]
          },
          "metadata": {
            "tags": []
          },
          "execution_count": 13
        }
      ]
    },
    {
      "cell_type": "code",
      "metadata": {
        "id": "lSjhielxe243",
        "outputId": "c878df21-9f55-490c-c6c0-079dd17b7ea6",
        "colab": {
          "base_uri": "https://localhost:8080/"
        }
      },
      "source": [
        "#Lab 5-1\n",
        "even_list = [2,4,6,8,10]\n",
        "print(even_list)"
      ],
      "execution_count": 18,
      "outputs": [
        {
          "output_type": "stream",
          "text": [
            "[2, 4, 6, 8, 10]\n"
          ],
          "name": "stdout"
        }
      ]
    },
    {
      "cell_type": "code",
      "metadata": {
        "id": "AVNv9dpIe-iz",
        "outputId": "e77d2923-6322-4f5f-801d-37e36f27fc84",
        "colab": {
          "base_uri": "https://localhost:8080/"
        }
      },
      "source": [
        "even_list = list(range(2,11,2))\n",
        "print(even_list)"
      ],
      "execution_count": 19,
      "outputs": [
        {
          "output_type": "stream",
          "text": [
            "[2, 4, 6, 8, 10]\n"
          ],
          "name": "stdout"
        }
      ]
    },
    {
      "cell_type": "code",
      "metadata": {
        "id": "zK25SXkefFPf",
        "outputId": "7355c23e-e0a0-41f4-e9ad-91fe3ff6a5ce",
        "colab": {
          "base_uri": "https://localhost:8080/"
        }
      },
      "source": [
        "nations = ['Korea','China','India','Nepal']\n",
        "print(nations)"
      ],
      "execution_count": 20,
      "outputs": [
        {
          "output_type": "stream",
          "text": [
            "['Korea', 'China', 'India', 'Nepal']\n"
          ],
          "name": "stdout"
        }
      ]
    },
    {
      "cell_type": "code",
      "metadata": {
        "id": "2jUddNAVfPnV",
        "outputId": "45f0df08-3ef9-47a5-a010-872c99b93ffd",
        "colab": {
          "base_uri": "https://localhost:8080/"
        }
      },
      "source": [
        "friends = ['동환','규빈','수진','효비','기환']\n",
        "print(friends)"
      ],
      "execution_count": 21,
      "outputs": [
        {
          "output_type": "stream",
          "text": [
            "['동환', '규빈', '수진', '효비', '기환']\n"
          ],
          "name": "stdout"
        }
      ]
    },
    {
      "cell_type": "code",
      "metadata": {
        "id": "a5ma4zMDfbmF",
        "outputId": "e880ccc3-f5b4-45a5-e648-71b4e433df78",
        "colab": {
          "base_uri": "https://localhost:8080/"
        }
      },
      "source": [
        "string = list('XYZ')\n",
        "print(\"string = \", string)"
      ],
      "execution_count": 22,
      "outputs": [
        {
          "output_type": "stream",
          "text": [
            "string =  ['X', 'Y', 'Z']\n"
          ],
          "name": "stdout"
        }
      ]
    },
    {
      "cell_type": "code",
      "metadata": {
        "id": "CCebtoK6fnHu",
        "outputId": "2976d72e-0e29-4b6a-a4ba-217cf1c193ef",
        "colab": {
          "base_uri": "https://localhost:8080/"
        }
      },
      "source": [
        "even_list[-1]"
      ],
      "execution_count": 23,
      "outputs": [
        {
          "output_type": "execute_result",
          "data": {
            "text/plain": [
              "10"
            ]
          },
          "metadata": {
            "tags": []
          },
          "execution_count": 23
        }
      ]
    },
    {
      "cell_type": "code",
      "metadata": {
        "id": "FZqiemaMg4fI",
        "outputId": "b478a7c4-e9c0-4c3d-c9ab-e40feb25d94d",
        "colab": {
          "base_uri": "https://localhost:8080/"
        }
      },
      "source": [
        "#Lab 5-2 : 리스트의 생성과 인덱싱\n",
        "prime_list = [2,3,5,7]\n",
        "print(\"prime_list의 첫 원소 :\", prime_list[0])          #5-2-1\n",
        "print(\"prime_list의 마지막 원소 :\", prime_list[3])      #5-2-2\n",
        "print(\"prime_list의 마지막 원소 :\", prime_list[-1])     #5-2-3"
      ],
      "execution_count": 24,
      "outputs": [
        {
          "output_type": "stream",
          "text": [
            "prime_list의 첫 원소 : 2\n",
            "prime_list의 마지막 원소 : 7\n",
            "prime_list의 마지막 원소 : 7\n"
          ],
          "name": "stdout"
        }
      ]
    },
    {
      "cell_type": "code",
      "metadata": {
        "id": "7Z15CKFkhlmb",
        "outputId": "a2913c07-ca02-4b62-9849-50c5a64d3b11",
        "colab": {
          "base_uri": "https://localhost:8080/"
        }
      },
      "source": [
        "nations = ['Korea','China','Russia','Malaysia']\n",
        "print(\"nations의 첫 원소 :\", nations[0])                #5-2-4\n",
        "print(\"nations의 첫 원소 :\", nations[-1])               #5-2-5\n",
        "print(\"nations의 첫 원소 :\", nations[len(nations)-1])   #5-2-6"
      ],
      "execution_count": 25,
      "outputs": [
        {
          "output_type": "stream",
          "text": [
            "nations의 첫 원소 : Korea\n",
            "nations의 첫 원소 : Malaysia\n",
            "nations의 첫 원소 : Malaysia\n"
          ],
          "name": "stdout"
        }
      ]
    },
    {
      "cell_type": "code",
      "metadata": {
        "id": "GPtx0gnVh5Mu",
        "outputId": "39011230-2383-4b0a-fff5-e8ceda3259d5",
        "colab": {
          "base_uri": "https://localhost:8080/"
        }
      },
      "source": [
        "a_list = ['a','b','c','d','e']\n",
        "a_list"
      ],
      "execution_count": 26,
      "outputs": [
        {
          "output_type": "execute_result",
          "data": {
            "text/plain": [
              "['a', 'b', 'c', 'd', 'e']"
            ]
          },
          "metadata": {
            "tags": []
          },
          "execution_count": 26
        }
      ]
    },
    {
      "cell_type": "code",
      "metadata": {
        "id": "X2G3yzLbibwa",
        "outputId": "642ad911-0bea-4609-b7b3-9b3dffdf7f5f",
        "colab": {
          "base_uri": "https://localhost:8080/"
        }
      },
      "source": [
        "a_list.append('f')\n",
        "a_list"
      ],
      "execution_count": 27,
      "outputs": [
        {
          "output_type": "execute_result",
          "data": {
            "text/plain": [
              "['a', 'b', 'c', 'd', 'e', 'f']"
            ]
          },
          "metadata": {
            "tags": []
          },
          "execution_count": 27
        }
      ]
    },
    {
      "cell_type": "code",
      "metadata": {
        "id": "S64iG8-VieR-",
        "outputId": "51bb7f5d-b600-43ff-cb6b-0e90b645e5f1",
        "colab": {
          "base_uri": "https://localhost:8080/"
        }
      },
      "source": [
        "a_list.append('g')\n",
        "a_list"
      ],
      "execution_count": 28,
      "outputs": [
        {
          "output_type": "execute_result",
          "data": {
            "text/plain": [
              "['a', 'b', 'c', 'd', 'e', 'f', 'g']"
            ]
          },
          "metadata": {
            "tags": []
          },
          "execution_count": 28
        }
      ]
    },
    {
      "cell_type": "code",
      "metadata": {
        "id": "G94V-4Qmigmc",
        "outputId": "7b98c3f1-a204-4276-b65c-74dbc4bbf703",
        "colab": {
          "base_uri": "https://localhost:8080/"
        }
      },
      "source": [
        "del a_list[3]\n",
        "a_list"
      ],
      "execution_count": 29,
      "outputs": [
        {
          "output_type": "execute_result",
          "data": {
            "text/plain": [
              "['a', 'b', 'c', 'e', 'f', 'g']"
            ]
          },
          "metadata": {
            "tags": []
          },
          "execution_count": 29
        }
      ]
    },
    {
      "cell_type": "code",
      "metadata": {
        "id": "1q87AbEviziO",
        "outputId": "858a89c7-19fe-408b-d533-ecfca3efc955",
        "colab": {
          "base_uri": "https://localhost:8080/"
        }
      },
      "source": [
        "a_list.remove('c')\n",
        "a_list"
      ],
      "execution_count": 30,
      "outputs": [
        {
          "output_type": "execute_result",
          "data": {
            "text/plain": [
              "['a', 'b', 'e', 'f', 'g']"
            ]
          },
          "metadata": {
            "tags": []
          },
          "execution_count": 30
        }
      ]
    },
    {
      "cell_type": "code",
      "metadata": {
        "id": "bvuLBB_bi7JG",
        "outputId": "bd5cc83b-94e2-409b-f695-7b97e8af9560",
        "colab": {
          "base_uri": "https://localhost:8080/",
          "height": 172
        }
      },
      "source": [
        "a_list.remove('c')"
      ],
      "execution_count": 31,
      "outputs": [
        {
          "output_type": "error",
          "ename": "ValueError",
          "evalue": "ignored",
          "traceback": [
            "\u001b[0;31m---------------------------------------------------------------------------\u001b[0m",
            "\u001b[0;31mValueError\u001b[0m                                Traceback (most recent call last)",
            "\u001b[0;32m<ipython-input-31-76d7971a08f6>\u001b[0m in \u001b[0;36m<module>\u001b[0;34m()\u001b[0m\n\u001b[0;32m----> 1\u001b[0;31m \u001b[0ma_list\u001b[0m\u001b[0;34m.\u001b[0m\u001b[0mremove\u001b[0m\u001b[0;34m(\u001b[0m\u001b[0;34m'c'\u001b[0m\u001b[0;34m)\u001b[0m\u001b[0;34m\u001b[0m\u001b[0;34m\u001b[0m\u001b[0m\n\u001b[0m",
            "\u001b[0;31mValueError\u001b[0m: list.remove(x): x not in list"
          ]
        }
      ]
    },
    {
      "cell_type": "code",
      "metadata": {
        "id": "YlhQDqqgjNxD",
        "outputId": "524334b2-ade0-4d3d-9c70-bbb07e3b826c",
        "colab": {
          "base_uri": "https://localhost:8080/"
        }
      },
      "source": [
        "'c' in a_list"
      ],
      "execution_count": 32,
      "outputs": [
        {
          "output_type": "execute_result",
          "data": {
            "text/plain": [
              "False"
            ]
          },
          "metadata": {
            "tags": []
          },
          "execution_count": 32
        }
      ]
    },
    {
      "cell_type": "code",
      "metadata": {
        "id": "cUoZ2TtsjUUT",
        "outputId": "05e9d7ad-b950-4885-b7c5-615e713f8daf",
        "colab": {
          "base_uri": "https://localhost:8080/"
        }
      },
      "source": [
        "'f' in a_list"
      ],
      "execution_count": 33,
      "outputs": [
        {
          "output_type": "execute_result",
          "data": {
            "text/plain": [
              "True"
            ]
          },
          "metadata": {
            "tags": []
          },
          "execution_count": 33
        }
      ]
    },
    {
      "cell_type": "code",
      "metadata": {
        "id": "4L6V0Y4RjXgX",
        "outputId": "8ddd6749-9b59-4479-e20b-24df457816ac",
        "colab": {
          "base_uri": "https://localhost:8080/"
        }
      },
      "source": [
        "'c' not in a_list"
      ],
      "execution_count": 34,
      "outputs": [
        {
          "output_type": "execute_result",
          "data": {
            "text/plain": [
              "True"
            ]
          },
          "metadata": {
            "tags": []
          },
          "execution_count": 34
        }
      ]
    },
    {
      "cell_type": "code",
      "metadata": {
        "id": "kShchEQtkQeU",
        "outputId": "2f959c4e-11c0-4316-b582-870ec4f8af7f",
        "colab": {
          "base_uri": "https://localhost:8080/"
        }
      },
      "source": [
        "#LAB 5-3 : 리스트의 삽입과 삭제, in 연산자\n",
        "prime_list = [2,3,5,7]\n",
        "print(\"소수 목록 :\", prime_list)\n",
        "prime_list.append(11)\n",
        "print(\"추가 후 소수 목록 :\", prime_list)"
      ],
      "execution_count": 36,
      "outputs": [
        {
          "output_type": "stream",
          "text": [
            "소수 목록 : [2, 3, 5, 7]\n",
            "추가 후 소수 목록 : [2, 3, 5, 7, 11]\n"
          ],
          "name": "stdout"
        }
      ]
    },
    {
      "cell_type": "code",
      "metadata": {
        "id": "9m01cOgrpcDX",
        "outputId": "fab30628-49f4-4d49-9c67-46b7277b0e54",
        "colab": {
          "base_uri": "https://localhost:8080/"
        }
      },
      "source": [
        "print(\"삭제 전 소수 목록 :\", prime_list)\n",
        "prime_list.remove(3)\n",
        "print(\"삭제 후 소수 목록 :\", prime_list)"
      ],
      "execution_count": 37,
      "outputs": [
        {
          "output_type": "stream",
          "text": [
            "삭제 전 소수 목록 : [2, 3, 5, 7, 11]\n",
            "삭제 후 소수 목록 : [2, 5, 7, 11]\n"
          ],
          "name": "stdout"
        }
      ]
    },
    {
      "cell_type": "code",
      "metadata": {
        "id": "Kkv9hzaGplc6",
        "outputId": "52aee493-19c4-4778-f5b9-201328e3fc9d",
        "colab": {
          "base_uri": "https://localhost:8080/"
        }
      },
      "source": [
        "nations = ['Korea','China','Russia','Malaysia']\n",
        "print(\"국가 목록 :\", nations)\n",
        "nations.append('Nepal')\n",
        "print(\"추가 후 국가 목록 :\", nations)"
      ],
      "execution_count": 38,
      "outputs": [
        {
          "output_type": "stream",
          "text": [
            "국가 목록 : ['Korea', 'China', 'Russia', 'Malaysia']\n",
            "추가 후 국가 목록 : ['Korea', 'China', 'Russia', 'Malaysia', 'Nepal']\n"
          ],
          "name": "stdout"
        }
      ]
    },
    {
      "cell_type": "code",
      "metadata": {
        "id": "g3Nnrfa1p07k",
        "outputId": "39c70354-da28-4e87-f5fa-2d3a3eac94df",
        "colab": {
          "base_uri": "https://localhost:8080/"
        }
      },
      "source": [
        "if 'Japan' in nations:\n",
        "    print(\"Japan 는(은) 국가 목록에 있습니다.\")\n",
        "else:\n",
        "    print(\"Japan 는(은) 국가 목록에 없습니다.\")\n",
        "if 'Russia' in nations:\n",
        "    print(\"Russia 는(은) 국가 목록에 있습니다.\")\n",
        "else:\n",
        "    print(\"Russia 는(은) 국가 목록에 없습니다.\")"
      ],
      "execution_count": 39,
      "outputs": [
        {
          "output_type": "stream",
          "text": [
            "Japan 는(은) 국가 목록에 없습니다.\n",
            "Russia 는(은) 국가 목록에 있습니다.\n"
          ],
          "name": "stdout"
        }
      ]
    },
    {
      "cell_type": "code",
      "metadata": {
        "id": "3vyCecxtjdQE",
        "outputId": "8f72a96f-3580-402c-e85d-ab4fcc70cafb",
        "colab": {
          "base_uri": "https://localhost:8080/"
        }
      },
      "source": [
        "list1 = [20,50,99,100,89,98]\n",
        "max(list1)"
      ],
      "execution_count": 35,
      "outputs": [
        {
          "output_type": "execute_result",
          "data": {
            "text/plain": [
              "100"
            ]
          },
          "metadata": {
            "tags": []
          },
          "execution_count": 35
        }
      ]
    },
    {
      "cell_type": "code",
      "metadata": {
        "id": "PpLQq3f-kLbP",
        "outputId": "736c4fa0-ae98-4aa0-ebb8-bd80d00785cb",
        "colab": {
          "base_uri": "https://localhost:8080/"
        }
      },
      "source": [
        "min(list1)"
      ],
      "execution_count": 40,
      "outputs": [
        {
          "output_type": "execute_result",
          "data": {
            "text/plain": [
              "20"
            ]
          },
          "metadata": {
            "tags": []
          },
          "execution_count": 40
        }
      ]
    },
    {
      "cell_type": "code",
      "metadata": {
        "id": "MGDLlC4JqODX",
        "outputId": "625d497b-90e2-4feb-b5c6-2534905b6c85",
        "colab": {
          "base_uri": "https://localhost:8080/"
        }
      },
      "source": [
        "len(list1)"
      ],
      "execution_count": 41,
      "outputs": [
        {
          "output_type": "execute_result",
          "data": {
            "text/plain": [
              "6"
            ]
          },
          "metadata": {
            "tags": []
          },
          "execution_count": 41
        }
      ]
    },
    {
      "cell_type": "code",
      "metadata": {
        "id": "QkSJIosgqOua",
        "outputId": "ab0650fa-edc7-4115-9f45-dfa1f771ca10",
        "colab": {
          "base_uri": "https://localhost:8080/"
        }
      },
      "source": [
        "sum(list1)"
      ],
      "execution_count": 42,
      "outputs": [
        {
          "output_type": "execute_result",
          "data": {
            "text/plain": [
              "456"
            ]
          },
          "metadata": {
            "tags": []
          },
          "execution_count": 42
        }
      ]
    },
    {
      "cell_type": "code",
      "metadata": {
        "id": "ygjMv-CmqRSV",
        "outputId": "0c22c9c7-5d4b-4fe2-c066-aaed25f7c90f",
        "colab": {
          "base_uri": "https://localhost:8080/"
        }
      },
      "source": [
        "sum(list1)/len(list1)"
      ],
      "execution_count": 43,
      "outputs": [
        {
          "output_type": "execute_result",
          "data": {
            "text/plain": [
              "76.0"
            ]
          },
          "metadata": {
            "tags": []
          },
          "execution_count": 43
        }
      ]
    },
    {
      "cell_type": "code",
      "metadata": {
        "id": "FGU3OZYHqXzT",
        "outputId": "6af7eecb-3d6c-4556-84c1-0a047fca763d",
        "colab": {
          "base_uri": "https://localhost:8080/"
        }
      },
      "source": [
        "#Lab 5-4 : 리스트의 min()과 max(), sum(), len() 함수\n",
        "prime_list = [2,3,5,7]\n",
        "print('1에서 10까지의 소수 :', prime_list)\n",
        "print(\"최솟값 : %d\"%max(prime_list))\n",
        "print(\"최솟값 : %d\"%min(prime_list))\n",
        "print(\"합계 : %d\"%sum(prime_list))\n",
        "print(\"평균 : %f\"%( sum(prime_list)/len(prime_list) ))"
      ],
      "execution_count": 46,
      "outputs": [
        {
          "output_type": "stream",
          "text": [
            "1에서 10까지의 소수 : [2, 3, 5, 7]\n",
            "최솟값 : 7\n",
            "최솟값 : 2\n",
            "합계 : 17\n",
            "평균 : 4.250000\n"
          ],
          "name": "stdout"
        }
      ]
    },
    {
      "cell_type": "code",
      "metadata": {
        "id": "Ceav5jBDrLN4",
        "outputId": "226cb2c4-0335-4352-8e41-e88e669dc87c",
        "colab": {
          "base_uri": "https://localhost:8080/"
        }
      },
      "source": [
        "nations = ['Korea','China','Russia','Malaysia']\n",
        "print(\"국가 목록 :\", nations)\n",
        "print(\"사전에 가장 먼저 나오는 나라 : %s\"%min(nations))\n",
        "print(\"사전에 가장 뒤에 나오는 나라 : %s\"%max(nations))"
      ],
      "execution_count": 48,
      "outputs": [
        {
          "output_type": "stream",
          "text": [
            "국가 목록 : ['Korea', 'China', 'Russia', 'Malaysia']\n",
            "사전에 가장 먼저 나오는 나라 : China\n",
            "사전에 가장 뒤에 나오는 나라 : Russia\n"
          ],
          "name": "stdout"
        }
      ]
    },
    {
      "cell_type": "code",
      "metadata": {
        "id": "QaX5a3l_rh2J",
        "outputId": "034965c4-2401-41ed-887a-1b105a1c7ac3",
        "colab": {
          "base_uri": "https://localhost:8080/"
        }
      },
      "source": [
        "list1"
      ],
      "execution_count": 49,
      "outputs": [
        {
          "output_type": "execute_result",
          "data": {
            "text/plain": [
              "[20, 50, 99, 100, 89, 98]"
            ]
          },
          "metadata": {
            "tags": []
          },
          "execution_count": 49
        }
      ]
    },
    {
      "cell_type": "code",
      "metadata": {
        "id": "nnPdzY7Sr_5O",
        "outputId": "76847064-5484-4c2b-f7e9-5f1dd5f6bedb",
        "colab": {
          "base_uri": "https://localhost:8080/"
        }
      },
      "source": [
        "list1.sort(reverse = True)\n",
        "list1"
      ],
      "execution_count": 50,
      "outputs": [
        {
          "output_type": "execute_result",
          "data": {
            "text/plain": [
              "[100, 99, 98, 89, 50, 20]"
            ]
          },
          "metadata": {
            "tags": []
          },
          "execution_count": 50
        }
      ]
    },
    {
      "cell_type": "code",
      "metadata": {
        "id": "Bf8nGBKbsCn3",
        "outputId": "e20c14e3-d3c8-4a26-e707-b46e52b33627",
        "colab": {
          "base_uri": "https://localhost:8080/"
        }
      },
      "source": [
        "list1.reverse()\n",
        "list1"
      ],
      "execution_count": 51,
      "outputs": [
        {
          "output_type": "execute_result",
          "data": {
            "text/plain": [
              "[20, 50, 89, 98, 99, 100]"
            ]
          },
          "metadata": {
            "tags": []
          },
          "execution_count": 51
        }
      ]
    },
    {
      "cell_type": "code",
      "metadata": {
        "id": "EpG6H3VfsK22",
        "outputId": "b1765369-f990-490a-a0ba-c2c2ede9b258",
        "colab": {
          "base_uri": "https://localhost:8080/"
        }
      },
      "source": [
        "list1.index(89)"
      ],
      "execution_count": 52,
      "outputs": [
        {
          "output_type": "execute_result",
          "data": {
            "text/plain": [
              "2"
            ]
          },
          "metadata": {
            "tags": []
          },
          "execution_count": 52
        }
      ]
    },
    {
      "cell_type": "code",
      "metadata": {
        "id": "7URt8wGVsZwS",
        "outputId": "4d4c520f-b854-4b7f-87b1-bafbd2c4bf7c",
        "colab": {
          "base_uri": "https://localhost:8080/"
        }
      },
      "source": [
        "list1.append(89)\n",
        "list1.sort(reverse =True)\n",
        "list1"
      ],
      "execution_count": 53,
      "outputs": [
        {
          "output_type": "execute_result",
          "data": {
            "text/plain": [
              "[100, 99, 98, 89, 89, 50, 20]"
            ]
          },
          "metadata": {
            "tags": []
          },
          "execution_count": 53
        }
      ]
    },
    {
      "cell_type": "code",
      "metadata": {
        "id": "Yy37z3CdslHD",
        "outputId": "94c39cb5-7206-4fd5-c9b7-cca06779fa33",
        "colab": {
          "base_uri": "https://localhost:8080/"
        }
      },
      "source": [
        "list1.count(89)"
      ],
      "execution_count": 54,
      "outputs": [
        {
          "output_type": "execute_result",
          "data": {
            "text/plain": [
              "2"
            ]
          },
          "metadata": {
            "tags": []
          },
          "execution_count": 54
        }
      ]
    },
    {
      "cell_type": "code",
      "metadata": {
        "id": "nndqR64Rs4BW",
        "outputId": "532de1da-7f6e-4fd0-8565-f1771409d1de",
        "colab": {
          "base_uri": "https://localhost:8080/"
        }
      },
      "source": [
        "list1.index(89)"
      ],
      "execution_count": 55,
      "outputs": [
        {
          "output_type": "execute_result",
          "data": {
            "text/plain": [
              "3"
            ]
          },
          "metadata": {
            "tags": []
          },
          "execution_count": 55
        }
      ]
    },
    {
      "cell_type": "code",
      "metadata": {
        "id": "ULAj1a3Es5rD",
        "outputId": "dec84669-ee78-42fb-e347-83af6fda4509",
        "colab": {
          "base_uri": "https://localhost:8080/"
        }
      },
      "source": [
        "list2 = [88,98,100,50,99]\n",
        "list1.extend(list2)\n",
        "list1"
      ],
      "execution_count": 56,
      "outputs": [
        {
          "output_type": "execute_result",
          "data": {
            "text/plain": [
              "[100, 99, 98, 89, 89, 50, 20, 88, 98, 100, 50, 99]"
            ]
          },
          "metadata": {
            "tags": []
          },
          "execution_count": 56
        }
      ]
    },
    {
      "cell_type": "code",
      "metadata": {
        "id": "XHHBwEAmtbTW",
        "outputId": "597ac4e6-2e88-42a3-f5bb-9291a1038997",
        "colab": {
          "base_uri": "https://localhost:8080/"
        }
      },
      "source": [
        "list5 = ['a','b','c']\n",
        "list5"
      ],
      "execution_count": 57,
      "outputs": [
        {
          "output_type": "execute_result",
          "data": {
            "text/plain": [
              "['a', 'b', 'c']"
            ]
          },
          "metadata": {
            "tags": []
          },
          "execution_count": 57
        }
      ]
    },
    {
      "cell_type": "code",
      "metadata": {
        "id": "74SYwhW5uIXw",
        "outputId": "6974e2ba-90d9-4102-edd9-93448db696d2",
        "colab": {
          "base_uri": "https://localhost:8080/"
        }
      },
      "source": [
        "list5.append('d')\n",
        "list5"
      ],
      "execution_count": 58,
      "outputs": [
        {
          "output_type": "execute_result",
          "data": {
            "text/plain": [
              "['a', 'b', 'c', 'd']"
            ]
          },
          "metadata": {
            "tags": []
          },
          "execution_count": 58
        }
      ]
    },
    {
      "cell_type": "code",
      "metadata": {
        "id": "XcGeTybRuKeA",
        "outputId": "68706068-fabf-40cb-8960-9118101002aa",
        "colab": {
          "base_uri": "https://localhost:8080/"
        }
      },
      "source": [
        "list5.insert(2,'d')\n",
        "list5"
      ],
      "execution_count": 59,
      "outputs": [
        {
          "output_type": "execute_result",
          "data": {
            "text/plain": [
              "['a', 'b', 'd', 'c', 'd']"
            ]
          },
          "metadata": {
            "tags": []
          },
          "execution_count": 59
        }
      ]
    },
    {
      "cell_type": "code",
      "metadata": {
        "id": "GiQSWnc6uMw5"
      },
      "source": [
        "list5.remove('d')"
      ],
      "execution_count": 60,
      "outputs": []
    },
    {
      "cell_type": "code",
      "metadata": {
        "id": "_uDcHwG7uSWk",
        "outputId": "509675b3-464b-447f-9197-43b10ea80d23",
        "colab": {
          "base_uri": "https://localhost:8080/"
        }
      },
      "source": [
        "list5"
      ],
      "execution_count": 62,
      "outputs": [
        {
          "output_type": "execute_result",
          "data": {
            "text/plain": [
              "['a', 'b', 'c', 'd']"
            ]
          },
          "metadata": {
            "tags": []
          },
          "execution_count": 62
        }
      ]
    },
    {
      "cell_type": "code",
      "metadata": {
        "id": "lupL5OQHuSvD",
        "outputId": "ebdc7af1-05bc-46e1-e619-2523bb05e650",
        "colab": {
          "base_uri": "https://localhost:8080/",
          "height": 34
        }
      },
      "source": [
        "list5.pop()"
      ],
      "execution_count": 63,
      "outputs": [
        {
          "output_type": "execute_result",
          "data": {
            "application/vnd.google.colaboratory.intrinsic+json": {
              "type": "string"
            },
            "text/plain": [
              "'d'"
            ]
          },
          "metadata": {
            "tags": []
          },
          "execution_count": 63
        }
      ]
    },
    {
      "cell_type": "code",
      "metadata": {
        "id": "7_uEiOFSufdC",
        "outputId": "836d38ef-7ead-4d56-93e4-c96fcbef4ba0",
        "colab": {
          "base_uri": "https://localhost:8080/"
        }
      },
      "source": [
        "list5"
      ],
      "execution_count": 64,
      "outputs": [
        {
          "output_type": "execute_result",
          "data": {
            "text/plain": [
              "['a', 'b', 'c']"
            ]
          },
          "metadata": {
            "tags": []
          },
          "execution_count": 64
        }
      ]
    },
    {
      "cell_type": "code",
      "metadata": {
        "id": "uH2IKIE1ugSU",
        "outputId": "74e1aab8-6cde-4618-896b-f21165d63660",
        "colab": {
          "base_uri": "https://localhost:8080/",
          "height": 35
        }
      },
      "source": [
        "list5.pop()"
      ],
      "execution_count": 65,
      "outputs": [
        {
          "output_type": "execute_result",
          "data": {
            "application/vnd.google.colaboratory.intrinsic+json": {
              "type": "string"
            },
            "text/plain": [
              "'c'"
            ]
          },
          "metadata": {
            "tags": []
          },
          "execution_count": 65
        }
      ]
    },
    {
      "cell_type": "code",
      "metadata": {
        "id": "g7sUwakbuk77",
        "outputId": "334a8047-7621-4e4f-eef4-3bed1c6767c1",
        "colab": {
          "base_uri": "https://localhost:8080/"
        }
      },
      "source": [
        "list5"
      ],
      "execution_count": 66,
      "outputs": [
        {
          "output_type": "execute_result",
          "data": {
            "text/plain": [
              "['a', 'b']"
            ]
          },
          "metadata": {
            "tags": []
          },
          "execution_count": 66
        }
      ]
    },
    {
      "cell_type": "code",
      "metadata": {
        "id": "XR_004Lgulf8",
        "outputId": "4504e4d4-319b-462c-b741-d9e741573777",
        "colab": {
          "base_uri": "https://localhost:8080/"
        }
      },
      "source": [
        "#LAB 5-5 : 리스트 메소드의 응용\n",
        "a = [1,2,3]\n",
        "b = [10,20,30]\n",
        "a.append(b)\n",
        "a"
      ],
      "execution_count": 67,
      "outputs": [
        {
          "output_type": "execute_result",
          "data": {
            "text/plain": [
              "[1, 2, 3, [10, 20, 30]]"
            ]
          },
          "metadata": {
            "tags": []
          },
          "execution_count": 67
        }
      ]
    },
    {
      "cell_type": "code",
      "metadata": {
        "id": "dIcAEXrvvLWs",
        "outputId": "95041a2e-8d5f-48f8-c66e-b9d579252daa",
        "colab": {
          "base_uri": "https://localhost:8080/"
        }
      },
      "source": [
        "a = [1,2,3]\n",
        "b = [10,20,30]\n",
        "a.extend(b)\n",
        "a"
      ],
      "execution_count": 68,
      "outputs": [
        {
          "output_type": "execute_result",
          "data": {
            "text/plain": [
              "[1, 2, 3, 10, 20, 30]"
            ]
          },
          "metadata": {
            "tags": []
          },
          "execution_count": 68
        }
      ]
    },
    {
      "cell_type": "code",
      "metadata": {
        "id": "AXeLfpV1vOE4",
        "outputId": "040ec289-d075-4868-b56e-67da1da1b02d",
        "colab": {
          "base_uri": "https://localhost:8080/"
        }
      },
      "source": [
        "nlist = list(range(1,11))\n",
        "print(\"nlist =\", nlist)"
      ],
      "execution_count": 69,
      "outputs": [
        {
          "output_type": "stream",
          "text": [
            "nlist = [1, 2, 3, 4, 5, 6, 7, 8, 9, 10]\n"
          ],
          "name": "stdout"
        }
      ]
    },
    {
      "cell_type": "code",
      "metadata": {
        "id": "LOv3qR6TvWE8",
        "outputId": "c5d9fedc-654a-4b4e-fd66-9ea639191851",
        "colab": {
          "base_uri": "https://localhost:8080/"
        }
      },
      "source": [
        "nlist.insert(0,0)\n",
        "print(\"nlist =\", nlist)"
      ],
      "execution_count": 70,
      "outputs": [
        {
          "output_type": "stream",
          "text": [
            "nlist = [0, 1, 2, 3, 4, 5, 6, 7, 8, 9, 10]\n"
          ],
          "name": "stdout"
        }
      ]
    },
    {
      "cell_type": "code",
      "metadata": {
        "id": "LcAmcHcBvaSC",
        "outputId": "21720bee-52a4-4c69-9081-37c7e2400dc9",
        "colab": {
          "base_uri": "https://localhost:8080/"
        }
      },
      "source": [
        "nlist.reverse()\n",
        "print(\"nlist =\", nlist)"
      ],
      "execution_count": 71,
      "outputs": [
        {
          "output_type": "stream",
          "text": [
            "nlist = [10, 9, 8, 7, 6, 5, 4, 3, 2, 1, 0]\n"
          ],
          "name": "stdout"
        }
      ]
    },
    {
      "cell_type": "code",
      "metadata": {
        "id": "IJt7AfX2vdW1",
        "outputId": "7d2073df-712b-484f-e490-eed727cdf4ee",
        "colab": {
          "base_uri": "https://localhost:8080/"
        }
      },
      "source": [
        "print(\"마지막 원소 =\", nlist.pop())\n",
        "print(\"nlist =\", nlist)"
      ],
      "execution_count": 72,
      "outputs": [
        {
          "output_type": "stream",
          "text": [
            "마지막 원소 = 0\n",
            "nlist = [10, 9, 8, 7, 6, 5, 4, 3, 2, 1]\n"
          ],
          "name": "stdout"
        }
      ]
    },
    {
      "cell_type": "code",
      "metadata": {
        "id": "C7mI9VN6vkRn",
        "outputId": "448e4558-5040-4fe7-847d-a8c39be7b2ec",
        "colab": {
          "base_uri": "https://localhost:8080/"
        }
      },
      "source": [
        "list1"
      ],
      "execution_count": 73,
      "outputs": [
        {
          "output_type": "execute_result",
          "data": {
            "text/plain": [
              "[100, 99, 98, 89, 89, 50, 20, 88, 98, 100, 50, 99]"
            ]
          },
          "metadata": {
            "tags": []
          },
          "execution_count": 73
        }
      ]
    },
    {
      "cell_type": "code",
      "metadata": {
        "id": "lpZnk0wHv6ct",
        "outputId": "7b784a42-ac2c-496f-ce0e-743f73aae54e",
        "colab": {
          "base_uri": "https://localhost:8080/"
        }
      },
      "source": [
        "list2"
      ],
      "execution_count": 74,
      "outputs": [
        {
          "output_type": "execute_result",
          "data": {
            "text/plain": [
              "[88, 98, 100, 50, 99]"
            ]
          },
          "metadata": {
            "tags": []
          },
          "execution_count": 74
        }
      ]
    },
    {
      "cell_type": "code",
      "metadata": {
        "id": "nQgL6pOjv7cV",
        "outputId": "064ca0c2-31bc-4490-8eb4-e56971c2ff22",
        "colab": {
          "base_uri": "https://localhost:8080/"
        }
      },
      "source": [
        "list3 = list1+list2\n",
        "list3"
      ],
      "execution_count": 75,
      "outputs": [
        {
          "output_type": "execute_result",
          "data": {
            "text/plain": [
              "[100, 99, 98, 89, 89, 50, 20, 88, 98, 100, 50, 99, 88, 98, 100, 50, 99]"
            ]
          },
          "metadata": {
            "tags": []
          },
          "execution_count": 75
        }
      ]
    },
    {
      "cell_type": "code",
      "metadata": {
        "id": "TdEFWWx5v-qq",
        "outputId": "a1ee61c7-35cd-4799-d486-4929afaf2a5c",
        "colab": {
          "base_uri": "https://localhost:8080/"
        }
      },
      "source": [
        "#LAB 5-6 : 리스트 연산\n",
        "n = int(input(\"반복할 정수를 입력하시오 : \"))\n",
        "nlist = [1,2,3]\n",
        "nlist * n"
      ],
      "execution_count": 76,
      "outputs": [
        {
          "output_type": "stream",
          "text": [
            "반복할 정수를 입력하시오 : 4\n"
          ],
          "name": "stdout"
        },
        {
          "output_type": "execute_result",
          "data": {
            "text/plain": [
              "[1, 2, 3, 1, 2, 3, 1, 2, 3, 1, 2, 3]"
            ]
          },
          "metadata": {
            "tags": []
          },
          "execution_count": 76
        }
      ]
    },
    {
      "cell_type": "code",
      "metadata": {
        "id": "GknDMh8Fw1s2",
        "outputId": "e04a03f7-9daa-4549-df60-91795713857e",
        "colab": {
          "base_uri": "https://localhost:8080/"
        }
      },
      "source": [
        "list1 = [10,20,30,40,50]\n",
        "list1 = [n * 10 for n in list1]\n",
        "list1"
      ],
      "execution_count": 77,
      "outputs": [
        {
          "output_type": "execute_result",
          "data": {
            "text/plain": [
              "[100, 200, 300, 400, 500]"
            ]
          },
          "metadata": {
            "tags": []
          },
          "execution_count": 77
        }
      ]
    },
    {
      "cell_type": "code",
      "metadata": {
        "id": "bOcPnPdQxM5r",
        "outputId": "004817f4-e342-4d4a-dfa9-2149b071ba2c",
        "colab": {
          "base_uri": "https://localhost:8080/"
        }
      },
      "source": [
        "list1 = [10,20,30,40,50]\n",
        "for i in range(len(list1)):\n",
        "    list1[i] = list1[i]*10\n",
        "list1"
      ],
      "execution_count": 80,
      "outputs": [
        {
          "output_type": "execute_result",
          "data": {
            "text/plain": [
              "[100, 200, 300, 400, 500]"
            ]
          },
          "metadata": {
            "tags": []
          },
          "execution_count": 80
        }
      ]
    },
    {
      "cell_type": "code",
      "metadata": {
        "id": "8AVO-n7hxVn3",
        "outputId": "07b7ba29-9bca-4b0f-d9f0-73963891147d",
        "colab": {
          "base_uri": "https://localhost:8080/"
        }
      },
      "source": [
        "list1 = [10,20,30,40,50]\n",
        "list1 = [n-3 for n in list1]\n",
        "list1"
      ],
      "execution_count": 81,
      "outputs": [
        {
          "output_type": "execute_result",
          "data": {
            "text/plain": [
              "[7, 17, 27, 37, 47]"
            ]
          },
          "metadata": {
            "tags": []
          },
          "execution_count": 81
        }
      ]
    },
    {
      "cell_type": "code",
      "metadata": {
        "id": "DjuHu9S8xmyK",
        "outputId": "2ae94782-c68b-4af1-8cff-a987aaa2b70d",
        "colab": {
          "base_uri": "https://localhost:8080/"
        }
      },
      "source": [
        "list1 = [10,20,30,40,50]\n",
        "list1 = list(map(lambda x: x*10, list1))\n",
        "list1"
      ],
      "execution_count": 82,
      "outputs": [
        {
          "output_type": "execute_result",
          "data": {
            "text/plain": [
              "[100, 200, 300, 400, 500]"
            ]
          },
          "metadata": {
            "tags": []
          },
          "execution_count": 82
        }
      ]
    },
    {
      "cell_type": "code",
      "metadata": {
        "id": "2EvL-3Tfxu5R",
        "outputId": "b429e012-400d-41d6-bba3-b2f304253040",
        "colab": {
          "base_uri": "https://localhost:8080/"
        }
      },
      "source": [
        "a_list = list(range(10,81,10))\n",
        "a_list[1:5]"
      ],
      "execution_count": 83,
      "outputs": [
        {
          "output_type": "execute_result",
          "data": {
            "text/plain": [
              "[20, 30, 40, 50]"
            ]
          },
          "metadata": {
            "tags": []
          },
          "execution_count": 83
        }
      ]
    },
    {
      "cell_type": "code",
      "metadata": {
        "id": "WjP5XQVCyVa7",
        "outputId": "d51cfaaa-6725-4f84-dc67-714471440e7e",
        "colab": {
          "base_uri": "https://localhost:8080/"
        }
      },
      "source": [
        "a_list[5:]"
      ],
      "execution_count": 84,
      "outputs": [
        {
          "output_type": "execute_result",
          "data": {
            "text/plain": [
              "[60, 70, 80]"
            ]
          },
          "metadata": {
            "tags": []
          },
          "execution_count": 84
        }
      ]
    },
    {
      "cell_type": "code",
      "metadata": {
        "id": "TddaBUPuybYo",
        "outputId": "c2723ae0-8fef-40dc-88df-9694cce5ccf8",
        "colab": {
          "base_uri": "https://localhost:8080/"
        }
      },
      "source": [
        "a_list[:5]"
      ],
      "execution_count": 85,
      "outputs": [
        {
          "output_type": "execute_result",
          "data": {
            "text/plain": [
              "[10, 20, 30, 40, 50]"
            ]
          },
          "metadata": {
            "tags": []
          },
          "execution_count": 85
        }
      ]
    },
    {
      "cell_type": "code",
      "metadata": {
        "id": "SuP_fqLTyjck",
        "outputId": "574ad6b4-05fc-4d75-822c-46398d43c113",
        "colab": {
          "base_uri": "https://localhost:8080/"
        }
      },
      "source": [
        "a_list = list(range(1,10))\n",
        "a_list"
      ],
      "execution_count": 87,
      "outputs": [
        {
          "output_type": "execute_result",
          "data": {
            "text/plain": [
              "[1, 2, 3, 4, 5, 6, 7, 8, 9]"
            ]
          },
          "metadata": {
            "tags": []
          },
          "execution_count": 87
        }
      ]
    },
    {
      "cell_type": "code",
      "metadata": {
        "id": "q4Z7ivYrytnJ",
        "outputId": "aeac23e2-6cec-4221-b10a-ad3eda4a5f90",
        "colab": {
          "base_uri": "https://localhost:8080/"
        }
      },
      "source": [
        "a_list[1:8:2]"
      ],
      "execution_count": 88,
      "outputs": [
        {
          "output_type": "execute_result",
          "data": {
            "text/plain": [
              "[2, 4, 6, 8]"
            ]
          },
          "metadata": {
            "tags": []
          },
          "execution_count": 88
        }
      ]
    },
    {
      "cell_type": "code",
      "metadata": {
        "id": "C7FRp8mxy0nw",
        "outputId": "6183f44e-9796-4fe7-9877-62ebb86eee23",
        "colab": {
          "base_uri": "https://localhost:8080/"
        }
      },
      "source": [
        "a_list[0:9:2]"
      ],
      "execution_count": 89,
      "outputs": [
        {
          "output_type": "execute_result",
          "data": {
            "text/plain": [
              "[1, 3, 5, 7, 9]"
            ]
          },
          "metadata": {
            "tags": []
          },
          "execution_count": 89
        }
      ]
    },
    {
      "cell_type": "code",
      "metadata": {
        "id": "J81tJGNxzFf1",
        "outputId": "b81180af-8e3c-403d-f304-1ecdab3cbf72",
        "colab": {
          "base_uri": "https://localhost:8080/"
        }
      },
      "source": [
        "a_list[:]"
      ],
      "execution_count": 90,
      "outputs": [
        {
          "output_type": "execute_result",
          "data": {
            "text/plain": [
              "[1, 2, 3, 4, 5, 6, 7, 8, 9]"
            ]
          },
          "metadata": {
            "tags": []
          },
          "execution_count": 90
        }
      ]
    },
    {
      "cell_type": "code",
      "metadata": {
        "id": "Cpot9cNOzS9B",
        "outputId": "533d3901-ba7f-4e35-abdb-8843b0b1ee9a",
        "colab": {
          "base_uri": "https://localhost:8080/"
        }
      },
      "source": [
        "list1.sort()\n",
        "list1"
      ],
      "execution_count": 91,
      "outputs": [
        {
          "output_type": "execute_result",
          "data": {
            "text/plain": [
              "[100, 200, 300, 400, 500]"
            ]
          },
          "metadata": {
            "tags": []
          },
          "execution_count": 91
        }
      ]
    },
    {
      "cell_type": "code",
      "metadata": {
        "id": "QmhP_T72zWyP",
        "outputId": "3d82218b-59d0-4cae-cc27-651e5c915b58",
        "colab": {
          "base_uri": "https://localhost:8080/"
        }
      },
      "source": [
        "list1[::-1]"
      ],
      "execution_count": 92,
      "outputs": [
        {
          "output_type": "execute_result",
          "data": {
            "text/plain": [
              "[500, 400, 300, 200, 100]"
            ]
          },
          "metadata": {
            "tags": []
          },
          "execution_count": 92
        }
      ]
    },
    {
      "cell_type": "code",
      "metadata": {
        "id": "sXKKbM74zYMn",
        "outputId": "3e48a077-1936-42e7-c1ca-98cda1670230",
        "colab": {
          "base_uri": "https://localhost:8080/"
        }
      },
      "source": [
        "a_list"
      ],
      "execution_count": 93,
      "outputs": [
        {
          "output_type": "execute_result",
          "data": {
            "text/plain": [
              "[1, 2, 3, 4, 5, 6, 7, 8, 9]"
            ]
          },
          "metadata": {
            "tags": []
          },
          "execution_count": 93
        }
      ]
    },
    {
      "cell_type": "code",
      "metadata": {
        "id": "M6LSwdR7ztqz",
        "outputId": "3d5f85a7-043f-4053-f52d-a4a919356b61",
        "colab": {
          "base_uri": "https://localhost:8080/"
        }
      },
      "source": [
        "a_list[5:2:-1]"
      ],
      "execution_count": 94,
      "outputs": [
        {
          "output_type": "execute_result",
          "data": {
            "text/plain": [
              "[6, 5, 4]"
            ]
          },
          "metadata": {
            "tags": []
          },
          "execution_count": 94
        }
      ]
    },
    {
      "cell_type": "code",
      "metadata": {
        "id": "nOD3T_Q-z7SG",
        "outputId": "aeaa002d-dfde-41ed-eaa2-daf73ffec7b5",
        "colab": {
          "base_uri": "https://localhost:8080/"
        }
      },
      "source": [
        "#LAB 5-7 : 리스트의 슬라이싱\n",
        "n_list = list(range(15))\n",
        "n_list"
      ],
      "execution_count": 96,
      "outputs": [
        {
          "output_type": "execute_result",
          "data": {
            "text/plain": [
              "[0, 1, 2, 3, 4, 5, 6, 7, 8, 9, 10, 11, 12, 13, 14]"
            ]
          },
          "metadata": {
            "tags": []
          },
          "execution_count": 96
        }
      ]
    },
    {
      "cell_type": "code",
      "metadata": {
        "id": "p0oc7cob0_B4",
        "outputId": "540058a7-6635-4016-b767-d676cf9d4f9d",
        "colab": {
          "base_uri": "https://localhost:8080/"
        }
      },
      "source": [
        "print(\"s_list1 =\", n_list[:5])\n",
        "print(\"s_list2 =\", n_list[5:11])\n",
        "print(\"s_list3 =\", n_list[11:])\n",
        "print(\"s_list4 =\", n_list[2:11:2])\n",
        "print(\"s_list5 =\", n_list[10:5:-1])\n",
        "print(\"s_list6 =\", n_list[10:1:-2])"
      ],
      "execution_count": 98,
      "outputs": [
        {
          "output_type": "stream",
          "text": [
            "s_list1 = [0, 1, 2, 3, 4]\n",
            "s_list2 = [5, 6, 7, 8, 9, 10]\n",
            "s_list3 = [11, 12, 13, 14]\n",
            "s_list4 = [2, 4, 6, 8, 10]\n",
            "s_list5 = [10, 9, 8, 7, 6]\n",
            "s_list6 = [10, 8, 6, 4, 2]\n"
          ],
          "name": "stdout"
        }
      ]
    },
    {
      "cell_type": "code",
      "metadata": {
        "id": "gKF3_0mi1hCp"
      },
      "source": [
        ""
      ],
      "execution_count": null,
      "outputs": []
    }
  ]
}