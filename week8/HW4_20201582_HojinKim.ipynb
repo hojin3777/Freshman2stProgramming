{
  "nbformat": 4,
  "nbformat_minor": 0,
  "metadata": {
    "colab": {
      "name": "HW4_20201582_HojinKim.ipynb",
      "provenance": [],
      "authorship_tag": "ABX9TyMp8MOcir9PI+lZYxFQpSSs",
      "include_colab_link": true
    },
    "kernelspec": {
      "name": "python3",
      "display_name": "Python 3"
    }
  },
  "cells": [
    {
      "cell_type": "markdown",
      "metadata": {
        "id": "view-in-github",
        "colab_type": "text"
      },
      "source": [
        "<a href=\"https://colab.research.google.com/github/hojin3777/Freshman2stProgramming/blob/master/week8/HW4_20201582_HojinKim.ipynb\" target=\"_parent\"><img src=\"https://colab.research.google.com/assets/colab-badge.svg\" alt=\"Open In Colab\"/></a>"
      ]
    },
    {
      "cell_type": "code",
      "metadata": {
        "id": "EXwd2BvXDvb8",
        "outputId": "5b20d787-45dc-4777-c868-d02a4d23889e",
        "colab": {
          "base_uri": "https://localhost:8080/"
        }
      },
      "source": [
        "#4.1 함수명은 문제를 따름\n",
        "def greet():\n",
        "    print(\"환영합니다.\")\n",
        "\n",
        "greet()\n",
        "greet()"
      ],
      "execution_count": null,
      "outputs": [
        {
          "output_type": "stream",
          "text": [
            "환영합니다.\n",
            "환영합니다.\n"
          ],
          "name": "stdout"
        }
      ]
    },
    {
      "cell_type": "code",
      "metadata": {
        "id": "XI_2SaaVYU8-",
        "outputId": "2580db92-8cdf-479c-ad14-b28334719bcd",
        "colab": {
          "base_uri": "https://localhost:8080/"
        }
      },
      "source": [
        "#4.2\n",
        "def square(n):\n",
        "    return n*n\n",
        "print('3의 제곱은 :', square(3))\n",
        "print('4의 제곱은 :', square(4))"
      ],
      "execution_count": null,
      "outputs": [
        {
          "output_type": "stream",
          "text": [
            "3의 제곱은 : 9\n",
            "4의 제곱은 : 16\n"
          ],
          "name": "stdout"
        }
      ]
    },
    {
      "cell_type": "code",
      "metadata": {
        "id": "tBGbGJv-Yj6j",
        "outputId": "717a0687-e7e6-438b-922a-680f7b15154d",
        "colab": {
          "base_uri": "https://localhost:8080/"
        }
      },
      "source": [
        "#4.3\n",
        "def max2(m,n):\n",
        "    if m>n:\n",
        "        return m\n",
        "    else:\n",
        "        return n\n",
        "def min2(m,n):\n",
        "    if m>n:\n",
        "        return n\n",
        "    else:\n",
        "        return m\n",
        "print('100과 200중 큰 수는 :', max2(100,200))\n",
        "print('100과 200중 작은 수는 :', min2(100,200))"
      ],
      "execution_count": null,
      "outputs": [
        {
          "output_type": "stream",
          "text": [
            "100과 200중 큰 수는 : 200\n",
            "100과 200중 작은 수는 : 100\n"
          ],
          "name": "stdout"
        }
      ]
    },
    {
      "cell_type": "code",
      "metadata": {
        "id": "o9KLBDFpY3lI",
        "outputId": "1eb0d2f8-755b-4e9d-9528-968ad8d8688d",
        "colab": {
          "base_uri": "https://localhost:8080/"
        }
      },
      "source": [
        "#4.4\n",
        "def mile2km(m):\n",
        "    return m*1.61\n",
        "for i in range(1,6):\n",
        "    print('{} mile = {} km'.format(i,mile2km(i)))"
      ],
      "execution_count": null,
      "outputs": [
        {
          "output_type": "stream",
          "text": [
            "1 mile = 1.61 km\n",
            "2 mile = 3.22 km\n",
            "3 mile = 4.83 km\n",
            "4 mile = 6.44 km\n",
            "5 mile = 8.05 km\n"
          ],
          "name": "stdout"
        }
      ]
    },
    {
      "cell_type": "code",
      "metadata": {
        "id": "o2DbX5WqZvPj",
        "outputId": "cecd80dd-5b16-4b95-d225-d00cbac492c5",
        "colab": {
          "base_uri": "https://localhost:8080/"
        }
      },
      "source": [
        "#4.5\n",
        "def inch2cm(inch):\n",
        "    return inch*2.54\n",
        "for i in range(1,6):\n",
        "    print('{} inch = {} cm'.format(i,inch2cm(i)))"
      ],
      "execution_count": null,
      "outputs": [
        {
          "output_type": "stream",
          "text": [
            "1 inch = 2.54 cm\n",
            "2 inch = 5.08 cm\n",
            "3 inch = 7.62 cm\n",
            "4 inch = 10.16 cm\n",
            "5 inch = 12.7 cm\n"
          ],
          "name": "stdout"
        }
      ]
    },
    {
      "cell_type": "code",
      "metadata": {
        "id": "8IOA3hXGax-r",
        "outputId": "02a5df5c-cc50-4caa-dbd4-87bddd617884",
        "colab": {
          "base_uri": "https://localhost:8080/"
        }
      },
      "source": [
        "#4.6\n",
        "def cel2fah(cel):\n",
        "    return cel*(9/5)+32\n",
        "for i in range(10,51,10):\n",
        "    print('섭씨 {} 도 = 화씨 {} 도'.format(i,cel2fah(i)))    "
      ],
      "execution_count": null,
      "outputs": [
        {
          "output_type": "stream",
          "text": [
            "섭씨 10 도 = 화씨 50.0 도\n",
            "섭씨 20 도 = 화씨 68.0 도\n",
            "섭씨 30 도 = 화씨 86.0 도\n",
            "섭씨 40 도 = 화씨 104.0 도\n",
            "섭씨 50 도 = 화씨 122.0 도\n"
          ],
          "name": "stdout"
        }
      ]
    },
    {
      "cell_type": "code",
      "metadata": {
        "id": "5BwTKRt2a8rm",
        "outputId": "89b7dc00-01f6-463c-c8d5-a97d18c7f4ad",
        "colab": {
          "base_uri": "https://localhost:8080/"
        }
      },
      "source": [
        "#4.7\n",
        "a,b,c = map(int, input(\"세 수를 입력하시오 :\").split())\n",
        "def mean3(a,b,c):\n",
        "    return (a+b+c)/3\n",
        "def max3(a,b,c):\n",
        "    return max(a,b,c)\n",
        "def min3(a,b,c):\n",
        "    return min(a,b,c)\n",
        "\n",
        "print('{}, {}, {}의 평균값은 {}'.format(a,b,c, mean3(a,b,c)))\n",
        "print('{}, {}, {}의 최댓값은 {}'.format(a,b,c, max3(a,b,c)))\n",
        "print('{}, {}, {}의 최솟값은 {}'.format(a,b,c, min3(a,b,c)))"
      ],
      "execution_count": null,
      "outputs": [
        {
          "output_type": "stream",
          "text": [
            "세 수를 입력하시오 :10 20 30\n",
            "10, 20, 30의 평균값은 20.0\n",
            "10, 20, 30의 최댓값은 30\n",
            "10, 20, 30의 최솟값은 10\n"
          ],
          "name": "stdout"
        }
      ]
    },
    {
      "cell_type": "code",
      "metadata": {
        "id": "87rAPUCGa9OX",
        "outputId": "9a06386a-5e69-461c-a993-a264068c9917",
        "colab": {
          "base_uri": "https://localhost:8080/"
        }
      },
      "source": [
        "#4.8 (문제대로 #4.7의 함수를 호출하여 구현)\n",
        "a,b,c,d,e,f = map(int, input(\"여섯 개의 수를 입력하시오 :\").split())\n",
        "def mean6(a,b,c,d,e,f):\n",
        "    return (mean3(a,b,c)+mean3(d,e,f))/2\n",
        "def max6(a,b,c,d,e,f):\n",
        "    return max3(a,b,c) if max3(a,b,c)>max3(d,e,f) else max3(d,e,f)\n",
        "def min6(a,b,c,d,e,f):\n",
        "    return min3(a,b,c) if min3(a,b,c)<min3(d,e,f) else min3(d,e,f)\n",
        "\n",
        "print('평균값은', mean6(a,b,c,d,e,f))\n",
        "print('최댓값은', max6(a,b,c,d,e,f))\n",
        "print('최솟값은', min6(a,b,c,d,e,f))"
      ],
      "execution_count": null,
      "outputs": [
        {
          "output_type": "stream",
          "text": [
            "여섯 개의 수를 입력하시오 :100 20 30 45 260 370\n",
            "평균값은 137.5\n",
            "최댓값은 370\n",
            "최솟값은 20\n"
          ],
          "name": "stdout"
        }
      ]
    },
    {
      "cell_type": "code",
      "metadata": {
        "id": "MGXHzUtla9kr",
        "outputId": "7b937c4a-c2c5-4b6b-dc68-70664851d249",
        "colab": {
          "base_uri": "https://localhost:8080/"
        }
      },
      "source": [
        "#4.9\n",
        "nums = list(map(int, input(\"여섯 개의 수를 입력하시오 :\").split()))\n",
        "def mean_of_n(nums):\n",
        "    total = 0;\n",
        "    for i in nums:\n",
        "        total += i\n",
        "    return total/len(nums)\n",
        "def max_of_n(nums):\n",
        "    return max(nums)\n",
        "def min_of_n(nums):\n",
        "    return min(nums)\n",
        "\n",
        "print('평균값은', mean_of_n(nums))\n",
        "print('최댓값은', max_of_n(nums))\n",
        "print('최솟값은', min_of_n(nums))"
      ],
      "execution_count": null,
      "outputs": [
        {
          "output_type": "stream",
          "text": [
            "여섯 개의 수를 입력하시오 :3 45 32 5 7 8 4 44 5 90 17\n",
            "평균값은 23.636363636363637\n",
            "최댓값은 90\n",
            "최솟값은 3\n"
          ],
          "name": "stdout"
        }
      ]
    },
    {
      "cell_type": "code",
      "metadata": {
        "id": "MdTPd6ZXa-Qv",
        "outputId": "357485e0-8009-43d6-e936-b795ee6b5612",
        "colab": {
          "base_uri": "https://localhost:8080/"
        }
      },
      "source": [
        "#4.10\n",
        "x1 = int(input('x1 좌표를 입력하시오 : '))\n",
        "y1 = int(input('y1 좌표를 입력하시오 : '))\n",
        "x2 = int(input('x2 좌표를 입력하시오 : '))\n",
        "y2 = int(input('y2 좌표를 입력하시오 : '))\n",
        "def distance(x1, y1, x2, y2):\n",
        "    return (abs(x1-x2)**2 + abs(y1-y2)**2)**0.5\n",
        "\n",
        "print(\"두 점의 거리:\", distance(x1, y1, x2, y2))"
      ],
      "execution_count": null,
      "outputs": [
        {
          "output_type": "stream",
          "text": [
            "x1 좌표를 입력하시오 : 0\n",
            "y1 좌표를 입력하시오 : 0\n",
            "x2 좌표를 입력하시오 : 3\n",
            "y2 좌표를 입력하시오 : 4\n",
            "두 점의 거리: 5.0\n"
          ],
          "name": "stdout"
        }
      ]
    },
    {
      "cell_type": "code",
      "metadata": {
        "id": "YStqtOZua-yW",
        "outputId": "b3cb506b-b758-4a5c-d0cd-301d56c0e790",
        "colab": {
          "base_uri": "https://localhost:8080/"
        }
      },
      "source": [
        "#4.11\n",
        "x1 = int(input('x1 좌표를 입력하시오 : '))\n",
        "y1 = int(input('y1 좌표를 입력하시오 : '))\n",
        "x2 = int(input('x2 좌표를 입력하시오 : '))\n",
        "y2 = int(input('y2 좌표를 입력하시오 : '))\n",
        "def area(x1, y1, x2, y2):\n",
        "    return (abs(x1-x2)*abs(y1-y2))*0.5\n",
        "    \n",
        "print('직각삼각형의 면적은:', area(x1, y1, x2, y2))"
      ],
      "execution_count": null,
      "outputs": [
        {
          "output_type": "stream",
          "text": [
            "x1 좌표를 입력하시오 : 0\n",
            "y1 좌표를 입력하시오 : 0\n",
            "x2 좌표를 입력하시오 : 3\n",
            "y2 좌표를 입력하시오 : 4\n",
            "직각삼각형의 면적은: 6.0\n"
          ],
          "name": "stdout"
        }
      ]
    },
    {
      "cell_type": "code",
      "metadata": {
        "id": "Oxf0QVQDa_QV",
        "outputId": "250e5104-9112-42ce-e8db-4a7021eac20c",
        "colab": {
          "base_uri": "https://localhost:8080/"
        }
      },
      "source": [
        "#4.12\n",
        "w = int(input('밑변을 입력하시오:'))\n",
        "h = int(input('높이를 입력하시오:'))\n",
        "def cal_area(w, h):\n",
        "    return w*h/2\n",
        "print('삼각형의 면적 :', cal_area(w,h))"
      ],
      "execution_count": null,
      "outputs": [
        {
          "output_type": "stream",
          "text": [
            "밑변을 입력하시오:20\n",
            "높이를 입력하시오:15\n",
            "삼각형의 면적 : 150.0\n"
          ],
          "name": "stdout"
        }
      ]
    },
    {
      "cell_type": "code",
      "metadata": {
        "id": "WZb3bqrabAwQ",
        "outputId": "df9220ea-afdb-4b3e-d8f5-6b9b3053b062",
        "colab": {
          "base_uri": "https://localhost:8080/"
        }
      },
      "source": [
        "#4.13\n",
        "PI = 3.14\n",
        "def cube(s):\n",
        "    return s**3\n",
        "def cuboid(w,h,l):\n",
        "    return w*h*l\n",
        "def cone(r, h):\n",
        "    return PI*(r**2)*h*(1/3)\n",
        "def sphere(r):\n",
        "    return (4/3)*PI*r**3\n",
        "def cylinder(r,h):\n",
        "    return PI*(r**2)*h\n",
        "\n",
        "print(\"모서리의 길이가 {}인 정육면체의 부피 : {}\".format(12, cube(12)))\n",
        "print(\"모서리의 길이가 {}인 정육면체의 부피 : {}\".format(20, cube(20)))\n",
        "print(\"가로, 세로, 높이의 길이가 각각 {}, {}, {}인 직육면체의 부피 : {}\".format(3,5,6,cuboid(3,5,6)))\n",
        "print(\"반지름과 높이가 각각 {}, {}인 원뿔의 부피 : {}\".format(20, 10, cone(20,10)))\n",
        "print(\"반지름이 {}인 구의 부피 : {}\".format(15, sphere(15)))\n",
        "print(\"반지름과 높이가 각각 {}, {}인 원기둥의 부피 : {}\".format(20, 10, cylinder(20,10)))"
      ],
      "execution_count": null,
      "outputs": [
        {
          "output_type": "stream",
          "text": [
            "모서리의 길이가 12인 정육면체의 부피 : 1728\n",
            "모서리의 길이가 20인 정육면체의 부피 : 8000\n",
            "가로, 세로, 높이의 길이가 각각 3, 5, 6인 직육면체의 부피 : 90\n",
            "반지름과 높이가 각각 20, 10인 원뿔의 부피 : 4186.666666666666\n",
            "반지름이 15인 구의 부피 : 14130.0\n",
            "반지름과 높이가 각각 20, 10인 원기둥의 부피 : 12560.0\n"
          ],
          "name": "stdout"
        }
      ]
    },
    {
      "cell_type": "code",
      "metadata": {
        "id": "Rtjcc3s_bBY0",
        "outputId": "c158eb7d-07ab-4acd-efd2-73404d62ac31",
        "colab": {
          "base_uri": "https://localhost:8080/"
        }
      },
      "source": [
        "#4.14\n",
        "n1,n2,n3 = map(int, input('세 수를 입력하세요 : ').split())\n",
        "def sort3(num1, num2, num3):\n",
        "    a = []\n",
        "    a.append(num1)\n",
        "    a.append(num2)\n",
        "    a.append(num3)\n",
        "    a.sort()\n",
        "    return a\n",
        "a=sort3(n1,n2,n3)\n",
        "print('정렬된 리스트는 다음과 같습니다: ',a[0],a[1],a[2])\n",
        "    "
      ],
      "execution_count": null,
      "outputs": [
        {
          "output_type": "stream",
          "text": [
            "세 수를 입력하세요 : 3 2 5\n",
            "정렬된 리스트는 다음과 같습니다:  2 3 5\n"
          ],
          "name": "stdout"
        }
      ]
    },
    {
      "cell_type": "code",
      "metadata": {
        "id": "jBAmqC-cbB8P",
        "outputId": "48429004-1da7-4497-ad48-436a23ec3894",
        "colab": {
          "base_uri": "https://localhost:8080/"
        }
      },
      "source": [
        "#4.15\n",
        "def my_sort(*nums):\n",
        "    nums = list(nums)\n",
        "    nums.sort()\n",
        "    return nums\n",
        "print(\"my_sort(45, 3, 4, 56, 5) 호출시 \\n결과 :\", my_sort(45, 3, 4, 56, 5))\n",
        "print(\"my_sort(9, 8, 7, 6, 5, 4, 3) 호출시 \\n결과 :\", my_sort(9, 8, 7, 6, 5, 4, 3))"
      ],
      "execution_count": null,
      "outputs": [
        {
          "output_type": "stream",
          "text": [
            "my_sort(45, 3, 4, 56, 5) 호출시 \n",
            "결과 : [3, 4, 5, 45, 56]\n",
            "my_sort(9, 8, 7, 6, 5, 4, 3) 호출시 \n",
            "결과 : [3, 4, 5, 6, 7, 8, 9]\n"
          ],
          "name": "stdout"
        }
      ]
    },
    {
      "cell_type": "code",
      "metadata": {
        "id": "HenIANYObC7R",
        "outputId": "95449f8f-0310-4d43-9a79-07b1981e943c",
        "colab": {
          "base_uri": "https://localhost:8080/"
        }
      },
      "source": [
        "#4.16\n",
        "nums = list(map(int,input(\"쉼표로 구분된 정수를 여러 개 입력하시오 :\").split(',')))\n",
        "print(\"입력된 정수의 리스트:\", nums)\n",
        "nums.sort()\n",
        "print(\"정렬된 정수의 리스트:\", *nums)"
      ],
      "execution_count": null,
      "outputs": [
        {
          "output_type": "stream",
          "text": [
            "쉼표로 구분된 정수를 여러 개 입력하시오 :56,67,89,34,24,300,99\n",
            "입력된 정수의 리스트: [56, 67, 89, 34, 24, 300, 99]\n",
            "정렬된 정수의 리스트: 24 34 56 67 89 99 300\n"
          ],
          "name": "stdout"
        }
      ]
    },
    {
      "cell_type": "code",
      "metadata": {
        "id": "fbbIwn4ObDdH",
        "outputId": "6af71e58-0dde-4629-a669-8e38d25b9b44",
        "colab": {
          "base_uri": "https://localhost:8080/"
        }
      },
      "source": [
        "#4.17\n",
        "def sum_range(n1, n2):\n",
        "    total = 0\n",
        "    for i in range(n1, n2+1):\n",
        "        total += i\n",
        "    return total\n",
        "print(\"{:2d}에서 {:3d}까지의 정수의 합 : {:4d}\".format(10, 20, sum_range(10, 20)))\n",
        "print(\"{:2d}에서 {:3d}까지의 정수의 합 : {:4d}\".format(40, 100, sum_range(40, 100)))"
      ],
      "execution_count": null,
      "outputs": [
        {
          "output_type": "stream",
          "text": [
            "10에서  20까지의 정수의 합 :  165\n",
            "40에서 100까지의 정수의 합 : 4270\n"
          ],
          "name": "stdout"
        }
      ]
    },
    {
      "cell_type": "code",
      "metadata": {
        "id": "bAy7m4hobD9f",
        "outputId": "53aa7971-eb5f-4ae2-805e-66e0571693f9",
        "colab": {
          "base_uri": "https://localhost:8080/"
        }
      },
      "source": [
        "#4.18 (문제에 함수 정의 내용이 없어 일반 문제처럼 풀이)\n",
        "a = int(input(\"범위의 시작 정수 : \"))\n",
        "b = int(input(\"범위의 마지막 정수 : \"))\n",
        "n=b\n",
        "while True:\n",
        "    cnt = 0\n",
        "    for i in range(a, b+1):\n",
        "        if n%i == 0:\n",
        "            cnt +=1\n",
        "    if cnt == (b-a+1):\n",
        "        break;\n",
        "    n += 1\n",
        "print(\"{}에서 {}까지의 정수들의 최소 공배수는 : {}\".format(a, b, n))"
      ],
      "execution_count": null,
      "outputs": [
        {
          "output_type": "stream",
          "text": [
            "범위의 시작 정수 : 3\n",
            "범위의 마지막 정수 : 5\n",
            "3에서 5까지의 정수들의 최소 공배수는 : 60\n"
          ],
          "name": "stdout"
        }
      ]
    },
    {
      "cell_type": "code",
      "metadata": {
        "id": "n_-wHddsbEdm",
        "outputId": "430d2b6e-594b-40ce-c4a0-668c89e7bc2c",
        "colab": {
          "base_uri": "https://localhost:8080/"
        }
      },
      "source": [
        "#4.19\n",
        "n = int(input(\"fibo(n)의 n을 입력하세요: \"))\n",
        "def fibo(n):\n",
        "    if n==0 or n==1:\n",
        "        return 1\n",
        "    return fibo(n-1)+fibo(n-2)\n",
        "print(\"fibo({}) = {}\".format(n, fibo(n)))\n"
      ],
      "execution_count": null,
      "outputs": [
        {
          "output_type": "stream",
          "text": [
            "fibo(n)의 n을 입력하세요: 4\n",
            "fibo(4) = 5\n"
          ],
          "name": "stdout"
        }
      ]
    },
    {
      "cell_type": "code",
      "metadata": {
        "id": "kyocUxaZbE6z",
        "outputId": "acfc2064-9a45-4123-a458-d15fc4962286",
        "colab": {
          "base_uri": "https://localhost:8080/"
        }
      },
      "source": [
        "#4.20\n",
        "def fibo(n):\n",
        "    if n==0 or n==1:\n",
        "        return 1\n",
        "    return fibo(n-1)+fibo(n-2)\n",
        "\n",
        "for i in range(0,16):\n",
        "    print(\"fibo({:3d}) = {:6d}\".format(i, fibo(i)))"
      ],
      "execution_count": null,
      "outputs": [
        {
          "output_type": "stream",
          "text": [
            "fibo(  0) =      1\n",
            "fibo(  1) =      1\n",
            "fibo(  2) =      2\n",
            "fibo(  3) =      3\n",
            "fibo(  4) =      5\n",
            "fibo(  5) =      8\n",
            "fibo(  6) =     13\n",
            "fibo(  7) =     21\n",
            "fibo(  8) =     34\n",
            "fibo(  9) =     55\n",
            "fibo( 10) =     89\n",
            "fibo( 11) =    144\n",
            "fibo( 12) =    233\n",
            "fibo( 13) =    377\n",
            "fibo( 14) =    610\n",
            "fibo( 15) =    987\n"
          ],
          "name": "stdout"
        }
      ]
    },
    {
      "cell_type": "code",
      "metadata": {
        "id": "d8DwiHcA20t7",
        "outputId": "e9d450ba-7eda-4584-9bc4-8fb0f22ffa59",
        "colab": {
          "base_uri": "https://localhost:8080/"
        }
      },
      "source": [
        "#4.21\n",
        "a = input(\"주민등록번호 첫 6숫자 형식 입력: \")\n",
        "if int(a[:2]) > 50:\n",
        "    print(\"{}년 {}월 {}일\".format('19'+a[:2], a[2:4], a[4:]))\n",
        "else:\n",
        "    print(\"{}년 {}월 {}일\".format('20'+a[:2], a[2:4], a[4:]))"
      ],
      "execution_count": null,
      "outputs": [
        {
          "output_type": "stream",
          "text": [
            "주민등록번호 첫 6숫자 형식 입력: 011123\n",
            "2001년 11월 23일\n"
          ],
          "name": "stdout"
        }
      ]
    },
    {
      "cell_type": "code",
      "metadata": {
        "id": "oeLdQpmX3ZVM",
        "outputId": "ca76c376-56fc-4941-ab8c-813f19f865f6",
        "colab": {
          "base_uri": "https://localhost:8080/"
        }
      },
      "source": [
        "#4.22\n",
        "import datetime\n",
        "y,m,d = date.year, date.month, date.day\n",
        "print(\"현재 시간은 {}년 {:02d}월 {:02d}일 입니다.\".format(y,m,d))\n",
        "print(\"지금 태어난 아이의 주민등록번호 앞자리는 : {}{:02d}{:02d}\".format(str(y)[2:], m, d))"
      ],
      "execution_count": null,
      "outputs": [
        {
          "output_type": "stream",
          "text": [
            "현재 시간은 2020년 11월 03일 입니다.\n",
            "지금 태어난 아이의 주민등록번호 앞자리는 : 201103\n"
          ],
          "name": "stdout"
        }
      ]
    },
    {
      "cell_type": "code",
      "metadata": {
        "id": "O_CfDkLX3aAP",
        "outputId": "aaf75cd8-7f05-405c-fe99-2b85b49c2d2d",
        "colab": {
          "base_uri": "https://localhost:8080/"
        }
      },
      "source": [
        "#4.23\n",
        "import math\n",
        "pi = math.pi\n",
        "def area_and_circumference(r):\n",
        "    print(\"넓이 : {:7.3f}, 둘레 : {:7.3f}\".format(pi*r**2, 2*pi*r))\n",
        "while True:\n",
        "    n = int(input(\"반지름을 입력하시오 : \"))\n",
        "    if n<0:\n",
        "        print(\"프로그램을 종료합니다.\")\n",
        "        break\n",
        "    area_and_circumference(n)"
      ],
      "execution_count": null,
      "outputs": [
        {
          "output_type": "stream",
          "text": [
            "반지름을 입력하시오 : 6\n",
            "넓이 : 113.097, 둘레 :  37.699\n",
            "반지름을 입력하시오 : 22\n",
            "넓이 : 1520.531, 둘레 : 138.230\n",
            "반지름을 입력하시오 : 4\n",
            "넓이 :  50.265, 둘레 :  25.133\n",
            "반지름을 입력하시오 : -1\n",
            "프로그램을 종료합니다.\n"
          ],
          "name": "stdout"
        }
      ]
    },
    {
      "cell_type": "code",
      "metadata": {
        "id": "rkuX7VYI3ads",
        "outputId": "5c16a341-473a-4d7c-c7fe-9394f2124252",
        "colab": {
          "base_uri": "https://localhost:8080/"
        }
      },
      "source": [
        "#4.24 (입력 예시: \"임의의 문장을 입력:출력, 이것은 테스트 문장.가:가나:나:나나:다람쥐 : 마린보이.\" )\n",
        "text = input(\"여러 단어로 이루어진 글을 입력하세요: \")\n",
        "words = []\n",
        "lastindex = -1\n",
        "for i in range(0, len(text)):\n",
        "    if (text[i] in (\" \", \",\", \".\", \":\", \";\")):\n",
        "        words.append(text[lastindex+1:i])\n",
        "        lastindex = i\n",
        "words = list(filter(None, words))\n",
        "words.sort()\n",
        "print(\"정렬 결과 :\", words)"
      ],
      "execution_count": null,
      "outputs": [
        {
          "output_type": "stream",
          "text": [
            "여러 단어로 이루어진 글을 입력하세요: 임의의 문장을 입력:출력, 이것은 테스트 문장.가:가나:나:나나:다람쥐 : 마린보이.\n",
            "정렬 결과 : ['가', '가나', '나', '나나', '다람쥐', '마린보이', '문장', '문장을', '이것은', '임의의', '입력', '출력', '테스트']\n"
          ],
          "name": "stdout"
        }
      ]
    },
    {
      "cell_type": "code",
      "metadata": {
        "id": "mxNR3PzJ3bOH",
        "outputId": "93220a94-7d0c-4624-b4f1-fd54e24c02c4",
        "colab": {
          "base_uri": "https://localhost:8080/"
        }
      },
      "source": [
        "#4.25\n",
        "s1 = 'Kang Young Min'\n",
        "s2 = ' Kang Young-Min'\n",
        "s3 = 'Park Dong Min'\n",
        "s4 = ' Park Dong-Yun'\n",
        "t1=(s1.replace(\" \",'')).upper()\n",
        "t2=((s2.replace(\" \",'')).replace(\"-\",\"\")).upper()\n",
        "t3=(s3.replace(\" \",'')).upper()\n",
        "t4=((s4.replace(\" \",'')).replace(\"-\",\"\")).upper()\n",
        "print(\"{}(은)는 {}(으)로 수정됨\".format(s1, t1))\n",
        "print(\"{}(은)는 {}(으)로 수정됨\".format(s2, t2))\n",
        "print(\"{}(은)는 {}(으)로 수정됨\".format(s3, t3))\n",
        "print(\"{}(은)는 {}(으)로 수정됨\".format(s4, t4))\n",
        "print(\"{} : {}개의 N이 나타남\".format(t1, t1.count(\"N\")))\n",
        "print(\"{} : {}개의 N이 나타남\".format(t2, t2.count(\"N\")))\n",
        "print(\"{} : {}개의 N이 나타남\".format(t3, t3.count(\"N\")))\n",
        "print(\"{} : {}개의 N이 나타남\".format(t4, t4.count(\"N\")))"
      ],
      "execution_count": null,
      "outputs": [
        {
          "output_type": "stream",
          "text": [
            "Kang Young Min(은)는 KANGYOUNGMIN(으)로 수정됨\n",
            " Kang Young-Min(은)는 KANGYOUNGMIN(으)로 수정됨\n",
            "Park Dong Min(은)는 PARKDONGMIN(으)로 수정됨\n",
            " Park Dong-Yun(은)는 PARKDONGYUN(으)로 수정됨\n",
            "KANGYOUNGMIN : 3개의 N이 나타남\n",
            "KANGYOUNGMIN : 3개의 N이 나타남\n",
            "PARKDONGMIN : 2개의 N이 나타남\n",
            "PARKDONGYUN : 2개의 N이 나타남\n"
          ],
          "name": "stdout"
        }
      ]
    },
    {
      "cell_type": "code",
      "metadata": {
        "id": "fKgumOhW3cN2",
        "outputId": "a1b57595-776e-45b9-ae54-96c81e850ae8",
        "colab": {
          "base_uri": "https://localhost:8080/"
        }
      },
      "source": [
        "#4.26\n",
        "text = \"Park(Java city), Kim(C city), Kang(Bython city), Lee(Bython city), Hong(Ruby city), Cho(Bython city), Koo(C city), Ryu(C++ city)\"\n",
        "newtext= text.replace(\"Bython\",'Python')\n",
        "\n",
        "print(\"주어진 문자열 : \\n%s\\n\"%text)\n",
        "print(\"수정된 문자열 : \\n%s\"%newtext)\n",
        "print(\"Bython 문자열은 모두 %d번 수정했습니다.\"%text.count(\"Bython\"))"
      ],
      "execution_count": null,
      "outputs": [
        {
          "output_type": "stream",
          "text": [
            "주어진 문자열 : \n",
            "Park(Java city), Kim(C city), Kang(Bython city), Lee(Bython city), Hong(Ruby city), Cho(Bython city), Koo(C city), Ryu(C++ city)\n",
            "\n",
            "수정된 문자열 : \n",
            "Park(Java city), Kim(C city), Kang(Python city), Lee(Python city), Hong(Ruby city), Cho(Python city), Koo(C city), Ryu(C++ city)\n",
            "Bython 문자열은 모두 3번 수정했습니다.\n"
          ],
          "name": "stdout"
        }
      ]
    },
    {
      "cell_type": "code",
      "metadata": {
        "id": "j04j0k-G7Loh",
        "outputId": "43a8242d-5c84-4dbd-dd01-b2ce464565f0",
        "colab": {
          "base_uri": "https://localhost:8080/"
        }
      },
      "source": [
        "#4.27 (두번째 입력값: 0.00000000000000000000000000000000000000000003423423)\n",
        "a = float(input(\"1보다 작고 0보다 큰 소수를 입력하세요: \"))\n",
        "def unit_fraction(frac):\n",
        "    n1 = int(1/frac)        #1/5 < 0.27 < 1/4 의 역수는\n",
        "    n2 = int(1/frac+1)      # 5 > 1/0.27 > 4 임을 활용\n",
        "    if abs(1/n1 - frac) < abs(1/n2-frac):\n",
        "        return n1\n",
        "    else:\n",
        "        return n2\n",
        "print(\"가장 가까운 단위 분수는 1/{}이며, 이 값은 {}입니다.\".format(unit_fraction(a), 1/unit_fraction(a)))"
      ],
      "execution_count": 4,
      "outputs": [
        {
          "output_type": "stream",
          "text": [
            "1보다 작고 0보다 큰 소수를 입력하세요: 0.00000000000000000000000000000000000000000003423423\n",
            "가장 가까운 단위 분수는 1/29210529928670802965804389820847695375368192이며, 이 값은 3.4234230000000007e-44입니다.\n"
          ],
          "name": "stdout"
        }
      ]
    },
    {
      "cell_type": "code",
      "metadata": {
        "id": "WnUDe_Gg7MKh",
        "outputId": "090c20f4-dbb2-44c8-a12a-6bb4ddb588fa",
        "colab": {
          "base_uri": "https://localhost:8080/"
        }
      },
      "source": [
        "#4.28\n",
        "def factorial(k):\n",
        "    if k==0:\n",
        "        return 1\n",
        "    else:\n",
        "        return k*factorial(k-1)\n",
        "def euler(n):\n",
        "    total = 0\n",
        "    for i in range(n+1):\n",
        "        total += 1/factorial(i)\n",
        "    return total\n",
        "\n",
        "print(\"euler({:2d}) = {:.5f}\".format(5, euler(5)))\n",
        "print(\"euler({:2d}) = {:.5f}\".format(20, euler(20)))"
      ],
      "execution_count": null,
      "outputs": [
        {
          "output_type": "stream",
          "text": [
            "euler( 5) = 2.71667\n",
            "euler(20) = 2.71828\n"
          ],
          "name": "stdout"
        }
      ]
    },
    {
      "cell_type": "code",
      "metadata": {
        "id": "ANaRgJ9oeBaX"
      },
      "source": [
        ""
      ],
      "execution_count": null,
      "outputs": []
    }
  ]
}