{
  "nbformat": 4,
  "nbformat_minor": 0,
  "metadata": {
    "colab": {
      "name": "HW6_20201582_HojinKim.ipynb",
      "provenance": [],
      "authorship_tag": "ABX9TyPS6JwCIj0p5u22T/QdLGCY",
      "include_colab_link": true
    },
    "kernelspec": {
      "name": "python3",
      "display_name": "Python 3"
    }
  },
  "cells": [
    {
      "cell_type": "markdown",
      "metadata": {
        "id": "view-in-github",
        "colab_type": "text"
      },
      "source": [
        "<a href=\"https://colab.research.google.com/github/hojin3777/Freshman2stProgramming/blob/master/week12/HW6_20201582_HojinKim.ipynb\" target=\"_parent\"><img src=\"https://colab.research.google.com/assets/colab-badge.svg\" alt=\"Open In Colab\"/></a>"
      ]
    },
    {
      "cell_type": "code",
      "metadata": {
        "id": "WioZJFSkfqQH"
      },
      "source": [
        "#6.7-6.17, 6.20-6.26"
      ],
      "execution_count": null,
      "outputs": []
    },
    {
      "cell_type": "code",
      "metadata": {
        "colab": {
          "base_uri": "https://localhost:8080/"
        },
        "id": "rsORoZXPgIap",
        "outputId": "2f835b93-6600-45b4-959c-b8d3e271bc47"
      },
      "source": [
        "#6.7\n",
        "income = (100, 121, 120, 130, 140, 120, 122, 123, 190, 125)\n",
        "count = 0\n",
        "for i in range(0,len(income)-1):\n",
        "    if income[i] > income[i+1]:\n",
        "        count += 1\n",
        "print(\"일일 매출 기록:\", income)\n",
        "print(\"지난 10일 동안 전일대비 매출이 감소한 날은 %d일입니다.\"%count)"
      ],
      "execution_count": 1,
      "outputs": [
        {
          "output_type": "stream",
          "text": [
            "일일 매출 기록: (100, 121, 120, 130, 140, 120, 122, 123, 190, 125)\n",
            "지난 10일 동안 전일대비 매출이 감소한 날은 3일입니다.\n"
          ],
          "name": "stdout"
        }
      ]
    },
    {
      "cell_type": "code",
      "metadata": {
        "colab": {
          "base_uri": "https://localhost:8080/"
        },
        "id": "l2OJqWq8l2a9",
        "outputId": "447b3fd9-8c1d-4e2d-ecbe-f442eef0bfcc"
      },
      "source": [
        "#6.8\n",
        "tup = (1, 2, 5, 4, 3, 2, 9, 1, 4, 7, 8, 9, 9)\n",
        "dup = set()\n",
        "for i in tup:\n",
        "    if tup.count(i) > 1:\n",
        "        dup.add(i)\n",
        "print(\"주어진 튜플은:\", tup)\n",
        "print(\"중복 원소는:\", dup)"
      ],
      "execution_count": 2,
      "outputs": [
        {
          "output_type": "stream",
          "text": [
            "주어진 튜플은: (1, 2, 5, 4, 3, 2, 9, 1, 4, 7, 8, 9, 9)\n",
            "중복 원소는: {1, 2, 4, 9}\n"
          ],
          "name": "stdout"
        }
      ]
    },
    {
      "cell_type": "code",
      "metadata": {
        "id": "sclvqaiXqgFk",
        "colab": {
          "base_uri": "https://localhost:8080/"
        },
        "outputId": "e05d2725-7df3-40f0-f781-110eb5b6aa0d"
      },
      "source": [
        "#6.9\n",
        "tup = (1,2,5,4,3,2,1,4,7,8,9,9,3,7,3)\n",
        "print(\"주어진 튜플:\",tup)\n",
        "tup = tuple(set(tup))\n",
        "print(\"중복 제거 튜플:\",tup)"
      ],
      "execution_count": 3,
      "outputs": [
        {
          "output_type": "stream",
          "text": [
            "주어진 튜플: (1, 2, 5, 4, 3, 2, 1, 4, 7, 8, 9, 9, 3, 7, 3)\n",
            "중복 제거 튜플: (1, 2, 3, 4, 5, 7, 8, 9)\n"
          ],
          "name": "stdout"
        }
      ]
    },
    {
      "cell_type": "code",
      "metadata": {
        "colab": {
          "base_uri": "https://localhost:8080/"
        },
        "id": "ISblCjPynVGb",
        "outputId": "fd8647b7-3812-46e1-a3f4-134b2b00b5cb"
      },
      "source": [
        "#6.10 - 1\n",
        "tup = (1,2,5,4,3,2,1,4,7,8,9,9,3,7,3)\n",
        "print(\"주어진 튜플은:\",tup)\n",
        "M = tup[0]\n",
        "for i in tup:\n",
        "    if tup.count(i) >= tup.count(M):\n",
        "        M = i if tup.count(i)>tup.count(M) else (i if i>M else M)\n",
        "print(\"가장 많이 나타나는 요소는:\", M)"
      ],
      "execution_count": 4,
      "outputs": [
        {
          "output_type": "stream",
          "text": [
            "주어진 튜플은: (1, 2, 5, 4, 3, 2, 1, 4, 7, 8, 9, 9, 3, 7, 3)\n",
            "가장 많이 나타나는 요소는: 3\n"
          ],
          "name": "stdout"
        }
      ]
    },
    {
      "cell_type": "code",
      "metadata": {
        "colab": {
          "base_uri": "https://localhost:8080/"
        },
        "id": "jV3XtpaurTS7",
        "outputId": "a0d20f76-e071-4721-ad6d-1a9c80a8e5a3"
      },
      "source": [
        "#6.10 - 2\n",
        "tup = (1,2,5,4,3,2,9,4,7,8,9,9,3,7,3)\n",
        "print(\"주어진 튜플은:\",tup)\n",
        "M = tup[0]\n",
        "for i in tup:\n",
        "    if tup.count(i) >= tup.count(M):\n",
        "        M = i if tup.count(i)>tup.count(M) else (i if i>M else M)\n",
        "print(\"가장 많이 나타나는 요소는:\", M)"
      ],
      "execution_count": 5,
      "outputs": [
        {
          "output_type": "stream",
          "text": [
            "주어진 튜플은: (1, 2, 5, 4, 3, 2, 9, 4, 7, 8, 9, 9, 3, 7, 3)\n",
            "가장 많이 나타나는 요소는: 9\n"
          ],
          "name": "stdout"
        }
      ]
    },
    {
      "cell_type": "code",
      "metadata": {
        "colab": {
          "base_uri": "https://localhost:8080/"
        },
        "id": "uHe_Idi8tB9y",
        "outputId": "a731db66-9b82-4927-c3cb-5c90a2d2f6fc"
      },
      "source": [
        "#6.11\n",
        "lst = [(), 1, (), (), (1,), ('a',), ('a','b'), ((),), ('a', 'b'), '']\n",
        "print(\"주어진 리스트 :\", lst)\n",
        "newlist = []\n",
        "for i in lst:\n",
        "    if i not in [(), '', []]:\n",
        "        newlist.append(i)\n",
        "print(\"빈 튜플 요소를 제거한 결과 :\", newlist)"
      ],
      "execution_count": 6,
      "outputs": [
        {
          "output_type": "stream",
          "text": [
            "주어진 리스트 : [(), 1, (), (), (1,), ('a',), ('a', 'b'), ((),), ('a', 'b'), '']\n",
            "빈 튜플 요소를 제거한 결과 : [1, (1,), ('a',), ('a', 'b'), ((),), ('a', 'b')]\n"
          ],
          "name": "stdout"
        }
      ]
    },
    {
      "cell_type": "code",
      "metadata": {
        "colab": {
          "base_uri": "https://localhost:8080/"
        },
        "id": "WkRtYzIettpp",
        "outputId": "cbaa8bfb-a32f-4b1b-a4f3-6aeadb1a2f5b"
      },
      "source": [
        "#6.12\n",
        "lst = [5,6,3,9,2,12,3,8,7]\n",
        "print(\"주어진 리스트는 =\",lst)\n",
        "lst.append(lst.pop(lst.index(max(lst))))\n",
        "print(\"가장 큰 수를 마지막으로 옮긴 결과:\",lst)"
      ],
      "execution_count": 9,
      "outputs": [
        {
          "output_type": "stream",
          "text": [
            "주어진 리스트는 = [5, 6, 3, 9, 2, 12, 3, 8, 7]\n",
            "가장 큰 수를 마지막으로 옮긴 결과: [5, 6, 3, 9, 2, 3, 8, 7, 12]\n"
          ],
          "name": "stdout"
        }
      ]
    },
    {
      "cell_type": "code",
      "metadata": {
        "colab": {
          "base_uri": "https://localhost:8080/"
        },
        "id": "K8TJ3u5QxPWq",
        "outputId": "3fb7ba46-a94e-4eed-fb2e-7ed10edc2c05"
      },
      "source": [
        "#6.13 (원래 버블정렬 방식)\n",
        "lst = [5,6,3,9,2,12,3,8,7]\n",
        "print(\"주어진 리스트는 =\", lst)\n",
        "for i in range(0, len(lst)):\n",
        "    for j in range(len(lst)-1, i, -1):\n",
        "        if lst[j-1] > lst[j]:\n",
        "            lst[j-1], lst[j] = lst[j], lst[j-1]\n",
        "    # print(lst)\n",
        "print(\"정렬된 결과는 =\",lst)"
      ],
      "execution_count": 36,
      "outputs": [
        {
          "output_type": "stream",
          "text": [
            "주어진 리스트는 = [5, 6, 3, 9, 2, 12, 3, 8, 7]\n",
            "정렬된 결과는 = [2, 3, 3, 5, 6, 7, 8, 9, 12]\n"
          ],
          "name": "stdout"
        }
      ]
    },
    {
      "cell_type": "code",
      "metadata": {
        "colab": {
          "base_uri": "https://localhost:8080/"
        },
        "id": "k429TSzG1WLq",
        "outputId": "4f697e3a-d8e9-4ecf-bef6-ca934f6a5e9e"
      },
      "source": [
        "#6.13 (문제가 요구하는 방식)\n",
        "lst = [5,6,3,9,2,12,3,8,7]\n",
        "print(\"주어진 리스트는 =\", lst)\n",
        "for i in range(len(lst)-1, 0, -1):\n",
        "    lst.insert(i,lst.pop(lst.index(max(lst[0:i+1]))))\n",
        "print(\"정렬된 결과는 =\",lst)"
      ],
      "execution_count": 31,
      "outputs": [
        {
          "output_type": "stream",
          "text": [
            "주어진 리스트는 = [5, 6, 3, 9, 2, 12, 3, 8, 7]\n",
            "정렬된 결과는 = [2, 3, 3, 5, 6, 7, 8, 9, 12]\n"
          ],
          "name": "stdout"
        }
      ]
    },
    {
      "cell_type": "code",
      "metadata": {
        "colab": {
          "base_uri": "https://localhost:8080/"
        },
        "id": "XlnyDlNo3FWj",
        "outputId": "2bacf349-db75-42b3-dcb5-7e6b84924b01"
      },
      "source": [
        "#6.14\n",
        "lst = [5,6,31,9,2,12,13,8,7]\n",
        "print(\"정렬전 리스트:\", lst)\n",
        "for i in range(len(lst)-1, 0, -1):\n",
        "    lst.insert(i,lst.pop(lst.index(max(lst[0:i+1]))))\n",
        "    print(\"{} 단계 : {}, {}\".format(len(lst)-i, lst[0:i], lst[i:len(lst)]))\n",
        "print(\"정렬된 결과는 =\", lst)"
      ],
      "execution_count": 33,
      "outputs": [
        {
          "output_type": "stream",
          "text": [
            "정렬전 리스트: [5, 6, 31, 9, 2, 12, 13, 8, 7]\n",
            "1 단계 : [5, 6, 9, 2, 12, 13, 8, 7], [31]\n",
            "2 단계 : [5, 6, 9, 2, 12, 8, 7], [13, 31]\n",
            "3 단계 : [5, 6, 9, 2, 8, 7], [12, 13, 31]\n",
            "4 단계 : [5, 6, 2, 8, 7], [9, 12, 13, 31]\n",
            "5 단계 : [5, 6, 2, 7], [8, 9, 12, 13, 31]\n",
            "6 단계 : [5, 6, 2], [7, 8, 9, 12, 13, 31]\n",
            "7 단계 : [5, 2], [6, 7, 8, 9, 12, 13, 31]\n",
            "8 단계 : [2], [5, 6, 7, 8, 9, 12, 13, 31]\n",
            "정렬된 결과는 = [2, 5, 6, 7, 8, 9, 12, 13, 31]\n"
          ],
          "name": "stdout"
        }
      ]
    },
    {
      "cell_type": "code",
      "metadata": {
        "colab": {
          "base_uri": "https://localhost:8080/"
        },
        "id": "rerSU87E56og",
        "outputId": "6b418b78-6b8d-40f2-e52a-1165f4120da4"
      },
      "source": [
        "#6.15\n",
        "tup = (4,5,2,3,8,1,9,0)\n",
        "for i in range(len(tup), 0, -1):\n",
        "    print(tup[0:i])"
      ],
      "execution_count": 38,
      "outputs": [
        {
          "output_type": "stream",
          "text": [
            "(4, 5, 2, 3, 8, 1, 9, 0)\n",
            "(4, 5, 2, 3, 8, 1, 9)\n",
            "(4, 5, 2, 3, 8, 1)\n",
            "(4, 5, 2, 3, 8)\n",
            "(4, 5, 2, 3)\n",
            "(4, 5, 2)\n",
            "(4, 5)\n",
            "(4,)\n"
          ],
          "name": "stdout"
        }
      ]
    },
    {
      "cell_type": "code",
      "metadata": {
        "colab": {
          "base_uri": "https://localhost:8080/"
        },
        "id": "7TAdFNNn7QEo",
        "outputId": "550eb4fe-05ed-483e-fff2-94cc84b398bf"
      },
      "source": [
        "#6.16\n",
        "student_tuple = (('191101','홍길동','010-123-45xx'),('191102','임꺽정','010-223-45xx'),('191103','장길산','010-323-45xx'))\n",
        "info = dict((student_tuple[0][0:2],student_tuple[1][0:2],student_tuple[2][0:2]))\n",
        "print(\"학생 정보:\", info)\n",
        "while True:\n",
        "    a = input(\"학번을 입력하세요 : \")\n",
        "    if int(a) < 0:\n",
        "        print(\"프로그램을 종료합니다.\")\n",
        "        break;\n",
        "    if info.get(a) != None:\n",
        "        print(\"{}번 학생은 {}입니다.\".format(a, info.get(a)))\n",
        "    else:\n",
        "        print(\"해당 학번의 학생이 없습니다.\")"
      ],
      "execution_count": 43,
      "outputs": [
        {
          "output_type": "stream",
          "text": [
            "학생 정보: {'191101': '홍길동', '191102': '임꺽정', '191103': '장길산'}\n",
            "학번을 입력하세요 : 191102\n",
            "191102번 학생은 임꺽정입니다.\n",
            "학번을 입력하세요 : 191106\n",
            "해당 학번의 학생이 없습니다.\n",
            "학번을 입력하세요 : -1\n",
            "프로그램을 종료합니다.\n"
          ],
          "name": "stdout"
        }
      ]
    },
    {
      "cell_type": "code",
      "metadata": {
        "colab": {
          "base_uri": "https://localhost:8080/"
        },
        "id": "ppHk-3SX8SrZ",
        "outputId": "58797abe-f3ea-4ba6-a31b-c1a619843a03"
      },
      "source": [
        "#6.17\n",
        "population_A= (100,150,230,120,180,100,140,95,81,21,4)\n",
        "population_B = (300,420,530,420,400,300,40,5,1,1,1)\n",
        "print(\"(1)마을 A와 B에 보낼 투표용지의 개수는 각각 {} 장과 {} 장입니다.\".format(sum(population_A[2:]), sum(population_B[2:]) ))\n",
        "print(\"(2)마을 A와 B의 고령화 정도는 각각 {:.3f}와 {:.3f}입니다.\".format( sum(population_A[7:])/sum(population_A), sum(population_B[7:])/sum(population_B) ))"
      ],
      "execution_count": 48,
      "outputs": [
        {
          "output_type": "stream",
          "text": [
            "(1)마을 A와 B에 보낼 투표용지의 개수는 각각 971 장과 1698 장입니다.\n",
            "(2)마을 A와 B의 고령화 정도는 각각 0.165와 0.003입니다.\n"
          ],
          "name": "stdout"
        }
      ]
    },
    {
      "cell_type": "code",
      "metadata": {
        "colab": {
          "base_uri": "https://localhost:8080/"
        },
        "id": "72XivcOP-eJZ",
        "outputId": "4653834f-de93-4007-b8c5-b0d9a18ec694"
      },
      "source": [
        "#6.20\n",
        "scores = (\n",
        "    ('박동규', 88, 95, 90),\n",
        "    ('강영민', 85, 90, 95),\n",
        "    ('박동민', 70, 90, 80),\n",
        "    ('홍승주', 90, 90, 95),\n",
        ")\n",
        "name, kor, math, sci = zip(*scores)\n",
        "print(\"(1)학생들의 수학 성적의 평균은 {:.2f}입니다.\".format( sum(math)/len(math) ))\n",
        "print(\"(2)학생들의 수학과 과학 성적의 평균은 {:.3f}입니다.\".format( (sum(math)+sum(sci))/len(math)/2 ))\n",
        "student_dic = dict((\n",
        "    (scores[0][0], sum(scores[0][1:])/3),\n",
        "    (scores[1][0], sum(scores[1][1:])/3),\n",
        "    (scores[2][0], sum(scores[2][1:])/3),\n",
        "    (scores[3][0], sum(scores[3][1:])/3),\n",
        "))\n",
        "print(\"이름\\t\\t평균성적\")\n",
        "print(\"-\"*30)\n",
        "print(\"{}\\t\\t{:.2f}\".format('박동규', student_dic.get('박동규')))\n",
        "print(\"{}\\t\\t{:.2f}\".format('강영민', student_dic.get('강영민')))\n",
        "print(\"{}\\t\\t{:.2f}\".format('박동민', student_dic.get('박동민')))\n",
        "print(\"{}\\t\\t{:.2f}\".format('홍승주', student_dic.get('홍승주')))"
      ],
      "execution_count": 74,
      "outputs": [
        {
          "output_type": "stream",
          "text": [
            "(1)학생들의 수학 성적의 평균은 91.25입니다.\n",
            "(2)학생들의 수학과 과학 성적의 평균은 90.625입니다.\n",
            "이름\t\t평균성적\n",
            "------------------------------\n",
            "박동규\t\t91.00\n",
            "강영민\t\t90.00\n",
            "박동민\t\t80.00\n",
            "홍승주\t\t91.67\n"
          ],
          "name": "stdout"
        }
      ]
    },
    {
      "cell_type": "code",
      "metadata": {
        "id": "8J_D-VFNA5ZT"
      },
      "source": [
        ""
      ],
      "execution_count": null,
      "outputs": []
    }
  ]
}