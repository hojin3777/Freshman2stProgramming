{
  "nbformat": 4,
  "nbformat_minor": 0,
  "metadata": {
    "colab": {
      "name": "HW5_20201582_HojinKim.ipynb",
      "provenance": [],
      "authorship_tag": "ABX9TyNQzXiU9p3a1ebLO2IdoRCr",
      "include_colab_link": true
    },
    "kernelspec": {
      "name": "python3",
      "display_name": "Python 3"
    }
  },
  "cells": [
    {
      "cell_type": "markdown",
      "metadata": {
        "id": "view-in-github",
        "colab_type": "text"
      },
      "source": [
        "<a href=\"https://colab.research.google.com/github/hojin3777/Freshman2stProgramming/blob/master/week10/HW5_20201582_HojinKim.ipynb\" target=\"_parent\"><img src=\"https://colab.research.google.com/assets/colab-badge.svg\" alt=\"Open In Colab\"/></a>"
      ]
    },
    {
      "cell_type": "code",
      "metadata": {
        "id": "M8E414ryUT-g"
      },
      "source": [
        "#5.1, 5.2, 5.6, 5.14, 5.16 제외 전체"
      ],
      "execution_count": null,
      "outputs": []
    },
    {
      "cell_type": "code",
      "metadata": {
        "id": "OSdUWCQJY6V3",
        "outputId": "8c8cc0bc-f7ce-4d02-a583-a0b64237c2fa",
        "colab": {
          "base_uri": "https://localhost:8080/"
        }
      },
      "source": [
        "#5.3\n",
        "list1 = [3,5,7]\n",
        "list2 = [2,3,4,5,6]\n",
        "for i in list1:\n",
        "    for j in list2:\n",
        "        print(\"{} * {} = {}\".format(i,j,i*j))"
      ],
      "execution_count": null,
      "outputs": [
        {
          "output_type": "stream",
          "text": [
            "3 * 2 = 6\n",
            "3 * 3 = 9\n",
            "3 * 4 = 12\n",
            "3 * 5 = 15\n",
            "3 * 6 = 18\n",
            "5 * 2 = 10\n",
            "5 * 3 = 15\n",
            "5 * 4 = 20\n",
            "5 * 5 = 25\n",
            "5 * 6 = 30\n",
            "7 * 2 = 14\n",
            "7 * 3 = 21\n",
            "7 * 4 = 28\n",
            "7 * 5 = 35\n",
            "7 * 6 = 42\n"
          ],
          "name": "stdout"
        }
      ]
    },
    {
      "cell_type": "code",
      "metadata": {
        "id": "Vd4YH290eo-5",
        "outputId": "3fd5be76-5334-4872-8f26-497c52682f09",
        "colab": {
          "base_uri": "https://localhost:8080/"
        }
      },
      "source": [
        "#5.4\n",
        "a = [2,3,4,5,6]\n",
        "rev_a =[]\n",
        "for _ in range(len(a)):\n",
        "    rev_a.append(a.pop())\n",
        "print(rev_a)"
      ],
      "execution_count": null,
      "outputs": [
        {
          "output_type": "stream",
          "text": [
            "[6, 5, 4, 3, 2]\n"
          ],
          "name": "stdout"
        }
      ]
    },
    {
      "cell_type": "code",
      "metadata": {
        "id": "T02xPY6mhVhL",
        "outputId": "b7a961d5-8284-42b3-a167-82af5a3304b5",
        "colab": {
          "base_uri": "https://localhost:8080/"
        }
      },
      "source": [
        "#5.5\n",
        "list1 = ['I like', 'I love']\n",
        "list2 = ['fan cake.', 'kiwi juice.', 'espresso.']\n",
        "for i in list1:\n",
        "    for j in list2:\n",
        "        print(i+\" \"+j)"
      ],
      "execution_count": null,
      "outputs": [
        {
          "output_type": "stream",
          "text": [
            "I like fan cake.\n",
            "I like kiwi juice.\n",
            "I like espresso.\n",
            "I love fan cake.\n",
            "I love kiwi juice.\n",
            "I love espresso.\n"
          ],
          "name": "stdout"
        }
      ]
    },
    {
      "cell_type": "code",
      "metadata": {
        "id": "YdRtkVtniWhj",
        "outputId": "4c54b78b-7827-439c-dd21-9d1328998794",
        "colab": {
          "base_uri": "https://localhost:8080/"
        }
      },
      "source": [
        "#5.7\n",
        "n_list = [10,20,30,50,60]\n",
        "total = 0\n",
        "for i in n_list:\n",
        "    total += i\n",
        "print(\"리스트 원소들 :\",n_list)\n",
        "print(\"리스트 원소들의 합 :\",total)"
      ],
      "execution_count": null,
      "outputs": [
        {
          "output_type": "stream",
          "text": [
            "리스트 원소들 : [10, 20, 30, 50, 60]\n",
            "리스트 원소들의 합 : 170\n"
          ],
          "name": "stdout"
        }
      ]
    },
    {
      "cell_type": "code",
      "metadata": {
        "id": "S7pRWrohi7C4",
        "outputId": "0bc699de-2e1b-4a34-c8d5-015119930783",
        "colab": {
          "base_uri": "https://localhost:8080/"
        }
      },
      "source": [
        "#5.8\n",
        "n_list = [10,20,30,50,60]\n",
        "total = 1\n",
        "for i in n_list:\n",
        "    total *= i\n",
        "print(\"리스트 원소들 :\",n_list)\n",
        "print(\"리스트 원소들의 곱 :\",total)"
      ],
      "execution_count": null,
      "outputs": [
        {
          "output_type": "stream",
          "text": [
            "리스트 원소들 : [10, 20, 30, 50, 60]\n",
            "리스트 원소들의 곱 : 18000000\n"
          ],
          "name": "stdout"
        }
      ]
    },
    {
      "cell_type": "code",
      "metadata": {
        "id": "s9j345lzjm0U",
        "outputId": "5141cd8c-3416-4071-948e-b080cee7fd2e",
        "colab": {
          "base_uri": "https://localhost:8080/"
        }
      },
      "source": [
        "#5.9\n",
        "n_list = [10,20,30,50,60]\n",
        "max = n_list[0]\n",
        "for i in n_list:\n",
        "    if max < i:\n",
        "        max = i\n",
        "print(\"리스트 원소들 :\",n_list)\n",
        "print(\"리스트 원소들의 곱 :\",max)"
      ],
      "execution_count": null,
      "outputs": [
        {
          "output_type": "stream",
          "text": [
            "리스트 원소들 : [10, 20, 30, 50, 60]\n",
            "리스트 원소들의 곱 : 60\n"
          ],
          "name": "stdout"
        }
      ]
    },
    {
      "cell_type": "code",
      "metadata": {
        "id": "GDSFbNQ4nKU6",
        "outputId": "1da174d8-66d3-4dd8-bd9f-16ab893d897f",
        "colab": {
          "base_uri": "https://localhost:8080/"
        }
      },
      "source": [
        "#5.10\n",
        "n_list = [10,20,30,50,60]\n",
        "min = n_list[0]\n",
        "for i in n_list:\n",
        "    if min > i:\n",
        "        min = i\n",
        "print(\"리스트 원소들 :\",n_list)\n",
        "print(\"리스트 원소들의 곱 :\",min)"
      ],
      "execution_count": null,
      "outputs": [
        {
          "output_type": "stream",
          "text": [
            "리스트 원소들 : [10, 20, 30, 50, 60]\n",
            "리스트 원소들의 곱 : 10\n"
          ],
          "name": "stdout"
        }
      ]
    },
    {
      "cell_type": "code",
      "metadata": {
        "id": "Bd7vTEd7nPuq",
        "outputId": "1f158e82-f53c-4ace-82d6-7f4aef47b0fc",
        "colab": {
          "base_uri": "https://localhost:8080/"
        }
      },
      "source": [
        "#5.11\n",
        "n_list = list(map(int, input(\"5개의 수를 입력하세요 : \").split()))\n",
        "print(\"합 : %d\"%sum(n_list))\n",
        "print(\"평균 : %f\"%(sum(n_list)/len(n_list)))\n",
        "print(\"최댓값 : %d\"%max(n_list))\n",
        "print(\"최솟값 : %d\"%min(n_list))"
      ],
      "execution_count": null,
      "outputs": [
        {
          "output_type": "stream",
          "text": [
            "5개의 수를 입력하세요 : 45 67 20 34 2\n",
            "합 : 168\n",
            "평균 : 33.600000\n",
            "최댓값 : 67\n",
            "최솟값 : 2\n"
          ],
          "name": "stdout"
        }
      ]
    },
    {
      "cell_type": "code",
      "metadata": {
        "id": "XN9dAblRd3lk",
        "outputId": "4de58d12-012c-4d0e-ab2b-9beaf7a63e70",
        "colab": {
          "base_uri": "https://localhost:8080/"
        }
      },
      "source": [
        "#5.12\n",
        "n = int(input(\"n을 입력하세요 : \"))\n",
        "n_list = list(map(int,input(\"%d개의 수를 입력하세요(넘치면 잘림) : \"%n).split()))\n",
        "del n_list[n:]\n",
        "print(\"합 : %d\"%sum(n_list))\n",
        "print(\"평균 : %f\"%(sum(n_list)/len(n_list)))\n",
        "print(\"최댓값 : %d\"%max(n_list))\n",
        "print(\"최솟값 : %d\"%min(n_list))"
      ],
      "execution_count": null,
      "outputs": [
        {
          "output_type": "stream",
          "text": [
            "n을 입력하세요 : 10\n",
            "10개의 수를 입력하세요(넘치면 잘림) : 34 56 7 9 23 10 2 30 3 28\n",
            "합 : 202\n",
            "평균 : 20.200000\n",
            "최댓값 : 56\n",
            "최솟값 : 2\n"
          ],
          "name": "stdout"
        }
      ]
    },
    {
      "cell_type": "code",
      "metadata": {
        "id": "OiNhcsFdgVFQ",
        "outputId": "5f14dddd-6387-437f-b55a-987894198eb2",
        "colab": {
          "base_uri": "https://localhost:8080/"
        }
      },
      "source": [
        "#5.13\n",
        "n = int(input(\"n을 입력하세요 : \"))\n",
        "n_list = list(map(int,input(\"%d개의 수를 입력하세요(넘치면 잘림) : \"%n).split()))\n",
        "del n_list[n:]\n",
        "\n",
        "print(\"합 : %d\"%sum(n_list))\n",
        "print(\"평균 : %f\"%(sum(n_list)/len(n_list)))\n",
        "\n",
        "devs = 0\n",
        "for i in range(0,n):\n",
        "    devs += (n_list[i]-( sum(n_list)/n ))**2\n",
        "st_dev = (devs/n)**0.5\n",
        "print(\"표준편차 : %f\"%st_dev)\n",
        "\n",
        "\n"
      ],
      "execution_count": null,
      "outputs": [
        {
          "output_type": "stream",
          "text": [
            "n을 입력하세요 : 10\n",
            "10개의 수를 입력하세요(넘치면 잘림) : 45 67 20 34 2 100 23 45 67 89\n",
            "합 : 492\n",
            "평균 : 49.200000\n",
            "표준편차 : 29.718008\n"
          ],
          "name": "stdout"
        }
      ]
    },
    {
      "cell_type": "code",
      "metadata": {
        "id": "05jz6Hdlgw2G",
        "outputId": "a94ece10-63dd-4d14-bf00-a268b1710f6a",
        "colab": {
          "base_uri": "https://localhost:8080/"
        }
      },
      "source": [
        "#5.15\n",
        "greet = 'Have a beautiful day.'\n",
        "print(greet[0:4])\n",
        "print(greet[7:16])\n",
        "print(greet[17:20])"
      ],
      "execution_count": null,
      "outputs": [
        {
          "output_type": "stream",
          "text": [
            "Have\n",
            "beautiful\n",
            "day\n"
          ],
          "name": "stdout"
        }
      ]
    },
    {
      "cell_type": "code",
      "metadata": {
        "id": "5G_vSfb5uChK",
        "outputId": "10632a4c-7725-4813-b137-006ff0445968",
        "colab": {
          "base_uri": "https://localhost:8080/"
        }
      },
      "source": [
        "#5.17(1)\n",
        "animals = ['dog','cat','tiger','lion']\n",
        "print(\"animals =\", animals)"
      ],
      "execution_count": null,
      "outputs": [
        {
          "output_type": "stream",
          "text": [
            "animals = ['dog', 'cat', 'tiger', 'lion']\n"
          ],
          "name": "stdout"
        }
      ]
    },
    {
      "cell_type": "code",
      "metadata": {
        "id": "-lUyvqCxx0V5",
        "outputId": "4ac8542b-5040-4d5c-d63f-54e3add2a171",
        "colab": {
          "base_uri": "https://localhost:8080/"
        }
      },
      "source": [
        "#5.17(2)\n",
        "animals.append(animals.pop(0))\n",
        "print(\"animals =\", animals)"
      ],
      "execution_count": null,
      "outputs": [
        {
          "output_type": "stream",
          "text": [
            "animals = ['cat', 'tiger', 'lion', 'dog']\n"
          ],
          "name": "stdout"
        }
      ]
    },
    {
      "cell_type": "code",
      "metadata": {
        "id": "ufgN2ol8x_Qv",
        "outputId": "2a2b3625-6f0f-4000-d4c7-603ba6100373",
        "colab": {
          "base_uri": "https://localhost:8080/"
        }
      },
      "source": [
        "#5.17(3)\n",
        "animals = ['dog','cat','tiger','lion']\n",
        "for i in animals:\n",
        "    print(\"I love %s\"%i)"
      ],
      "execution_count": null,
      "outputs": [
        {
          "output_type": "stream",
          "text": [
            "I love dog\n",
            "I love cat\n",
            "I love tiger\n",
            "I love lion\n"
          ],
          "name": "stdout"
        }
      ]
    },
    {
      "cell_type": "code",
      "metadata": {
        "id": "9iH-hlDEyLJb",
        "outputId": "ceff2441-5d69-40e8-aa26-c2b9e91ec64e",
        "colab": {
          "base_uri": "https://localhost:8080/"
        }
      },
      "source": [
        "#5.18(1)\n",
        "s_list = ['abc','bcd','bcdefg','abba','cddc','opq']\n",
        "shortest = s_list[0]\n",
        "for i in range(len(s_list)):\n",
        "    if len(s_list[i]) < len(shortest):\n",
        "        shortest = s_list[i]\n",
        "print(\"가장 길이가 짧은 문자열 : %s\"%shortest)"
      ],
      "execution_count": null,
      "outputs": [
        {
          "output_type": "stream",
          "text": [
            "가장 길이가 짧은 문자열 : abc\n"
          ],
          "name": "stdout"
        }
      ]
    },
    {
      "cell_type": "code",
      "metadata": {
        "id": "kJ3myErs31eM",
        "outputId": "dec32b4d-a9fa-4164-ddf8-df74a1b7fe23",
        "colab": {
          "base_uri": "https://localhost:8080/"
        }
      },
      "source": [
        "#5.18(2)\n",
        "s_list = ['abc','bcd','bcdefg','abba','cddc','opq']\n",
        "longest = s_list[0]\n",
        "for i in range(len(s_list)):\n",
        "    if len(s_list[i]) > len(longest):\n",
        "        longest = s_list[i]\n",
        "print(\"가장 길이가 긴 문자열 : %s\"%longest)"
      ],
      "execution_count": null,
      "outputs": [
        {
          "output_type": "stream",
          "text": [
            "가장 길이가 긴 문자열 : bcdefg\n"
          ],
          "name": "stdout"
        }
      ]
    },
    {
      "cell_type": "code",
      "metadata": {
        "id": "HIAt7j8T4FYz",
        "outputId": "13402738-20b4-4eff-9005-dacec04d8df2",
        "colab": {
          "base_uri": "https://localhost:8080/"
        }
      },
      "source": [
        "#5.18(3)\n",
        "s_list = ['abc','bcd','bcdefg','abba','cddc','opq']\n",
        "s_list.sort(key = len)\n",
        "s_length = len(s_list[0])\n",
        "print(\"가장 길이가 짧은 문자열 : \", end=\"\")\n",
        "for i in range(len(s_list)):\n",
        "    if s_length < len(s_list[i]):\n",
        "        print('\\b\\b')\n",
        "        break\n",
        "    print(\"'%s', \"%s_list[i], end='')"
      ],
      "execution_count": null,
      "outputs": [
        {
          "output_type": "stream",
          "text": [
            "가장 길이가 짧은 문자열 : 'abc', 'bcd', 'opq', \b\b\n"
          ],
          "name": "stdout"
        }
      ]
    },
    {
      "cell_type": "code",
      "metadata": {
        "id": "qWfPe5G54U_2",
        "outputId": "b23ba855-2213-4aa4-c6bf-79a062a9beca",
        "colab": {
          "base_uri": "https://localhost:8080/"
        }
      },
      "source": [
        "#5.19\n",
        "s_list = ['abc','bcd','abc','abba','cddc','opq','opq']\n",
        "new_s_list = []\n",
        "for i in range(len(s_list)):\n",
        "    if s_list[i] not in new_s_list:\n",
        "        new_s_list.append(s_list[i])\n",
        "print(\"s_list =\", s_list)\n",
        "print(\"new_s_list =\", new_s_list)"
      ],
      "execution_count": null,
      "outputs": [
        {
          "output_type": "stream",
          "text": [
            "s_list = ['abc', 'bcd', 'abc', 'abba', 'cddc', 'opq', 'opq']\n",
            "new_s_list = ['abc', 'bcd', 'abba', 'cddc', 'opq']\n"
          ],
          "name": "stdout"
        }
      ]
    },
    {
      "cell_type": "code",
      "metadata": {
        "id": "Xae31-mM6mpx",
        "outputId": "564c5726-78b4-4358-e98d-0e01d2019d38",
        "colab": {
          "base_uri": "https://localhost:8080/"
        }
      },
      "source": [
        "#5.20\n",
        "def zip_(string): #zip이라는 내장함수가 있어 zip_으로 지정\n",
        "    newstring = ''\n",
        "    if string != '':\n",
        "        temp = string[0]\n",
        "        count=0\n",
        "        for i in range(len(string)):\n",
        "            if temp != string[i]:\n",
        "                newstring += temp + str(count)\n",
        "                temp = string[i]\n",
        "                count = 1\n",
        "            else:\n",
        "                count += 1\n",
        "        newstring += temp + str(count)\n",
        "    print(\"src = '%s'\"%string)\n",
        "    print(\"output = '%s'\"%newstring)\n",
        "\n",
        "zip_('aaaabbb')\n",
        "zip_('aaaabccccaaaaacccfg')\n",
        "zip_('')\n",
        "zip_('a')"
      ],
      "execution_count": null,
      "outputs": [
        {
          "output_type": "stream",
          "text": [
            "src = 'aaaabbb'\n",
            "output = 'a4b3'\n",
            "src = 'aaaabccccaaaaacccfg'\n",
            "output = 'a4b1c4a5c3f1g1'\n",
            "src = ''\n",
            "output = ''\n",
            "src = 'a'\n",
            "output = 'a1'\n"
          ],
          "name": "stdout"
        }
      ]
    },
    {
      "cell_type": "code",
      "metadata": {
        "id": "BERnsrYX9Q6N",
        "outputId": "de5a2fb7-0969-4e6f-e368-10a7410449c4",
        "colab": {
          "base_uri": "https://localhost:8080/"
        }
      },
      "source": [
        "#5.21\n",
        "def unzip(string):\n",
        "    index = 0\n",
        "    newstring = ''\n",
        "    length = len(string)\n",
        "    while True:\n",
        "        if index == length:\n",
        "            break\n",
        "        for i in range(int(string[index+1])):\n",
        "            newstring += string[index]\n",
        "        index += 2\n",
        "    print(\"src = '%s'\"%string)\n",
        "    print(\"output = '%s'\"%newstring)\n",
        "\n",
        "unzip('a2b3c6a2c3f1g1')"
      ],
      "execution_count": null,
      "outputs": [
        {
          "output_type": "stream",
          "text": [
            "src = 'a2b3c6a2c3f1g1'\n",
            "output = 'aabbbccccccaacccfg'\n"
          ],
          "name": "stdout"
        }
      ]
    },
    {
      "cell_type": "code",
      "metadata": {
        "id": "uHypp7ZCA905",
        "outputId": "70d9c622-0d53-42d4-c878-7b74013de73d",
        "colab": {
          "base_uri": "https://localhost:8080/"
        }
      },
      "source": [
        "#5.22\n",
        "n = int(input(\"n을 입력하시오 : \"))\n",
        "n_list = list(range(1,n**2+1))\n",
        "line = []\n",
        "for i in range(n):\n",
        "    if i%2 == 0:\n",
        "        line = n_list[ i*n : i*n+n ]\n",
        "    else:\n",
        "        line = n_list[ i*n+(n-1) : i*n-1 : -1 ]\n",
        "    for j in line:\n",
        "        print(\"{:2d}\".format(j), end=' ')\n",
        "    print(\"\")"
      ],
      "execution_count": null,
      "outputs": [
        {
          "output_type": "stream",
          "text": [
            "n을 입력하시오 : 6\n",
            " 1  2  3  4  5  6 \n",
            "12 11 10  9  8  7 \n",
            "13 14 15 16 17 18 \n",
            "24 23 22 21 20 19 \n",
            "25 26 27 28 29 30 \n",
            "36 35 34 33 32 31 \n"
          ],
          "name": "stdout"
        }
      ]
    },
    {
      "cell_type": "code",
      "metadata": {
        "id": "SmUtmuOyCpEC",
        "outputId": "acabf996-753f-4678-aff0-38b50c4e52d1",
        "colab": {
          "base_uri": "https://localhost:8080/"
        }
      },
      "source": [
        "#5.23 (1)\n",
        "def how_many_persons(getlist):\n",
        "    cnt = 0\n",
        "    for i in getlist:\n",
        "        if type(i) == type(\"\"):\n",
        "            cnt += 1\n",
        "    return cnt\n",
        "\n",
        "person1 = ['온달', 20, 1, 180.0, 100.0]\n",
        "person2 = ['이사부', 25, 1, 170.0, 7.0]\n",
        "person3 = ['평강', 22, 0, 169.0, 60.0]\n",
        "person4 = ['혁거세', 40, 1, 150.0, 50.0]\n",
        "\n",
        "person_list = person1 + person3 + person4\n",
        "n_persons = how_many_persons(person_list)\n",
        "print(str(n_persons) + '명의 정보가 담겨 있습니다.')"
      ],
      "execution_count": null,
      "outputs": [
        {
          "output_type": "stream",
          "text": [
            "3명의 정보가 담겨 있습니다.\n"
          ],
          "name": "stdout"
        }
      ]
    },
    {
      "cell_type": "code",
      "metadata": {
        "id": "M-P5YMWAIXP0",
        "outputId": "facbb80e-35b7-48d1-a50b-19d3729e33c1",
        "colab": {
          "base_uri": "https://localhost:8080/"
        }
      },
      "source": [
        "#5.23 (2)\n",
        "def compute_average_age(person_list):\n",
        "    ages = []\n",
        "    for i in range(0,len(person_list),5):\n",
        "        ages.append(person_list[i+1])\n",
        "    return ( sum(ages)/len(ages) )\n",
        "\n",
        "person_list = person1 + person2 + person3 + person4\n",
        "average_age = compute_average_age(person_list)\n",
        "print(\"평균 나이는 \" + str(average_age) + \"세입니다.\")"
      ],
      "execution_count": null,
      "outputs": [
        {
          "output_type": "stream",
          "text": [
            "평균 나이는 26.75세입니다.\n"
          ],
          "name": "stdout"
        }
      ]
    },
    {
      "cell_type": "code",
      "metadata": {
        "id": "aUBCYy2sKOC3",
        "outputId": "f6550dce-7ba7-46ef-90cb-159f0aa9b2c9",
        "colab": {
          "base_uri": "https://localhost:8080/"
        }
      },
      "source": [
        "#5.23 (3)\n",
        "def count_males_females(person_list):\n",
        "    males, females = 0, 0\n",
        "    for i in range(0,len(person_list),5):\n",
        "        if person_list[i+2] == 1:\n",
        "            males += 1\n",
        "        else:\n",
        "            females += 1\n",
        "    return males, females\n",
        "\n",
        "person_list = person1 + person2 + person3 + person4\n",
        "n_male, n_female = count_males_females(person_list)\n",
        "print(\"리스트에는 남자가\", n_male, \"명, 여자가\", n_female, \"명입니다.\")"
      ],
      "execution_count": null,
      "outputs": [
        {
          "output_type": "stream",
          "text": [
            "리스트에는 남자가 3 명, 여자가 1 명입니다.\n"
          ],
          "name": "stdout"
        }
      ]
    },
    {
      "cell_type": "code",
      "metadata": {
        "id": "qQjL2SmxY62K",
        "outputId": "08a40ffa-576d-4774-8153-229652577a44",
        "colab": {
          "base_uri": "https://localhost:8080/"
        }
      },
      "source": [
        "#5.23 (3)\n",
        "def display_persons(person_list):\n",
        "    for i in range(0, len(person_list), 5):\n",
        "        print(person_list[i:i+5])\n",
        "    \n",
        "person_list = person1 + person2 + person3 + person4\n",
        "display_persons(person_list)"
      ],
      "execution_count": null,
      "outputs": [
        {
          "output_type": "stream",
          "text": [
            "['온달', 20, 1, 180.0, 100.0]\n",
            "['이사부', 25, 1, 170.0, 7.0]\n",
            "['평강', 22, 0, 169.0, 60.0]\n",
            "['혁거세', 40, 1, 150.0, 50.0]\n"
          ],
          "name": "stdout"
        }
      ]
    },
    {
      "cell_type": "code",
      "metadata": {
        "id": "0ksZgrouZ6PS",
        "outputId": "41aac155-6cc8-4fba-b27e-ab66df2b1f5d",
        "colab": {
          "base_uri": "https://localhost:8080/"
        }
      },
      "source": [
        "#5.24\n",
        "for i in range (1, 10001):\n",
        "    measure = []\n",
        "    for j in range(1, int(i/2)+1):       #i/2보다 큰 i의 약수는 없음\n",
        "        if i%j == 0:\n",
        "            measure.append(j)\n",
        "    if sum(measure) == i:\n",
        "        print(\"%d은(는) 완전수입니다.\"%i)\n",
        "        print(\"{}의 약수 : {}, 약수의 합 = {}\".format(i, measure, sum(measure)))"
      ],
      "execution_count": null,
      "outputs": [
        {
          "output_type": "stream",
          "text": [
            "6은(는) 완전수입니다.\n",
            "6의 약수 : [1, 2, 3], 약수의 합 = 6\n",
            "28은(는) 완전수입니다.\n",
            "28의 약수 : [1, 2, 4, 7, 14], 약수의 합 = 28\n",
            "496은(는) 완전수입니다.\n",
            "496의 약수 : [1, 2, 4, 8, 16, 31, 62, 124, 248], 약수의 합 = 496\n",
            "8128은(는) 완전수입니다.\n",
            "8128의 약수 : [1, 2, 4, 8, 16, 32, 64, 127, 254, 508, 1016, 2032, 4064], 약수의 합 = 8128\n"
          ],
          "name": "stdout"
        }
      ]
    },
    {
      "cell_type": "code",
      "metadata": {
        "id": "Hp_l_5I7a4Cm"
      },
      "source": [
        ""
      ],
      "execution_count": null,
      "outputs": []
    }
  ]
}