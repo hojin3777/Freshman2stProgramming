{
  "nbformat": 4,
  "nbformat_minor": 0,
  "metadata": {
    "colab": {
      "name": "Lab6_20201582_HojinKim.ipynb",
      "provenance": [],
      "authorship_tag": "ABX9TyP1EjWgTg6tc6dIiJO4fpsr",
      "include_colab_link": true
    },
    "kernelspec": {
      "name": "python3",
      "display_name": "Python 3"
    }
  },
  "cells": [
    {
      "cell_type": "markdown",
      "metadata": {
        "id": "view-in-github",
        "colab_type": "text"
      },
      "source": [
        "<a href=\"https://colab.research.google.com/github/hojin3777/Freshman2stProgramming/blob/master/week12/Lab6_20201582_HojinKim.ipynb\" target=\"_parent\"><img src=\"https://colab.research.google.com/assets/colab-badge.svg\" alt=\"Open In Colab\"/></a>"
      ]
    },
    {
      "cell_type": "code",
      "metadata": {
        "id": "QNg2vdmT5DXx"
      },
      "source": [
        "person = {'이름':'홍길동', '나이':26, '몸무게':82}"
      ],
      "execution_count": null,
      "outputs": []
    },
    {
      "cell_type": "code",
      "metadata": {
        "id": "tHQdvcD95Pjv",
        "colab": {
          "base_uri": "https://localhost:8080/",
          "height": 36
        },
        "outputId": "66a052e4-c28a-4e6c-8f7d-32fab4a59fea"
      },
      "source": [
        "person['이름']"
      ],
      "execution_count": null,
      "outputs": [
        {
          "output_type": "execute_result",
          "data": {
            "application/vnd.google.colaboratory.intrinsic+json": {
              "type": "string"
            },
            "text/plain": [
              "'홍길동'"
            ]
          },
          "metadata": {
            "tags": []
          },
          "execution_count": 5
        }
      ]
    },
    {
      "cell_type": "code",
      "metadata": {
        "id": "8WZ2a1PF6sGe",
        "colab": {
          "base_uri": "https://localhost:8080/"
        },
        "outputId": "7e46eb18-d009-4b02-9568-07468324f4b3"
      },
      "source": [
        "person['나이']"
      ],
      "execution_count": null,
      "outputs": [
        {
          "output_type": "execute_result",
          "data": {
            "text/plain": [
              "26"
            ]
          },
          "metadata": {
            "tags": []
          },
          "execution_count": 6
        }
      ]
    },
    {
      "cell_type": "code",
      "metadata": {
        "id": "m5hjW2P26uF0",
        "colab": {
          "base_uri": "https://localhost:8080/"
        },
        "outputId": "c2c61be2-1617-488a-da52-b7ecee403380"
      },
      "source": [
        "person['몸무게']"
      ],
      "execution_count": null,
      "outputs": [
        {
          "output_type": "execute_result",
          "data": {
            "text/plain": [
              "82"
            ]
          },
          "metadata": {
            "tags": []
          },
          "execution_count": 7
        }
      ]
    },
    {
      "cell_type": "code",
      "metadata": {
        "id": "Z0s9rXhn61cD"
      },
      "source": [
        "students = {2019001:'이순신', 2019002:'김유신', 2019003:'강감찬'}"
      ],
      "execution_count": null,
      "outputs": []
    },
    {
      "cell_type": "code",
      "metadata": {
        "id": "EY9l1CoE7AKp",
        "colab": {
          "base_uri": "https://localhost:8080/",
          "height": 36
        },
        "outputId": "66e798e3-5a84-4624-bc26-bcf1380482c8"
      },
      "source": [
        "students[2019001]"
      ],
      "execution_count": null,
      "outputs": [
        {
          "output_type": "execute_result",
          "data": {
            "application/vnd.google.colaboratory.intrinsic+json": {
              "type": "string"
            },
            "text/plain": [
              "'이순신'"
            ]
          },
          "metadata": {
            "tags": []
          },
          "execution_count": 9
        }
      ]
    },
    {
      "cell_type": "code",
      "metadata": {
        "id": "7OHyWG9o7C3N",
        "colab": {
          "base_uri": "https://localhost:8080/",
          "height": 36
        },
        "outputId": "212e7685-08d6-4a27-f252-4e04bf971976"
      },
      "source": [
        "students[2019003]"
      ],
      "execution_count": null,
      "outputs": [
        {
          "output_type": "execute_result",
          "data": {
            "application/vnd.google.colaboratory.intrinsic+json": {
              "type": "string"
            },
            "text/plain": [
              "'강감찬'"
            ]
          },
          "metadata": {
            "tags": []
          },
          "execution_count": 10
        }
      ]
    },
    {
      "cell_type": "code",
      "metadata": {
        "id": "t8N6My-65PQt",
        "colab": {
          "base_uri": "https://localhost:8080/"
        },
        "outputId": "eb592401-6937-4a89-f7eb-6135ce90ac32"
      },
      "source": [
        "#LAB 6-1-1 : 딕셔너리의 생성\n",
        "capital_dic = {'Korea':'Seoul', 'China':'Beijing', 'USA':'Washington DC'}\n",
        "print(capital_dic['Korea'])\n",
        "print(capital_dic['China'])\n",
        "print(capital_dic['USA'])"
      ],
      "execution_count": null,
      "outputs": [
        {
          "output_type": "stream",
          "text": [
            "Seoul\n",
            "Beijing\n",
            "Washington DC\n"
          ],
          "name": "stdout"
        }
      ]
    },
    {
      "cell_type": "code",
      "metadata": {
        "id": "sMQwntaB5rMb",
        "colab": {
          "base_uri": "https://localhost:8080/"
        },
        "outputId": "af4623dd-bc28-408a-bb61-a8f562db7596"
      },
      "source": [
        "#LAB 6-1-2\n",
        "fruits_dic = {'apple':5000, 'banana':4000, 'grape':5300, 'melon':6500}\n",
        "print('apple의 가격은 %d원입니다.'%fruits_dic['apple'])\n",
        "print('banana의 가격은 %d원입니다.'%fruits_dic['banana'])\n",
        "print('grape의 가격은 %d원입니다.'%fruits_dic['grape'])\n",
        "print('melon의 가격은 %d원입니다.'%fruits_dic['melon'])"
      ],
      "execution_count": null,
      "outputs": [
        {
          "output_type": "stream",
          "text": [
            "apple의 가격은 5000원입니다.\n",
            "banana의 가격은 4000원입니다.\n",
            "grape의 가격은 5300원입니다.\n",
            "melon의 가격은 6500원입니다.\n"
          ],
          "name": "stdout"
        }
      ]
    },
    {
      "cell_type": "code",
      "metadata": {
        "id": "iAmqIb_R6PbD",
        "colab": {
          "base_uri": "https://localhost:8080/"
        },
        "outputId": "e59480d0-ef8f-4fdb-f2b7-b3123c03d9a2"
      },
      "source": [
        "person = {'이름':'홍길동', '나이':26, '몸무게':82}\n",
        "person['직업'] = '율도국의 왕'\n",
        "person"
      ],
      "execution_count": null,
      "outputs": [
        {
          "output_type": "execute_result",
          "data": {
            "text/plain": [
              "{'나이': 26, '몸무게': 82, '이름': '홍길동', '직업': '율도국의 왕'}"
            ]
          },
          "metadata": {
            "tags": []
          },
          "execution_count": 3
        }
      ]
    },
    {
      "cell_type": "code",
      "metadata": {
        "id": "oJahrK1O7Y60",
        "colab": {
          "base_uri": "https://localhost:8080/"
        },
        "outputId": "bfc6b906-575a-480d-c2c2-74652ea3b524"
      },
      "source": [
        "person = {'이름':'홍길동', '나이':26, '몸무게':82}\n",
        "person['나이'] = 27\n",
        "person"
      ],
      "execution_count": null,
      "outputs": [
        {
          "output_type": "execute_result",
          "data": {
            "text/plain": [
              "{'나이': 27, '몸무게': 82, '이름': '홍길동'}"
            ]
          },
          "metadata": {
            "tags": []
          },
          "execution_count": 12
        }
      ]
    },
    {
      "cell_type": "code",
      "metadata": {
        "id": "D6hi3MWT7duU",
        "colab": {
          "base_uri": "https://localhost:8080/"
        },
        "outputId": "79964214-7c95-4566-8137-52979567cbc5"
      },
      "source": [
        "person = {'이름':'홍길동', '나이':26, '몸무게':82}\n",
        "del person['나이']\n",
        "person"
      ],
      "execution_count": null,
      "outputs": [
        {
          "output_type": "execute_result",
          "data": {
            "text/plain": [
              "{'몸무게': 82, '이름': '홍길동'}"
            ]
          },
          "metadata": {
            "tags": []
          },
          "execution_count": 4
        }
      ]
    },
    {
      "cell_type": "code",
      "metadata": {
        "id": "Vbdh0eyr7h-i",
        "colab": {
          "base_uri": "https://localhost:8080/",
          "height": 213
        },
        "outputId": "22edbde6-5b92-472b-a21d-f5e2fc8a967d"
      },
      "source": [
        "person = {'이름':'홍길동', '나이':26, '몸무게':82}\n",
        "del person['출생지']\n",
        "person"
      ],
      "execution_count": null,
      "outputs": [
        {
          "output_type": "error",
          "ename": "KeyError",
          "evalue": "ignored",
          "traceback": [
            "\u001b[0;31m---------------------------------------------------------------------------\u001b[0m",
            "\u001b[0;31mKeyError\u001b[0m                                  Traceback (most recent call last)",
            "\u001b[0;32m<ipython-input-16-64e35aa51a6d>\u001b[0m in \u001b[0;36m<module>\u001b[0;34m()\u001b[0m\n\u001b[1;32m      1\u001b[0m \u001b[0mperson\u001b[0m \u001b[0;34m=\u001b[0m \u001b[0;34m{\u001b[0m\u001b[0;34m'이름'\u001b[0m\u001b[0;34m:\u001b[0m\u001b[0;34m'홍길동'\u001b[0m\u001b[0;34m,\u001b[0m \u001b[0;34m'나이'\u001b[0m\u001b[0;34m:\u001b[0m\u001b[0;36m26\u001b[0m\u001b[0;34m,\u001b[0m \u001b[0;34m'몸무게'\u001b[0m\u001b[0;34m:\u001b[0m\u001b[0;36m82\u001b[0m\u001b[0;34m}\u001b[0m\u001b[0;34m\u001b[0m\u001b[0;34m\u001b[0m\u001b[0m\n\u001b[0;32m----> 2\u001b[0;31m \u001b[0;32mdel\u001b[0m \u001b[0mperson\u001b[0m\u001b[0;34m[\u001b[0m\u001b[0;34m'출생지'\u001b[0m\u001b[0;34m]\u001b[0m\u001b[0;34m\u001b[0m\u001b[0;34m\u001b[0m\u001b[0m\n\u001b[0m\u001b[1;32m      3\u001b[0m \u001b[0mperson\u001b[0m\u001b[0;34m\u001b[0m\u001b[0;34m\u001b[0m\u001b[0m\n",
            "\u001b[0;31mKeyError\u001b[0m: '출생지'"
          ]
        }
      ]
    },
    {
      "cell_type": "code",
      "metadata": {
        "id": "KjZRiuKg7qQF",
        "colab": {
          "base_uri": "https://localhost:8080/"
        },
        "outputId": "2bbe9ad3-df99-4b55-a0a9-f0d06ccb55a5"
      },
      "source": [
        "#LAB 6-2-1 : 딕셔너리의 항목 추가와 삭제\n",
        "person = {'이름':'홍길동', '나이':26, '몸무게':82}\n",
        "person['특기'] = '분신술'\n",
        "person"
      ],
      "execution_count": null,
      "outputs": [
        {
          "output_type": "execute_result",
          "data": {
            "text/plain": [
              "{'나이': 26, '몸무게': 82, '이름': '홍길동', '특기': '분신술'}"
            ]
          },
          "metadata": {
            "tags": []
          },
          "execution_count": 17
        }
      ]
    },
    {
      "cell_type": "code",
      "metadata": {
        "id": "t0g9t9Xj8Apw",
        "colab": {
          "base_uri": "https://localhost:8080/"
        },
        "outputId": "737886ac-b802-4b5f-8949-e1d609b3da8f"
      },
      "source": [
        "#LAB 6-2-2\n",
        "person['아버지'] = '홍판서'\n",
        "person"
      ],
      "execution_count": null,
      "outputs": [
        {
          "output_type": "execute_result",
          "data": {
            "text/plain": [
              "{'나이': 26, '몸무게': 82, '아버지': '홍판서', '이름': '홍길동', '특기': '분신술'}"
            ]
          },
          "metadata": {
            "tags": []
          },
          "execution_count": 18
        }
      ]
    },
    {
      "cell_type": "code",
      "metadata": {
        "id": "VA4mxFMH8OU3",
        "colab": {
          "base_uri": "https://localhost:8080/"
        },
        "outputId": "595a8488-b451-4d41-cc48-1f7541cdfdcd"
      },
      "source": [
        "#LAB 6-2-3\n",
        "del person['나이']\n",
        "person"
      ],
      "execution_count": null,
      "outputs": [
        {
          "output_type": "execute_result",
          "data": {
            "text/plain": [
              "{'몸무게': 82, '아버지': '홍판서', '이름': '홍길동', '특기': '분신술'}"
            ]
          },
          "metadata": {
            "tags": []
          },
          "execution_count": 19
        }
      ]
    },
    {
      "cell_type": "code",
      "metadata": {
        "id": "ftC9rxKz8cgS",
        "colab": {
          "base_uri": "https://localhost:8080/"
        },
        "outputId": "1e3f989f-6129-4d2b-d77a-535b3922c714"
      },
      "source": [
        "person = {'이름':'홍길동','나이':26,'몸무게':82}\n",
        "print(len(person))\n",
        "print('이름' in person)\n",
        "print('직업' in person)\n",
        "print('홍길동' in person)"
      ],
      "execution_count": null,
      "outputs": [
        {
          "output_type": "stream",
          "text": [
            "3\n",
            "True\n",
            "False\n",
            "False\n"
          ],
          "name": "stdout"
        }
      ]
    },
    {
      "cell_type": "code",
      "metadata": {
        "id": "wW1UcJ5E80JV",
        "colab": {
          "base_uri": "https://localhost:8080/"
        },
        "outputId": "12551756-95ea-42a7-c7f2-1644ee0c3255"
      },
      "source": [
        "d1 = {'이름':'홍길동', '나이':26}\n",
        "d2 = {'나이':26, '이름':'홍길동'}\n",
        "d1 == d2"
      ],
      "execution_count": null,
      "outputs": [
        {
          "output_type": "execute_result",
          "data": {
            "text/plain": [
              "True"
            ]
          },
          "metadata": {
            "tags": []
          },
          "execution_count": 22
        }
      ]
    },
    {
      "cell_type": "code",
      "metadata": {
        "id": "3T_KWl8h9LX1",
        "colab": {
          "base_uri": "https://localhost:8080/",
          "height": 176
        },
        "outputId": "75f4df6e-e7bb-4ba9-bf98-634069b7b94f"
      },
      "source": [
        "d1>d2"
      ],
      "execution_count": null,
      "outputs": [
        {
          "output_type": "error",
          "ename": "TypeError",
          "evalue": "ignored",
          "traceback": [
            "\u001b[0;31m---------------------------------------------------------------------------\u001b[0m",
            "\u001b[0;31mTypeError\u001b[0m                                 Traceback (most recent call last)",
            "\u001b[0;32m<ipython-input-23-0f263c196218>\u001b[0m in \u001b[0;36m<module>\u001b[0;34m()\u001b[0m\n\u001b[0;32m----> 1\u001b[0;31m \u001b[0md1\u001b[0m\u001b[0;34m>\u001b[0m\u001b[0md2\u001b[0m\u001b[0;34m\u001b[0m\u001b[0;34m\u001b[0m\u001b[0m\n\u001b[0m",
            "\u001b[0;31mTypeError\u001b[0m: '>' not supported between instances of 'dict' and 'dict'"
          ]
        }
      ]
    },
    {
      "cell_type": "code",
      "metadata": {
        "id": "vjwUwUYN9Mjd",
        "colab": {
          "base_uri": "https://localhost:8080/"
        },
        "outputId": "dc0a2055-0be8-4761-a205-379e40695bb1"
      },
      "source": [
        "#LAB 6-3-1 : 딕셔너리와 연산\n",
        "capital_dic = {'Korea':'Seoul', 'China':'Beijing', 'USA':'Washington DC'}\n",
        "print('Korea' in capital_dic)\n",
        "print('China' in capital_dic)\n",
        "print('Indonesia' in capital_dic)\n",
        "print('Beijing' in capital_dic)"
      ],
      "execution_count": null,
      "outputs": [
        {
          "output_type": "stream",
          "text": [
            "True\n",
            "True\n",
            "False\n",
            "False\n"
          ],
          "name": "stdout"
        }
      ]
    },
    {
      "cell_type": "code",
      "metadata": {
        "id": "fOaN1HKai8XD"
      },
      "source": [
        "person = {'이름':'홍길동', '직업':'율도국의 왕', '몸무게':82}"
      ],
      "execution_count": null,
      "outputs": []
    },
    {
      "cell_type": "code",
      "metadata": {
        "id": "YA8cZWrCjYUP",
        "colab": {
          "base_uri": "https://localhost:8080/"
        },
        "outputId": "4ecf9987-1416-4b3e-aee1-0720c44bd258"
      },
      "source": [
        "'직업' in person"
      ],
      "execution_count": null,
      "outputs": [
        {
          "output_type": "execute_result",
          "data": {
            "text/plain": [
              "True"
            ]
          },
          "metadata": {
            "tags": []
          },
          "execution_count": 6
        }
      ]
    },
    {
      "cell_type": "code",
      "metadata": {
        "id": "CUcUR90ljaOc",
        "colab": {
          "base_uri": "https://localhost:8080/"
        },
        "outputId": "db5302b6-7710-4215-a10b-4aa512aaff70"
      },
      "source": [
        "person.keys()"
      ],
      "execution_count": null,
      "outputs": [
        {
          "output_type": "execute_result",
          "data": {
            "text/plain": [
              "dict_keys(['이름', '직업', '몸무게'])"
            ]
          },
          "metadata": {
            "tags": []
          },
          "execution_count": 7
        }
      ]
    },
    {
      "cell_type": "code",
      "metadata": {
        "id": "vih7_CwEjbrx",
        "colab": {
          "base_uri": "https://localhost:8080/"
        },
        "outputId": "e95a378d-aca1-4638-f327-2017fe52fff2"
      },
      "source": [
        "person.values()"
      ],
      "execution_count": null,
      "outputs": [
        {
          "output_type": "execute_result",
          "data": {
            "text/plain": [
              "dict_values(['홍길동', '율도국의 왕', 82])"
            ]
          },
          "metadata": {
            "tags": []
          },
          "execution_count": 8
        }
      ]
    },
    {
      "cell_type": "code",
      "metadata": {
        "id": "ydRRCT2QjdYT",
        "colab": {
          "base_uri": "https://localhost:8080/"
        },
        "outputId": "39bad978-31d9-4f4f-bf25-762be99ff1c6"
      },
      "source": [
        "person.items()"
      ],
      "execution_count": null,
      "outputs": [
        {
          "output_type": "execute_result",
          "data": {
            "text/plain": [
              "dict_items([('이름', '홍길동'), ('직업', '율도국의 왕'), ('몸무게', 82)])"
            ]
          },
          "metadata": {
            "tags": []
          },
          "execution_count": 9
        }
      ]
    },
    {
      "cell_type": "code",
      "metadata": {
        "id": "UIb4xySVjjJd",
        "colab": {
          "base_uri": "https://localhost:8080/",
          "height": 35
        },
        "outputId": "13b5e37a-6c02-4022-896c-aa856b4663a8"
      },
      "source": [
        "person.get('이름')"
      ],
      "execution_count": null,
      "outputs": [
        {
          "output_type": "execute_result",
          "data": {
            "application/vnd.google.colaboratory.intrinsic+json": {
              "type": "string"
            },
            "text/plain": [
              "'홍길동'"
            ]
          },
          "metadata": {
            "tags": []
          },
          "execution_count": 11
        }
      ]
    },
    {
      "cell_type": "code",
      "metadata": {
        "id": "tC98ddcZjuEk",
        "colab": {
          "base_uri": "https://localhost:8080/"
        },
        "outputId": "693eecda-2e7b-4c3b-e462-56065738d617"
      },
      "source": [
        "person.clear()\n",
        "person"
      ],
      "execution_count": null,
      "outputs": [
        {
          "output_type": "execute_result",
          "data": {
            "text/plain": [
              "{}"
            ]
          },
          "metadata": {
            "tags": []
          },
          "execution_count": 12
        }
      ]
    },
    {
      "cell_type": "code",
      "metadata": {
        "id": "2aiSCqcwj2WR",
        "colab": {
          "base_uri": "https://localhost:8080/"
        },
        "outputId": "37e2fe5b-2282-48c8-e1f4-d50f4a31a80a"
      },
      "source": [
        "x = person.get('나이')\n",
        "print(x)"
      ],
      "execution_count": null,
      "outputs": [
        {
          "output_type": "stream",
          "text": [
            "None\n"
          ],
          "name": "stdout"
        }
      ]
    },
    {
      "cell_type": "code",
      "metadata": {
        "id": "9Bbuba1BkMHY"
      },
      "source": [
        "person = {'이름':'홍길동', '나이':26, '몸무게':82}"
      ],
      "execution_count": null,
      "outputs": []
    },
    {
      "cell_type": "code",
      "metadata": {
        "id": "8y1LU_6vkcV1",
        "colab": {
          "base_uri": "https://localhost:8080/"
        },
        "outputId": "6098fa8a-18f2-4f20-c86f-0ae1fb125770"
      },
      "source": [
        "person.popitem()\n",
        "person"
      ],
      "execution_count": null,
      "outputs": [
        {
          "output_type": "execute_result",
          "data": {
            "text/plain": [
              "{'나이': 26, '이름': '홍길동'}"
            ]
          },
          "metadata": {
            "tags": []
          },
          "execution_count": 17
        }
      ]
    },
    {
      "cell_type": "code",
      "metadata": {
        "id": "5cj-726dkesi",
        "colab": {
          "base_uri": "https://localhost:8080/",
          "height": 35
        },
        "outputId": "7e73c292-d71f-48aa-fc57-059aab49a52e"
      },
      "source": [
        "person.pop('이름')"
      ],
      "execution_count": null,
      "outputs": [
        {
          "output_type": "execute_result",
          "data": {
            "application/vnd.google.colaboratory.intrinsic+json": {
              "type": "string"
            },
            "text/plain": [
              "'홍길동'"
            ]
          },
          "metadata": {
            "tags": []
          },
          "execution_count": 18
        }
      ]
    },
    {
      "cell_type": "code",
      "metadata": {
        "id": "kzUj1ZCbkg9e",
        "colab": {
          "base_uri": "https://localhost:8080/"
        },
        "outputId": "a8c6fc6b-0f85-4c16-dab1-376851fbe888"
      },
      "source": [
        "person"
      ],
      "execution_count": null,
      "outputs": [
        {
          "output_type": "execute_result",
          "data": {
            "text/plain": [
              "{'나이': 26}"
            ]
          },
          "metadata": {
            "tags": []
          },
          "execution_count": 19
        }
      ]
    },
    {
      "cell_type": "code",
      "metadata": {
        "id": "byV6yeS5khdK",
        "colab": {
          "base_uri": "https://localhost:8080/"
        },
        "outputId": "a6bf495b-5fc8-4c1b-da9f-b5014d4aeb0a"
      },
      "source": [
        "#LAB 6-4 : 딕셔너리의 활용\n",
        "fruits_dic = {'apple':6000, 'melon':3000, 'banana':5000, 'orange':7000}\n",
        "print(fruits_dic.keys())\n",
        "print(fruits_dic.values())\n",
        "print(fruits_dic.pop('apple'))\n",
        "print(fruits_dic.clear())"
      ],
      "execution_count": null,
      "outputs": [
        {
          "output_type": "stream",
          "text": [
            "dict_keys(['apple', 'melon', 'banana', 'orange'])\n",
            "dict_values([6000, 3000, 5000, 7000])\n",
            "6000\n",
            "None\n"
          ],
          "name": "stdout"
        }
      ]
    },
    {
      "cell_type": "code",
      "metadata": {
        "id": "T6HlyKy8lVb3",
        "colab": {
          "base_uri": "https://localhost:8080/"
        },
        "outputId": "fdfc5de9-66b7-4fee-cffe-87077d961fca"
      },
      "source": [
        "person = {'이름':'홍길동', '나이':26, '몸무게':82}\n",
        "for key in person:\n",
        "    print('{} : {}'.format(key, person[key]))"
      ],
      "execution_count": null,
      "outputs": [
        {
          "output_type": "stream",
          "text": [
            "이름 : 홍길동\n",
            "나이 : 26\n",
            "몸무게 : 82\n"
          ],
          "name": "stdout"
        }
      ]
    },
    {
      "cell_type": "code",
      "metadata": {
        "id": "YfdeTDnAlsP4",
        "colab": {
          "base_uri": "https://localhost:8080/"
        },
        "outputId": "8ba308ed-5326-446c-f6eb-dd462e58bef3"
      },
      "source": [
        "lst = [11,22,33,44,55]\n",
        "print('pop(0) 이전 :', lst)\n",
        "print('pop(0) 이전 lst[1] = ', lst[1])\n",
        "lst.pop(0)\n",
        "print('pop(0) 이후 :', lst)\n",
        "print('pop(0) 이후 lst[1] = ', lst[1])"
      ],
      "execution_count": null,
      "outputs": [
        {
          "output_type": "stream",
          "text": [
            "pop(0) 이전 : [11, 22, 33, 44, 55]\n",
            "pop(0) 이전 lst[1] =  22\n",
            "pop(0) 이후 : [22, 33, 44, 55]\n",
            "pop(0) 이후 lst[1] =  33\n"
          ],
          "name": "stdout"
        }
      ]
    },
    {
      "cell_type": "code",
      "metadata": {
        "id": "IovNBYk9nEPI",
        "colab": {
          "base_uri": "https://localhost:8080/"
        },
        "outputId": "719c4a4a-4175-4a2c-8aff-73ba6ec08cb1"
      },
      "source": [
        "dic = {0:11, 1:22, 2:33, 3:44, 4:55}\n",
        "print('pop(0) 이전 :', dic.items())\n",
        "print('pop(0) 이전 dic[1] = ', dic[1])\n",
        "dic.pop(0)\n",
        "print('pop(0) 이후 :', dic.items())\n",
        "print('pop(0) 이후 dic[1] = ', dic[1])"
      ],
      "execution_count": null,
      "outputs": [
        {
          "output_type": "stream",
          "text": [
            "pop(0) 이전 : dict_items([(0, 11), (1, 22), (2, 33), (3, 44), (4, 55)])\n",
            "pop(0) 이전 dic[1] =  22\n",
            "pop(0) 이후 : dict_items([(1, 22), (2, 33), (3, 44), (4, 55)])\n",
            "pop(0) 이후 dic[1] =  22\n"
          ],
          "name": "stdout"
        }
      ]
    },
    {
      "cell_type": "code",
      "metadata": {
        "id": "aGg5mvx3nsee",
        "colab": {
          "base_uri": "https://localhost:8080/"
        },
        "outputId": "7bb9028a-fb51-4ac0-f228-1d53cd4eb788"
      },
      "source": [
        "#LAB 6-5 : 딕셔너리의 활용\n",
        "fruits_dic = {'apple':6000, 'melon':3000, 'banana':5000, 'orange':4000}\n",
        "keys = list(fruits_dic.keys())\n",
        "print(keys)\n",
        "values = list(fruits_dic.values())\n",
        "print(values)\n",
        "print(\"fruits_dic 딕셔너리의 항목의 개수 :\", len(fruits_dic))\n",
        "print(\"apple is {} fruits_dic.\".format(\"in\" if 'apple' in fruits_dic else \"not in\"))\n",
        "print(\"mango is {} fruits_dic.\".format(\"in\" if 'mango' in fruits_dic else \"not in\"))"
      ],
      "execution_count": null,
      "outputs": [
        {
          "output_type": "stream",
          "text": [
            "['apple', 'melon', 'banana', 'orange']\n",
            "[6000, 3000, 5000, 4000]\n",
            "fruits_dic 딕셔너리의 항목의 개수 : 4\n",
            "apple is in fruits_dic.\n",
            "mango is not in fruits_dic.\n"
          ],
          "name": "stdout"
        }
      ]
    },
    {
      "cell_type": "code",
      "metadata": {
        "id": "rqcFgwdDoZlp",
        "colab": {
          "base_uri": "https://localhost:8080/"
        },
        "outputId": "8e3e7a94-eccb-498a-bf15-671710e49c1d"
      },
      "source": [
        "t = (1,2,3,4)\n",
        "type(t)"
      ],
      "execution_count": null,
      "outputs": [
        {
          "output_type": "execute_result",
          "data": {
            "text/plain": [
              "tuple"
            ]
          },
          "metadata": {
            "tags": []
          },
          "execution_count": 34
        }
      ]
    },
    {
      "cell_type": "code",
      "metadata": {
        "id": "dPZ0RYePp4Ig",
        "colab": {
          "base_uri": "https://localhost:8080/"
        },
        "outputId": "2337a5d1-bc49-40fc-c897-0fb56e8b2cf9"
      },
      "source": [
        "t[0]"
      ],
      "execution_count": null,
      "outputs": [
        {
          "output_type": "execute_result",
          "data": {
            "text/plain": [
              "1"
            ]
          },
          "metadata": {
            "tags": []
          },
          "execution_count": 35
        }
      ]
    },
    {
      "cell_type": "code",
      "metadata": {
        "id": "2f2cJNBNp764",
        "colab": {
          "base_uri": "https://localhost:8080/"
        },
        "outputId": "7f67d8f4-a7eb-475b-8d86-f62dcf0d521d"
      },
      "source": [
        "t[1]"
      ],
      "execution_count": null,
      "outputs": [
        {
          "output_type": "execute_result",
          "data": {
            "text/plain": [
              "2"
            ]
          },
          "metadata": {
            "tags": []
          },
          "execution_count": 36
        }
      ]
    },
    {
      "cell_type": "code",
      "metadata": {
        "id": "X_OnSMTXp-Ao",
        "colab": {
          "base_uri": "https://localhost:8080/"
        },
        "outputId": "1f170f68-2843-4097-c8f5-a3b72ccab777"
      },
      "source": [
        "tup = (100)\n",
        "print(tup)\n",
        "print(type(tup))"
      ],
      "execution_count": null,
      "outputs": [
        {
          "output_type": "stream",
          "text": [
            "100\n",
            "<class 'int'>\n"
          ],
          "name": "stdout"
        }
      ]
    },
    {
      "cell_type": "code",
      "metadata": {
        "id": "JHgQbqOKqgZr",
        "colab": {
          "base_uri": "https://localhost:8080/"
        },
        "outputId": "7aaaff37-d576-43e7-efc3-a5d34c42a8c7"
      },
      "source": [
        "tup = (100,)\n",
        "print(tup)\n",
        "print(type(tup))"
      ],
      "execution_count": null,
      "outputs": [
        {
          "output_type": "stream",
          "text": [
            "(100,)\n",
            "<class 'tuple'>\n"
          ],
          "name": "stdout"
        }
      ]
    },
    {
      "cell_type": "code",
      "metadata": {
        "id": "K-Rq9H5NqheM",
        "colab": {
          "base_uri": "https://localhost:8080/",
          "height": 192
        },
        "outputId": "ab80167c-ff29-4b40-cc5e-44b34edf82e9"
      },
      "source": [
        "t = (0,1,2,3,4)\n",
        "t[0] = 100"
      ],
      "execution_count": null,
      "outputs": [
        {
          "output_type": "error",
          "ename": "TypeError",
          "evalue": "ignored",
          "traceback": [
            "\u001b[0;31m---------------------------------------------------------------------------\u001b[0m",
            "\u001b[0;31mTypeError\u001b[0m                                 Traceback (most recent call last)",
            "\u001b[0;32m<ipython-input-39-add781db3404>\u001b[0m in \u001b[0;36m<module>\u001b[0;34m()\u001b[0m\n\u001b[1;32m      1\u001b[0m \u001b[0mt\u001b[0m \u001b[0;34m=\u001b[0m \u001b[0;34m(\u001b[0m\u001b[0;36m0\u001b[0m\u001b[0;34m,\u001b[0m\u001b[0;36m1\u001b[0m\u001b[0;34m,\u001b[0m\u001b[0;36m2\u001b[0m\u001b[0;34m,\u001b[0m\u001b[0;36m3\u001b[0m\u001b[0;34m,\u001b[0m\u001b[0;36m4\u001b[0m\u001b[0;34m)\u001b[0m\u001b[0;34m\u001b[0m\u001b[0;34m\u001b[0m\u001b[0m\n\u001b[0;32m----> 2\u001b[0;31m \u001b[0mt\u001b[0m\u001b[0;34m[\u001b[0m\u001b[0;36m0\u001b[0m\u001b[0;34m]\u001b[0m \u001b[0;34m=\u001b[0m \u001b[0;36m100\u001b[0m\u001b[0;34m\u001b[0m\u001b[0;34m\u001b[0m\u001b[0m\n\u001b[0m",
            "\u001b[0;31mTypeError\u001b[0m: 'tuple' object does not support item assignment"
          ]
        }
      ]
    },
    {
      "cell_type": "code",
      "metadata": {
        "id": "tNzB79Aqqrx4",
        "colab": {
          "base_uri": "https://localhost:8080/"
        },
        "outputId": "11d19cb0-3141-4deb-e9b2-1f145007ad4f"
      },
      "source": [
        "a = (1,2)\n",
        "a[0]"
      ],
      "execution_count": null,
      "outputs": [
        {
          "output_type": "execute_result",
          "data": {
            "text/plain": [
              "1"
            ]
          },
          "metadata": {
            "tags": []
          },
          "execution_count": 40
        }
      ]
    },
    {
      "cell_type": "code",
      "metadata": {
        "id": "azuFFdW0q_Uq",
        "colab": {
          "base_uri": "https://localhost:8080/"
        },
        "outputId": "d01919d5-74db-41e7-9d6c-6a3dba22315c"
      },
      "source": [
        "c = (3,4)\n",
        "d,e = c\n",
        "d"
      ],
      "execution_count": null,
      "outputs": [
        {
          "output_type": "execute_result",
          "data": {
            "text/plain": [
              "3"
            ]
          },
          "metadata": {
            "tags": []
          },
          "execution_count": 41
        }
      ]
    },
    {
      "cell_type": "code",
      "metadata": {
        "id": "g_GVlWWArCdf",
        "colab": {
          "base_uri": "https://localhost:8080/"
        },
        "outputId": "33c909d0-746c-4513-eff3-3510d530ca41"
      },
      "source": [
        "a = 100\n",
        "b = 200\n",
        "print('swap 이전: a=', a, 'b =', b)\n",
        "temp = a\n",
        "a = b\n",
        "b = temp\n",
        "print('swap 이후: a=', a, 'b =', b)"
      ],
      "execution_count": null,
      "outputs": [
        {
          "output_type": "stream",
          "text": [
            "swap 이전: a= 100 b = 200\n",
            "swap 이후: a= 200 b = 100\n"
          ],
          "name": "stdout"
        }
      ]
    },
    {
      "cell_type": "code",
      "metadata": {
        "id": "dE2TpKe8rVBh",
        "colab": {
          "base_uri": "https://localhost:8080/"
        },
        "outputId": "25ec18a9-914f-4434-d57e-07007d2d8df8"
      },
      "source": [
        "a=100\n",
        "b=200\n",
        "print('swap 이전: a=', a, 'b =', b)\n",
        "a,b=b,a\n",
        "print('튜플을 사용한 swap 결과: a=', a, 'b =', b)"
      ],
      "execution_count": null,
      "outputs": [
        {
          "output_type": "stream",
          "text": [
            "swap 이전: a= 100 b = 200\n",
            "튜플을 사용한 swap 결과: a= 200 b = 100\n"
          ],
          "name": "stdout"
        }
      ]
    },
    {
      "cell_type": "code",
      "metadata": {
        "id": "YrpWiM_zrf0D",
        "colab": {
          "base_uri": "https://localhost:8080/"
        },
        "outputId": "f7776191-3cdb-4589-ad97-46372332cebb"
      },
      "source": [
        "#LAB 6-6-1 : 튜플의 생성과 패킹, 언패킹\n",
        "the_day = (1919,3,1)\n",
        "y,m,d = the_day[0],the_day[1],the_day[2]\n",
        "print(\"%d년 %d월 %d일은 삼일절입니다.\"%(y,m,d))"
      ],
      "execution_count": null,
      "outputs": [
        {
          "output_type": "stream",
          "text": [
            "1919년 3월 1일은 삼일절입니다.\n"
          ],
          "name": "stdout"
        }
      ]
    },
    {
      "cell_type": "code",
      "metadata": {
        "id": "nQL-yIwgrwfO",
        "colab": {
          "base_uri": "https://localhost:8080/"
        },
        "outputId": "a067f90d-753f-4e24-ef20-c1a289dd9cee"
      },
      "source": [
        "#LAB 6-6-2\n",
        "nlist = [10,20,30]\n",
        "a,b,c = tuple(nlist)[2],tuple(nlist)[1],tuple(nlist)[0]\n",
        "print(\"a =\", a)\n",
        "print(\"b =\", b)\n",
        "print(\"c =\", c)"
      ],
      "execution_count": null,
      "outputs": [
        {
          "output_type": "stream",
          "text": [
            "a = 30\n",
            "b = 20\n",
            "c = 10\n"
          ],
          "name": "stdout"
        }
      ]
    },
    {
      "cell_type": "code",
      "metadata": {
        "id": "1s3JEm12r_PT",
        "colab": {
          "base_uri": "https://localhost:8080/"
        },
        "outputId": "03665079-4691-44d6-bf75-755c7643672a"
      },
      "source": [
        "t0 = (10,20,30)\n",
        "t1 = t0 + t0\n",
        "t1"
      ],
      "execution_count": null,
      "outputs": [
        {
          "output_type": "execute_result",
          "data": {
            "text/plain": [
              "(10, 20, 30, 10, 20, 30)"
            ]
          },
          "metadata": {
            "tags": []
          },
          "execution_count": 47
        }
      ]
    },
    {
      "cell_type": "code",
      "metadata": {
        "id": "0dYigbxfsN3F",
        "colab": {
          "base_uri": "https://localhost:8080/"
        },
        "outputId": "4ced9412-facd-45be-c490-eab0bd966a09"
      },
      "source": [
        "t2 = t0*2\n",
        "t2"
      ],
      "execution_count": null,
      "outputs": [
        {
          "output_type": "execute_result",
          "data": {
            "text/plain": [
              "(10, 20, 30, 10, 20, 30)"
            ]
          },
          "metadata": {
            "tags": []
          },
          "execution_count": 49
        }
      ]
    },
    {
      "cell_type": "code",
      "metadata": {
        "id": "sPXh_BD6sPhP",
        "colab": {
          "base_uri": "https://localhost:8080/",
          "height": 174
        },
        "outputId": "1489750b-96ee-472f-b8bd-aa945db49865"
      },
      "source": [
        "t3 = t0 + 40"
      ],
      "execution_count": null,
      "outputs": [
        {
          "output_type": "error",
          "ename": "TypeError",
          "evalue": "ignored",
          "traceback": [
            "\u001b[0;31m---------------------------------------------------------------------------\u001b[0m",
            "\u001b[0;31mTypeError\u001b[0m                                 Traceback (most recent call last)",
            "\u001b[0;32m<ipython-input-50-7ab5d38fd3ee>\u001b[0m in \u001b[0;36m<module>\u001b[0;34m()\u001b[0m\n\u001b[0;32m----> 1\u001b[0;31m \u001b[0mt3\u001b[0m \u001b[0;34m=\u001b[0m \u001b[0mt0\u001b[0m \u001b[0;34m+\u001b[0m \u001b[0;36m40\u001b[0m\u001b[0;34m\u001b[0m\u001b[0;34m\u001b[0m\u001b[0m\n\u001b[0m",
            "\u001b[0;31mTypeError\u001b[0m: can only concatenate tuple (not \"int\") to tuple"
          ]
        }
      ]
    },
    {
      "cell_type": "code",
      "metadata": {
        "id": "t6tlhCcesc2u",
        "colab": {
          "base_uri": "https://localhost:8080/"
        },
        "outputId": "22fdc092-0648-4b04-ad75-43a7a9d7cc07"
      },
      "source": [
        "t4 = t0 + (40,)\n",
        "t4"
      ],
      "execution_count": null,
      "outputs": [
        {
          "output_type": "execute_result",
          "data": {
            "text/plain": [
              "(10, 20, 30, 40)"
            ]
          },
          "metadata": {
            "tags": []
          },
          "execution_count": 51
        }
      ]
    },
    {
      "cell_type": "code",
      "metadata": {
        "id": "zWfm1xVYsg42",
        "colab": {
          "base_uri": "https://localhost:8080/"
        },
        "outputId": "8f0da076-4de7-4335-92a0-ef1c7004bec8"
      },
      "source": [
        "t = (10,20,30,20,20,10,50)\n",
        "t.count(10)"
      ],
      "execution_count": null,
      "outputs": [
        {
          "output_type": "execute_result",
          "data": {
            "text/plain": [
              "2"
            ]
          },
          "metadata": {
            "tags": []
          },
          "execution_count": 52
        }
      ]
    },
    {
      "cell_type": "code",
      "metadata": {
        "id": "MXM5uYBlsvsE",
        "colab": {
          "base_uri": "https://localhost:8080/"
        },
        "outputId": "78bb0b80-d0ff-4a2c-8131-0603b9a2ce1c"
      },
      "source": [
        "t.count(20)"
      ],
      "execution_count": null,
      "outputs": [
        {
          "output_type": "execute_result",
          "data": {
            "text/plain": [
              "3"
            ]
          },
          "metadata": {
            "tags": []
          },
          "execution_count": 53
        }
      ]
    },
    {
      "cell_type": "code",
      "metadata": {
        "id": "QR6ApZUEsw8k",
        "colab": {
          "base_uri": "https://localhost:8080/"
        },
        "outputId": "8c31943e-f6f2-4b3d-e52f-d2b889043948"
      },
      "source": [
        "t.index(30)"
      ],
      "execution_count": null,
      "outputs": [
        {
          "output_type": "execute_result",
          "data": {
            "text/plain": [
              "2"
            ]
          },
          "metadata": {
            "tags": []
          },
          "execution_count": 54
        }
      ]
    },
    {
      "cell_type": "code",
      "metadata": {
        "id": "G1RNZBNnszEK",
        "colab": {
          "base_uri": "https://localhost:8080/"
        },
        "outputId": "b8913269-a9f1-4c88-c3c0-91451c1fddd9"
      },
      "source": [
        "t.index(50)"
      ],
      "execution_count": null,
      "outputs": [
        {
          "output_type": "execute_result",
          "data": {
            "text/plain": [
              "6"
            ]
          },
          "metadata": {
            "tags": []
          },
          "execution_count": 55
        }
      ]
    },
    {
      "cell_type": "code",
      "metadata": {
        "id": "7GznakgBs0Wg",
        "colab": {
          "base_uri": "https://localhost:8080/"
        },
        "outputId": "58cccdcd-b58c-4efb-ed97-e7799cf77177"
      },
      "source": [
        "t_fruits = ('apple','orange','water melon')\n",
        "print('변경 전 :', t_fruits)\n",
        "f_list = list(t_fruits)\n",
        "f_list[1] = 'kiwi'\n",
        "t_fruits = tuple(f_list)\n",
        "print(\"변경 후 :\", t_fruits)"
      ],
      "execution_count": null,
      "outputs": [
        {
          "output_type": "stream",
          "text": [
            "변경 전 : ('apple', 'orange', 'water melon')\n",
            "변경 후 : ('apple', 'kiwi', 'water melon')\n"
          ],
          "name": "stdout"
        }
      ]
    },
    {
      "cell_type": "code",
      "metadata": {
        "id": "F86wrDM0tgDP",
        "colab": {
          "base_uri": "https://localhost:8080/",
          "height": 210
        },
        "outputId": "7869f164-9fe7-4275-b076-a9de826794fe"
      },
      "source": [
        "#LAB 6-7-1~2 : 튜플의 활용\n",
        "person = ('홍길동', 2019001, 179)\n",
        "person[1] = 2019003"
      ],
      "execution_count": null,
      "outputs": [
        {
          "output_type": "error",
          "ename": "TypeError",
          "evalue": "ignored",
          "traceback": [
            "\u001b[0;31m---------------------------------------------------------------------------\u001b[0m",
            "\u001b[0;31mTypeError\u001b[0m                                 Traceback (most recent call last)",
            "\u001b[0;32m<ipython-input-58-29e55729a3b7>\u001b[0m in \u001b[0;36m<module>\u001b[0;34m()\u001b[0m\n\u001b[1;32m      1\u001b[0m \u001b[0;31m#LAB 6-7-1~2 : 튜플의 활용\u001b[0m\u001b[0;34m\u001b[0m\u001b[0;34m\u001b[0m\u001b[0;34m\u001b[0m\u001b[0m\n\u001b[1;32m      2\u001b[0m \u001b[0mperson\u001b[0m \u001b[0;34m=\u001b[0m \u001b[0;34m(\u001b[0m\u001b[0;34m'홍길동'\u001b[0m\u001b[0;34m,\u001b[0m \u001b[0;36m2019001\u001b[0m\u001b[0;34m,\u001b[0m \u001b[0;36m179\u001b[0m\u001b[0;34m)\u001b[0m\u001b[0;34m\u001b[0m\u001b[0;34m\u001b[0m\u001b[0m\n\u001b[0;32m----> 3\u001b[0;31m \u001b[0mperson\u001b[0m\u001b[0;34m[\u001b[0m\u001b[0;36m1\u001b[0m\u001b[0;34m]\u001b[0m \u001b[0;34m=\u001b[0m \u001b[0;36m2019003\u001b[0m\u001b[0;34m\u001b[0m\u001b[0;34m\u001b[0m\u001b[0m\n\u001b[0m",
            "\u001b[0;31mTypeError\u001b[0m: 'tuple' object does not support item assignment"
          ]
        }
      ]
    },
    {
      "cell_type": "code",
      "metadata": {
        "id": "06BSCdaVtwhV",
        "colab": {
          "base_uri": "https://localhost:8080/"
        },
        "outputId": "2959c502-3235-4adc-923a-92792be851a8"
      },
      "source": [
        "#LAB 6-7-3\n",
        "person = ('홍길동', 2019001, 179)\n",
        "tmp = list(person)\n",
        "tmp[1] = 2019003\n",
        "person = tuple(tmp)\n",
        "print(\"학번 변동 후 person =\", person)"
      ],
      "execution_count": null,
      "outputs": [
        {
          "output_type": "stream",
          "text": [
            "학번 변동 후 person = ('홍길동', 2019003, 179)\n"
          ],
          "name": "stdout"
        }
      ]
    },
    {
      "cell_type": "code",
      "metadata": {
        "id": "IU-S_355uUq0",
        "colab": {
          "base_uri": "https://localhost:8080/"
        },
        "outputId": "a6e24f02-97e4-47c0-eb2c-c0cd4b1f3302"
      },
      "source": [
        "def area_and_circum(radius):\n",
        "    area = 3.14 * radius ** 2\n",
        "    circum = 2 * 3.14 * radius\n",
        "    return area, circum\n",
        "r = 4\n",
        "a, c = area_and_circum(r)\n",
        "print(\"반지름 {}인 원의 면적과 둘레 : {}, {}\".format(r,a,c))"
      ],
      "execution_count": null,
      "outputs": [
        {
          "output_type": "stream",
          "text": [
            "반지름 4인 원의 면적과 둘레 : 50.24, 25.12\n"
          ],
          "name": "stdout"
        }
      ]
    },
    {
      "cell_type": "code",
      "metadata": {
        "id": "dK8Xt8Aruu1e",
        "colab": {
          "base_uri": "https://localhost:8080/"
        },
        "outputId": "dba9815f-445d-4379-9387-cbd7c96e9481"
      },
      "source": [
        "#LAB 6-8-1 : 튜플의 반환\n",
        "def square(x,y):\n",
        "    return x**2, y**2\n",
        "x = 10\n",
        "y = 20\n",
        "x_sq, y_sq = square(x,y)\n",
        "print(\"{} 제곱 = {}, {} 제곱 = {}\".format(x,x_sq,y,y_sq))"
      ],
      "execution_count": null,
      "outputs": [
        {
          "output_type": "stream",
          "text": [
            "10 제곱 = 100, 20 제곱 = 400\n"
          ],
          "name": "stdout"
        }
      ]
    },
    {
      "cell_type": "code",
      "metadata": {
        "id": "LErA9w63xAns",
        "colab": {
          "base_uri": "https://localhost:8080/"
        },
        "outputId": "7adea47c-bc94-485a-dff7-bdcdf589b773"
      },
      "source": [
        "#LAB 6-8-2\n",
        "(10, 20, 30)+(40,50,60)"
      ],
      "execution_count": null,
      "outputs": [
        {
          "output_type": "execute_result",
          "data": {
            "text/plain": [
              "(10, 20, 30, 40, 50, 60)"
            ]
          },
          "metadata": {
            "tags": []
          },
          "execution_count": 62
        }
      ]
    },
    {
      "cell_type": "code",
      "metadata": {
        "id": "mjuTEf8AxEzl",
        "colab": {
          "base_uri": "https://localhost:8080/"
        },
        "outputId": "a4a78f62-4248-4e5d-91e8-97f1603af572"
      },
      "source": [
        "#LAB 6-8-3\n",
        "print('Hello ' * 3) #Hello를 3번 반복\n",
        "print(('Hello ',) * 3) #('Hello', 'Hello', 'Hello')라는 튜플을 출력"
      ],
      "execution_count": null,
      "outputs": [
        {
          "output_type": "stream",
          "text": [
            "Hello Hello Hello \n",
            "('Hello ', 'Hello ', 'Hello ')\n"
          ],
          "name": "stdout"
        }
      ]
    },
    {
      "cell_type": "code",
      "metadata": {
        "id": "xAOhynSGxPfS"
      },
      "source": [
        "set0 = set()"
      ],
      "execution_count": 1,
      "outputs": []
    },
    {
      "cell_type": "code",
      "metadata": {
        "colab": {
          "base_uri": "https://localhost:8080/"
        },
        "id": "cwv37jHtFJ6p",
        "outputId": "957e749a-561b-4059-aae2-341930790f4d"
      },
      "source": [
        "set0"
      ],
      "execution_count": 2,
      "outputs": [
        {
          "output_type": "execute_result",
          "data": {
            "text/plain": [
              "set()"
            ]
          },
          "metadata": {
            "tags": []
          },
          "execution_count": 2
        }
      ]
    },
    {
      "cell_type": "code",
      "metadata": {
        "id": "WDd1OKC0FKYS"
      },
      "source": [
        "set0 = {}"
      ],
      "execution_count": 3,
      "outputs": []
    },
    {
      "cell_type": "code",
      "metadata": {
        "colab": {
          "base_uri": "https://localhost:8080/"
        },
        "id": "yalfkrxxFOOO",
        "outputId": "ea43e7cc-1de2-4997-e796-84adda24fc66"
      },
      "source": [
        "set0"
      ],
      "execution_count": 4,
      "outputs": [
        {
          "output_type": "execute_result",
          "data": {
            "text/plain": [
              "{}"
            ]
          },
          "metadata": {
            "tags": []
          },
          "execution_count": 4
        }
      ]
    },
    {
      "cell_type": "code",
      "metadata": {
        "colab": {
          "base_uri": "https://localhost:8080/"
        },
        "id": "JDqC9JGHFO2M",
        "outputId": "475c144e-8bf8-41ed-f019-56140b501044"
      },
      "source": [
        "type(set0)"
      ],
      "execution_count": 5,
      "outputs": [
        {
          "output_type": "execute_result",
          "data": {
            "text/plain": [
              "dict"
            ]
          },
          "metadata": {
            "tags": []
          },
          "execution_count": 5
        }
      ]
    },
    {
      "cell_type": "code",
      "metadata": {
        "colab": {
          "base_uri": "https://localhost:8080/"
        },
        "id": "Q9fVr933FP4q",
        "outputId": "6a590a35-c282-4522-98f5-cc16b13d7fb8"
      },
      "source": [
        "days_list = ['Mon','Tue','Wed','Thu','Fri','Sat','Sun']\n",
        "days_set = set(days_list)\n",
        "days_set"
      ],
      "execution_count": 7,
      "outputs": [
        {
          "output_type": "execute_result",
          "data": {
            "text/plain": [
              "{'Fri', 'Mon', 'Sat', 'Sun', 'Thu', 'Tue', 'Wed'}"
            ]
          },
          "metadata": {
            "tags": []
          },
          "execution_count": 7
        }
      ]
    },
    {
      "cell_type": "code",
      "metadata": {
        "colab": {
          "base_uri": "https://localhost:8080/"
        },
        "id": "dhJicKdGFiyO",
        "outputId": "529bdf24-59bc-44f9-8ebb-4200f9723c0b"
      },
      "source": [
        "fruits_tuple = ('apple','orange','water melon')\n",
        "fruits_set = set(fruits_tuple)\n",
        "fruits_set"
      ],
      "execution_count": 8,
      "outputs": [
        {
          "output_type": "execute_result",
          "data": {
            "text/plain": [
              "{'apple', 'orange', 'water melon'}"
            ]
          },
          "metadata": {
            "tags": []
          },
          "execution_count": 8
        }
      ]
    },
    {
      "cell_type": "code",
      "metadata": {
        "colab": {
          "base_uri": "https://localhost:8080/"
        },
        "id": "6VxC8UxyFtjT",
        "outputId": "301384b0-2441-4f0f-a8a4-b99008bb3451"
      },
      "source": [
        "h_str = 'hello'\n",
        "h_set = set(h_str)\n",
        "h_set"
      ],
      "execution_count": 9,
      "outputs": [
        {
          "output_type": "execute_result",
          "data": {
            "text/plain": [
              "{'e', 'h', 'l', 'o'}"
            ]
          },
          "metadata": {
            "tags": []
          },
          "execution_count": 9
        }
      ]
    },
    {
      "cell_type": "code",
      "metadata": {
        "colab": {
          "base_uri": "https://localhost:8080/"
        },
        "id": "HFff20wjFyIL",
        "outputId": "9de65bac-1413-460e-f16c-6e27a3934429"
      },
      "source": [
        "#LAB 6-9-1 : 집합의 생성\n",
        "lst = ['apple','mango','banana']\n",
        "s1 = set(lst)\n",
        "print(\"s1 =\", s1)"
      ],
      "execution_count": 11,
      "outputs": [
        {
          "output_type": "stream",
          "text": [
            "s1 = {'banana', 'apple', 'mango'}\n"
          ],
          "name": "stdout"
        }
      ]
    },
    {
      "cell_type": "code",
      "metadata": {
        "colab": {
          "base_uri": "https://localhost:8080/"
        },
        "id": "HyIqL6NNF87G",
        "outputId": "082aea4d-0cfc-4641-808f-7a046c4e8173"
      },
      "source": [
        "#LAB 6-9-2\n",
        "greet = 'Good afternoon'\n",
        "s2 = set(greet)\n",
        "print(\"s2 =\", s2)"
      ],
      "execution_count": 12,
      "outputs": [
        {
          "output_type": "stream",
          "text": [
            "s2 = {'r', 'o', 'e', 'f', 't', ' ', 'G', 'n', 'a', 'd'}\n"
          ],
          "name": "stdout"
        }
      ]
    },
    {
      "cell_type": "code",
      "metadata": {
        "colab": {
          "base_uri": "https://localhost:8080/"
        },
        "id": "YfQ4hcMUGG07",
        "outputId": "00ae91dc-60b4-41a1-a62e-0a857ceb9199"
      },
      "source": [
        "s = {100, 100, 200, 200, 300, 400}\n",
        "s"
      ],
      "execution_count": 13,
      "outputs": [
        {
          "output_type": "execute_result",
          "data": {
            "text/plain": [
              "{100, 200, 300, 400}"
            ]
          },
          "metadata": {
            "tags": []
          },
          "execution_count": 13
        }
      ]
    },
    {
      "cell_type": "code",
      "metadata": {
        "colab": {
          "base_uri": "https://localhost:8080/"
        },
        "id": "Se8s2WjcHtpM",
        "outputId": "727763bd-491f-45fb-cab2-821e68b4cd16"
      },
      "source": [
        "s.add(500)\n",
        "s"
      ],
      "execution_count": 15,
      "outputs": [
        {
          "output_type": "execute_result",
          "data": {
            "text/plain": [
              "{100, 200, 300, 400, 500}"
            ]
          },
          "metadata": {
            "tags": []
          },
          "execution_count": 15
        }
      ]
    },
    {
      "cell_type": "code",
      "metadata": {
        "colab": {
          "base_uri": "https://localhost:8080/"
        },
        "id": "EfDYmR9cHuTW",
        "outputId": "26f3994b-90c6-42e5-f9aa-5da3ac1bdd96"
      },
      "source": [
        "s.discard(100)\n",
        "s"
      ],
      "execution_count": 16,
      "outputs": [
        {
          "output_type": "execute_result",
          "data": {
            "text/plain": [
              "{200, 300, 400, 500}"
            ]
          },
          "metadata": {
            "tags": []
          },
          "execution_count": 16
        }
      ]
    },
    {
      "cell_type": "code",
      "metadata": {
        "id": "FIL4YZOEHw_Z"
      },
      "source": [
        "s1 = {1,2,3,4,5,6}\n",
        "s2 = {4,5,6,7,8,9}"
      ],
      "execution_count": 17,
      "outputs": []
    },
    {
      "cell_type": "code",
      "metadata": {
        "colab": {
          "base_uri": "https://localhost:8080/"
        },
        "id": "wkfHG-HxH8LY",
        "outputId": "42a3eb2c-3ef6-4426-b9e6-8e21ce98ae90"
      },
      "source": [
        "s1.union(s2)"
      ],
      "execution_count": 18,
      "outputs": [
        {
          "output_type": "execute_result",
          "data": {
            "text/plain": [
              "{1, 2, 3, 4, 5, 6, 7, 8, 9}"
            ]
          },
          "metadata": {
            "tags": []
          },
          "execution_count": 18
        }
      ]
    },
    {
      "cell_type": "code",
      "metadata": {
        "colab": {
          "base_uri": "https://localhost:8080/"
        },
        "id": "ab8jRV0nH9Nh",
        "outputId": "71c4e073-e7d8-4af7-d052-68ea79dffc8c"
      },
      "source": [
        "s1|s2"
      ],
      "execution_count": 19,
      "outputs": [
        {
          "output_type": "execute_result",
          "data": {
            "text/plain": [
              "{1, 2, 3, 4, 5, 6, 7, 8, 9}"
            ]
          },
          "metadata": {
            "tags": []
          },
          "execution_count": 19
        }
      ]
    },
    {
      "cell_type": "code",
      "metadata": {
        "colab": {
          "base_uri": "https://localhost:8080/"
        },
        "id": "SCIkTpxQH-cZ",
        "outputId": "d2c5fa5f-a829-4b24-c999-86829c7975c0"
      },
      "source": [
        "s1 & s2"
      ],
      "execution_count": 20,
      "outputs": [
        {
          "output_type": "execute_result",
          "data": {
            "text/plain": [
              "{4, 5, 6}"
            ]
          },
          "metadata": {
            "tags": []
          },
          "execution_count": 20
        }
      ]
    },
    {
      "cell_type": "code",
      "metadata": {
        "colab": {
          "base_uri": "https://localhost:8080/"
        },
        "id": "7Ut8npKsIBMO",
        "outputId": "9b77d620-61c7-4ffc-f5f4-9859a3c21971"
      },
      "source": [
        "s1 - s2"
      ],
      "execution_count": 21,
      "outputs": [
        {
          "output_type": "execute_result",
          "data": {
            "text/plain": [
              "{1, 2, 3}"
            ]
          },
          "metadata": {
            "tags": []
          },
          "execution_count": 21
        }
      ]
    },
    {
      "cell_type": "code",
      "metadata": {
        "colab": {
          "base_uri": "https://localhost:8080/"
        },
        "id": "Oxt1WJLEIB3f",
        "outputId": "8e5594e6-04c7-436c-9c34-f780ae826d6d"
      },
      "source": [
        "s1 ^ s2"
      ],
      "execution_count": 22,
      "outputs": [
        {
          "output_type": "execute_result",
          "data": {
            "text/plain": [
              "{1, 2, 3, 7, 8, 9}"
            ]
          },
          "metadata": {
            "tags": []
          },
          "execution_count": 22
        }
      ]
    },
    {
      "cell_type": "code",
      "metadata": {
        "colab": {
          "base_uri": "https://localhost:8080/"
        },
        "id": "b6ugBjJfICZd",
        "outputId": "6ae62df8-a263-4644-f1c0-645b22fb7319"
      },
      "source": [
        "s1.intersection(s2)"
      ],
      "execution_count": 23,
      "outputs": [
        {
          "output_type": "execute_result",
          "data": {
            "text/plain": [
              "{4, 5, 6}"
            ]
          },
          "metadata": {
            "tags": []
          },
          "execution_count": 23
        }
      ]
    },
    {
      "cell_type": "code",
      "metadata": {
        "colab": {
          "base_uri": "https://localhost:8080/"
        },
        "id": "tjfDTMTsIMDC",
        "outputId": "46cbc0b4-70c1-4702-cd4e-9d34486e40b2"
      },
      "source": [
        "s1.difference(s2)"
      ],
      "execution_count": 24,
      "outputs": [
        {
          "output_type": "execute_result",
          "data": {
            "text/plain": [
              "{1, 2, 3}"
            ]
          },
          "metadata": {
            "tags": []
          },
          "execution_count": 24
        }
      ]
    },
    {
      "cell_type": "code",
      "metadata": {
        "colab": {
          "base_uri": "https://localhost:8080/"
        },
        "id": "T8KUlAkvINCY",
        "outputId": "3eb3c1b7-dea6-48ed-d749-3c21d14d146b"
      },
      "source": [
        "s1.symmetric_difference(s2)"
      ],
      "execution_count": 25,
      "outputs": [
        {
          "output_type": "execute_result",
          "data": {
            "text/plain": [
              "{1, 2, 3, 7, 8, 9}"
            ]
          },
          "metadata": {
            "tags": []
          },
          "execution_count": 25
        }
      ]
    },
    {
      "cell_type": "code",
      "metadata": {
        "colab": {
          "base_uri": "https://localhost:8080/"
        },
        "id": "j6C3PuJFIOdF",
        "outputId": "67697b41-3762-491d-8649-99fe51abfc54"
      },
      "source": [
        "s1 = {1,2,3,4,5,6}\n",
        "s2 = {4,5,6,7,8,9}\n",
        "s3 = {5,6,9,10,11}\n",
        "s1 & s2 & s3"
      ],
      "execution_count": 26,
      "outputs": [
        {
          "output_type": "execute_result",
          "data": {
            "text/plain": [
              "{5, 6}"
            ]
          },
          "metadata": {
            "tags": []
          },
          "execution_count": 26
        }
      ]
    },
    {
      "cell_type": "code",
      "metadata": {
        "colab": {
          "base_uri": "https://localhost:8080/"
        },
        "id": "Jvy77pFjIauC",
        "outputId": "0d285896-204c-47fe-ebff-171ebf93c8ad"
      },
      "source": [
        "s1-s2-s3"
      ],
      "execution_count": 27,
      "outputs": [
        {
          "output_type": "execute_result",
          "data": {
            "text/plain": [
              "{1, 2, 3}"
            ]
          },
          "metadata": {
            "tags": []
          },
          "execution_count": 27
        }
      ]
    },
    {
      "cell_type": "code",
      "metadata": {
        "id": "8lkwy-khIcAX"
      },
      "source": [
        "s1 = {1,2,3,4,5}\n",
        "s2 = {1,2,3}\n",
        "s3 = {1,2,6}"
      ],
      "execution_count": 28,
      "outputs": []
    },
    {
      "cell_type": "code",
      "metadata": {
        "colab": {
          "base_uri": "https://localhost:8080/"
        },
        "id": "_fHaPwtJUrHj",
        "outputId": "9cc8dc0e-5a3a-4598-ff05-3f71a6cb3c25"
      },
      "source": [
        "s2.issubset(s1)"
      ],
      "execution_count": 29,
      "outputs": [
        {
          "output_type": "execute_result",
          "data": {
            "text/plain": [
              "True"
            ]
          },
          "metadata": {
            "tags": []
          },
          "execution_count": 29
        }
      ]
    },
    {
      "cell_type": "code",
      "metadata": {
        "colab": {
          "base_uri": "https://localhost:8080/"
        },
        "id": "P5PbjnwzUsQp",
        "outputId": "4c7440a3-00f6-4871-bedd-159977c2ce04"
      },
      "source": [
        "s3.issubset(s1)"
      ],
      "execution_count": 30,
      "outputs": [
        {
          "output_type": "execute_result",
          "data": {
            "text/plain": [
              "False"
            ]
          },
          "metadata": {
            "tags": []
          },
          "execution_count": 30
        }
      ]
    },
    {
      "cell_type": "code",
      "metadata": {
        "colab": {
          "base_uri": "https://localhost:8080/"
        },
        "id": "F3mfuiWKUttg",
        "outputId": "0e07a068-071e-4990-b3ee-22352024b2b9"
      },
      "source": [
        "s1.issuperset(s2)"
      ],
      "execution_count": 31,
      "outputs": [
        {
          "output_type": "execute_result",
          "data": {
            "text/plain": [
              "True"
            ]
          },
          "metadata": {
            "tags": []
          },
          "execution_count": 31
        }
      ]
    },
    {
      "cell_type": "code",
      "metadata": {
        "colab": {
          "base_uri": "https://localhost:8080/"
        },
        "id": "3Sp6rpycUwYn",
        "outputId": "64f79cf5-b615-4be3-a139-d578aa4b6a67"
      },
      "source": [
        "s1.issuperset(s3)"
      ],
      "execution_count": 32,
      "outputs": [
        {
          "output_type": "execute_result",
          "data": {
            "text/plain": [
              "False"
            ]
          },
          "metadata": {
            "tags": []
          },
          "execution_count": 32
        }
      ]
    },
    {
      "cell_type": "code",
      "metadata": {
        "colab": {
          "base_uri": "https://localhost:8080/"
        },
        "id": "zngYmMKSUxwu",
        "outputId": "38b3111e-3ad8-4406-afb2-b1f6937c7b2c"
      },
      "source": [
        "s1 = {1,2,3}\n",
        "s2 = {10,20,30}\n",
        "s1.isdisjoint(s2)"
      ],
      "execution_count": 33,
      "outputs": [
        {
          "output_type": "execute_result",
          "data": {
            "text/plain": [
              "True"
            ]
          },
          "metadata": {
            "tags": []
          },
          "execution_count": 33
        }
      ]
    },
    {
      "cell_type": "code",
      "metadata": {
        "colab": {
          "base_uri": "https://localhost:8080/"
        },
        "id": "4k8rEfQpVh7P",
        "outputId": "d06a9241-0330-4524-a5ee-3f46c01605bc"
      },
      "source": [
        "#LAB 6-10 : 집합의 연산\n",
        "s1 = {10,20,30,40}\n",
        "s2 = {30,40,50,60,70}\n",
        "print(s1 | s2)\n",
        "print(s1 & s2)\n",
        "print(s1 - s2)\n",
        "print(s1 ^ s2)\n",
        "print(s1.issubset(s2))\n",
        "print(s1.issuperset(s2))\n",
        "print(s1.isdisjoint(s2))"
      ],
      "execution_count": 35,
      "outputs": [
        {
          "output_type": "stream",
          "text": [
            "{70, 40, 10, 50, 20, 60, 30}\n",
            "{40, 30}\n",
            "{10, 20}\n",
            "{50, 20, 70, 10, 60}\n",
            "False\n",
            "False\n",
            "False\n"
          ],
          "name": "stdout"
        }
      ]
    },
    {
      "cell_type": "code",
      "metadata": {
        "colab": {
          "base_uri": "https://localhost:8080/"
        },
        "id": "u2WxM1jfVsW8",
        "outputId": "9bc09eec-5e69-46ca-c62e-30dfc02a0961"
      },
      "source": [
        "def product_set(set1, set2):\n",
        "    res = set()\n",
        "    for i in set1:\n",
        "        for j in set2:\n",
        "            res = res | {(i,j)}\n",
        "    return res\n",
        "A = {1,3}\n",
        "B = {2,4}\n",
        "AxB = product_set(A,B)\n",
        "print(\"A =\", A)\n",
        "print(\"B =\", B)\n",
        "print(\"AxB =\", AxB)"
      ],
      "execution_count": 37,
      "outputs": [
        {
          "output_type": "stream",
          "text": [
            "A = {1, 3}\n",
            "B = {2, 4}\n",
            "AxB = {(1, 2), (3, 2), (3, 4), (1, 4)}\n"
          ],
          "name": "stdout"
        }
      ]
    },
    {
      "cell_type": "code",
      "metadata": {
        "colab": {
          "base_uri": "https://localhost:8080/"
        },
        "id": "2bkSO1dNXKz3",
        "outputId": "d039d3d5-a6b6-4bd6-deca-399bce0de28a"
      },
      "source": [
        "#LAB 6-11 : 곱집합 연산\n",
        "A = {1,2}\n",
        "B = {'A','B','C'}\n",
        "print(\"AxB =\", product_set(A,B))\n",
        "print(\"BxA =\", product_set(B,A))\n",
        "print(\"AxA =\", product_set(A,A))\n",
        "print(\"BxB =\", product_set(B,B))"
      ],
      "execution_count": 38,
      "outputs": [
        {
          "output_type": "stream",
          "text": [
            "AxB = {(1, 'C'), (1, 'A'), (2, 'A'), (2, 'C'), (2, 'B'), (1, 'B')}\n",
            "BxA = {('A', 2), ('B', 1), ('C', 2), ('A', 1), ('C', 1), ('B', 2)}\n",
            "AxA = {(1, 2), (1, 1), (2, 1), (2, 2)}\n",
            "BxB = {('C', 'A'), ('A', 'A'), ('B', 'B'), ('B', 'C'), ('C', 'B'), ('A', 'C'), ('C', 'C'), ('B', 'A'), ('A', 'B')}\n"
          ],
          "name": "stdout"
        }
      ]
    },
    {
      "cell_type": "code",
      "metadata": {
        "colab": {
          "base_uri": "https://localhost:8080/"
        },
        "id": "BOlBhUfFXrri",
        "outputId": "1cc9f049-9d19-4ca4-ed8a-7debed39a2dd"
      },
      "source": [
        "def exp(input_set, exponent):\n",
        "    res = input_set\n",
        "    for _ in range(exponent-1):\n",
        "        res = product_set(res, input_set)\n",
        "    return res\n",
        "A = {1,3}\n",
        "A3 = exp(A,3)\n",
        "print(A3)"
      ],
      "execution_count": 39,
      "outputs": [
        {
          "output_type": "stream",
          "text": [
            "{((1, 1), 1), ((3, 1), 1), ((1, 3), 3), ((1, 1), 3), ((3, 3), 1), ((1, 3), 1), ((3, 1), 3), ((3, 3), 3)}\n"
          ],
          "name": "stdout"
        }
      ]
    },
    {
      "cell_type": "code",
      "metadata": {
        "colab": {
          "base_uri": "https://localhost:8080/"
        },
        "id": "etDA3TRoYCZk",
        "outputId": "d6726d24-0b17-451a-a719-7ce065118cf1"
      },
      "source": [
        "def product_set(set1, set2):\n",
        "    res = set()\n",
        "    for i in set1:\n",
        "        for j in set2:\n",
        "            res = res | {(i,j)}\n",
        "    return res\n",
        "cases = {1,2,3,4,5,6}\n",
        "cases_2times = product_set(cases, cases)\n",
        "print(cases_2times)"
      ],
      "execution_count": 40,
      "outputs": [
        {
          "output_type": "stream",
          "text": [
            "{(1, 3), (6, 6), (5, 6), (2, 1), (6, 2), (1, 6), (5, 1), (2, 5), (1, 2), (3, 3), (5, 5), (4, 4), (6, 3), (1, 5), (3, 6), (2, 2), (3, 4), (4, 1), (1, 1), (6, 4), (3, 2), (2, 6), (5, 4), (4, 5), (1, 4), (2, 3), (4, 2), (6, 5), (3, 5), (5, 3), (4, 6), (6, 1), (3, 1), (4, 3), (5, 2), (2, 4)}\n"
          ],
          "name": "stdout"
        }
      ]
    },
    {
      "cell_type": "code",
      "metadata": {
        "colab": {
          "base_uri": "https://localhost:8080/"
        },
        "id": "2a6zCxEiYdEk",
        "outputId": "f822cc39-b797-44c3-c352-d12f2a499170"
      },
      "source": [
        "a_tuple = (1,2,3,4,5)\n",
        "sum(a_tuple)"
      ],
      "execution_count": 41,
      "outputs": [
        {
          "output_type": "execute_result",
          "data": {
            "text/plain": [
              "15"
            ]
          },
          "metadata": {
            "tags": []
          },
          "execution_count": 41
        }
      ]
    },
    {
      "cell_type": "code",
      "metadata": {
        "colab": {
          "base_uri": "https://localhost:8080/"
        },
        "id": "NR7OrojCYpl0",
        "outputId": "025efb55-2315-4b32-d830-5074b55e56aa"
      },
      "source": [
        "a_new_list = [sum(tuple_element) for tuple_element in cases_2times]\n",
        "a_new_list"
      ],
      "execution_count": 43,
      "outputs": [
        {
          "output_type": "execute_result",
          "data": {
            "text/plain": [
              "[4,\n",
              " 12,\n",
              " 11,\n",
              " 3,\n",
              " 8,\n",
              " 7,\n",
              " 6,\n",
              " 7,\n",
              " 3,\n",
              " 6,\n",
              " 10,\n",
              " 8,\n",
              " 9,\n",
              " 6,\n",
              " 9,\n",
              " 4,\n",
              " 7,\n",
              " 5,\n",
              " 2,\n",
              " 10,\n",
              " 5,\n",
              " 8,\n",
              " 9,\n",
              " 9,\n",
              " 5,\n",
              " 5,\n",
              " 6,\n",
              " 11,\n",
              " 8,\n",
              " 8,\n",
              " 10,\n",
              " 7,\n",
              " 4,\n",
              " 7,\n",
              " 7,\n",
              " 6]"
            ]
          },
          "metadata": {
            "tags": []
          },
          "execution_count": 43
        }
      ]
    },
    {
      "cell_type": "code",
      "metadata": {
        "colab": {
          "base_uri": "https://localhost:8080/"
        },
        "id": "56kJI_zlZGB-",
        "outputId": "4157b6d2-ec12-4c6d-f61f-31767b4fb7f1"
      },
      "source": [
        "a_new_set = {sum(tuple_element) for tuple_element in cases_2times}\n",
        "a_new_set"
      ],
      "execution_count": 44,
      "outputs": [
        {
          "output_type": "execute_result",
          "data": {
            "text/plain": [
              "{2, 3, 4, 5, 6, 7, 8, 9, 10, 11, 12}"
            ]
          },
          "metadata": {
            "tags": []
          },
          "execution_count": 44
        }
      ]
    },
    {
      "cell_type": "code",
      "metadata": {
        "colab": {
          "base_uri": "https://localhost:8080/"
        },
        "id": "Ski0jX19ZSju",
        "outputId": "8ae93e39-634e-4695-bd27-e84041197ed8"
      },
      "source": [
        "def product_set(set1, set2):\n",
        "    res = set()\n",
        "    for i in set1:\n",
        "        for j in set2:\n",
        "            res = res|{(i,j)}\n",
        "    return res\n",
        "\n",
        "cases = {1,2,3,4,5,6}\n",
        "cases_2times = product_set(cases, cases)\n",
        "\n",
        "sum_set = {sum(tup) for tup in cases_2times}\n",
        "print(\"sum_set =\", sum_set)\n",
        "sum_list = [sum(tup) for tup in cases_2times]\n",
        "print(\"sum_list =\", sum_list)"
      ],
      "execution_count": 45,
      "outputs": [
        {
          "output_type": "stream",
          "text": [
            "sum_set = {2, 3, 4, 5, 6, 7, 8, 9, 10, 11, 12}\n",
            "sum_list = [4, 12, 11, 3, 8, 7, 6, 7, 3, 6, 10, 8, 9, 6, 9, 4, 7, 5, 2, 10, 5, 8, 9, 9, 5, 5, 6, 11, 8, 8, 10, 7, 4, 7, 7, 6]\n"
          ],
          "name": "stdout"
        }
      ]
    },
    {
      "cell_type": "code",
      "metadata": {
        "colab": {
          "base_uri": "https://localhost:8080/"
        },
        "id": "BB1hO-BkbDVu",
        "outputId": "3dd71eac-bdaa-4fed-bf81-16d682434362"
      },
      "source": [
        "cases_3times = product_set(cases, cases_2times)\n",
        "cases_3times"
      ],
      "execution_count": 46,
      "outputs": [
        {
          "output_type": "execute_result",
          "data": {
            "text/plain": [
              "{(1, (1, 1)),\n",
              " (1, (1, 2)),\n",
              " (1, (1, 3)),\n",
              " (1, (1, 4)),\n",
              " (1, (1, 5)),\n",
              " (1, (1, 6)),\n",
              " (1, (2, 1)),\n",
              " (1, (2, 2)),\n",
              " (1, (2, 3)),\n",
              " (1, (2, 4)),\n",
              " (1, (2, 5)),\n",
              " (1, (2, 6)),\n",
              " (1, (3, 1)),\n",
              " (1, (3, 2)),\n",
              " (1, (3, 3)),\n",
              " (1, (3, 4)),\n",
              " (1, (3, 5)),\n",
              " (1, (3, 6)),\n",
              " (1, (4, 1)),\n",
              " (1, (4, 2)),\n",
              " (1, (4, 3)),\n",
              " (1, (4, 4)),\n",
              " (1, (4, 5)),\n",
              " (1, (4, 6)),\n",
              " (1, (5, 1)),\n",
              " (1, (5, 2)),\n",
              " (1, (5, 3)),\n",
              " (1, (5, 4)),\n",
              " (1, (5, 5)),\n",
              " (1, (5, 6)),\n",
              " (1, (6, 1)),\n",
              " (1, (6, 2)),\n",
              " (1, (6, 3)),\n",
              " (1, (6, 4)),\n",
              " (1, (6, 5)),\n",
              " (1, (6, 6)),\n",
              " (2, (1, 1)),\n",
              " (2, (1, 2)),\n",
              " (2, (1, 3)),\n",
              " (2, (1, 4)),\n",
              " (2, (1, 5)),\n",
              " (2, (1, 6)),\n",
              " (2, (2, 1)),\n",
              " (2, (2, 2)),\n",
              " (2, (2, 3)),\n",
              " (2, (2, 4)),\n",
              " (2, (2, 5)),\n",
              " (2, (2, 6)),\n",
              " (2, (3, 1)),\n",
              " (2, (3, 2)),\n",
              " (2, (3, 3)),\n",
              " (2, (3, 4)),\n",
              " (2, (3, 5)),\n",
              " (2, (3, 6)),\n",
              " (2, (4, 1)),\n",
              " (2, (4, 2)),\n",
              " (2, (4, 3)),\n",
              " (2, (4, 4)),\n",
              " (2, (4, 5)),\n",
              " (2, (4, 6)),\n",
              " (2, (5, 1)),\n",
              " (2, (5, 2)),\n",
              " (2, (5, 3)),\n",
              " (2, (5, 4)),\n",
              " (2, (5, 5)),\n",
              " (2, (5, 6)),\n",
              " (2, (6, 1)),\n",
              " (2, (6, 2)),\n",
              " (2, (6, 3)),\n",
              " (2, (6, 4)),\n",
              " (2, (6, 5)),\n",
              " (2, (6, 6)),\n",
              " (3, (1, 1)),\n",
              " (3, (1, 2)),\n",
              " (3, (1, 3)),\n",
              " (3, (1, 4)),\n",
              " (3, (1, 5)),\n",
              " (3, (1, 6)),\n",
              " (3, (2, 1)),\n",
              " (3, (2, 2)),\n",
              " (3, (2, 3)),\n",
              " (3, (2, 4)),\n",
              " (3, (2, 5)),\n",
              " (3, (2, 6)),\n",
              " (3, (3, 1)),\n",
              " (3, (3, 2)),\n",
              " (3, (3, 3)),\n",
              " (3, (3, 4)),\n",
              " (3, (3, 5)),\n",
              " (3, (3, 6)),\n",
              " (3, (4, 1)),\n",
              " (3, (4, 2)),\n",
              " (3, (4, 3)),\n",
              " (3, (4, 4)),\n",
              " (3, (4, 5)),\n",
              " (3, (4, 6)),\n",
              " (3, (5, 1)),\n",
              " (3, (5, 2)),\n",
              " (3, (5, 3)),\n",
              " (3, (5, 4)),\n",
              " (3, (5, 5)),\n",
              " (3, (5, 6)),\n",
              " (3, (6, 1)),\n",
              " (3, (6, 2)),\n",
              " (3, (6, 3)),\n",
              " (3, (6, 4)),\n",
              " (3, (6, 5)),\n",
              " (3, (6, 6)),\n",
              " (4, (1, 1)),\n",
              " (4, (1, 2)),\n",
              " (4, (1, 3)),\n",
              " (4, (1, 4)),\n",
              " (4, (1, 5)),\n",
              " (4, (1, 6)),\n",
              " (4, (2, 1)),\n",
              " (4, (2, 2)),\n",
              " (4, (2, 3)),\n",
              " (4, (2, 4)),\n",
              " (4, (2, 5)),\n",
              " (4, (2, 6)),\n",
              " (4, (3, 1)),\n",
              " (4, (3, 2)),\n",
              " (4, (3, 3)),\n",
              " (4, (3, 4)),\n",
              " (4, (3, 5)),\n",
              " (4, (3, 6)),\n",
              " (4, (4, 1)),\n",
              " (4, (4, 2)),\n",
              " (4, (4, 3)),\n",
              " (4, (4, 4)),\n",
              " (4, (4, 5)),\n",
              " (4, (4, 6)),\n",
              " (4, (5, 1)),\n",
              " (4, (5, 2)),\n",
              " (4, (5, 3)),\n",
              " (4, (5, 4)),\n",
              " (4, (5, 5)),\n",
              " (4, (5, 6)),\n",
              " (4, (6, 1)),\n",
              " (4, (6, 2)),\n",
              " (4, (6, 3)),\n",
              " (4, (6, 4)),\n",
              " (4, (6, 5)),\n",
              " (4, (6, 6)),\n",
              " (5, (1, 1)),\n",
              " (5, (1, 2)),\n",
              " (5, (1, 3)),\n",
              " (5, (1, 4)),\n",
              " (5, (1, 5)),\n",
              " (5, (1, 6)),\n",
              " (5, (2, 1)),\n",
              " (5, (2, 2)),\n",
              " (5, (2, 3)),\n",
              " (5, (2, 4)),\n",
              " (5, (2, 5)),\n",
              " (5, (2, 6)),\n",
              " (5, (3, 1)),\n",
              " (5, (3, 2)),\n",
              " (5, (3, 3)),\n",
              " (5, (3, 4)),\n",
              " (5, (3, 5)),\n",
              " (5, (3, 6)),\n",
              " (5, (4, 1)),\n",
              " (5, (4, 2)),\n",
              " (5, (4, 3)),\n",
              " (5, (4, 4)),\n",
              " (5, (4, 5)),\n",
              " (5, (4, 6)),\n",
              " (5, (5, 1)),\n",
              " (5, (5, 2)),\n",
              " (5, (5, 3)),\n",
              " (5, (5, 4)),\n",
              " (5, (5, 5)),\n",
              " (5, (5, 6)),\n",
              " (5, (6, 1)),\n",
              " (5, (6, 2)),\n",
              " (5, (6, 3)),\n",
              " (5, (6, 4)),\n",
              " (5, (6, 5)),\n",
              " (5, (6, 6)),\n",
              " (6, (1, 1)),\n",
              " (6, (1, 2)),\n",
              " (6, (1, 3)),\n",
              " (6, (1, 4)),\n",
              " (6, (1, 5)),\n",
              " (6, (1, 6)),\n",
              " (6, (2, 1)),\n",
              " (6, (2, 2)),\n",
              " (6, (2, 3)),\n",
              " (6, (2, 4)),\n",
              " (6, (2, 5)),\n",
              " (6, (2, 6)),\n",
              " (6, (3, 1)),\n",
              " (6, (3, 2)),\n",
              " (6, (3, 3)),\n",
              " (6, (3, 4)),\n",
              " (6, (3, 5)),\n",
              " (6, (3, 6)),\n",
              " (6, (4, 1)),\n",
              " (6, (4, 2)),\n",
              " (6, (4, 3)),\n",
              " (6, (4, 4)),\n",
              " (6, (4, 5)),\n",
              " (6, (4, 6)),\n",
              " (6, (5, 1)),\n",
              " (6, (5, 2)),\n",
              " (6, (5, 3)),\n",
              " (6, (5, 4)),\n",
              " (6, (5, 5)),\n",
              " (6, (5, 6)),\n",
              " (6, (6, 1)),\n",
              " (6, (6, 2)),\n",
              " (6, (6, 3)),\n",
              " (6, (6, 4)),\n",
              " (6, (6, 5)),\n",
              " (6, (6, 6))}"
            ]
          },
          "metadata": {
            "tags": []
          },
          "execution_count": 46
        }
      ]
    },
    {
      "cell_type": "code",
      "metadata": {
        "colab": {
          "base_uri": "https://localhost:8080/"
        },
        "id": "mM1jLl9-bP-e",
        "outputId": "fd9852a0-1c4e-402e-dd6a-217ee175ca96"
      },
      "source": [
        "def tuple_sum(tup):\n",
        "    if isinstance(tup, int):\n",
        "        return tup\n",
        "    else:\n",
        "        accum = 0\n",
        "        for element in tup:\n",
        "            accum += tuple_sum(element)\n",
        "    return accum\n",
        "\n",
        "sums = [tuple_sum(tup) for tup in cases_3times]\n",
        "print(sums)"
      ],
      "execution_count": 48,
      "outputs": [
        {
          "output_type": "stream",
          "text": [
            "[12, 5, 8, 9, 9, 10, 10, 12, 14, 10, 6, 8, 9, 6, 9, 10, 15, 10, 13, 13, 7, 13, 10, 7, 8, 12, 9, 13, 7, 14, 7, 6, 10, 8, 5, 12, 13, 9, 10, 11, 11, 9, 14, 11, 12, 12, 12, 9, 15, 15, 8, 13, 6, 17, 8, 9, 13, 16, 9, 13, 11, 18, 7, 7, 14, 11, 4, 10, 10, 11, 12, 12, 14, 12, 9, 13, 12, 13, 12, 5, 11, 8, 5, 6, 16, 14, 11, 11, 6, 13, 11, 12, 13, 8, 11, 8, 8, 9, 9, 11, 12, 13, 16, 11, 8, 7, 11, 12, 12, 7, 8, 9, 8, 12, 5, 13, 7, 16, 16, 14, 9, 12, 11, 10, 10, 10, 8, 12, 10, 13, 15, 10, 10, 9, 15, 13, 15, 10, 15, 6, 14, 14, 4, 11, 7, 17, 6, 14, 11, 8, 7, 9, 10, 8, 10, 13, 10, 6, 9, 7, 10, 15, 14, 15, 9, 7, 9, 9, 14, 13, 10, 14, 12, 9, 10, 11, 4, 5, 10, 15, 16, 6, 9, 10, 12, 13, 11, 10, 11, 9, 11, 8, 12, 12, 11, 11, 8, 11, 17, 9, 14, 11, 10, 8, 7, 8, 11, 12, 11, 13, 13, 3, 12, 14, 8, 7]\n"
          ],
          "name": "stdout"
        }
      ]
    },
    {
      "cell_type": "code",
      "metadata": {
        "colab": {
          "base_uri": "https://localhost:8080/"
        },
        "id": "AOU2Vr_FcExN",
        "outputId": "0f8937d7-6406-4a65-f59c-8ba70dfd0593"
      },
      "source": [
        "#LAB 6-12 : 복수로 주사위를 던졌을 때 특정값 이상을 얻을 확률 구하기\n",
        "def tuple_sum(tup):\n",
        "    if isinstance(tup, int):\n",
        "        return tup\n",
        "    else:\n",
        "        accum = 0\n",
        "        for element in tup:\n",
        "            accum += tuple_sum(element)\n",
        "    return accum\n",
        "def product_set(set1, set2):\n",
        "    res = set()\n",
        "    for i in set1:\n",
        "        for j in set2:\n",
        "            res = res|{(i,j)}\n",
        "    return res\n",
        "def exp(input_set, exponent):\n",
        "    res = input_set\n",
        "    for _ in range(exponent-1):\n",
        "        res = product_set(res, input_set)\n",
        "    return res\n",
        "cases = {1,2,3,4,5,6}\n",
        "print(\"주사위를 세 번 던져 발생할 수 있는 사건은 {}가지 경우가 존재합니다.\".format(len(exp(cases , 3))))\n",
        "cases_3times = exp(cases, 3)\n",
        "sumlist_cases_3times = [tuple_sum(tup) for tup in cases_3times]\n",
        "count = 0\n",
        "for i in sumlist_cases_3times:\n",
        "    if i >= 10:\n",
        "        count +=1\n",
        "print(\"주사위를 세 번 던져 나온 눈의 합이 10 이상인 경우는 %d가지입니다.\"%(count))"
      ],
      "execution_count": 51,
      "outputs": [
        {
          "output_type": "stream",
          "text": [
            "주사위를 세 번 던져 발생할 수 있는 사건은 216가지 경우가 존재합니다.\n",
            "주사위를 세 번 던져 나온 눈의 합이 10 이상인 경우는 135가지입니다.\n"
          ],
          "name": "stdout"
        }
      ]
    },
    {
      "cell_type": "code",
      "metadata": {
        "colab": {
          "base_uri": "https://localhost:8080/"
        },
        "id": "fEZngG8He5au",
        "outputId": "a65aa2a9-c00b-43a4-c4e1-341daef526ef"
      },
      "source": [
        "def prob_over(x):\n",
        "    count = 0\n",
        "    for i in sumlist_cases_3times:\n",
        "        if i >= x:\n",
        "            count +=1\n",
        "    return count/len(exp(cases , 3))*100\n",
        "for i in range(3,19):\n",
        "    print(\"눈의 합으로 {:2d} 이상을 얻을 확률 {:>6.2f}%\".format(i, prob_over(i)))"
      ],
      "execution_count": 58,
      "outputs": [
        {
          "output_type": "stream",
          "text": [
            "눈의 합으로  3 이상을 얻을 확률 100.00%\n",
            "눈의 합으로  4 이상을 얻을 확률  99.54%\n",
            "눈의 합으로  5 이상을 얻을 확률  98.15%\n",
            "눈의 합으로  6 이상을 얻을 확률  95.37%\n",
            "눈의 합으로  7 이상을 얻을 확률  90.74%\n",
            "눈의 합으로  8 이상을 얻을 확률  83.80%\n",
            "눈의 합으로  9 이상을 얻을 확률  74.07%\n",
            "눈의 합으로 10 이상을 얻을 확률  62.50%\n",
            "눈의 합으로 11 이상을 얻을 확률  50.00%\n",
            "눈의 합으로 12 이상을 얻을 확률  37.50%\n",
            "눈의 합으로 13 이상을 얻을 확률  25.93%\n",
            "눈의 합으로 14 이상을 얻을 확률  16.20%\n",
            "눈의 합으로 15 이상을 얻을 확률   9.26%\n",
            "눈의 합으로 16 이상을 얻을 확률   4.63%\n",
            "눈의 합으로 17 이상을 얻을 확률   1.85%\n",
            "눈의 합으로 18 이상을 얻을 확률   0.46%\n"
          ],
          "name": "stdout"
        }
      ]
    },
    {
      "cell_type": "code",
      "metadata": {
        "colab": {
          "base_uri": "https://localhost:8080/"
        },
        "id": "VjRwL65vfi68",
        "outputId": "38f8cba7-14fc-4fde-ab2b-fc10859a71c3"
      },
      "source": [
        "empty_iterator = zip()\n",
        "result = set(empty_iterator)\n",
        "result"
      ],
      "execution_count": 59,
      "outputs": [
        {
          "output_type": "execute_result",
          "data": {
            "text/plain": [
              "set()"
            ]
          },
          "metadata": {
            "tags": []
          },
          "execution_count": 59
        }
      ]
    },
    {
      "cell_type": "code",
      "metadata": {
        "colab": {
          "base_uri": "https://localhost:8080/"
        },
        "id": "LfQwwH0DgdFh",
        "outputId": "00867282-e1d6-4310-985c-1876e679541a"
      },
      "source": [
        "a = [10,20,30]\n",
        "b = ('ten','twenty','thirty')\n",
        "for val in zip(a,b):\n",
        "    print(val)"
      ],
      "execution_count": 61,
      "outputs": [
        {
          "output_type": "stream",
          "text": [
            "(10, 'ten')\n",
            "(20, 'twenty')\n",
            "(30, 'thirty')\n"
          ],
          "name": "stdout"
        }
      ]
    },
    {
      "cell_type": "code",
      "metadata": {
        "colab": {
          "base_uri": "https://localhost:8080/"
        },
        "id": "CCjf6eD7gj4P",
        "outputId": "36f9377c-d51e-4020-d13c-32af16338180"
      },
      "source": [
        "lst = ['a','b','hello','this']\n",
        "my_iterator = zip(lst)\n",
        "result = set(my_iterator)\n",
        "result"
      ],
      "execution_count": 62,
      "outputs": [
        {
          "output_type": "execute_result",
          "data": {
            "text/plain": [
              "{('a',), ('b',), ('hello',), ('this',)}"
            ]
          },
          "metadata": {
            "tags": []
          },
          "execution_count": 62
        }
      ]
    },
    {
      "cell_type": "code",
      "metadata": {
        "colab": {
          "base_uri": "https://localhost:8080/"
        },
        "id": "8B2woTCEgx49",
        "outputId": "f13422ce-8a2d-4331-897c-2a359f5235e7"
      },
      "source": [
        "str_list = ['hello','world','python','rocks']\n",
        "int_tuple = (1,2,3)\n",
        "int_list = [400,500,600,700,800]\n",
        "my_iterator = zip(str_list, int_tuple, int_list)\n",
        "list(my_iterator)"
      ],
      "execution_count": 63,
      "outputs": [
        {
          "output_type": "execute_result",
          "data": {
            "text/plain": [
              "[('hello', 1, 400), ('world', 2, 500), ('python', 3, 600)]"
            ]
          },
          "metadata": {
            "tags": []
          },
          "execution_count": 63
        }
      ]
    },
    {
      "cell_type": "code",
      "metadata": {
        "colab": {
          "base_uri": "https://localhost:8080/"
        },
        "id": "wO-cBZJ2hmX2",
        "outputId": "75b94279-1ebe-4c9b-8a5e-068f170168fa"
      },
      "source": [
        "zip_lst = list(zip(str_list, int_tuple, int_list))\n",
        "a,b,c = zip(*zip_lst)\n",
        "print(a,b,c)"
      ],
      "execution_count": 65,
      "outputs": [
        {
          "output_type": "stream",
          "text": [
            "('hello', 'world', 'python') (1, 2, 3) (400, 500, 600)\n"
          ],
          "name": "stdout"
        }
      ]
    },
    {
      "cell_type": "code",
      "metadata": {
        "colab": {
          "base_uri": "https://localhost:8080/"
        },
        "id": "gs5oKyYPhx2e",
        "outputId": "dd52ae28-354a-4d48-81a5-8b3d94ca4bd2"
      },
      "source": [
        "tu = tuple(range(0,10))\n",
        "print(tu[1:5])\n",
        "print(tu[0:10:3])\n",
        "print(tu[::-1])"
      ],
      "execution_count": 67,
      "outputs": [
        {
          "output_type": "stream",
          "text": [
            "(1, 2, 3, 4)\n",
            "(0, 3, 6, 9)\n",
            "(9, 8, 7, 6, 5, 4, 3, 2, 1, 0)\n"
          ],
          "name": "stdout"
        }
      ]
    },
    {
      "cell_type": "code",
      "metadata": {
        "colab": {
          "base_uri": "https://localhost:8080/"
        },
        "id": "XY-EJ7RriEJo",
        "outputId": "c854ef86-b317-4ec1-82e5-bc22539d6c77"
      },
      "source": [
        "text = 'hello world'\n",
        "print(text[1:5])\n",
        "print(text[6:])\n",
        "print(text[::3])\n",
        "print(text[::-1])"
      ],
      "execution_count": 68,
      "outputs": [
        {
          "output_type": "stream",
          "text": [
            "ello\n",
            "world\n",
            "hlwl\n",
            "dlrow olleh\n"
          ],
          "name": "stdout"
        }
      ]
    },
    {
      "cell_type": "code",
      "metadata": {
        "id": "dNAmtPGoiaz0"
      },
      "source": [
        ""
      ],
      "execution_count": null,
      "outputs": []
    }
  ]
}