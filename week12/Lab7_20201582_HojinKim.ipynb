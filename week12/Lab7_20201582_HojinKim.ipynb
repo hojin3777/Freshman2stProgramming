{
  "nbformat": 4,
  "nbformat_minor": 0,
  "metadata": {
    "colab": {
      "name": "Lab7_20201582_HojinKim.ipynb",
      "provenance": [],
      "authorship_tag": "ABX9TyOPtvZlcl+SZvzupaWAxb7o",
      "include_colab_link": true
    },
    "kernelspec": {
      "name": "python3",
      "display_name": "Python 3"
    }
  },
  "cells": [
    {
      "cell_type": "markdown",
      "metadata": {
        "id": "view-in-github",
        "colab_type": "text"
      },
      "source": [
        "<a href=\"https://colab.research.google.com/github/hojin3777/Freshman2stProgramming/blob/master/week12/Lab7_20201582_HojinKim.ipynb\" target=\"_parent\"><img src=\"https://colab.research.google.com/assets/colab-badge.svg\" alt=\"Open In Colab\"/></a>"
      ]
    },
    {
      "cell_type": "code",
      "metadata": {
        "colab": {
          "base_uri": "https://localhost:8080/"
        },
        "id": "enTIZeCEQsvX",
        "outputId": "9be42416-b000-42e0-9edb-2c17eb900d3a"
      },
      "source": [
        "import datetime\n",
        "datetime.datetime.now()"
      ],
      "execution_count": 1,
      "outputs": [
        {
          "output_type": "execute_result",
          "data": {
            "text/plain": [
              "datetime.datetime(2020, 11, 20, 6, 13, 7, 913879)"
            ]
          },
          "metadata": {
            "tags": []
          },
          "execution_count": 1
        }
      ]
    },
    {
      "cell_type": "code",
      "metadata": {
        "colab": {
          "base_uri": "https://localhost:8080/"
        },
        "id": "n1_BBl1eSNdf",
        "outputId": "93660218-288d-41b5-f73a-08cb30b30d67"
      },
      "source": [
        "today = datetime.date.today()\n",
        "print(today)"
      ],
      "execution_count": 2,
      "outputs": [
        {
          "output_type": "stream",
          "text": [
            "2020-11-20\n"
          ],
          "name": "stdout"
        }
      ]
    },
    {
      "cell_type": "code",
      "metadata": {
        "colab": {
          "base_uri": "https://localhost:8080/"
        },
        "id": "Tkeal0wWSWMk",
        "outputId": "706d5391-276e-4bba-8a90-9d6e8e6e1155"
      },
      "source": [
        "today"
      ],
      "execution_count": 3,
      "outputs": [
        {
          "output_type": "execute_result",
          "data": {
            "text/plain": [
              "datetime.date(2020, 11, 20)"
            ]
          },
          "metadata": {
            "tags": []
          },
          "execution_count": 3
        }
      ]
    },
    {
      "cell_type": "code",
      "metadata": {
        "colab": {
          "base_uri": "https://localhost:8080/"
        },
        "id": "wvtp495tSWlw",
        "outputId": "24bfbd9d-664d-49dc-8b03-511df02cee53"
      },
      "source": [
        "today.year"
      ],
      "execution_count": 4,
      "outputs": [
        {
          "output_type": "execute_result",
          "data": {
            "text/plain": [
              "2020"
            ]
          },
          "metadata": {
            "tags": []
          },
          "execution_count": 4
        }
      ]
    },
    {
      "cell_type": "code",
      "metadata": {
        "colab": {
          "base_uri": "https://localhost:8080/"
        },
        "id": "wQuh94EoSYKM",
        "outputId": "7e96d4a5-1bac-495a-974e-3a8d4b9d8b2b"
      },
      "source": [
        "today.month"
      ],
      "execution_count": 5,
      "outputs": [
        {
          "output_type": "execute_result",
          "data": {
            "text/plain": [
              "11"
            ]
          },
          "metadata": {
            "tags": []
          },
          "execution_count": 5
        }
      ]
    },
    {
      "cell_type": "code",
      "metadata": {
        "colab": {
          "base_uri": "https://localhost:8080/"
        },
        "id": "6eOJPi-3SYqE",
        "outputId": "796a2f7a-7f1d-4f03-cf73-d4b7421bfa3e"
      },
      "source": [
        "today.day"
      ],
      "execution_count": 6,
      "outputs": [
        {
          "output_type": "execute_result",
          "data": {
            "text/plain": [
              "20"
            ]
          },
          "metadata": {
            "tags": []
          },
          "execution_count": 6
        }
      ]
    },
    {
      "cell_type": "code",
      "metadata": {
        "colab": {
          "base_uri": "https://localhost:8080/"
        },
        "id": "BYSOpw30SZR6",
        "outputId": "7440bd70-d021-4619-8ea8-694ca6dbe778"
      },
      "source": [
        "dir(datetime)"
      ],
      "execution_count": 7,
      "outputs": [
        {
          "output_type": "execute_result",
          "data": {
            "text/plain": [
              "['MAXYEAR',\n",
              " 'MINYEAR',\n",
              " '__builtins__',\n",
              " '__cached__',\n",
              " '__doc__',\n",
              " '__file__',\n",
              " '__loader__',\n",
              " '__name__',\n",
              " '__package__',\n",
              " '__spec__',\n",
              " 'date',\n",
              " 'datetime',\n",
              " 'datetime_CAPI',\n",
              " 'sys',\n",
              " 'time',\n",
              " 'timedelta',\n",
              " 'timezone',\n",
              " 'tzinfo']"
            ]
          },
          "metadata": {
            "tags": []
          },
          "execution_count": 7
        }
      ]
    },
    {
      "cell_type": "code",
      "metadata": {
        "colab": {
          "base_uri": "https://localhost:8080/"
        },
        "id": "CCzLxDjTSc7T",
        "outputId": "8b08dc2f-1343-45f3-e0bf-7aca60ffdc61"
      },
      "source": [
        "datetime.MAXYEAR"
      ],
      "execution_count": 10,
      "outputs": [
        {
          "output_type": "execute_result",
          "data": {
            "text/plain": [
              "9999"
            ]
          },
          "metadata": {
            "tags": []
          },
          "execution_count": 10
        }
      ]
    },
    {
      "cell_type": "code",
      "metadata": {
        "colab": {
          "base_uri": "https://localhost:8080/"
        },
        "id": "BTM6y6MNSeak",
        "outputId": "6586ff9f-2af3-4a2f-b6da-6e40da0dfebd"
      },
      "source": [
        "start_time = datetime.datetime.now()\n",
        "start_time.replace(month = 12, day = 25)"
      ],
      "execution_count": 11,
      "outputs": [
        {
          "output_type": "execute_result",
          "data": {
            "text/plain": [
              "datetime.datetime(2020, 12, 25, 6, 16, 38, 560402)"
            ]
          },
          "metadata": {
            "tags": []
          },
          "execution_count": 11
        }
      ]
    },
    {
      "cell_type": "code",
      "metadata": {
        "colab": {
          "base_uri": "https://localhost:8080/"
        },
        "id": "-h4fu52KTCO3",
        "outputId": "9bfc2242-8dd2-457d-df37-f8a2dbfa99c6"
      },
      "source": [
        "import datetime as dt\n",
        "start_time = dt.datetime.now()\n",
        "start_time.replace(month = 12, day = 25)"
      ],
      "execution_count": 13,
      "outputs": [
        {
          "output_type": "execute_result",
          "data": {
            "text/plain": [
              "datetime.datetime(2020, 12, 25, 6, 17, 27, 383820)"
            ]
          },
          "metadata": {
            "tags": []
          },
          "execution_count": 13
        }
      ]
    },
    {
      "cell_type": "code",
      "metadata": {
        "colab": {
          "base_uri": "https://localhost:8080/"
        },
        "id": "NHz1vmQjTIbN",
        "outputId": "6aad0674-128c-4d2f-9ccf-26fbbe7fe703"
      },
      "source": [
        "from datetime import datetime as dt \n",
        "start_time = dt.now()\n",
        "start_time.replace(month = 12, day = 25)"
      ],
      "execution_count": 15,
      "outputs": [
        {
          "output_type": "execute_result",
          "data": {
            "text/plain": [
              "datetime.datetime(2020, 12, 25, 6, 21, 29, 341450)"
            ]
          },
          "metadata": {
            "tags": []
          },
          "execution_count": 15
        }
      ]
    },
    {
      "cell_type": "code",
      "metadata": {
        "colab": {
          "base_uri": "https://localhost:8080/"
        },
        "id": "eN45DAGRUHrM",
        "outputId": "778885f6-6a50-456b-ed52-7cac753afeba"
      },
      "source": [
        "#LAB 7-1 : 오늘의 날짜와 현재시간 출력하기\n",
        "import datetime as dt\n",
        "today = dt.datetime.now()\n",
        "print(\"오늘의 날짜 : {}년 {}월 {}일\".format(today.year, today.month, today.day))\n",
        "print(\"현재시간 : {} {}시 {}분 {}초\".format('오후' if today.hour >=12 else '오전', today.hour, today.minute, today.second))"
      ],
      "execution_count": 16,
      "outputs": [
        {
          "output_type": "stream",
          "text": [
            "오늘의 날짜 : 2020년 11월 20일\n",
            "현재시간 : 오전 6시 25분 3초\n"
          ],
          "name": "stdout"
        }
      ]
    },
    {
      "cell_type": "code",
      "metadata": {
        "colab": {
          "base_uri": "https://localhost:8080/"
        },
        "id": "PufQ4E6zU9ju",
        "outputId": "036ca073-b4ec-4d0c-977b-f52bfd9e303e"
      },
      "source": [
        "today = dt.date.today()\n",
        "print('오늘은 {}년 {}월 {}일입니다.'.format(today.year, today.month, today.day))\n",
        "xMas = dt.datetime(2020, 12, 25)\n",
        "time_gap = xMas - dt.datetime.now()\n",
        "print('다음 크리스마스 까지는 {}일 {}시간 남았습니다.'.format(time_gap.days, time_gap.seconds//3600))"
      ],
      "execution_count": 18,
      "outputs": [
        {
          "output_type": "stream",
          "text": [
            "오늘은 2020년 11월 20일입니다.\n",
            "다음 크리스마스 까지는 34일 17시간 남았습니다.\n"
          ],
          "name": "stdout"
        }
      ]
    },
    {
      "cell_type": "code",
      "metadata": {
        "colab": {
          "base_uri": "https://localhost:8080/"
        },
        "id": "RqecS1nUVaaz",
        "outputId": "134fc694-eed5-40f8-8a05-eeed30685fb3"
      },
      "source": [
        "#LAB 7-2-1 : 남은 날짜 계산하기\n",
        "today = dt.date.today()\n",
        "print('오늘은 {}년 {}월 {}일입니다.'.format(today.year, today.month, today.day))\n",
        "xMas = dt.datetime(2025, 12, 25)\n",
        "time_gap = xMas - dt.datetime.now()\n",
        "print('{}년 크리스마스 까지는 {}일 {}시간 남았습니다.'.format(xMas.year, time_gap.days, time_gap.seconds//3600))"
      ],
      "execution_count": 20,
      "outputs": [
        {
          "output_type": "stream",
          "text": [
            "오늘은 2020년 11월 20일입니다.\n",
            "2025년 크리스마스 까지는 1860일 17시간 남았습니다.\n"
          ],
          "name": "stdout"
        }
      ]
    },
    {
      "cell_type": "code",
      "metadata": {
        "colab": {
          "base_uri": "https://localhost:8080/"
        },
        "id": "bIbfwpjHVvdy",
        "outputId": "d4c2b8b0-7a1e-4d3f-df7b-876be13117fa"
      },
      "source": [
        "#LAB 7-2-2 : 남은 날짜 계산하기\n",
        "today = dt.date.today()\n",
        "print('오늘은 {}년 {}월 {}일입니다.'.format(today.year, today.month, today.day))\n",
        "Newyear = dt.datetime(2036, 1, 1)\n",
        "time_gap = Newyear - dt.datetime.now()\n",
        "print('{}년 새해 까지는 {}일 {}시간 남았습니다.'.format(Newyear.year, time_gap.days, time_gap.seconds//3600))"
      ],
      "execution_count": 23,
      "outputs": [
        {
          "output_type": "stream",
          "text": [
            "오늘은 2020년 11월 20일입니다.\n",
            "2036년 새해 까지는 5519일 17시간 남았습니다.\n"
          ],
          "name": "stdout"
        }
      ]
    },
    {
      "cell_type": "code",
      "metadata": {
        "colab": {
          "base_uri": "https://localhost:8080/"
        },
        "id": "D11z8GyOWG35",
        "outputId": "eb60e07c-b246-43b1-c959-133632c7415d"
      },
      "source": [
        "#LAB 7-2-3 : 남은 날짜 계산하기\n",
        "today = dt.date.today()\n",
        "print('오늘은 {}년 {}월 {}일입니다.'.format(today.year, today.month, today.day))\n",
        "BTday = dt.datetime(2021, 3, 12)\n",
        "time_gap = BTday - dt.datetime.now()\n",
        "print('{}년 생일 까지는 {}일 {}시간 남았습니다.'.format(xMas.year, time_gap.days, time_gap.seconds//3600))"
      ],
      "execution_count": 25,
      "outputs": [
        {
          "output_type": "stream",
          "text": [
            "오늘은 2020년 11월 20일입니다.\n",
            "2025년 생일 까지는 111일 17시간 남았습니다.\n"
          ],
          "name": "stdout"
        }
      ]
    },
    {
      "cell_type": "code",
      "metadata": {
        "colab": {
          "base_uri": "https://localhost:8080/"
        },
        "id": "cRBTOlXxWPvX",
        "outputId": "4e0ca530-8ec4-4e43-b0fe-cfe502611849"
      },
      "source": [
        "print('오늘 =', dt.datetime.now())\n",
        "hundred = dt.timedelta(days=100)\n",
        "plus100day = dt.datetime.now() + hundred\n",
        "print('100일 후 =', plus100day)\n",
        "minus100day = dt.datetime.now() - hundred\n",
        "print('100일 전 =', minus100day)"
      ],
      "execution_count": 28,
      "outputs": [
        {
          "output_type": "stream",
          "text": [
            "오늘 = 2020-11-20 06:32:28.126600\n",
            "100일 후 = 2021-02-28 06:32:28.126755\n",
            "100일 전 = 2020-08-12 06:32:28.126855\n"
          ],
          "name": "stdout"
        }
      ]
    },
    {
      "cell_type": "code",
      "metadata": {
        "colab": {
          "base_uri": "https://localhost:8080/"
        },
        "id": "KCaUZUy0WWMV",
        "outputId": "776fdba5-7b60-476f-ef53-b42b3df31c42"
      },
      "source": [
        "#LAB 7-3-1 : 날짜 계산하기\n",
        "d1000 = dt.timedelta(days=1000)\n",
        "plus1000day = dt.datetime.now() + d1000\n",
        "print('1000일 후 =', plus1000day)"
      ],
      "execution_count": 29,
      "outputs": [
        {
          "output_type": "stream",
          "text": [
            "1000일 후 = 2023-08-17 06:34:00.929705\n"
          ],
          "name": "stdout"
        }
      ]
    },
    {
      "cell_type": "code",
      "metadata": {
        "colab": {
          "base_uri": "https://localhost:8080/"
        },
        "id": "yNIOcb4sXAuP",
        "outputId": "24f71702-6193-408f-ca87-77fd4cc82a60"
      },
      "source": [
        "#LAB 7-3-2 : 날짜 계산하기\n",
        "y,m,d = map(int,input(\"처음으로 사귄 연도와 월, 일을 입력하시오 :\").split())\n",
        "start = dt.datetime(y,m,d)\n",
        "hundred = dt.timedelta(days=99)\n",
        "p100d = start + hundred\n",
        "print(\"100일 기념일은 : {}년 {}월 {}일입니다.\".format(p100d.year, p100d.month, p100d.day))\n"
      ],
      "execution_count": 32,
      "outputs": [
        {
          "output_type": "stream",
          "text": [
            "처음으로 사귄 연도와 월, 일을 입력하시오 :2019 3 30\n",
            "100일 기념일은 : 2019년 7월 7일입니다.\n"
          ],
          "name": "stdout"
        }
      ]
    },
    {
      "cell_type": "code",
      "metadata": {
        "colab": {
          "base_uri": "https://localhost:8080/"
        },
        "id": "rt16Y2SrXipj",
        "outputId": "807b80f8-8caf-44a0-ee8a-147b5aa5f261"
      },
      "source": [
        "import time\n",
        "seconds = time.time()\n",
        "print('에폭 이후의 시간 =', seconds)"
      ],
      "execution_count": 34,
      "outputs": [
        {
          "output_type": "stream",
          "text": [
            "에폭 이후의 시간 = 1605854342.0092402\n"
          ],
          "name": "stdout"
        }
      ]
    },
    {
      "cell_type": "code",
      "metadata": {
        "colab": {
          "base_uri": "https://localhost:8080/"
        },
        "id": "YYcVhRMQYHCc",
        "outputId": "3b2aa2e2-9e4b-4bc8-81ab-e9be33c76a53"
      },
      "source": [
        "unix_timestamp = time.time()\n",
        "local_time = time.localtime(unix_timestamp)\n",
        "print(time.strftime('%Y-%m-%d %H:%M:%S', local_time))"
      ],
      "execution_count": 37,
      "outputs": [
        {
          "output_type": "stream",
          "text": [
            "2020-11-20 06:40:48\n"
          ],
          "name": "stdout"
        }
      ]
    },
    {
      "cell_type": "code",
      "metadata": {
        "colab": {
          "base_uri": "https://localhost:8080/"
        },
        "id": "7QG43uaWYfjk",
        "outputId": "e95f2e7a-a4dc-4ade-bb06-ea727da0cc27"
      },
      "source": [
        "print(\"바로 출력되는 구문.\")\n",
        "time.sleep(4.5)\n",
        "print(\"4.5초 후 출력되는 구문.\")"
      ],
      "execution_count": 38,
      "outputs": [
        {
          "output_type": "stream",
          "text": [
            "바로 출력되는 구문.\n",
            "4.5초 후 출력되는 구문.\n"
          ],
          "name": "stdout"
        }
      ]
    },
    {
      "cell_type": "code",
      "metadata": {
        "colab": {
          "base_uri": "https://localhost:8080/"
        },
        "id": "1nFwHKl6Ys9_",
        "outputId": "d740c95a-e128-41c2-8844-168d82d7aaeb"
      },
      "source": [
        "tic = time.time()\n",
        "print(1+2+3+4+5+6+7+8+9+10)\n",
        "toc = time.time()\n",
        "gap = toc - tic\n",
        "print(\"1에서 10까지의 합을 구하고 출력하는 시간 :{:7.4f}초\".format(gap))"
      ],
      "execution_count": 40,
      "outputs": [
        {
          "output_type": "stream",
          "text": [
            "55\n",
            "1에서 10까지의 합을 구하고 출력하는 시간 : 0.0001초\n"
          ],
          "name": "stdout"
        }
      ]
    },
    {
      "cell_type": "code",
      "metadata": {
        "colab": {
          "base_uri": "https://localhost:8080/"
        },
        "id": "uyshVEmmZBtq",
        "outputId": "2a93dc2c-4c23-4b30-8470-f32c4aac0324"
      },
      "source": [
        "import math as m\n",
        "dir(m)"
      ],
      "execution_count": 41,
      "outputs": [
        {
          "output_type": "execute_result",
          "data": {
            "text/plain": [
              "['__doc__',\n",
              " '__loader__',\n",
              " '__name__',\n",
              " '__package__',\n",
              " '__spec__',\n",
              " 'acos',\n",
              " 'acosh',\n",
              " 'asin',\n",
              " 'asinh',\n",
              " 'atan',\n",
              " 'atan2',\n",
              " 'atanh',\n",
              " 'ceil',\n",
              " 'copysign',\n",
              " 'cos',\n",
              " 'cosh',\n",
              " 'degrees',\n",
              " 'e',\n",
              " 'erf',\n",
              " 'erfc',\n",
              " 'exp',\n",
              " 'expm1',\n",
              " 'fabs',\n",
              " 'factorial',\n",
              " 'floor',\n",
              " 'fmod',\n",
              " 'frexp',\n",
              " 'fsum',\n",
              " 'gamma',\n",
              " 'gcd',\n",
              " 'hypot',\n",
              " 'inf',\n",
              " 'isclose',\n",
              " 'isfinite',\n",
              " 'isinf',\n",
              " 'isnan',\n",
              " 'ldexp',\n",
              " 'lgamma',\n",
              " 'log',\n",
              " 'log10',\n",
              " 'log1p',\n",
              " 'log2',\n",
              " 'modf',\n",
              " 'nan',\n",
              " 'pi',\n",
              " 'pow',\n",
              " 'radians',\n",
              " 'sin',\n",
              " 'sinh',\n",
              " 'sqrt',\n",
              " 'tan',\n",
              " 'tanh',\n",
              " 'tau',\n",
              " 'trunc']"
            ]
          },
          "metadata": {
            "tags": []
          },
          "execution_count": 41
        }
      ]
    },
    {
      "cell_type": "code",
      "metadata": {
        "colab": {
          "base_uri": "https://localhost:8080/"
        },
        "id": "tK0UMAiGZvqa",
        "outputId": "e47bbac3-b4c3-4946-bef0-0f6a99f7ef08"
      },
      "source": [
        "print(m.pow(3,3))\n",
        "print(m.fabs(-99))\n",
        "print(m.ceil(2.1))\n",
        "print(m.ceil(-2.1))\n",
        "print(m.floor(2.1))\n",
        "print(m.log(2.71828))\n",
        "print(m.log(100,10))"
      ],
      "execution_count": 42,
      "outputs": [
        {
          "output_type": "stream",
          "text": [
            "27.0\n",
            "99.0\n",
            "3\n",
            "-2\n",
            "2\n",
            "0.999999327347282\n",
            "2.0\n"
          ],
          "name": "stdout"
        }
      ]
    },
    {
      "cell_type": "code",
      "metadata": {
        "colab": {
          "base_uri": "https://localhost:8080/"
        },
        "id": "34aElankaAsh",
        "outputId": "814f8b88-73eb-4312-ba87-5e8963aa21f6"
      },
      "source": [
        "print(m.sin(0.0))\n",
        "print(m.sin(90.0))"
      ],
      "execution_count": 43,
      "outputs": [
        {
          "output_type": "stream",
          "text": [
            "0.0\n",
            "0.8939966636005579\n"
          ],
          "name": "stdout"
        }
      ]
    },
    {
      "cell_type": "code",
      "metadata": {
        "colab": {
          "base_uri": "https://localhost:8080/"
        },
        "id": "Y5alzbKyaJlZ",
        "outputId": "9032eec5-4823-44eb-d95d-bd0da559ce92"
      },
      "source": [
        "m.sin(3.14159/2)"
      ],
      "execution_count": 44,
      "outputs": [
        {
          "output_type": "execute_result",
          "data": {
            "text/plain": [
              "0.9999999999991198"
            ]
          },
          "metadata": {
            "tags": []
          },
          "execution_count": 44
        }
      ]
    },
    {
      "cell_type": "code",
      "metadata": {
        "colab": {
          "base_uri": "https://localhost:8080/"
        },
        "id": "RgCTGh0HaRgI",
        "outputId": "df26accc-f041-4468-ce4e-2df61070abfd"
      },
      "source": [
        "m.pi"
      ],
      "execution_count": 45,
      "outputs": [
        {
          "output_type": "execute_result",
          "data": {
            "text/plain": [
              "3.141592653589793"
            ]
          },
          "metadata": {
            "tags": []
          },
          "execution_count": 45
        }
      ]
    },
    {
      "cell_type": "code",
      "metadata": {
        "colab": {
          "base_uri": "https://localhost:8080/"
        },
        "id": "cEoJbJ8AaSrB",
        "outputId": "d2e9ffe9-d007-4af7-feec-ca02ba0685b8"
      },
      "source": [
        "m.sin(m.pi/2)"
      ],
      "execution_count": 46,
      "outputs": [
        {
          "output_type": "execute_result",
          "data": {
            "text/plain": [
              "1.0"
            ]
          },
          "metadata": {
            "tags": []
          },
          "execution_count": 46
        }
      ]
    },
    {
      "cell_type": "code",
      "metadata": {
        "colab": {
          "base_uri": "https://localhost:8080/"
        },
        "id": "VyzU4AylaUlb",
        "outputId": "f918afdc-5db5-4389-e773-a35597d137d4"
      },
      "source": [
        "m.e"
      ],
      "execution_count": 47,
      "outputs": [
        {
          "output_type": "execute_result",
          "data": {
            "text/plain": [
              "2.718281828459045"
            ]
          },
          "metadata": {
            "tags": []
          },
          "execution_count": 47
        }
      ]
    },
    {
      "cell_type": "code",
      "metadata": {
        "colab": {
          "base_uri": "https://localhost:8080/"
        },
        "id": "BzNpxO7Yaaa_",
        "outputId": "f889c70e-7254-49ae-d021-31602bed93e6"
      },
      "source": [
        "m.radians(90)"
      ],
      "execution_count": 48,
      "outputs": [
        {
          "output_type": "execute_result",
          "data": {
            "text/plain": [
              "1.5707963267948966"
            ]
          },
          "metadata": {
            "tags": []
          },
          "execution_count": 48
        }
      ]
    },
    {
      "cell_type": "code",
      "metadata": {
        "colab": {
          "base_uri": "https://localhost:8080/"
        },
        "id": "OHBHsSw2ab4n",
        "outputId": "be1234fd-0f26-48b1-8c0e-74eda20b8b8c"
      },
      "source": [
        "m.sin(m.pi/2)"
      ],
      "execution_count": 49,
      "outputs": [
        {
          "output_type": "execute_result",
          "data": {
            "text/plain": [
              "1.0"
            ]
          },
          "metadata": {
            "tags": []
          },
          "execution_count": 49
        }
      ]
    },
    {
      "cell_type": "code",
      "metadata": {
        "colab": {
          "base_uri": "https://localhost:8080/"
        },
        "id": "Ikyl-DJDajPN",
        "outputId": "6b7c4f31-8f47-461d-cfdc-02c5a94c34c2"
      },
      "source": [
        "m.asin(1.0)"
      ],
      "execution_count": 50,
      "outputs": [
        {
          "output_type": "execute_result",
          "data": {
            "text/plain": [
              "1.5707963267948966"
            ]
          },
          "metadata": {
            "tags": []
          },
          "execution_count": 50
        }
      ]
    },
    {
      "cell_type": "code",
      "metadata": {
        "colab": {
          "base_uri": "https://localhost:8080/"
        },
        "id": "VTlZAPIXakyr",
        "outputId": "0328f824-3666-4396-a3a3-883847132b85"
      },
      "source": [
        "m.degrees(m.asin(1.0))"
      ],
      "execution_count": 51,
      "outputs": [
        {
          "output_type": "execute_result",
          "data": {
            "text/plain": [
              "90.0"
            ]
          },
          "metadata": {
            "tags": []
          },
          "execution_count": 51
        }
      ]
    },
    {
      "cell_type": "code",
      "metadata": {
        "colab": {
          "base_uri": "https://localhost:8080/"
        },
        "id": "kmwuExbcamn1",
        "outputId": "57092b19-0065-45c7-9f9b-40209fcd96d0"
      },
      "source": [
        "m.tan(2*m.pi)"
      ],
      "execution_count": 52,
      "outputs": [
        {
          "output_type": "execute_result",
          "data": {
            "text/plain": [
              "-2.4492935982947064e-16"
            ]
          },
          "metadata": {
            "tags": []
          },
          "execution_count": 52
        }
      ]
    },
    {
      "cell_type": "code",
      "metadata": {
        "colab": {
          "base_uri": "https://localhost:8080/"
        },
        "id": "Tt59t358aokF",
        "outputId": "85461165-7b0c-437c-d356-bd4a90a6ddc1"
      },
      "source": [
        "m.tan(0.0)"
      ],
      "execution_count": 53,
      "outputs": [
        {
          "output_type": "execute_result",
          "data": {
            "text/plain": [
              "0.0"
            ]
          },
          "metadata": {
            "tags": []
          },
          "execution_count": 53
        }
      ]
    },
    {
      "cell_type": "code",
      "metadata": {
        "colab": {
          "base_uri": "https://localhost:8080/"
        },
        "id": "csmf5HOLapyv",
        "outputId": "8e6cb8aa-69bd-458c-89e8-8defc43b22b8"
      },
      "source": [
        "#LAB 7-4-1 : math 모듈을 이용한 계산\n",
        "for i in range(2,11):\n",
        "    print(\"4**{:2d} = {:9.1f}\".format(i, m.pow(4,i)))"
      ],
      "execution_count": 54,
      "outputs": [
        {
          "output_type": "stream",
          "text": [
            "4** 2 =      16.0\n",
            "4** 3 =      64.0\n",
            "4** 4 =     256.0\n",
            "4** 5 =    1024.0\n",
            "4** 6 =    4096.0\n",
            "4** 7 =   16384.0\n",
            "4** 8 =   65536.0\n",
            "4** 9 =  262144.0\n",
            "4**10 = 1048576.0\n"
          ],
          "name": "stdout"
        }
      ]
    },
    {
      "cell_type": "code",
      "metadata": {
        "colab": {
          "base_uri": "https://localhost:8080/"
        },
        "id": "1rXNoJVqa_Ze",
        "outputId": "c8edc2bf-f9c0-49db-baf9-3aa28549ade7"
      },
      "source": [
        "#LAB 7-4-2 : math 모듈을 이용한 계산\n",
        "for i in range(0,181, 10):\n",
        "    print(\"{:3d} degree = {:5.3f} radian\".format(i, m.radians(i)))"
      ],
      "execution_count": 55,
      "outputs": [
        {
          "output_type": "stream",
          "text": [
            "  0 degree = 0.000 radian\n",
            " 10 degree = 0.175 radian\n",
            " 20 degree = 0.349 radian\n",
            " 30 degree = 0.524 radian\n",
            " 40 degree = 0.698 radian\n",
            " 50 degree = 0.873 radian\n",
            " 60 degree = 1.047 radian\n",
            " 70 degree = 1.222 radian\n",
            " 80 degree = 1.396 radian\n",
            " 90 degree = 1.571 radian\n",
            "100 degree = 1.745 radian\n",
            "110 degree = 1.920 radian\n",
            "120 degree = 2.094 radian\n",
            "130 degree = 2.269 radian\n",
            "140 degree = 2.443 radian\n",
            "150 degree = 2.618 radian\n",
            "160 degree = 2.793 radian\n",
            "170 degree = 2.967 radian\n",
            "180 degree = 3.142 radian\n"
          ],
          "name": "stdout"
        }
      ]
    },
    {
      "cell_type": "code",
      "metadata": {
        "colab": {
          "base_uri": "https://localhost:8080/"
        },
        "id": "mRythNcTbT01",
        "outputId": "55f201bb-850a-4a8f-d4d7-9c00b26f5bc5"
      },
      "source": [
        "#LAB 7-4-3 : math 모듈을 이용한 계산\n",
        "for i in range(0,181, 10):\n",
        "    print(\"sin({:3d}) = {:3.2f}\".format(i, m.sin(m.radians(i))))"
      ],
      "execution_count": 56,
      "outputs": [
        {
          "output_type": "stream",
          "text": [
            "sin(  0) = 0.00\n",
            "sin( 10) = 0.17\n",
            "sin( 20) = 0.34\n",
            "sin( 30) = 0.50\n",
            "sin( 40) = 0.64\n",
            "sin( 50) = 0.77\n",
            "sin( 60) = 0.87\n",
            "sin( 70) = 0.94\n",
            "sin( 80) = 0.98\n",
            "sin( 90) = 1.00\n",
            "sin(100) = 0.98\n",
            "sin(110) = 0.94\n",
            "sin(120) = 0.87\n",
            "sin(130) = 0.77\n",
            "sin(140) = 0.64\n",
            "sin(150) = 0.50\n",
            "sin(160) = 0.34\n",
            "sin(170) = 0.17\n",
            "sin(180) = 0.00\n"
          ],
          "name": "stdout"
        }
      ]
    },
    {
      "cell_type": "code",
      "metadata": {
        "colab": {
          "base_uri": "https://localhost:8080/"
        },
        "id": "WJHoopkvbjPb",
        "outputId": "7562c7d1-acc8-4914-a1b5-9128728f9452"
      },
      "source": [
        "import random as rd\n",
        "rd.random()"
      ],
      "execution_count": 57,
      "outputs": [
        {
          "output_type": "execute_result",
          "data": {
            "text/plain": [
              "0.1727029036228762"
            ]
          },
          "metadata": {
            "tags": []
          },
          "execution_count": 57
        }
      ]
    },
    {
      "cell_type": "code",
      "metadata": {
        "colab": {
          "base_uri": "https://localhost:8080/"
        },
        "id": "hDag4Zwrb8Id",
        "outputId": "a431e914-061a-47a3-d731-a5f53359cb1f"
      },
      "source": [
        "rd.random()"
      ],
      "execution_count": 59,
      "outputs": [
        {
          "output_type": "execute_result",
          "data": {
            "text/plain": [
              "0.7185823686019479"
            ]
          },
          "metadata": {
            "tags": []
          },
          "execution_count": 59
        }
      ]
    },
    {
      "cell_type": "code",
      "metadata": {
        "colab": {
          "base_uri": "https://localhost:8080/"
        },
        "id": "cv2NbiDEb9pq",
        "outputId": "03d39c45-5794-4af5-f78f-8ae1d4085773"
      },
      "source": [
        "rd.randrange(1,7)"
      ],
      "execution_count": 60,
      "outputs": [
        {
          "output_type": "execute_result",
          "data": {
            "text/plain": [
              "3"
            ]
          },
          "metadata": {
            "tags": []
          },
          "execution_count": 60
        }
      ]
    },
    {
      "cell_type": "code",
      "metadata": {
        "colab": {
          "base_uri": "https://localhost:8080/"
        },
        "id": "7v-PnA2ScAlX",
        "outputId": "1efb7d31-2448-45d7-bc96-9509beac7e47"
      },
      "source": [
        "rd.randrange(0, 10, 2)"
      ],
      "execution_count": 61,
      "outputs": [
        {
          "output_type": "execute_result",
          "data": {
            "text/plain": [
              "6"
            ]
          },
          "metadata": {
            "tags": []
          },
          "execution_count": 61
        }
      ]
    },
    {
      "cell_type": "code",
      "metadata": {
        "colab": {
          "base_uri": "https://localhost:8080/"
        },
        "id": "3sz6n8oQcGqC",
        "outputId": "16e92920-8af8-4f5a-f16c-e1d00d60286e"
      },
      "source": [
        "rd.randint(1,10)"
      ],
      "execution_count": 62,
      "outputs": [
        {
          "output_type": "execute_result",
          "data": {
            "text/plain": [
              "9"
            ]
          },
          "metadata": {
            "tags": []
          },
          "execution_count": 62
        }
      ]
    },
    {
      "cell_type": "code",
      "metadata": {
        "colab": {
          "base_uri": "https://localhost:8080/"
        },
        "id": "s6cSPcKtcHwI",
        "outputId": "5b451c3e-0c5d-40a3-a328-d7b728cfd9ca"
      },
      "source": [
        "numlist = [10, 20, 30, 40, 50]\n",
        "rd.shuffle(numlist)\n",
        "numlist"
      ],
      "execution_count": 64,
      "outputs": [
        {
          "output_type": "execute_result",
          "data": {
            "text/plain": [
              "[50, 20, 10, 30, 40]"
            ]
          },
          "metadata": {
            "tags": []
          },
          "execution_count": 64
        }
      ]
    },
    {
      "cell_type": "code",
      "metadata": {
        "colab": {
          "base_uri": "https://localhost:8080/"
        },
        "id": "0qz6tRqacS9Z",
        "outputId": "93505bd3-9674-478d-edb8-a145a417bf54"
      },
      "source": [
        "rd.choice(numlist)"
      ],
      "execution_count": 65,
      "outputs": [
        {
          "output_type": "execute_result",
          "data": {
            "text/plain": [
              "20"
            ]
          },
          "metadata": {
            "tags": []
          },
          "execution_count": 65
        }
      ]
    },
    {
      "cell_type": "code",
      "metadata": {
        "colab": {
          "base_uri": "https://localhost:8080/"
        },
        "id": "dibPf2bicWaA",
        "outputId": "6e46ac5c-89ee-4eaf-aa6a-90959b0b33f8"
      },
      "source": [
        "rd.sample(numlist, 3)"
      ],
      "execution_count": 66,
      "outputs": [
        {
          "output_type": "execute_result",
          "data": {
            "text/plain": [
              "[50, 20, 30]"
            ]
          },
          "metadata": {
            "tags": []
          },
          "execution_count": 66
        }
      ]
    },
    {
      "cell_type": "code",
      "metadata": {
        "colab": {
          "base_uri": "https://localhost:8080/"
        },
        "id": "AslgPkrBcYMX",
        "outputId": "240eee82-5f1c-48a0-e43d-8e7c5f5a269c"
      },
      "source": [
        "a=list(range(1,11))\n",
        "rd.shuffle(a)\n",
        "print(a)"
      ],
      "execution_count": 68,
      "outputs": [
        {
          "output_type": "stream",
          "text": [
            "[1, 7, 6, 5, 3, 9, 10, 4, 2, 8]\n"
          ],
          "name": "stdout"
        }
      ]
    },
    {
      "cell_type": "code",
      "metadata": {
        "colab": {
          "base_uri": "https://localhost:8080/"
        },
        "id": "5uvU5uEocirI",
        "outputId": "112e94ca-3c68-44d6-a625-7e34d75846f0"
      },
      "source": [
        "#LAB 7-5-1 : 랜덤 번호 생성기\n",
        "print(\"0에서 100 이하의 정수 중에서 5의 배수\")\n",
        "print(rd.sample( list(range(0,101,5)), 3) )"
      ],
      "execution_count": 71,
      "outputs": [
        {
          "output_type": "stream",
          "text": [
            "0에서 100 이하의 정수 중에서 5의 배수\n",
            "[55, 75, 25]\n"
          ],
          "name": "stdout"
        }
      ]
    },
    {
      "cell_type": "code",
      "metadata": {
        "colab": {
          "base_uri": "https://localhost:8080/"
        },
        "id": "kkh892XVc87m",
        "outputId": "4def00f1-f902-4f3c-a0a0-e81c67aae341"
      },
      "source": [
        "#LAB 7-5-2\n",
        "print(\"1에서 10 사이의 임의의 정수 :\", rd.sample( list(range(1,11)), 3 ))"
      ],
      "execution_count": 74,
      "outputs": [
        {
          "output_type": "stream",
          "text": [
            "1에서 10 사이의 임의의 정수 : [6, 10, 1]\n"
          ],
          "name": "stdout"
        }
      ]
    },
    {
      "cell_type": "code",
      "metadata": {
        "colab": {
          "base_uri": "https://localhost:8080/"
        },
        "id": "KfA9eBjLdS_a",
        "outputId": "e2491e29-85aa-4eec-dcee-f2413c067ab5"
      },
      "source": [
        "def pseudo_rand(x):\n",
        "    a = 1103515245\n",
        "    b = 12345\n",
        "    m = 2**31\n",
        "    return (a*x+b) % m\n",
        "x = pseudo_rand(100)\n",
        "print(x)\n",
        "x = pseudo_rand(101)\n",
        "print(x)"
      ],
      "execution_count": 75,
      "outputs": [
        {
          "output_type": "stream",
          "text": [
            "829870797\n",
            "1933386042\n"
          ],
          "name": "stdout"
        }
      ]
    },
    {
      "cell_type": "code",
      "metadata": {
        "colab": {
          "base_uri": "https://localhost:8080/"
        },
        "id": "wj2Lr_tHdtlU",
        "outputId": "90018bea-8878-4092-fe81-f43b24625e80"
      },
      "source": [
        "def pseudo_rand(x):\n",
        "    return (1103515245 * x + 12345) % (2**31)\n",
        "x = 12234\n",
        "for _ in range(5):\n",
        "    x = pseudo_rand(x)\n",
        "    print(x)"
      ],
      "execution_count": 76,
      "outputs": [
        {
          "output_type": "stream",
          "text": [
            "1323308347\n",
            "1115894872\n",
            "534792625\n",
            "1490648726\n",
            "389073431\n"
          ],
          "name": "stdout"
        }
      ]
    },
    {
      "cell_type": "code",
      "metadata": {
        "colab": {
          "base_uri": "https://localhost:8080/"
        },
        "id": "Jdr-8oaieHi2",
        "outputId": "b1a2b778-6ada-4486-feb9-5ca6d6ad6574"
      },
      "source": [
        "import random as rd\n",
        "lotto_list = list(range(1,46))\n",
        "rd.shuffle(lotto_list)\n",
        "lotto_list = lotto_list[:6]\n",
        "lotto_list.sort()\n",
        "print(\"이번 주의 추천 로또번호:\", lotto_list)"
      ],
      "execution_count": 79,
      "outputs": [
        {
          "output_type": "stream",
          "text": [
            "이번 주의 추천 로또번호: [5, 21, 26, 28, 32, 43]\n"
          ],
          "name": "stdout"
        }
      ]
    },
    {
      "cell_type": "code",
      "metadata": {
        "colab": {
          "base_uri": "https://localhost:8080/"
        },
        "id": "5CwtLVtwezTM",
        "outputId": "7180538a-8748-4264-ff23-428c8aafcfd4"
      },
      "source": [
        "lotto_list = list(range(1,46))\n",
        "lotto_list = rd.sample(lotto_list, 6)\n",
        "lotto_list.sort()\n",
        "print(\"이번 주의 추천 로또번호:\", lotto_list)"
      ],
      "execution_count": 80,
      "outputs": [
        {
          "output_type": "stream",
          "text": [
            "이번 주의 추천 로또번호: [1, 3, 10, 18, 22, 28]\n"
          ],
          "name": "stdout"
        }
      ]
    },
    {
      "cell_type": "code",
      "metadata": {
        "colab": {
          "base_uri": "https://localhost:8080/"
        },
        "id": "wqpla4trfN5Z",
        "outputId": "327209ee-91be-4f30-9914-ca1ef262d539"
      },
      "source": [
        "#LAB 7-6-1 : 로또 번호 얻기\n",
        "n_list = list(range(1,46))\n",
        "print(\"이번 주의 추천 로또번호\")\n",
        "for _ in range(5):\n",
        "    lotto_list = rd.sample(n_list, 6)\n",
        "    lotto_list.sort()\n",
        "    print(lotto_list)"
      ],
      "execution_count": 81,
      "outputs": [
        {
          "output_type": "stream",
          "text": [
            "이번 주의 추천 로또번호\n",
            "[3, 17, 21, 24, 31, 39]\n",
            "[1, 11, 20, 23, 40, 45]\n",
            "[2, 10, 11, 27, 32, 45]\n",
            "[2, 7, 11, 12, 18, 36]\n",
            "[26, 28, 30, 32, 34, 36]\n"
          ],
          "name": "stdout"
        }
      ]
    },
    {
      "cell_type": "code",
      "metadata": {
        "colab": {
          "base_uri": "https://localhost:8080/"
        },
        "id": "Qlu03l0xgoA9",
        "outputId": "e649034b-4b7a-4d5f-ad3f-86f4a0aaa7d4"
      },
      "source": [
        "#LAB 7-6-2\n",
        "n_list = list(range(1,46))\n",
        "print(\"이번 주의 당첨 로또번호\")\n",
        "lotto_list = rd.sample(n_list, 6)\n",
        "lotto_list.sort()\n",
        "bonus = rd.sample(n_list, 1)\n",
        "print(lotto_list,\"+\" ,bonus)"
      ],
      "execution_count": 83,
      "outputs": [
        {
          "output_type": "stream",
          "text": [
            "이번 주의 당첨 로또번호\n",
            "[1, 6, 11, 20, 38, 40] + [15]\n"
          ],
          "name": "stdout"
        }
      ]
    },
    {
      "cell_type": "code",
      "metadata": {
        "id": "V_RC2-BIiWjs"
      },
      "source": [
        ""
      ],
      "execution_count": null,
      "outputs": []
    }
  ]
}